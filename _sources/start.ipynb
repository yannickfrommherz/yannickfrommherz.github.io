{
 "cells": [
  {
   "cell_type": "markdown",
   "id": "ea1ab874-6826-4703-9a4b-c870be4e6d51",
   "metadata": {},
   "source": [
    "# Hello\n",
    "\n",
    "I'm Yannick Frommherz and this is my personal webpage. I am a PhD candidate and research associate in linguistics @ TU Dresden.\n",
    "\n",
    "You'll find information about me and my research projects as well as an online programming course in Python for humanists and social scientists (in German). \n",
    "\n",
    "This page is powered by [Jupyter Book](https://jupyterbook.org/en/stable/intro.html), hosted on [GitHub Pages](https://pages.github.com). "
   ]
  }
 ],
 "metadata": {
  "kernelspec": {
   "display_name": "Python 3 (ipykernel)",
   "language": "python",
   "name": "python3"
  },
  "language_info": {
   "codemirror_mode": {
    "name": "ipython",
    "version": 3
   },
   "file_extension": ".py",
   "mimetype": "text/x-python",
   "name": "python",
   "nbconvert_exporter": "python",
   "pygments_lexer": "ipython3",
   "version": "3.10.7"
  }
 },
 "nbformat": 4,
 "nbformat_minor": 5
}
