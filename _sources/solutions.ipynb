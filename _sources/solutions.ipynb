{
 "cells": [
  {
   "cell_type": "markdown",
   "id": "0e66f984-127e-4eff-9e5c-479712b66a42",
   "metadata": {
    "tags": []
   },
   "source": [
    "# Lösungen"
   ]
  },
  {
   "cell_type": "markdown",
   "id": "7fd2da82-0a07-40d6-8b08-9f5f75cdee5a",
   "metadata": {},
   "source": [
    "Hier findest Du Lösungen zu allen Übungen und Anwendungsfällen in den Notebooks.\n",
    "\n",
    "☝️ Beachte: es gibt beim Programmieren fast immer verschiedene Lösungswege. Deine Lösung mag anders aussehen, aber dennoch zum gewünschten Resultat führen. Das richtige Resultat ist das Wichtigste. "
   ]
  },
  {
   "cell_type": "code",
   "execution_count": null,
   "id": "8f5ea0e6-c0e8-4ed3-b761-7ec489ca79d5",
   "metadata": {},
   "outputs": [],
   "source": []
  }
 ],
 "metadata": {
  "kernelspec": {
   "display_name": "Python 3 (ipykernel)",
   "language": "python",
   "name": "python3"
  },
  "language_info": {
   "codemirror_mode": {
    "name": "ipython",
    "version": 3
   },
   "file_extension": ".py",
   "mimetype": "text/x-python",
   "name": "python",
   "nbconvert_exporter": "python",
   "pygments_lexer": "ipython3",
   "version": "3.10.7"
  }
 },
 "nbformat": 4,
 "nbformat_minor": 5
}
