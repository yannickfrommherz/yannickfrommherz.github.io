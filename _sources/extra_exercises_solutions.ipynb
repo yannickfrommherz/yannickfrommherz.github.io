{
 "cells": [
  {
   "cell_type": "markdown",
   "id": "15de2aea-b141-45eb-bc7b-a19e965b5330",
   "metadata": {},
   "source": [
    "# Lösungen zu den Zusatzübungen\n",
    "\n",
    "Hier findest Du Lösungen zu den Zusatzübungen."
   ]
  },
  {
   "cell_type": "code",
   "execution_count": null,
   "id": "793168cb-cbed-41d0-a5c8-350cde5cb8d0",
   "metadata": {},
   "outputs": [],
   "source": []
  }
 ],
 "metadata": {
  "kernelspec": {
   "display_name": "Python 3 (ipykernel)",
   "language": "python",
   "name": "python3"
  },
  "language_info": {
   "codemirror_mode": {
    "name": "ipython",
    "version": 3
   },
   "file_extension": ".py",
   "mimetype": "text/x-python",
   "name": "python",
   "nbconvert_exporter": "python",
   "pygments_lexer": "ipython3",
   "version": "3.10.7"
  }
 },
 "nbformat": 4,
 "nbformat_minor": 5
}
