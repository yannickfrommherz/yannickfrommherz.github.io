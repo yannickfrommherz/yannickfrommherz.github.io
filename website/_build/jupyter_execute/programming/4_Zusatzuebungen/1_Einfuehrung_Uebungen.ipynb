{
 "cells": [
  {
   "cell_type": "markdown",
   "id": "5ada76d9-9936-450f-bd54-24b49d1bd084",
   "metadata": {
    "deletable": false,
    "editable": false
   },
   "source": [
    "# Zusatzübungen zum ersten Notebook\n",
    "\n",
    "Finde den bzw. die Fehler in den nachfolgenden Code-Zellen. Stelle sicher, dass sie sich 1) ausführen lassen, 2) semantisch Sinn ergeben und 3) den im 1. Notebook beschriebenen Best Practices entsprechen."
   ]
  },
  {
   "cell_type": "code",
   "execution_count": 1,
   "id": "0ad8fdba-cc69-4fa8-9bb5-a11deb8d81e6",
   "metadata": {},
   "outputs": [
    {
     "name": "stdout",
     "output_type": "stream",
     "text": [
      "wohl zu einfach\n",
      "Diese Aufgabe ist\n"
     ]
    }
   ],
   "source": [
    "print(\"wohl zu einfach\")\n",
    "print(\"Diese Aufgabe ist\")"
   ]
  },
  {
   "cell_type": "code",
   "execution_count": 2,
   "id": "10f558db-5337-4bdb-8385-7a20a758e345",
   "metadata": {},
   "outputs": [
    {
     "ename": "SyntaxError",
     "evalue": "invalid syntax. Perhaps you forgot a comma? (2800399472.py, line 1)",
     "output_type": "error",
     "traceback": [
      "\u001b[0;36m  File \u001b[0;32m\"/var/folders/dy/1d_wflpx5_57vhd_6cdbfk0m0000gn/T/ipykernel_30195/2800399472.py\"\u001b[0;36m, line \u001b[0;32m1\u001b[0m\n\u001b[0;31m    print(Das vermutlich auch noch)\u001b[0m\n\u001b[0m          ^\u001b[0m\n\u001b[0;31mSyntaxError\u001b[0m\u001b[0;31m:\u001b[0m invalid syntax. Perhaps you forgot a comma?\n"
     ]
    }
   ],
   "source": [
    "print(Das vermutlich auch noch)"
   ]
  },
  {
   "cell_type": "code",
   "execution_count": 3,
   "id": "faf045c2-4da8-45d8-913a-fb363db9bfbe",
   "metadata": {},
   "outputs": [
    {
     "ename": "SyntaxError",
     "evalue": "unterminated string literal (detected at line 1) (4242599140.py, line 1)",
     "output_type": "error",
     "traceback": [
      "\u001b[0;36m  File \u001b[0;32m\"/var/folders/dy/1d_wflpx5_57vhd_6cdbfk0m0000gn/T/ipykernel_30195/4242599140.py\"\u001b[0;36m, line \u001b[0;32m1\u001b[0m\n\u001b[0;31m    print(\"Wie sieht es hiermit aus')\u001b[0m\n\u001b[0m          ^\u001b[0m\n\u001b[0;31mSyntaxError\u001b[0m\u001b[0;31m:\u001b[0m unterminated string literal (detected at line 1)\n"
     ]
    }
   ],
   "source": [
    "print(\"Wie sieht es hiermit aus')"
   ]
  },
  {
   "cell_type": "code",
   "execution_count": 4,
   "id": "355b4799-7859-4936-bf64-8457eb2fcc75",
   "metadata": {},
   "outputs": [
    {
     "name": "stdout",
     "output_type": "stream",
     "text": [
      "Haben wir mit -Zeichen ein Problem?\n"
     ]
    }
   ],
   "source": [
    "print(\"Haben wir mit \"\"-Zeichen ein Problem?\")"
   ]
  },
  {
   "cell_type": "code",
   "execution_count": 5,
   "id": "f235d713-d203-4c5e-a5c5-f0848d04aa6e",
   "metadata": {},
   "outputs": [
    {
     "ename": "SyntaxError",
     "evalue": "cannot assign to literal here. Maybe you meant '==' instead of '='? (188264464.py, line 1)",
     "output_type": "error",
     "traceback": [
      "\u001b[0;36m  File \u001b[0;32m\"/var/folders/dy/1d_wflpx5_57vhd_6cdbfk0m0000gn/T/ipykernel_30195/188264464.py\"\u001b[0;36m, line \u001b[0;32m1\u001b[0m\n\u001b[0;31m    \"Das hier wollen wir ausgeben\" = print_out\u001b[0m\n\u001b[0m    ^\u001b[0m\n\u001b[0;31mSyntaxError\u001b[0m\u001b[0;31m:\u001b[0m cannot assign to literal here. Maybe you meant '==' instead of '='?\n"
     ]
    }
   ],
   "source": [
    "\"Das hier wollen wir ausgeben\" = print_out\n",
    "print(print_out)"
   ]
  },
  {
   "cell_type": "code",
   "execution_count": 6,
   "id": "023a5bbf-d65d-46f0-ba6c-a92d40708f99",
   "metadata": {},
   "outputs": [
    {
     "ename": "TypeError",
     "evalue": "'str' object is not callable",
     "output_type": "error",
     "traceback": [
      "\u001b[0;31m---------------------------------------------------------------------------\u001b[0m",
      "\u001b[0;31mTypeError\u001b[0m                                 Traceback (most recent call last)",
      "\u001b[0;32m/var/folders/dy/1d_wflpx5_57vhd_6cdbfk0m0000gn/T/ipykernel_30195/4025834870.py\u001b[0m in \u001b[0;36m<module>\u001b[0;34m\u001b[0m\n\u001b[1;32m      1\u001b[0m \u001b[0mprint\u001b[0m \u001b[0;34m=\u001b[0m \u001b[0;34m\"was ist hier das Problem?\"\u001b[0m\u001b[0;34m\u001b[0m\u001b[0;34m\u001b[0m\u001b[0m\n\u001b[0;32m----> 2\u001b[0;31m \u001b[0mprint\u001b[0m\u001b[0;34m(\u001b[0m\u001b[0mprint\u001b[0m\u001b[0;34m)\u001b[0m\u001b[0;34m\u001b[0m\u001b[0;34m\u001b[0m\u001b[0m\n\u001b[0m",
      "\u001b[0;31mTypeError\u001b[0m: 'str' object is not callable"
     ]
    }
   ],
   "source": [
    "print = \"was ist hier das Problem?\"\n",
    "print(print)"
   ]
  },
  {
   "cell_type": "code",
   "execution_count": 7,
   "id": "8e52edc9-6c16-4034-8672-2d99f5c51dc9",
   "metadata": {},
   "outputs": [
    {
     "ename": "NameError",
     "evalue": "name 'print_Out' is not defined",
     "output_type": "error",
     "traceback": [
      "\u001b[0;31m---------------------------------------------------------------------------\u001b[0m",
      "\u001b[0;31mNameError\u001b[0m                                 Traceback (most recent call last)",
      "\u001b[0;32m/var/folders/dy/1d_wflpx5_57vhd_6cdbfk0m0000gn/T/ipykernel_30195/1770954076.py\u001b[0m in \u001b[0;36m<module>\u001b[0;34m\u001b[0m\n\u001b[1;32m      1\u001b[0m \u001b[0mprint_out\u001b[0m \u001b[0;34m=\u001b[0m \u001b[0;36m8\u001b[0m\u001b[0;34m\u001b[0m\u001b[0;34m\u001b[0m\u001b[0m\n\u001b[0;32m----> 2\u001b[0;31m \u001b[0mprint\u001b[0m\u001b[0;34m(\u001b[0m\u001b[0mprint_Out\u001b[0m\u001b[0;34m)\u001b[0m\u001b[0;34m\u001b[0m\u001b[0;34m\u001b[0m\u001b[0m\n\u001b[0m",
      "\u001b[0;31mNameError\u001b[0m: name 'print_Out' is not defined"
     ]
    }
   ],
   "source": [
    "print_out = 8\n",
    "print(print_Out)"
   ]
  },
  {
   "cell_type": "code",
   "execution_count": 8,
   "id": "76a3ba0d-2cde-414a-b5f1-fcd62a2bc9db",
   "metadata": {},
   "outputs": [
    {
     "ename": "SyntaxError",
     "evalue": "closing parenthesis '}' does not match opening parenthesis '(' (2267996007.py, line 2)",
     "output_type": "error",
     "traceback": [
      "\u001b[0;36m  File \u001b[0;32m\"/var/folders/dy/1d_wflpx5_57vhd_6cdbfk0m0000gn/T/ipykernel_30195/2267996007.py\"\u001b[0;36m, line \u001b[0;32m2\u001b[0m\n\u001b[0;31m    print(print_it}\u001b[0m\n\u001b[0m                  ^\u001b[0m\n\u001b[0;31mSyntaxError\u001b[0m\u001b[0;31m:\u001b[0m closing parenthesis '}' does not match opening parenthesis '('\n"
     ]
    }
   ],
   "source": [
    "print_it == \"wo liegt hier der Hund begraben?\"\n",
    "print(print_it}"
   ]
  },
  {
   "cell_type": "code",
   "execution_count": 9,
   "id": "fe907f66-09d6-4538-9dbb-dae5debda9c8",
   "metadata": {},
   "outputs": [
    {
     "ename": "TypeError",
     "evalue": "'str' object is not callable",
     "output_type": "error",
     "traceback": [
      "\u001b[0;31m---------------------------------------------------------------------------\u001b[0m",
      "\u001b[0;31mTypeError\u001b[0m                                 Traceback (most recent call last)",
      "\u001b[0;32m/var/folders/dy/1d_wflpx5_57vhd_6cdbfk0m0000gn/T/ipykernel_30195/1046765315.py\u001b[0m in \u001b[0;36m<module>\u001b[0;34m\u001b[0m\n\u001b[1;32m      1\u001b[0m \u001b[0mvariable_1\u001b[0m \u001b[0;34m=\u001b[0m \u001b[0;34m\"Berlin\"\u001b[0m\u001b[0;34m\u001b[0m\u001b[0;34m\u001b[0m\u001b[0m\n\u001b[1;32m      2\u001b[0m \u001b[0mvariable_2\u001b[0m \u001b[0;34m=\u001b[0m \u001b[0;34m\"Bern\"\u001b[0m\u001b[0;34m\u001b[0m\u001b[0;34m\u001b[0m\u001b[0m\n\u001b[0;32m----> 3\u001b[0;31m \u001b[0mprint\u001b[0m\u001b[0;34m(\u001b[0m\u001b[0mvariable_1\u001b[0m\u001b[0;34m,\u001b[0m \u001b[0mvariable_2\u001b[0m\u001b[0;34m)\u001b[0m\u001b[0;34m\u001b[0m\u001b[0;34m\u001b[0m\u001b[0m\n\u001b[0m",
      "\u001b[0;31mTypeError\u001b[0m: 'str' object is not callable"
     ]
    }
   ],
   "source": [
    "variable_1 = \"Berlin\"\n",
    "variable_2 = \"Bern\"\n",
    "print(variable_1, variable_2)"
   ]
  },
  {
   "cell_type": "code",
   "execution_count": 10,
   "id": "e1865193-84e1-49ce-9dff-51eac8407f28",
   "metadata": {},
   "outputs": [
    {
     "ename": "TypeError",
     "evalue": "'str' object is not callable",
     "output_type": "error",
     "traceback": [
      "\u001b[0;31m---------------------------------------------------------------------------\u001b[0m",
      "\u001b[0;31mTypeError\u001b[0m                                 Traceback (most recent call last)",
      "\u001b[0;32m/var/folders/dy/1d_wflpx5_57vhd_6cdbfk0m0000gn/T/ipykernel_30195/2871870575.py\u001b[0m in \u001b[0;36m<module>\u001b[0;34m\u001b[0m\n\u001b[0;32m----> 1\u001b[0;31m \u001b[0mprint\u001b[0m\u001b[0;34m(\u001b[0m\u001b[0mcountry\u001b[0m \u001b[0;34m=\u001b[0m \u001b[0;34m\"Germany\"\u001b[0m\u001b[0;34m)\u001b[0m\u001b[0;34m\u001b[0m\u001b[0;34m\u001b[0m\u001b[0m\n\u001b[0m",
      "\u001b[0;31mTypeError\u001b[0m: 'str' object is not callable"
     ]
    }
   ],
   "source": [
    "print(country = \"Germany\")"
   ]
  },
  {
   "cell_type": "code",
   "execution_count": 11,
   "id": "7cc7a7f7-36f3-4634-b6eb-dc3e9a0d3c13",
   "metadata": {},
   "outputs": [
    {
     "ename": "SyntaxError",
     "evalue": "cannot assign to expression here. Maybe you meant '==' instead of '='? (876168521.py, line 3)",
     "output_type": "error",
     "traceback": [
      "\u001b[0;36m  File \u001b[0;32m\"/var/folders/dy/1d_wflpx5_57vhd_6cdbfk0m0000gn/T/ipykernel_30195/876168521.py\"\u001b[0;36m, line \u001b[0;32m3\u001b[0m\n\u001b[0;31m    a * b = c\u001b[0m\n\u001b[0m    ^\u001b[0m\n\u001b[0;31mSyntaxError\u001b[0m\u001b[0;31m:\u001b[0m cannot assign to expression here. Maybe you meant '==' instead of '='?\n"
     ]
    }
   ],
   "source": [
    "a = 8\n",
    "b = 9\n",
    "a * b = c\n",
    "print(c)"
   ]
  },
  {
   "cell_type": "code",
   "execution_count": 12,
   "id": "0622f2e0-1e9a-4d6d-aa86-1c6fbb4347fa",
   "metadata": {},
   "outputs": [
    {
     "ename": "TypeError",
     "evalue": "'str' object is not callable",
     "output_type": "error",
     "traceback": [
      "\u001b[0;31m---------------------------------------------------------------------------\u001b[0m",
      "\u001b[0;31mTypeError\u001b[0m                                 Traceback (most recent call last)",
      "\u001b[0;32m/var/folders/dy/1d_wflpx5_57vhd_6cdbfk0m0000gn/T/ipykernel_30195/4089020738.py\u001b[0m in \u001b[0;36m<module>\u001b[0;34m\u001b[0m\n\u001b[1;32m      3\u001b[0m \u001b[0mnum2\u001b[0m \u001b[0;34m=\u001b[0m \u001b[0;34m\"9\"\u001b[0m\u001b[0;34m\u001b[0m\u001b[0;34m\u001b[0m\u001b[0m\n\u001b[1;32m      4\u001b[0m \u001b[0mtotal\u001b[0m \u001b[0;34m=\u001b[0m \u001b[0mnum1\u001b[0m \u001b[0;34m+\u001b[0m \u001b[0mnum2\u001b[0m\u001b[0;34m\u001b[0m\u001b[0;34m\u001b[0m\u001b[0m\n\u001b[0;32m----> 5\u001b[0;31m \u001b[0mprint\u001b[0m\u001b[0;34m(\u001b[0m\u001b[0mtotal\u001b[0m\u001b[0;34m)\u001b[0m\u001b[0;34m\u001b[0m\u001b[0;34m\u001b[0m\u001b[0m\n\u001b[0m",
      "\u001b[0;31mTypeError\u001b[0m: 'str' object is not callable"
     ]
    }
   ],
   "source": [
    "#was gibt 1 plus 9?\n",
    "num1 = \"1\"\n",
    "num2 = \"9\"\n",
    "total = num1 + num2\n",
    "print(total)"
   ]
  },
  {
   "cell_type": "code",
   "execution_count": 13,
   "id": "243ed167-a595-4c56-ab92-8d9407d9c466",
   "metadata": {},
   "outputs": [
    {
     "ename": "IndentationError",
     "evalue": "expected an indented block after 'for' statement on line 3 (1768840070.py, line 4)",
     "output_type": "error",
     "traceback": [
      "\u001b[0;36m  File \u001b[0;32m\"/var/folders/dy/1d_wflpx5_57vhd_6cdbfk0m0000gn/T/ipykernel_30195/1768840070.py\"\u001b[0;36m, line \u001b[0;32m4\u001b[0m\n\u001b[0;31m    print(capital)\u001b[0m\n\u001b[0m    ^\u001b[0m\n\u001b[0;31mIndentationError\u001b[0m\u001b[0;31m:\u001b[0m expected an indented block after 'for' statement on line 3\n"
     ]
    }
   ],
   "source": [
    "capitals = [\"Berlin\", \"Wien\", \"Bern\"]\n",
    "\n",
    "for capital in capitals:\n",
    "print(capital)"
   ]
  },
  {
   "cell_type": "code",
   "execution_count": 14,
   "id": "5477be5e-c162-4722-a2c6-d27945096ad2",
   "metadata": {},
   "outputs": [
    {
     "ename": "SyntaxError",
     "evalue": "invalid decimal literal (844610717.py, line 1)",
     "output_type": "error",
     "traceback": [
      "\u001b[0;36m  File \u001b[0;32m\"/var/folders/dy/1d_wflpx5_57vhd_6cdbfk0m0000gn/T/ipykernel_30195/844610717.py\"\u001b[0;36m, line \u001b[0;32m1\u001b[0m\n\u001b[0;31m    num1 = 1O\u001b[0m\n\u001b[0m           ^\u001b[0m\n\u001b[0;31mSyntaxError\u001b[0m\u001b[0;31m:\u001b[0m invalid decimal literal\n"
     ]
    }
   ],
   "source": [
    "num1 = 1O\n",
    "num2 = 1\n",
    "\n",
    "print(num1 + num2)"
   ]
  },
  {
   "cell_type": "code",
   "execution_count": 15,
   "id": "50ceec1f-d6ce-40c2-a95b-9433134f0e64",
   "metadata": {},
   "outputs": [
    {
     "ename": "ValueError",
     "evalue": "not enough values to unpack (expected 5, got 4)",
     "output_type": "error",
     "traceback": [
      "\u001b[0;31m---------------------------------------------------------------------------\u001b[0m",
      "\u001b[0;31mValueError\u001b[0m                                Traceback (most recent call last)",
      "\u001b[0;32m/var/folders/dy/1d_wflpx5_57vhd_6cdbfk0m0000gn/T/ipykernel_30195/3072683295.py\u001b[0m in \u001b[0;36m<module>\u001b[0;34m\u001b[0m\n\u001b[0;32m----> 1\u001b[0;31m \u001b[0ma\u001b[0m\u001b[0;34m,\u001b[0m \u001b[0mb\u001b[0m\u001b[0;34m,\u001b[0m \u001b[0mc\u001b[0m\u001b[0;34m,\u001b[0m \u001b[0md\u001b[0m\u001b[0;34m,\u001b[0m \u001b[0me\u001b[0m \u001b[0;34m=\u001b[0m \u001b[0;34m\"Warum\"\u001b[0m\u001b[0;34m,\u001b[0m \u001b[0;34m\"geht\"\u001b[0m\u001b[0;34m,\u001b[0m \u001b[0;34m\"das\"\u001b[0m\u001b[0;34m,\u001b[0m \u001b[0;34m\"nicht?\"\u001b[0m\u001b[0;34m\u001b[0m\u001b[0;34m\u001b[0m\u001b[0m\n\u001b[0m\u001b[1;32m      2\u001b[0m \u001b[0mprint\u001b[0m\u001b[0;34m(\u001b[0m\u001b[0ma\u001b[0m\u001b[0;34m,\u001b[0m\u001b[0mb\u001b[0m\u001b[0;34m,\u001b[0m\u001b[0mc\u001b[0m\u001b[0;34m,\u001b[0m\u001b[0md\u001b[0m\u001b[0;34m)\u001b[0m\u001b[0;34m\u001b[0m\u001b[0;34m\u001b[0m\u001b[0m\n",
      "\u001b[0;31mValueError\u001b[0m: not enough values to unpack (expected 5, got 4)"
     ]
    }
   ],
   "source": [
    "a, b, c, d, e = \"Warum\", \"geht\", \"das\", \"nicht?\"\n",
    "print(a,b,c,d)"
   ]
  },
  {
   "cell_type": "markdown",
   "id": "d4c7eecb-053f-442e-8b5a-78cbca13914f",
   "metadata": {
    "deletable": false,
    "editable": false
   },
   "source": [
    "sentence = \"Langsam wirds lästig\"\n",
    "print(sentence)"
   ]
  },
  {
   "cell_type": "code",
   "execution_count": 16,
   "id": "ff3b45cb-0cfa-4c79-a75c-717e3a77dae7",
   "metadata": {},
   "outputs": [
    {
     "ename": "SyntaxError",
     "evalue": "invalid syntax (3495978345.py, line 1)",
     "output_type": "error",
     "traceback": [
      "\u001b[0;36m  File \u001b[0;32m\"/var/folders/dy/1d_wflpx5_57vhd_6cdbfk0m0000gn/T/ipykernel_30195/3495978345.py\"\u001b[0;36m, line \u001b[0;32m1\u001b[0m\n\u001b[0;31m    hier definieren wir eine variable für den satz\u001b[0m\n\u001b[0m         ^\u001b[0m\n\u001b[0;31mSyntaxError\u001b[0m\u001b[0;31m:\u001b[0m invalid syntax\n"
     ]
    }
   ],
   "source": [
    "hier definieren wir eine variable für den satz\n",
    "sentence = \"Es kann aber auch alles schiefgehen.\"\n",
    "print(sentence)"
   ]
  },
  {
   "cell_type": "code",
   "execution_count": 17,
   "id": "38c30d80-05f1-4416-b9be-a89bd77cb9d5",
   "metadata": {},
   "outputs": [],
   "source": [
    "#print(satz)"
   ]
  },
  {
   "cell_type": "code",
   "execution_count": 18,
   "id": "1f170097-58bf-4542-8bf5-0c52efeb875a",
   "metadata": {},
   "outputs": [
    {
     "ename": "SyntaxError",
     "evalue": "unterminated string literal (detected at line 2) (2845106809.py, line 2)",
     "output_type": "error",
     "traceback": [
      "\u001b[0;36m  File \u001b[0;32m\"/var/folders/dy/1d_wflpx5_57vhd_6cdbfk0m0000gn/T/ipykernel_30195/2845106809.py\"\u001b[0;36m, line \u001b[0;32m2\u001b[0m\n\u001b[0;31m    capitals = [\"Berlin\", \"Wien\", \"Bern']\u001b[0m\n\u001b[0m                                  ^\u001b[0m\n\u001b[0;31mSyntaxError\u001b[0m\u001b[0;31m:\u001b[0m unterminated string literal (detected at line 2)\n"
     ]
    }
   ],
   "source": [
    "#hier ging so einiges schief\n",
    "capitals = [\"Berlin\", \"Wien\", \"Bern']\n",
    "\n",
    "for capital in capitals:\n",
    "    if capital = \"Bern\":\n",
    "print(\"The capital of Switzerland\", capital, \"is on the list')"
   ]
  },
  {
   "cell_type": "code",
   "execution_count": 19,
   "id": "e1ad8586-819a-4bfd-88a9-9b4dd3271722",
   "metadata": {},
   "outputs": [],
   "source": [
    "#letzter fehlerhafter Code\n",
    "#print(capitals)"
   ]
  }
 ],
 "metadata": {
  "kernelspec": {
   "display_name": "Python 3 (ipykernel)",
   "language": "python",
   "name": "python3"
  },
  "language_info": {
   "codemirror_mode": {
    "name": "ipython",
    "version": 3
   },
   "file_extension": ".py",
   "mimetype": "text/x-python",
   "name": "python",
   "nbconvert_exporter": "python",
   "pygments_lexer": "ipython3",
   "version": "3.10.7"
  }
 },
 "nbformat": 4,
 "nbformat_minor": 5
}