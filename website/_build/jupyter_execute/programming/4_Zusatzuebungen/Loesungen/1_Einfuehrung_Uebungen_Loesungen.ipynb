{
 "cells": [
  {
   "cell_type": "markdown",
   "id": "5ada76d9-9936-450f-bd54-24b49d1bd084",
   "metadata": {
    "deletable": false,
    "editable": false
   },
   "source": [
    "# Lösungen zu den Zusatzübungen zum Notebook \"Einführung\"\n",
    "\n",
    "Find den bzw. die Fehler in den nachfolgenden Code-Zellen. Stell sicher, dass sie... \n",
    "1) sich ausführen lassen,\n",
    "2) semantisch Sinn ergeben und\n",
    "3) den im Notebook \"Einführung\" beschriebenen Best Practices entsprechen.\n",
    "<br>\n",
    "<br>"
   ]
  },
  {
   "cell_type": "code",
   "execution_count": 1,
   "id": "0ad8fdba-cc69-4fa8-9bb5-a11deb8d81e6",
   "metadata": {
    "tags": []
   },
   "outputs": [
    {
     "name": "stdout",
     "output_type": "stream",
     "text": [
      "Diese Aufgabe ist\n",
      "wohl zu einfach.\n"
     ]
    }
   ],
   "source": [
    "#Reihenfolge der Befehle ist relevant\n",
    "print(\"Diese Aufgabe ist\")\n",
    "print(\"wohl zu einfach.\")"
   ]
  },
  {
   "cell_type": "code",
   "execution_count": 2,
   "id": "10f558db-5337-4bdb-8385-7a20a758e345",
   "metadata": {
    "tags": []
   },
   "outputs": [
    {
     "name": "stdout",
     "output_type": "stream",
     "text": [
      "Das vermutlich auch noch.\n"
     ]
    }
   ],
   "source": [
    "#Anführungszeichen um einen string sind Pflicht\n",
    "print(\"Das vermutlich auch noch.\")"
   ]
  },
  {
   "cell_type": "code",
   "execution_count": 3,
   "id": "faf045c2-4da8-45d8-913a-fb363db9bfbe",
   "metadata": {
    "tags": []
   },
   "outputs": [
    {
     "name": "stdout",
     "output_type": "stream",
     "text": [
      "Wie sieht es hiermit aus?\n"
     ]
    }
   ],
   "source": [
    "#Anführungszeichen müssen konsistent sein\n",
    "print(\"Wie sieht es hiermit aus?\")"
   ]
  },
  {
   "cell_type": "code",
   "execution_count": 4,
   "id": "355b4799-7859-4936-bf64-8457eb2fcc75",
   "metadata": {
    "tags": []
   },
   "outputs": [
    {
     "name": "stdout",
     "output_type": "stream",
     "text": [
      "Haben wir mit \"\"-Zeichen ein Problem?\n"
     ]
    }
   ],
   "source": [
    "#Jeweils andere Anführungszeichen können im string als literale Zeichen verwendet werden\n",
    "print('Haben wir mit \"\"-Zeichen ein Problem?')"
   ]
  },
  {
   "cell_type": "code",
   "execution_count": 5,
   "id": "f235d713-d203-4c5e-a5c5-f0848d04aa6e",
   "metadata": {
    "tags": []
   },
   "outputs": [
    {
     "name": "stdout",
     "output_type": "stream",
     "text": [
      "Das hier wollen wir ausgeben.\n"
     ]
    }
   ],
   "source": [
    "#Variable steht immer links des Zuweisungsoperators\n",
    "print_out = \"Das hier wollen wir ausgeben.\"\n",
    "print(print_out)"
   ]
  },
  {
   "cell_type": "code",
   "execution_count": 6,
   "id": "023a5bbf-d65d-46f0-ba6c-a92d40708f99",
   "metadata": {
    "tags": []
   },
   "outputs": [
    {
     "name": "stdout",
     "output_type": "stream",
     "text": [
      "Was ist hier das Problem?\n"
     ]
    }
   ],
   "source": [
    "#'print' ist ein Python-Keyword und darf nicht überschrieben werden.\n",
    "#Benenn die Variable anders und starte den Kernel neu, um 'print' wieder als Funktionsnamen zu benutzen.\n",
    "no_python_keyword = \"Was ist hier das Problem?\"\n",
    "print(no_python_keyword)"
   ]
  },
  {
   "cell_type": "code",
   "execution_count": 7,
   "id": "8e52edc9-6c16-4034-8672-2d99f5c51dc9",
   "metadata": {
    "tags": []
   },
   "outputs": [
    {
     "name": "stdout",
     "output_type": "stream",
     "text": [
      "8\n"
     ]
    }
   ],
   "source": [
    "#Groß- und Kleinschreibung bei Variablen ist relevant\n",
    "print_out = 8\n",
    "print(print_out)"
   ]
  },
  {
   "cell_type": "code",
   "execution_count": 8,
   "id": "76a3ba0d-2cde-414a-b5f1-fcd62a2bc9db",
   "metadata": {
    "tags": []
   },
   "outputs": [
    {
     "name": "stdout",
     "output_type": "stream",
     "text": [
      "Wo liegt hier der Hund begraben?\n"
     ]
    }
   ],
   "source": [
    "#Runde Klammern umschließen das Argument bei Funktionen wie 'print'.\n",
    "print_it = \"Wo liegt hier der Hund begraben?\"\n",
    "print(print_it)"
   ]
  },
  {
   "cell_type": "code",
   "execution_count": 9,
   "id": "fe907f66-09d6-4538-9dbb-dae5debda9c8",
   "metadata": {
    "tags": []
   },
   "outputs": [
    {
     "name": "stdout",
     "output_type": "stream",
     "text": [
      "Berlin Bern\n"
     ]
    }
   ],
   "source": [
    "#Variablennamen sollten sprechend sein\n",
    "capital_germany = \"Berlin\"\n",
    "capital_switzerland = \"Bern\"\n",
    "print(capital_germany, capital_switzerland)"
   ]
  },
  {
   "cell_type": "code",
   "execution_count": 10,
   "id": "e1865193-84e1-49ce-9dff-51eac8407f28",
   "metadata": {},
   "outputs": [
    {
     "name": "stdout",
     "output_type": "stream",
     "text": [
      "Germany\n"
     ]
    }
   ],
   "source": [
    "#Variable muss vor Übergabe an 'print' zugewiesen werden\n",
    "country = \"Germany\"\n",
    "print(country)"
   ]
  },
  {
   "cell_type": "code",
   "execution_count": 11,
   "id": "7cc7a7f7-36f3-4634-b6eb-dc3e9a0d3c13",
   "metadata": {},
   "outputs": [
    {
     "name": "stdout",
     "output_type": "stream",
     "text": [
      "72\n"
     ]
    }
   ],
   "source": [
    "#Variable steht immer links des Zuweisungsoperators\n",
    "a = 8\n",
    "b = 9\n",
    "c = a * b\n",
    "print(c)"
   ]
  },
  {
   "cell_type": "code",
   "execution_count": 12,
   "id": "0622f2e0-1e9a-4d6d-aa86-1c6fbb4347fa",
   "metadata": {},
   "outputs": [
    {
     "name": "stdout",
     "output_type": "stream",
     "text": [
      "10\n"
     ]
    }
   ],
   "source": [
    "#Was ergibt 1 plus 9? Zahlen ohne Anführungszeichen!\n",
    "num1 = 1\n",
    "num2 = 9\n",
    "total = num1 + num2\n",
    "print(total)"
   ]
  },
  {
   "cell_type": "code",
   "execution_count": 13,
   "id": "243ed167-a595-4c56-ab92-8d9407d9c466",
   "metadata": {},
   "outputs": [
    {
     "name": "stdout",
     "output_type": "stream",
     "text": [
      "Berlin\n",
      "Wien\n",
      "Bern\n"
     ]
    }
   ],
   "source": [
    "capitals = [\"Berlin\", \"Wien\", \"Bern\"]\n",
    "\n",
    "for capital in capitals:\n",
    "    print(capital) #Befehl unterhalb einer 'for'-Schleife muss eingerückt werden"
   ]
  },
  {
   "cell_type": "code",
   "execution_count": 14,
   "id": "5477be5e-c162-4722-a2c6-d27945096ad2",
   "metadata": {},
   "outputs": [
    {
     "name": "stdout",
     "output_type": "stream",
     "text": [
      "11\n"
     ]
    }
   ],
   "source": [
    "#Null und Buchstabe 'O' nicht verwechseln\n",
    "num1 = 10\n",
    "num2 = 1\n",
    "\n",
    "print(num1 + num2)"
   ]
  },
  {
   "cell_type": "code",
   "execution_count": 15,
   "id": "50ceec1f-d6ce-40c2-a95b-9433134f0e64",
   "metadata": {},
   "outputs": [
    {
     "name": "stdout",
     "output_type": "stream",
     "text": [
      "Warum geht das nicht?\n"
     ]
    }
   ],
   "source": [
    "#Anzahl an Variablen und zuzuweisenden Objekten müssen gleich sein\n",
    "a, b, c, d = \"Warum\", \"geht\", \"das\", \"nicht?\"\n",
    "print(a,b,c,d)"
   ]
  },
  {
   "cell_type": "code",
   "execution_count": 16,
   "id": "1744d032-730c-455c-8943-7bb262dee399",
   "metadata": {},
   "outputs": [
    {
     "name": "stdout",
     "output_type": "stream",
     "text": [
      "Langsam wird's lästig.\n"
     ]
    }
   ],
   "source": [
    "#Zelltyp auf Code ändern\n",
    "sentence = \"Langsam wird's lästig.\"\n",
    "print(sentence)"
   ]
  },
  {
   "cell_type": "code",
   "execution_count": 17,
   "id": "ff3b45cb-0cfa-4c79-a75c-717e3a77dae7",
   "metadata": {},
   "outputs": [
    {
     "name": "stdout",
     "output_type": "stream",
     "text": [
      "Es kann aber auch alles schiefgehen.\n"
     ]
    }
   ],
   "source": [
    "#Hier definieren wir eine Variable für den Satz (dies ist ein Kommentar!).\n",
    "sentence = \"Es kann aber auch alles schiefgehen.\"\n",
    "print(sentence)"
   ]
  },
  {
   "cell_type": "code",
   "execution_count": 18,
   "id": "38c30d80-05f1-4416-b9be-a89bd77cb9d5",
   "metadata": {},
   "outputs": [
    {
     "name": "stdout",
     "output_type": "stream",
     "text": [
      "Hallo, ich bin ein Satz.\n"
     ]
    }
   ],
   "source": [
    "#'satz' muss erst definiert werden, 'print'-Befehl darf nicht auskommentiert sein\n",
    "satz = \"Hallo, ich bin ein Satz.\"\n",
    "print(satz)"
   ]
  },
  {
   "cell_type": "code",
   "execution_count": 19,
   "id": "1f170097-58bf-4542-8bf5-0c52efeb875a",
   "metadata": {},
   "outputs": [
    {
     "name": "stdout",
     "output_type": "stream",
     "text": [
      "The capital of Switzerland Bern is on the list.\n"
     ]
    }
   ],
   "source": [
    "#Hier ging so einiges schief.\n",
    "capitals = [\"Berlin\", \"Wien\", \"Bern\"] #Konsistente Anführungszeichen\n",
    "\n",
    "for capital in capitals:\n",
    "    if capital == \"Bern\": #Doppeltes Gleichzeichen überprüft, ob Werte gleich sind \n",
    "        print(\"The capital of Switzerland\", capital, \"is on the list.\") #Konsistente Anführungszeichen, zweifach eingerückt"
   ]
  },
  {
   "cell_type": "code",
   "execution_count": 20,
   "id": "e1ad8586-819a-4bfd-88a9-9b4dd3271722",
   "metadata": {
    "tags": []
   },
   "outputs": [
    {
     "name": "stdout",
     "output_type": "stream",
     "text": [
      "['Berlin', 'Wien', 'Bern']\n"
     ]
    }
   ],
   "source": [
    "#Letzter fehlerhafter Code \n",
    "print(capitals) #Darf nicht auskommentiert sein"
   ]
  },
  {
   "cell_type": "markdown",
   "id": "121005ad-2ab6-4add-b00f-3ef212242b7a",
   "metadata": {
    "deletable": false,
    "editable": false
   },
   "source": [
    "***\n",
    "<table>\n",
    "      <tr>\n",
    "        <td>\n",
    "            <img src=\"../../3_Dateien/Lizenz/CC-BY-SA.png\" width=\"400\">\n",
    "        </td> \n",
    "        <td>\n",
    "            <p>Dieses Notebook sowie sämtliche weiteren <a href=\"https://github.com/yannickfrommherz/exdimed-student/tree/main\">Materialien zum Programmierenlernen für Geistes- und Sozialwissenschaftler:innen</a> sind im Rahmen des Projekts <i>Experimentierraum Digitale Medienkompetenz</i> als Teil von <a href=\"https://tu-dresden.de/gsw/virtuos/\">virTUos</a> entstanden. Erstellt wurden sie von Yannick Frommherz unter Mitarbeit von Anne Josephine Matz. Sie stehen als Open Educational Resource nach <a href=\"https://creativecommons.org/licenses/by-sa/4.0/\">CC BY SA</a> zur freien Verfügung.\n",
    "        </td>\n",
    "      </tr>\n",
    "</table>"
   ]
  }
 ],
 "metadata": {
  "kernelspec": {
   "display_name": "Python 3 (ipykernel)",
   "language": "python",
   "name": "python3"
  },
  "language_info": {
   "codemirror_mode": {
    "name": "ipython",
    "version": 3
   },
   "file_extension": ".py",
   "mimetype": "text/x-python",
   "name": "python",
   "nbconvert_exporter": "python",
   "pygments_lexer": "ipython3",
   "version": "3.10.8"
  }
 },
 "nbformat": 4,
 "nbformat_minor": 5
}