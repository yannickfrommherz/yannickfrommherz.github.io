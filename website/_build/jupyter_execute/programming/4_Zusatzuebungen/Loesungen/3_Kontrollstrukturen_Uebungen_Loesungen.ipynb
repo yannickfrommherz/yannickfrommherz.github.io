{
 "cells": [
  {
   "cell_type": "markdown",
   "id": "de9185da-5656-4657-ad3d-07865548aaea",
   "metadata": {
    "deletable": false,
    "editable": false
   },
   "source": [
    "# Lösungen zu den Zusatzübungen zum Notebook \"Kontrollstrukturen\""
   ]
  },
  {
   "cell_type": "markdown",
   "id": "7b4b72b0-c55d-4f4d-87a8-396e88f71c56",
   "metadata": {
    "deletable": false,
    "editable": false
   },
   "source": [
    "1. Schreibe *eine* Code-Zeile, die folgende Bedingungen überprüft:\n",
    "\n",
    "    - Berlin hat mehr Einwohner:innen als München\n",
    "    - In Hamburg wohnen entweder weniger Menschen oder gleich viele wie in Berlin\n",
    "    - München ist Hamburg in Sachen Einwohnerzahl unterlegen.<br><br>\n",
    "    \n",
    "    \n",
    "    📌 Herausforderung: Überprüfe zusätzlich im gleichen Statement, ob Berlin *nicht* kleiner als München ist, was die Einwohnerzahl anbelangt."
   ]
  },
  {
   "cell_type": "code",
   "execution_count": 1,
   "id": "ebf9e8b8-76a7-465b-aa8f-9ac50fcfc14d",
   "metadata": {
    "tags": []
   },
   "outputs": [
    {
     "name": "stdout",
     "output_type": "stream",
     "text": [
      "True\n",
      "True\n"
     ]
    }
   ],
   "source": [
    "berlin = 3677472\n",
    "hamburg = 1853935\n",
    "muenchen = 1487708\n",
    "\n",
    "#Verknüpfung mehrerer Vergleiche mit 'and'\n",
    "print(berlin > muenchen and hamburg <= berlin and muenchen < hamburg)\n",
    "\n",
    "#herausforderung: zusätzlicher, negierter Vergleich\n",
    "print(berlin > muenchen and hamburg <= berlin and muenchen < hamburg and not berlin < muenchen)"
   ]
  },
  {
   "cell_type": "markdown",
   "id": "db3568a9-47a4-40c0-9d34-eb7c049ba264",
   "metadata": {
    "deletable": false,
    "editable": false
   },
   "source": [
    "2. Formuliere den folgenden Code so konzis wie möglich in natürlicher Sprache:"
   ]
  },
  {
   "cell_type": "code",
   "execution_count": 2,
   "id": "cd2eff65-3f71-47c3-b672-7bdbb11c583a",
   "metadata": {},
   "outputs": [
    {
     "name": "stdout",
     "output_type": "stream",
     "text": [
      "No need to carry an umbrella 🌤️\n",
      "Carry an umbrella with you ☔️\n",
      "Carry an umbrella with you ☔️\n",
      "No need to carry an umbrella 🌤️\n",
      "Carry an umbrella with you ☔️\n",
      "No need to carry an umbrella 🌤️\n",
      "No prognosis possible due to missing value\n"
     ]
    }
   ],
   "source": [
    "weekly_rain_chance_forecast = [0.2, 0.7, 0.8, 0.05, 0.95, 0.3, \"na\"]\n",
    "\n",
    "for daily_forecast in weekly_rain_chance_forecast:\n",
    "    if type(daily_forecast) != float:\n",
    "        print(\"No prognosis possible due to missing value\")\n",
    "        continue\n",
    "    if daily_forecast < 0.5:\n",
    "        print(\"No need to carry an umbrella 🌤️\")\n",
    "    else: \n",
    "        print(\"Carry an umbrella with you ☔️\")"
   ]
  },
  {
   "cell_type": "markdown",
   "id": "e4a4e80d-ccf7-471d-b1be-7fc4e58b0889",
   "metadata": {
    "deletable": false,
    "editable": false
   },
   "source": [
    "- Natürlichsprachlich formuliert: \"Wenn die Regenwahrscheinlichkeit an einem Tag in den nächsten sieben Tagen 50% übersteigt, nimm an diesem Tag einen Schirm mit. Bei niedrigerer Regenwahrscheinlichkeit als 50% brauchst Du keinen Schirm mitzunehmen. Sollte noch keine Regenwahrscheinlichkeit vorliegen, kann ich leider keine Empfehlung abgeben.\""
   ]
  },
  {
   "cell_type": "markdown",
   "id": "0202b8a5-f591-48e8-b9e5-55b110bbe76a",
   "metadata": {
    "deletable": false,
    "editable": false
   },
   "source": [
    "3. Mit `monthly_salary` soll das monatliche Einkommen einer bestimmten Person referenziert werden. Beträgt es 6000€ oder mehr, fällt es in die höchste Einkommensklasse. Bei einem Betrag von unter 2000€ handelt es sich um ein Einkommen in der tiefsten Einkommensklasse. Zwischen 2000€ und unter 3000€, 3000€ und unter 4500€ sowie 4500€ und unter 6000€ fällt es in die Einkommesklasse \"untere Mitte\", \"Mitte\" bzw. \"obere Mitte\". Formuliere bedingte Anweisungen, die die Einkommensklasse je nach Höhe von `monthly_salary` ausgeben.\n",
    "\n",
    "    📌 Herausforderung: Was passiert, wenn das Einkommen anstatt als Zahl z.B. so vorliegt: \"dreitausendsiebenhundert\"? Und was, wenn mit `monthly_salary` ein noch weniger sinnvolles Objekt referenziert wird, z.B. eine Liste? Verhindere in jedem Fall, dass es zu einer Fehlermeldung kommt. "
   ]
  },
  {
   "cell_type": "code",
   "execution_count": 3,
   "id": "2b1a728e-e8ae-49e0-b8e9-cb1acbf7b703",
   "metadata": {
    "tags": []
   },
   "outputs": [
    {
     "name": "stdout",
     "output_type": "stream",
     "text": [
      "middle\n",
      "invalid income\n",
      "\n"
     ]
    }
   ],
   "source": [
    "monthly_salary = 3000\n",
    "income_class = \"\"\n",
    "\n",
    "\"\"\"Um möglichst wenig Bedingungen aufzustellen, beginnen wir entweder bei der \"obersten\" oder, wie hier, bei der \"untersten\" Bedingung.\n",
    "Da Bedingungen nacheinander überprüft werden, bis eine zutrifft, müssen wir beim ersten 'elif'-Statement z.B. nicht mehr übrprüfen,\n",
    "ob monthly_salary AUCH unter 2000 liegt (und nicht nur unter 3000). Denn läge monthly_salary unter 2000, hätte bereits die erste Bedingung\n",
    "zugetroffen und Python wäre nie zur zweiten Bedingung vorgerückt, etc. Diese Logik funktioniert aber nur, wenn wir die Bedingungen in korrekter\n",
    "Reihenfolge entweder von unten nach oben oder von oben nach unten überprüfen.\"\"\"\n",
    "if monthly_salary < 2000:\n",
    "    income_class = \"low\"\n",
    "elif monthly_salary < 3000:\n",
    "    income_class = \"lower middle\"\n",
    "elif monthly_salary < 4500:\n",
    "    income_class = \"middle\"\n",
    "elif monthly_salary < 6000:\n",
    "    income_class = \"upper middle\"\n",
    "else:\n",
    "    income_class = \"high\"\n",
    "\n",
    "print(income_class)\n",
    "\n",
    "monthly_salary = \"siebentausend\"\n",
    "income_class = \"\"\n",
    "\n",
    "\"\"\"Herausforderung: Wir müssen in jedem Fall überprüfen, ob der Datentyp von monthly_salary entweder float oder integer ist. Falls nicht, muss eine \n",
    "Fehlermeldung zurückgegeben werden. Dies gilt auch bei Zahlen als strings, denn Python kann diese nicht in integer oder float konvertieren, \n",
    "es sei denn wir würden ein benutzerdefiniertes dictionary anlegen, aber das wäre ein extremer Arbeitsaufwand.\"\"\"\n",
    "\n",
    "#mit Herausforderung (drei semantisch identische Lösungen)\n",
    "if not type(monthly_salary) == int and not type(monthly_salary) == float:\n",
    "#if type(monthly_salary) != int and type(monthly_salary) != float:\n",
    "#if type(monthly_salary) not in [int, float]:\n",
    "    print(\"invalid income\")\n",
    "elif monthly_salary < 2000:\n",
    "    income_class = \"low\"\n",
    "elif monthly_salary < 3000:\n",
    "    income_class = \"lower middle\"\n",
    "elif monthly_salary < 4500:\n",
    "    income_class = \"middle\"\n",
    "elif monthly_salary < 6000:\n",
    "    income_class = \"upper middle\"\n",
    "else:\n",
    "    income_class = \"high\"\n",
    "\n",
    "print(income_class)"
   ]
  },
  {
   "cell_type": "markdown",
   "id": "8f184f68-e115-49ce-b0c2-f193cb2fb463",
   "metadata": {
    "deletable": false,
    "editable": false
   },
   "source": [
    "4. Erstelle einen string aus den jeweils letzten Zeichen jeden Namens in `names` und lass ihn Dir ausgeben."
   ]
  },
  {
   "cell_type": "code",
   "execution_count": 4,
   "id": "997e283b-29a0-42fe-ba29-cf900d98d3b1",
   "metadata": {
    "tags": []
   },
   "outputs": [
    {
     "name": "stdout",
     "output_type": "stream",
     "text": [
      "namen\n"
     ]
    }
   ],
   "source": [
    "names = [\"Hagen\", \"Lena\", \"Selim\", \"Brigitte\", \"Hermann\"]\n",
    "\n",
    "string = \"\" #die Variable muss vor der Iteration als leerer string initialisiert werden\n",
    "for name in names:\n",
    "    string += name[-1] #bei jeder Iteration hängen wir das jeweils letzte Zeichen (via Indexing) des jeweiligen Namens an string an\n",
    "    \n",
    "print(string)"
   ]
  },
  {
   "cell_type": "markdown",
   "id": "701e452b-6eb8-4b3a-a150-00699e092169",
   "metadata": {
    "deletable": false,
    "editable": false
   },
   "source": [
    "5. Erstelle abermals einen string bestehend aus ausgewählten Zeichen jeden Namens in `names`. Diesmal soll der erste Buchstabe für den neuen string der erste Buchstaben des ersten Namens sein, der zweite Buchstabe für den neuen string soll der zweite Buchstabe des zweiten Namens sein, etc. Welcher neue Namen entsteht so?\n",
    "\n",
    "    📌 Herausforderung: Verwende die `range`-Funktion zur Lösung der Übung (sofern Du es nicht bereits getan hast)."
   ]
  },
  {
   "cell_type": "code",
   "execution_count": 5,
   "id": "c8fdfe97-edb7-446f-aabc-8772f487586f",
   "metadata": {
    "tags": []
   },
   "outputs": [
    {
     "name": "stdout",
     "output_type": "stream",
     "text": [
      "Helga\n",
      "Helga\n"
     ]
    }
   ],
   "source": [
    "names = [\"Hagen\", \"Lena\", \"Selim\", \"Brigitte\", \"Hermann\"]\n",
    "\n",
    "#Lösung mit Zählervariable\n",
    "string = \"\" #die Variable muss vor der Iteration als leerer string initialisiert werden\n",
    "i = 0 #wir initialisieren eine Zählervariable bei 0, die wir für das Indizieren des jeweiligen Buchstabens im jeweiligen Namen verwenden\n",
    "for name in names:\n",
    "    string += name[i] #hier Indizieren wir den jeweiligen Buchstaben im jeweiligen Namen\n",
    "    i+=1 #nach jeder Iteration erhöhen wie die Zählervariable um 1\n",
    "print(string)\n",
    "\n",
    "#Herausforderung: Lösung mit range-Funktion\n",
    "string= \"\" #die Variable muss vor der Iteration als leerer string initialisiert werden\n",
    "for i in range(len(names)):\n",
    "    string += names[i][i] #doppeltes Indexing, erst Element auf der Liste names, dann Zeichen im jeweiligen Element\n",
    "print(string)"
   ]
  },
  {
   "cell_type": "markdown",
   "id": "54f7b173-4652-41b0-a1a0-f2a677d493b2",
   "metadata": {
    "deletable": false,
    "editable": false
   },
   "source": [
    "6. Erstelle einen weiteren string, indem Du bei jedem Namen auf `names` über die Buchstaben iterierst und jeweils das zweite, vierte, sechste, etc. Zeichen an den neuen string hängst. Der string beginnt also mit \"a\" und \"e\" aus \"Hagen\", gefolgt von \"e\" aus \"Lena\" etc. Diesmal entsteht kein sinnvolles neues Wort, geschweige denn ein Name. Vielleicht fällt Dir aber dennoch was zur allgemeinen Komposition von Namen auf. "
   ]
  },
  {
   "cell_type": "code",
   "execution_count": 6,
   "id": "501b46c8-dbfe-46be-855e-678a22a0e761",
   "metadata": {
    "tags": []
   },
   "outputs": [
    {
     "name": "stdout",
     "output_type": "stream",
     "text": [
      "aeeaeirgteemn\n"
     ]
    }
   ],
   "source": [
    "names = [\"Hagen\", \"Lena\", \"Selim\", \"Brigitte\", \"Hermann\"]\n",
    "\n",
    "string = \"\" #die Variable muss vor der Iteration als leerer string initialisiert werden\n",
    "for name in names:\n",
    "    \"\"\"\"Mittels range können wir jedes zweite, vierte, etc. Zeichen im jeweiligen Element auf der Liste names indizieren und string anhgängen.\n",
    "    Dazu setzen wir den start-Parameter auf 1 (bei Index 1, also beim zweiten Zeichen geht es los), den end-Parameter auf die Länge des jeweiligen Elements \n",
    "    (denn diese ist ja variabel) und den step-Parameter auf 2, damit jeweils ein Zeichen übersprungen wird.\"\"\"\n",
    "    for i in range(1, len(name), 2): \n",
    "        string += name[i]\n",
    "print(string) #auffallend viele Vokale unter diesen Zeichen!"
   ]
  },
  {
   "cell_type": "markdown",
   "id": "9fd187b1-75da-47cf-af37-74d359de0b59",
   "metadata": {
    "deletable": false,
    "editable": false
   },
   "source": [
    "7. Wir wollen einen sehr simplen interaktiven Vokabeltrainer für Deutsch-Schwedisch programmieren. Das Programm soll eine Userin nach und nach alle gespeicherten Vokabeln abfragen, bis sie sämtliche korrekt vom Deutschen ins Schwedische übersetzt hat. Die Vokabeln inklusive Übersetzung stehen Dir bereits in `de_sv` zur Verfügung. Iteriere mit der ebenfalls bereits gegebenen `for`-Schleife über das dictionary. Vervollständige den Anweisungskörper sodass die Userin bei jedem Wort (`word`) solange nach der Übersetzung (`translation`) gefragt wird, bis ihre Antwort korrekt ist. Der Dialog sollte wie folgt aussehen:\n",
    "\n",
    "    <img src=\"../../3_Dateien/Grafiken_und_Videos/de_sv.png\">\n",
    "\n",
    "    Anschließend soll das nächste Wort abgefragt werden.\n",
    "    "
   ]
  },
  {
   "cell_type": "code",
   "execution_count": 7,
   "id": "e49f2ea9-d577-400a-bb73-368e848db67c",
   "metadata": {
    "tags": []
   },
   "outputs": [
    {
     "ename": "StdinNotImplementedError",
     "evalue": "raw_input was called, but this frontend does not support input requests.",
     "output_type": "error",
     "traceback": [
      "\u001b[0;31m---------------------------------------------------------------------------\u001b[0m",
      "\u001b[0;31mStdinNotImplementedError\u001b[0m                  Traceback (most recent call last)",
      "\u001b[0;32m/var/folders/dy/1d_wflpx5_57vhd_6cdbfk0m0000gn/T/ipykernel_76318/2004641827.py\u001b[0m in \u001b[0;36m<module>\u001b[0;34m\u001b[0m\n\u001b[1;32m      9\u001b[0m         \u001b[0mprompt\u001b[0m \u001b[0;34m=\u001b[0m \u001b[0;34m\"Wie sagt man '\"\u001b[0m \u001b[0;34m+\u001b[0m \u001b[0mword\u001b[0m \u001b[0;34m+\u001b[0m \u001b[0;34m\"' auf Schwedisch?\"\u001b[0m \u001b[0;31m#Konkenation eines prompts mit dem jeweiligen Wort\u001b[0m\u001b[0;34m\u001b[0m\u001b[0;34m\u001b[0m\u001b[0m\n\u001b[1;32m     10\u001b[0m \u001b[0;34m\u001b[0m\u001b[0m\n\u001b[0;32m---> 11\u001b[0;31m         \u001b[0manswer\u001b[0m \u001b[0;34m=\u001b[0m \u001b[0minput\u001b[0m\u001b[0;34m(\u001b[0m\u001b[0mprompt\u001b[0m\u001b[0;34m)\u001b[0m \u001b[0;31m#Abfrage der Übersetzung und Speichern der Antwort in answer\u001b[0m\u001b[0;34m\u001b[0m\u001b[0;34m\u001b[0m\u001b[0m\n\u001b[0m\u001b[1;32m     12\u001b[0m \u001b[0;34m\u001b[0m\u001b[0m\n\u001b[1;32m     13\u001b[0m         \u001b[0;31m#Überprüfen, ob Anwort korrekt: Wenn ja while-Schleife abbrechen, ansonsten Schleife weiter laufen lassen\u001b[0m\u001b[0;34m\u001b[0m\u001b[0;34m\u001b[0m\u001b[0m\n",
      "\u001b[0;32m/Library/Frameworks/Python.framework/Versions/3.10/lib/python3.10/site-packages/ipykernel/kernelbase.py\u001b[0m in \u001b[0;36mraw_input\u001b[0;34m(self, prompt)\u001b[0m\n\u001b[1;32m   1001\u001b[0m         \"\"\"\n\u001b[1;32m   1002\u001b[0m         \u001b[0;32mif\u001b[0m \u001b[0;32mnot\u001b[0m \u001b[0mself\u001b[0m\u001b[0;34m.\u001b[0m\u001b[0m_allow_stdin\u001b[0m\u001b[0;34m:\u001b[0m\u001b[0;34m\u001b[0m\u001b[0;34m\u001b[0m\u001b[0m\n\u001b[0;32m-> 1003\u001b[0;31m             raise StdinNotImplementedError(\n\u001b[0m\u001b[1;32m   1004\u001b[0m                 \u001b[0;34m\"raw_input was called, but this frontend does not support input requests.\"\u001b[0m\u001b[0;34m\u001b[0m\u001b[0;34m\u001b[0m\u001b[0m\n\u001b[1;32m   1005\u001b[0m             )\n",
      "\u001b[0;31mStdinNotImplementedError\u001b[0m: raw_input was called, but this frontend does not support input requests."
     ]
    }
   ],
   "source": [
    "de_sv = {\"ich\": \"jag\", \"aus\": \"från\", \"reisen\": \"resa\", \"gerne\": \"gärna\", \"nach\": \"till\", \"lieben\": \"älska\", \"woher\": \"varifrån\", \"kommen\": \"komma\", \"Deutschland\": \"Tyskland\", \"du\": \"du\", \"Schweden\": \"Sverige\", \"lieben\": \"älska\", \"dich\": \"dig\", \"mich\": \"mig\", \"wir\": \"vi\"}\n",
    "\n",
    "#Iteration über dictionaries, wobei jeweiliger Schlüssel und Wert mit den Variablen word und translation referenziert werden\n",
    "for word, translation in de_sv.items():\n",
    "    \n",
    "    #while-Schleife wird erst durch break-Statement (wenn Wort korrekt übersetzt wurde) abgebrochen\n",
    "    while True:\n",
    "    \n",
    "        prompt = \"Wie sagt man '\" + word + \"' auf Schwedisch?\" #Konkenation eines prompts mit dem jeweiligen Wort\n",
    "\n",
    "        answer = input(prompt) #Abfrage der Übersetzung und Speichern der Antwort in answer\n",
    "        \n",
    "        #Überprüfen, ob Anwort korrekt: Wenn ja while-Schleife abbrechen, ansonsten Schleife weiter laufen lassen\n",
    "        if answer == translation:\n",
    "            print(\"Korrekt! 🥳\")\n",
    "            break\n",
    "        else:\n",
    "            print(\"Das war leider falsch 😅\")\n",
    "\n",
    "    "
   ]
  },
  {
   "cell_type": "markdown",
   "id": "d8549dd3-924c-4d1a-b56e-2299e5cf62df",
   "metadata": {
    "deletable": false,
    "editable": false
   },
   "source": [
    "8. 📌 Herausforderung aufbauend auf Übung 7: Praktischer wäre es ja, wenn der Vokabeltrainer bei falsch übersetzten Wörtern die richtige Übersetzung ausgibt und diese Wörter dann später noch einmal abfragt. Korrekt übersetzte Wörter müssten dagegen weiterhin nur einmal abgefragt werden. Schreib den Code entsprechend so, dass jedes korrekt übersetzte Wort kein weiteres Mal abgefragt wird. Bei falsch übersetzten Wörtern soll hingegen die richtige Übersetzung angezeigt werden. Später, d.h., wenn alle (noch vorhandenen) Wörter abgefragt wurden, sollen abermals die in der letzten Iteration falsch übersetzten Wörter abgefragt werden, bis am Schluss jedes Wort einmal korrekt übersetzt wurde.<br><br>\n",
    "    💡 Tipp 1: Überleg Dir, wie Du die beiden Schleifentypen in einander verschachteln musst, um die beschriebene Abfragelogik zu implementieren.<br><br>\n",
    "    💡 Tipp 2: Um ein Schlüssel-Wert-Paar aus einem dictionary zu entfernen, kannst Du die `pop`-Methode mit folgender Syntax verwenden: `dictionary.pop(\"key\")`.<br><br>\n",
    "    📌 Herausforderung zur Herausforderung: Überleg Dir, wie Du den Vokabeltrainer zusätzlich verbessern könntest."
   ]
  },
  {
   "cell_type": "code",
   "execution_count": 8,
   "id": "a5a29c35-5822-49b8-8748-429796fab1a3",
   "metadata": {},
   "outputs": [
    {
     "ename": "StdinNotImplementedError",
     "evalue": "raw_input was called, but this frontend does not support input requests.",
     "output_type": "error",
     "traceback": [
      "\u001b[0;31m---------------------------------------------------------------------------\u001b[0m",
      "\u001b[0;31mStdinNotImplementedError\u001b[0m                  Traceback (most recent call last)",
      "\u001b[0;32m/var/folders/dy/1d_wflpx5_57vhd_6cdbfk0m0000gn/T/ipykernel_76318/3200852112.py\u001b[0m in \u001b[0;36m<module>\u001b[0;34m\u001b[0m\n\u001b[1;32m     11\u001b[0m         \u001b[0mprompt\u001b[0m \u001b[0;34m=\u001b[0m \u001b[0;34m\"Wie sagt man '\"\u001b[0m \u001b[0;34m+\u001b[0m \u001b[0mword\u001b[0m \u001b[0;34m+\u001b[0m \u001b[0;34m\"' auf Schwedisch?\"\u001b[0m \u001b[0;31m#Konkenation eines prompts mit dem jeweiligen Wort\u001b[0m\u001b[0;34m\u001b[0m\u001b[0;34m\u001b[0m\u001b[0m\n\u001b[1;32m     12\u001b[0m \u001b[0;34m\u001b[0m\u001b[0m\n\u001b[0;32m---> 13\u001b[0;31m         \u001b[0manswer\u001b[0m \u001b[0;34m=\u001b[0m \u001b[0minput\u001b[0m\u001b[0;34m(\u001b[0m\u001b[0mprompt\u001b[0m\u001b[0;34m)\u001b[0m \u001b[0;31m#Abfrage der Übersetzung und Speichern der Antwort in answer\u001b[0m\u001b[0;34m\u001b[0m\u001b[0;34m\u001b[0m\u001b[0m\n\u001b[0m\u001b[1;32m     14\u001b[0m \u001b[0;34m\u001b[0m\u001b[0m\n\u001b[1;32m     15\u001b[0m         \u001b[0;31m#Überprüfen, ob Anwort korrekt: Wenn ja, Wort learnt_during_interaction anhängen; wenn nein, korrekte Antwort ausgeben\u001b[0m\u001b[0;34m\u001b[0m\u001b[0;34m\u001b[0m\u001b[0m\n",
      "\u001b[0;32m/Library/Frameworks/Python.framework/Versions/3.10/lib/python3.10/site-packages/ipykernel/kernelbase.py\u001b[0m in \u001b[0;36mraw_input\u001b[0;34m(self, prompt)\u001b[0m\n\u001b[1;32m   1001\u001b[0m         \"\"\"\n\u001b[1;32m   1002\u001b[0m         \u001b[0;32mif\u001b[0m \u001b[0;32mnot\u001b[0m \u001b[0mself\u001b[0m\u001b[0;34m.\u001b[0m\u001b[0m_allow_stdin\u001b[0m\u001b[0;34m:\u001b[0m\u001b[0;34m\u001b[0m\u001b[0;34m\u001b[0m\u001b[0m\n\u001b[0;32m-> 1003\u001b[0;31m             raise StdinNotImplementedError(\n\u001b[0m\u001b[1;32m   1004\u001b[0m                 \u001b[0;34m\"raw_input was called, but this frontend does not support input requests.\"\u001b[0m\u001b[0;34m\u001b[0m\u001b[0;34m\u001b[0m\u001b[0m\n\u001b[1;32m   1005\u001b[0m             )\n",
      "\u001b[0;31mStdinNotImplementedError\u001b[0m: raw_input was called, but this frontend does not support input requests."
     ]
    }
   ],
   "source": [
    "de_sv = {\"ich\": \"jag\", \"aus\": \"från\", \"reisen\": \"resa\", \"gerne\": \"gärna\", \"nach\": \"till\", \"lieben\": \"älska\", \"woher\": \"varifrån\", \"kommen\": \"komma\", \"Deutschland\": \"Tyskland\", \"du\": \"du\", \"Schweden\": \"Sverige\", \"lieben\": \"älska\", \"dich\": \"dig\", \"mich\": \"mig\", \"wir\": \"vi\"}\n",
    "\n",
    "#while-Schleife wird erst durch break-Statement (wenn sämtliche Wörter korrekt übersetzt wurden) abgebrochen\n",
    "while True:\n",
    "    \n",
    "    learnt_during_iteration = [] #Initialisieren einer leeren Liste, an die wir korrekt übersetzte Wörter anhängen\n",
    "    \n",
    "    #Iteration über dictionaries, wobei jeweiliger Schlüssel und Wert mit den Variablen word und translation referenziert werden\n",
    "    for word, translation in de_sv.items():\n",
    "        \n",
    "        prompt = \"Wie sagt man '\" + word + \"' auf Schwedisch?\" #Konkenation eines prompts mit dem jeweiligen Wort\n",
    "\n",
    "        answer = input(prompt) #Abfrage der Übersetzung und Speichern der Antwort in answer\n",
    "        \n",
    "        #Überprüfen, ob Anwort korrekt: Wenn ja, Wort learnt_during_interaction anhängen; wenn nein, korrekte Antwort ausgeben\n",
    "        if answer == translation:\n",
    "            print(\"Korrekt! 🥳\")\n",
    "            learnt_during_iteration.append(word)\n",
    "        else:\n",
    "            print(\"Das war leider falsch 😅. Richtig wäre '\" + translation + \"' gewesen!\")\n",
    "    \n",
    "    #Nach jeder vollständigen Iteration über de_sv, entfernen wir gelernte Wörter aus de_sv\n",
    "    for learnt_word in learnt_during_iteration:\n",
    "        de_sv.pop(learnt_word)\n",
    "        \n",
    "    #Überprüfen ob de_sv noch weitere, zu lernende Wörter beinhält: wenn ja, läuft die while-Schleife weiter; wenn nein, wird sie abgebrochen\n",
    "    if len(de_sv) < 1:\n",
    "        print(\"Du kannst alle Vokabeln! 🎉\")\n",
    "        break"
   ]
  },
  {
   "cell_type": "markdown",
   "id": "7ba58169-e0d1-4b15-b6a0-ad0b67e0eb75",
   "metadata": {
    "deletable": false,
    "editable": false
   },
   "source": [
    "- Ideen für weitere Verbesserungsmöglichkeiten:\n",
    "    - Zufällige Sortierung der Vokabeln bei jeder neuen Iteration. Umsetzbar z.B. mithilfe von `shuffle` des Moduls `random` (vgl. 4. Notebook).\n",
    "    - Einführen eines Grenzwerts, der definiert, wie oft ein Wort korrekt übersetzt werden muss, bis es aus `de_sv` entfernt wird. Umsetzbar z.B., indem `learnt_during_interaction` ein dictionary (statt eine Liste) ist, wobei der Wert die Anzahl an korrekten Übersetzungen pro Wort (Schlüssel) speichert. Bei jeder korrekten Übersetzung wird der Wert um 1 erhöht. Alle Schlüssel, deren Werte den Grenzwert erreichen, werden aus `de_sv` entfernt."
   ]
  },
  {
   "cell_type": "markdown",
   "id": "f3a3ff99-9ba0-4bcd-a583-7bb0ee54c4ed",
   "metadata": {
    "deletable": false,
    "editable": false
   },
   "source": [
    "9. Wenn Du zwei Vergleiche, die beide für sich ausgerechnet `False` ergeben, mithilfe von `or` verknüpfst, ergibt die Verknüpfung dann `True` oder `False`?\n",
    "\n",
    "    Sie ergibt `False`."
   ]
  },
  {
   "cell_type": "markdown",
   "id": "b57af29f-492e-445c-821d-0dd04ffa08fd",
   "metadata": {
    "deletable": false,
    "editable": false
   },
   "source": [
    "10. In Anlehnung an den Anwendungsfall im dritten Notebook, lasse Dir sämtliche Viertelstunden eines kompletten Tages ausgeben, also:\n",
    "\n",
    "    00:00<br>\n",
    "    00:15<br>\n",
    "    00:30<br>\n",
    "    00:45<br>\n",
    "    01:15<br>\n",
    "    etc.\n",
    "    \n",
    "    Achte darauf, dass die Ausgabe stets vierstellig ist."
   ]
  },
  {
   "cell_type": "code",
   "execution_count": 9,
   "id": "bad5e74d-3435-4a1f-9788-6b285b23a208",
   "metadata": {
    "tags": []
   },
   "outputs": [
    {
     "name": "stdout",
     "output_type": "stream",
     "text": [
      "00:00\n",
      "00:15\n",
      "00:30\n",
      "00:45\n",
      "01:00\n",
      "01:15\n",
      "01:30\n",
      "01:45\n",
      "02:00\n",
      "02:15\n",
      "02:30\n",
      "02:45\n",
      "03:00\n",
      "03:15\n",
      "03:30\n",
      "03:45\n",
      "04:00\n",
      "04:15\n",
      "04:30\n",
      "04:45\n",
      "05:00\n",
      "05:15\n",
      "05:30\n",
      "05:45\n",
      "06:00\n",
      "06:15\n",
      "06:30\n",
      "06:45\n",
      "07:00\n",
      "07:15\n",
      "07:30\n",
      "07:45\n",
      "08:00\n",
      "08:15\n",
      "08:30\n",
      "08:45\n",
      "09:00\n",
      "09:15\n",
      "09:30\n",
      "09:45\n",
      "10:00\n",
      "10:15\n",
      "10:30\n",
      "10:45\n",
      "11:00\n",
      "11:15\n",
      "11:30\n",
      "11:45\n",
      "12:00\n",
      "12:15\n",
      "12:30\n",
      "12:45\n",
      "13:00\n",
      "13:15\n",
      "13:30\n",
      "13:45\n",
      "14:00\n",
      "14:15\n",
      "14:30\n",
      "14:45\n",
      "15:00\n",
      "15:15\n",
      "15:30\n",
      "15:45\n",
      "16:00\n",
      "16:15\n",
      "16:30\n",
      "16:45\n",
      "17:00\n",
      "17:15\n",
      "17:30\n",
      "17:45\n",
      "18:00\n",
      "18:15\n",
      "18:30\n",
      "18:45\n",
      "19:00\n",
      "19:15\n",
      "19:30\n",
      "19:45\n",
      "20:00\n",
      "20:15\n",
      "20:30\n",
      "20:45\n",
      "21:00\n",
      "21:15\n",
      "21:30\n",
      "21:45\n",
      "22:00\n",
      "22:15\n",
      "22:30\n",
      "22:45\n",
      "23:00\n",
      "23:15\n",
      "23:30\n",
      "23:45\n"
     ]
    }
   ],
   "source": [
    "min_per_hour = 59 #Definieren der maximalen Minutenanzahl pro Stunde\n",
    "hours_per_day = 24 #Definieren der maximalen Stundenanzahl pro Tag\n",
    "\n",
    "hour = 0 #Initialisieren der Stunde bei Null\n",
    "#while-Schleife läuft, solange hour kleiner als die maximale Stundenanzahl pro Tag ist\n",
    "while hour < hours_per_day:\n",
    "    \n",
    "    \"\"\"Überprüfen, ob hour (als string, da nur strings eine Länge haben) aus einem Zeichen besteht:\n",
    "    wenn ja: Voranstellen einer Null; in beiden Fällen hour_str zuweisen\"\"\"\n",
    "    if len(str(hour)) == 1:\n",
    "        hour_str = \"0\" + str(hour)\n",
    "    else:\n",
    "        hour_str = str(hour) \n",
    "\n",
    "    minute = 0 #Initialisieren der Minute bei Null (jedes Mal, wenn eine neue Stunde beginnt)\n",
    "    \n",
    "    #while-Schleife läuft, solange minute kleiner maximale Minutenzahl pro Stude ist\n",
    "    while minute < min_per_hour:\n",
    "        \n",
    "        \"\"\"Überprüfen, ob minute (als string, da nur strings eine Länge haben) aus einem Zeichen besteht:\n",
    "        wenn ja: Voranstellen einer Null; in beiden Fällen konkateniert mit hour_str und einem Doppelpunkt ausgeben lassen\"\"\"\n",
    "        if len(str(minute)) == 1:\n",
    "            print(hour_str + \":0\" + str(minute))\n",
    "        else:\n",
    "            print(hour_str + \":\" + str(minute))\n",
    "        \n",
    "        \"\"\"minute um 15 erhöhen (dies geschieht viermal, wobei nach dem vierten Mal (minute == 60) die Bedingung\n",
    "        der inneren while-Schleife nicht mehr zutrifft und wir zur nächsten Stunde übergehen\"\"\"\n",
    "        minute += 15\n",
    "    \n",
    "    #zuvor erhöhen wir die Stunde noch um 1\n",
    "    hour+=1"
   ]
  },
  {
   "cell_type": "code",
   "execution_count": null,
   "id": "fe4ed3ed-a0e1-4d26-a038-16bd643d2ae0",
   "metadata": {},
   "outputs": [],
   "source": []
  }
 ],
 "metadata": {
  "kernelspec": {
   "display_name": "Python 3 (ipykernel)",
   "language": "python",
   "name": "python3"
  },
  "language_info": {
   "codemirror_mode": {
    "name": "ipython",
    "version": 3
   },
   "file_extension": ".py",
   "mimetype": "text/x-python",
   "name": "python",
   "nbconvert_exporter": "python",
   "pygments_lexer": "ipython3",
   "version": "3.10.7"
  }
 },
 "nbformat": 4,
 "nbformat_minor": 5
}