{
 "cells": [
  {
   "cell_type": "code",
   "execution_count": 1,
   "id": "03b359c7-5323-4cf4-a369-ccba6c0e9cea",
   "metadata": {},
   "outputs": [
    {
     "name": "stdout",
     "output_type": "stream",
     "text": [
      "\n"
     ]
    }
   ],
   "source": [
    "%%script echo\n",
    "\n",
    "#Datentyp         #Kurzf. #Beispiel             #Eigenschaften\n",
    "Zeichenketten:    str:    \"hello world\"         #unveränderlich, sequentiell, iterierbar\n",
    "Ganzzahlen:       int:    20                    #unveränderlich\n",
    "Dezimalzahlen:    float:  20.5                  #unveränderlich, Dezimalzeichen: \".\"\n",
    "Listen:           list:   [0,1,2]               #veränderlicher Objektbehälter, sequentiell, iterierbar, kann Objekte jeglichen Typs enthalten\n",
    "Dictionaries:     dict:   {\"key1\": \"value1\", /\n",
    "                           \"key2\": \"value2\"}    #veränderlicher Objektbehälter, iterierbar, jeder Schlüssel kann nur einmal existieren und muss unveränderlich sein, Werte können mehrfach existieren\n",
    "Mengen:           set:    {0,1,2}               #veränderlicher Objektbehälter, iterierbar, enthält nur einzigartige (unveränderliche) Objekte\n",
    "Tupel:            tuple:  (0,1,2)               #unveränderlicher Objektbehälter, sequentiell, iterierbar, kann Objekte jeglichen Typs enthalten\n",
    "Boolsche Werte:   bool:   True / False          #unveränderlich, beachte Großschreibung"
   ]
  }
 ],
 "metadata": {
  "kernelspec": {
   "display_name": "Python 3 (ipykernel)",
   "language": "python",
   "name": "python3"
  },
  "language_info": {
   "codemirror_mode": {
    "name": "ipython",
    "version": 3
   },
   "file_extension": ".py",
   "mimetype": "text/x-python",
   "name": "python",
   "nbconvert_exporter": "python",
   "pygments_lexer": "ipython3",
   "version": "3.10.7"
  }
 },
 "nbformat": 4,
 "nbformat_minor": 5
}