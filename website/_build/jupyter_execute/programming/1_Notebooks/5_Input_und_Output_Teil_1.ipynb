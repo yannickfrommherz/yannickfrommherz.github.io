{
 "cells": [
  {
   "cell_type": "markdown",
   "id": "62004d4d-da15-463e-8e1b-b6d96a0c9540",
   "metadata": {
    "deletable": false,
    "editable": false
   },
   "source": [
    "# Input und Output Teil 1\n",
    "\n",
    "In den vergangenen Notebooks haben wir gelernt, dass wir in Python effizient mit Objekten verschiedenster Datentypen arbeiten, indem wir sie Variablen zuweisen. Am Anfang hatten wir es bloß mit kleinen Objekten zu tun – etwa mit einzelnen Wörtern oder, wenn's hoch kam, mit Sätzen. Diese haben wir bei der Variablenzuweisung jeweils komplett ausgeschrieben:\n",
    "\n",
    "```sentence = \"Am Anfang haben wir eine Zeichenkette noch ausgeschrieben.\"```\n",
    "\n",
    "Im zweiteiligen Notebook \"Funktionen und Methoden\" haben wir dann zum ersten Mal mit größeren Objekten gearbeitet, nämlich mit den Koalitionsverträgen. Aufgrund der Größe (und der Tatsache, dass wir die Texte bereits extern in einer Datei vorliegen hatten) haben wir uns die Texte vom externen Speicherort in den Arbeitsspeicher geladen und Variablen zugewiesen.\n",
    "\n",
    "Da wir fortan häufig mit größeren externen Dateien arbeiten, schauen wir uns in diesem ebenfalls zweigeteilten Notebook genauer an, wie der sog. *Input* von Dateien funktioniert. Ebenso schauen wir uns das andere Ende an, nämlich den *Output* von Dateien, also das Speichern dieser auf einem externen Laufwerk. Im ersten (und teilweise zweiten) Teil des Notebooks geht es also nicht primär darum, wie wir mit Daten *in* Python arbeiten, sondern wie diese Daten überhaupt erst für Python verarbeitbar werden und wie wir sie nach einer Verarbeitung durch Python wiederum für die Welt außerhalb Pythons zugänglich machen. \n",
    "\n",
    "Im zweiten Teil lernen wir weiterhin, wie Benutzer:innen über Input für ein laufendes Programm dessen Ablauf beeinflussen oder kontrollieren können (wir haben diese Funktion bereits im Notebook \"Kontrollstrukturen\" beim Oktopus-Ratespiel benutzt). Dadurch können wir interaktive Programme schreiben. Abschließend gehen wir detailliert auf die allgegenwärtige ```print```-Funktion ein. Diese stellt ja auch eine Form von Output bereit, zwar (standardmäßig) nicht als Datei, aber als Zeichenkette in der Ausgabe.\n",
    "\n",
    "Auch zum Thema \"Input und Output\" gibt es wieder einen Anwendungsfall, den wir im zweiten Teil unter Einbezug der meisten hier erlernten Techniken lösen können. Mehr dazu später."
   ]
  },
  {
   "cell_type": "markdown",
   "id": "b5905656-5d21-4081-802a-21c2495c54e0",
   "metadata": {
    "deletable": false,
    "editable": false
   },
   "source": [
    "## Dateipfade\n",
    "\n",
    "Um Dateien von einem bestimmten Ort auf dem Laufwerk einzulesen bzw. an einem bestimmten Ort auszugeben, müssen wir uns mit Dateipfaden vertraut machen. Jede Datei auf Deinem Computer hat bekanntlich einen Namen, ein Dateisuffix (etwa `.txt`, wird z.&nbsp;T. ausgeblendet) und die Datei befindet sich in einem bestimmten Verzeichnis (auch *Ordner* genannt). Dieses Verzeichnis befindet sich wiederum in einem Verzeichnis, und so weiter, bis zum obersten Verzeichnis, dem Stamm des Laufwerks. Jede Datei hat also eine *einzigartige* Adresse und diese Adresse wird *Dateipfad* genannt. \n",
    "\n",
    "Wie Du gleich sehen wirst, gibt es zwei Arten, einen Dateipfad anzugeben, nämlich **absolut** und **relativ**. Zusätzlich unterscheiden sich Dateipfade zwischen macOS und Windows. Dateipfade zu verstehen, ist überaus wichtig, um frustrierenden ```FileNotFoundError```-Fehlern vorzubeugen. "
   ]
  },
  {
   "cell_type": "markdown",
   "id": "891f7336-1979-43ff-bdd5-4333c7e8e4a0",
   "metadata": {
    "deletable": false,
    "editable": false
   },
   "source": [
    "### Absolute Dateipfade\n",
    "Ein Dateipfad kann immer absolut, d.&nbsp;h. vollständig vom Stamm des Laufwerks bis zur gewünschten Datei, angegeben werden. Um an den absoluten Pfad einer beliebigen Datei heranzukommen, gibt es folgende Tricks:\n",
    "- Unter **macOS**: Navigier im Finder zur gewünschten Datei und klick die Datei mit zwei Fingern an (Rechtsklick), es öffnet sich ein Menüfenster. Drück die Taste ```Option ⌥```, wodurch sich einige Menüoptionen ändern. Wähl *\"Datei\" als Pfadname kopieren*. Ein vollständiger Pfad unter macOS sieht z.&nbsp;B. so aus: \"/Users/Name/Documents/Project/Folder/Notebook.ipynb\". Beachte, dass Schrägstriche \"/\" verwendet werden sowie, dass der absolute Pfad mit einem Schrägstrich beginnt.\n",
    "- Unter **Windows**: Navigier im Explorer zur gewünschten Datei und klick diese mit einem Rechtsklick an, während Du ```Shift``` gedrückt hältst. Es öffnet sich ein Menüfenster. Wähl *Als Pfad kopieren*. Ein vollständiger Pfad unter Windows sieht z.&nbsp;B. so aus: \"C:\\Users\\Name\\Documents\\Project\\Folder\\Notebook.ipynb\". Beachte, dass Backslashes \"\\\\\" verwendet werden sowie, dass der absolute Pfad ohne Backslash beginnt. ⚠️ Achtung: Der Backslash \"\\\\\" hat bei Python eine Spezialbedeutung innerhalb von strings, wie etwa bei \"\\n\", das bekanntlich für einen Zeilenumbruch steht. Um Python bei einem Windows-Dateipfad mitzuteilen, dass die darin verwendeten Backslashes nicht als Spezialzeichen interpretiert werden sollen, müssen wir ein \"r\" vor das öffnende Anführungszeichen stellen. Obiger Pfad innerhalb von Python-Code muss also so ausschauen: r\"C:\\Users\\Name\\Documents\\Project\\Folder\\Notebook.ipynb\".\n",
    "- Unter **Linux**: Hier gibt es mehrere Möglichkeiten, außerdem kann sich das Vorgehen je nach Distribution etwas unterscheiden. Öffne die Dateiverwaltung, navigier zur gewünschten Datei und klick diese an (Rechtsklick). Wähl nun *Eigenschaften*, dort kannst Du den absoluten Pfad kopieren. Du kannst auch die Datei auswählen und kommst mit ```Shift``` + Rechtsklick in ein Menü, in welchem Du den Pfad kopieren kannst. Alternativ – und das funktioniert unter allen gängigen Linux-Distributionen – kannst Du das Terminal im entsprechenden Ordner öffnen und in die Konsole den Befehl ```pwd``` eingeben. Dir wird anschließend der absolute Dateipfad **zum Ordner** ausgegeben. Du musst ihn dann noch um den Namen der Datei (mit Dateisuffix) ergänzen. Wie auch bei macOS beginnen absolute Pfade mit einem Schrägstrich. \n",
    "\n",
    "In ersteren beiden Fällen wird der Pfad in die Zwischenablage kopiert, unter Linux musst Du ihn ggf. noch selbst kopieren. Du kannst den Pfad anschließend in Deinen Code einfügen (am besten mit der Tastenkombination ```command ⌘```+ ```V``` (macOS) / ```Strg```+ ```V``` (Windows, Linux)).\n",
    "\n",
    "Beachte, dass die obersten Verzeichnisse eines absoluten Pfades, also diejenigen, die vom System vorgegeben sind, z.&nbsp;T. auf Englisch angegeben werden (selbst wenn sie in Deinem Dateimanager auf Deutsch angezeigt werden). Im vollständigen Pfad steht also ggf. *Users* und nicht *Benutzer*. Das geschieht aber automatisch, wenn Du den Pfad wie oben beschrieben kopierst."
   ]
  },
  {
   "cell_type": "markdown",
   "id": "6b3fb92c-ed00-4a13-94e9-b8cb0e25fdf9",
   "metadata": {
    "deletable": false,
    "editable": false
   },
   "source": [
    "***\n",
    "\n",
    "✏️ **Übung 1:** Navigier in Deinem Dateimanager zu fünf beliebigen Dateien in fünf verschiedenen Verzeichnissen. Kopier die absoluten Dateipfade wie oben beschrieben und weis je einen Dateipfad einer der folgenden Variablen zu (innerhalb der Anführungszeichen).\n",
    "\n",
    "<details>\n",
    "  <summary>💡 Tipp für Windows-Nutzer:innen </summary>\n",
    "    <br>Beachte, dass Du die Backslashes maskieren musst (s. o.).\n",
    "</details>"
   ]
  },
  {
   "cell_type": "code",
   "execution_count": 1,
   "id": "5d589eee-5dc2-4bf1-9532-4fe510fe85f1",
   "metadata": {},
   "outputs": [],
   "source": [
    "#In diese Zelle kannst Du den Code zur Übung schreiben (so viel zu coden gibt es hier nicht 😅).\n",
    "\n",
    "path_file1 = \"\"\n",
    "path_file2 = \"\"\n",
    "path_file3 = \"\"\n",
    "path_file4 = \"\"\n",
    "path_file5 = \"\""
   ]
  },
  {
   "cell_type": "markdown",
   "id": "115b957c-5033-4c68-a0be-b4b750899372",
   "metadata": {
    "deletable": false,
    "editable": false
   },
   "source": [
    "***\n",
    "\n",
    "### Relative Dateipfade\n",
    "\n",
    "Ein Dateipfad kann stets auch relativ, d.&nbsp;h. vom aktuellen *Arbeitsverzeichnis* (das ist das Verzeichnis, in dem man sich gerade befindet) aus gesehen, angegeben werden. Am einfachsten ist das natürlich bei einer Datei, die sich im aktuellen Arbeitsverzeichnis befindet. Um auf diese zuzugreifen, geben wir bloß ihren Namen als Pfad an. \n",
    "\n",
    "Weiter können wir vom aktuellen Arbeitsverzeichnis aus in ein (darin befindliches) Unterverzeichnis navigieren. Dazu beginnt der relative Pfad mit dem Namen des Unterverzeichnisses, gefolgt von einem Schrägstrich sowie dem Namen der Datei. Diese Schreibweise mit dem Schrägstrich funktioniert innerhalb Pythons auf allen Betriebssystemen. Unsere Schnittstelle zu externen Dateien, die weiter unten vorgestellte `open`-Funktion, kümmert sich bei relativen Pfaden wenn nötig um die Konversion von Schrägstrich zu Backslash. \n",
    "\n",
    "Letztlich können wir vom aktuellen Arbeitsverzeichnis aus auch aufwärts (zum Stamm des Laufwerks hin) navigieren. Indem wir zwei Punkte und einen Schrägstrich, also \"../\", an den Anfang des relativen Pfads stellen, rücken wir eine Ebene nach oben (und durch \"../../\" zwei Ebenen, etc.). Im Anschluss an den Schrägstrich folgt der Name der Datei, die sich im Oberverzeichnis befindet. Natürlich können wir vom Oberverzeichnis aus auch in ein *anderes* Unterverzeichnis als das aktuelle Arbeitsverzeichnis (eine Art \"Schwesterverzeichnis\") navigieren.\n",
    "\n",
    "Relative Dateipfade sind zwar fehleranfälliger als die einfach zu kopierenden, absoluten Dateipfade. Sie sind aber aus dreierlei Gründen zu bevorzugen: Erstens sind sie i.&nbsp;d.&nbsp;R. kürzer. Zweitens funktionieren sie auf allen Betriebssystemen. Drittens sind sie stabiler, da sie auch nach dem Verschieben oder Teilen eines Notebooks funktionieren, sofern die darin aufgerufenen Dateien entsprechend mitverschoben bzw. mitgeteilt wurden. Aus diesem Grund werden in diesen Notebooks auch stets relative Dateipfade verwendet und Du wurdest anfangs darum gebeten, die Ordnerstruktur der heruntergeladenen Dateien nicht zu verändern. Die hier verwendeten, relativen Dateipfade funktionieren solange, wie Du die Ordnerstruktur (konkret: das Verzeichnis \"3_Dateien\" und die darin befindlichen Ordner und Dateien) nicht veränderst. \n",
    "\n",
    "Versuch also immer, **relative** Dateipfade zu verwenden.\n",
    "\n",
    "## Das `os`-Modul\n",
    "\n",
    "Im Zusammenhang mit Dateien auf Deinem Laufwerk ist das Modul `os` mit den Funktionen `getcwd`, `chdir` und `listdir` äußerst hilfreich. Sie werden in der folgenden Zelle angewandt und mithilfe von Kommentaren beschrieben:"
   ]
  },
  {
   "cell_type": "code",
   "execution_count": 2,
   "id": "338053c6-4ce0-49d3-9ff1-e480fc7f4601",
   "metadata": {
    "tags": []
   },
   "outputs": [
    {
     "name": "stdout",
     "output_type": "stream",
     "text": [
      "Aktuelles Arbeitsverzeichnis: /Users/Yannick/Documents/Repositories/yfrommherz.ch/website/programming/1_Notebooks\n",
      "\n",
      "Darin befindliche Unterverzeichnisse und Dateien: \n",
      "2_Datentypen.ipynb\n",
      "Loesungen\n",
      "1_Einfuehrung.ipynb\n",
      "4_Funktionen_und_Methoden_Teil_1.ipynb\n",
      "5_Input_und_Output_Teil_2.ipynb\n",
      "7_Regulaere_Ausdruecke.ipynb\n",
      "6_Datenanalyse_Teil_2.ipynb\n",
      "4_Funktionen_und_Methoden_Teil_2.ipynb\n",
      "3_Kontrollstrukturen.ipynb\n",
      "5_Input_und_Output_Teil_1.ipynb\n",
      "6_Datenanalyse_Teil_1.ipynb\n"
     ]
    }
   ],
   "source": [
    "import os\n",
    "\n",
    "#Gibt das aktuelle Arbeitsverzeichnis aus (\"get current working directory\").\n",
    "print(\"Aktuelles Arbeitsverzeichnis:\", os.getcwd())\n",
    "\n",
    "\"\"\"Mit dieser Funktion könnte man das aktuelle Arbeitsverzeichnis ändern; das tun wir aber nicht, \n",
    "da die relativen Dateipfade weiter unten im Notebook sonst nicht mehr korrekt wären (s. o.).\"\"\"\n",
    "#os.chdir(\"new_path\")\n",
    "\n",
    "\"\"\"Gibt die im aktuellen Arbeitsverzeichnis (oder beim in Klammern angegebenen Pfad) befindlichen Unterverzeichnisse \n",
    "und Dateien als Liste aus; darunter auch einige, die vom Dateimanager i. d. R. ausgeblendet werden.\"\"\"\n",
    "print(\"\\nDarin befindliche Unterverzeichnisse und Dateien: \")\n",
    "for file in os.listdir():\n",
    "    print(file)"
   ]
  },
  {
   "cell_type": "markdown",
   "id": "6aa80018-6c0f-4f31-bedd-555343c66cab",
   "metadata": {
    "deletable": false,
    "editable": false
   },
   "source": [
    "Denk daran, dass Du ein externes Modul wie ```os``` am Anfang jedes Notebooks importieren musst, um damit arbeiten zu können. \n",
    "\n",
    "Wie im Notebook \"Funktionen und Methoden Teil 2\" erklärt, müssen wir vor den Funktionsnamen jeweils den Modulnamen sowie einen Punkt setzen (z.&nbsp;B. ```os.getcwd```), damit Python weiß, wo sich die gewünschte Funktion befindet. Alternativ könnten wir auch den ```import```-Befehl zu ```from os import getcwd, chdir, listdir``` ändern, um so die entsprechenden Funktionen ohne Modulnamen davor aufzurufen.\n",
    "\n",
    "Wenn Du es versäumst, ```os``` am Anfang zu importieren, erhältst Du ```NameError: name 'os' is not defined``` zurück. Das ist die gleiche Fehlermeldung, wie wenn Du versuchst, mit einer (noch) nicht definierten Variable zu arbeiten. In beiden Fällen kann Python schlicht nichts mit den *Namen* anfangen."
   ]
  },
  {
   "cell_type": "markdown",
   "id": "5302d003-d1c4-4779-8168-74a14e5a3c9e",
   "metadata": {
    "deletable": false,
    "editable": false
   },
   "source": [
    "***\n",
    "\n",
    "✏️ **Übung 2:** Das aktuelle Arbeitsverzeichnis auf einem Windows-Rechner sei \"C:\\Users\\Name\\Documents\\Project\\Folder\". Du möchtest auf eine Datei zugreifen, die folgenden absoluten Dateipfad besitzt: \"C:\\Users\\Name\\Documents\\Resources\\file.csv\". Mithilfe welchen relativen Pfads können wir in Python auf \"file.csv\" zugreifen?\n",
    "\n",
    "<details>\n",
    "  <summary>💡 Tipp</summary>\n",
    "    <br>Bei relativen Dateipfaden ist es auch bei Windows möglich, einen sog. <i>forward slash</i> (/) statt eines Backslash (\\) zu nutzen. Wenn Du Windows-Nutzer:in bist: Gewöhn Dir die generelle Nutzung von forward slashes bei relativen Pfaden an, denn so sparst Du Dir die Maskierungszeichen am Anfang des Pfades und ermöglichst das betriebssystemübergreifende Arbeiten mit Deinen Skripten, da auch macOS und Linux damit arbeiten können.\n",
    "</details>"
   ]
  },
  {
   "cell_type": "code",
   "execution_count": 3,
   "id": "c3ffc264-f25f-4968-a2dd-d368e27478c0",
   "metadata": {
    "tags": []
   },
   "outputs": [],
   "source": [
    "#In diese Zelle kannst Du den Code zur Übung schreiben (immer noch nichts zu coden 😅).\n",
    "\n",
    "\n"
   ]
  },
  {
   "cell_type": "markdown",
   "id": "f02a9d7f-a89b-47f6-a094-a685406f1e73",
   "metadata": {
    "deletable": false,
    "editable": false
   },
   "source": [
    "## Die ```open```-Funktion\n",
    "\n",
    "Die Schnittstelle zu externen Dateien bietet in Python die ```open```-Funktion. Sie öffnet externe Dateien mittels folgender grundlegender Syntax:\n",
    "\n",
    "```open(file, mode)```\n",
    "\n",
    "Bei ```file``` setzen wir den absoluten oder relativen Dateipfad zur zu öffnenden Datei ein, und zwar als Zeichenkette, inklusive des **Dateisuffixes** und natürlich umrahmt von **Anführungszeichen**. Über den Parameter ```mode``` müssen bzw. können wir spezifizieren, was wir mit der zu öffnenden Datei machen wollen. ```open``` stellt drei verschiedene Modi zur Verfügung:\n",
    "\n",
    "- den **Lesemodus** für Input (```\"r\"```): Dies ist der Standardmodus, der Parameter ```\"r\"``` wird deswegen i.&nbsp;d.&nbsp;R. weggelassen (vgl. Notebook \"Funktionen und Methoden\" beim Öffnen der Koalitionsverträge).\n",
    "- den **Schreibmodus** für Output (```\"w\"```): Dieser überprüft, ob die angegebene Datei im Verzeichnis existiert; wenn ja, wird deren Inhalt *über*schrieben; wenn nein, wird die Datei geschaffen und *be*schrieben.\n",
    "- den **\"Anhängmodus\"** für Output (```\"a\"``` von *append*): Er überprüft, ob die angegebene Datei im Verzeichnis existiert; wenn ja, werden Daten (z.&nbsp;B. neue Zeilen bei einer Datei in Tabellenform) im Anschluss an die bereits existierenden Daten in der angegebenen Datei angehängt; wenn nein, wird die Datei geschaffen und *be*schrieben.\n",
    "\n",
    "Zum Schreiben bzw. Anhängen sieht der Funktionsaufruf also so aus:\n",
    "\n",
    "- ```open(file, \"w\")``` \n",
    "- ```open(file, \"a\")```\n",
    "\n",
    "Die ```open```-Funktion akzeptiert neben ```file``` und ```mode``` weitere Parameter, u.&nbsp;a. ```encoding```, wo wir spezifizieren können, *wie* eine Datei enkodiert ist. Das Encoding einer Datei legt fest, nach welchem Schlüssel sämtliche Zeichen (Buchstaben in lateinischer Schrift sowie den allermeisten anderen Sprachen, Zahlen, Emojis...) in Nullen und Einsen übersetzt werden. Natürlich geht nichts ohne den korrekten Schlüssel. [UTF-8](https://de.wikipedia.org/wiki/UTF-8) von [Unicode](https://de.wikipedia.org/wiki/Unicode) ist Standard, sodass wir uns i.&nbsp;d.&nbsp;R. nicht den Kopf darüber zerbrechen müssen. Um Problemen vorzubeugen (insbesondere unter Windows!), lohnt es sich trotzdem, standardmäßig ```encoding=\"utf-8\"``` zu spezifizieren, und zwar beim Input sowie beim Output."
   ]
  },
  {
   "cell_type": "markdown",
   "id": "81054d30-4a97-463d-a0df-19775577cb1f",
   "metadata": {
    "deletable": false,
    "editable": false
   },
   "source": [
    "### Input\n",
    "\n",
    "Wie wir bei den Koalitionsverträgen im Notebook \"Funktionen und Methoden\" bereits gesehen haben, wird die ```open```-Funktion zum Lesen von externen Dateien wie folgt syntaktisch eingebunden:\n",
    "\n",
    "```with open(file, encoding=\"utf-8\") as read_file:```<br>\n",
    "&nbsp;&nbsp;&nbsp;&nbsp;&nbsp;&nbsp;&nbsp;&nbsp;&nbsp;&nbsp;```variable = read_file.read()```\n",
    "\n",
    "Wir benutzen hier den sog. ```with```-Kontextmanager: Im ```with```-Statement öffnen wir mittels ```open``` das übergebene ```file``` und weisen die geöffnete Datei direkt einer Variablen zu (hier ```read_file```, aber wie immer kann man einen beliebigen Variablennamen wählen). \n",
    "\n",
    "Eingerückt darunter wenden wir die ```read```-Methode auf ```read_file``` an, d.&nbsp;h. die bislang nur geöffnete Datei wird nun eingelesen. Je nachdem, wie die externe Datei formatiert ist, müssen wir ```read``` durch eine andere geeignete Lesemethode ersetzen (s.&nbsp;u.). Das Resultat weisen wir in jedem Fall einer sinnvoll genannten ```variable``` zu. Die externe Datei befindet sich damit als Objekt im Arbeitsspeicher. \n",
    "\n",
    "Diese Syntax für den Dateiinput entspricht natürlichsprachlich ungefähr: \"Mit (```with```) der zu öffnenden (```open```) Datei (```file```) als (```as```), nennen wir es, ```read_file```, tu alles, was nach dem Doppelpunkt (```:```) darunter eingerückt (```⇥```) steht (hier: lies (```read```) das ```read_file``` und weis es ```variable``` zu (```=```)).\""
   ]
  },
  {
   "cell_type": "markdown",
   "id": "79924e43-4801-47df-b3a9-00a6d944df19",
   "metadata": {
    "deletable": false,
    "editable": false
   },
   "source": [
    "Indem wir anschließend die Einrückung wieder verlassen, schließt der ```with```-Kontextmanager die externe Datei *automatisch*. Die brauchen wir ja auch nicht mehr, da wir deren Inhalt nun in einem Python-Objekt im Arbeitsspeicher haben. Die Verwendung von ```with``` beim Umgang mit externen Dateien ist *Best Practice*. Abweichend davon begegnet man auch folgender Herangehensweise:\n",
    "\n",
    "```file = open(\"path\", encoding=\"utf-8\")```\n",
    "\n",
    "`content = file.read()`\n",
    "\n",
    "```file.close() ```\n",
    "\n",
    "In der ersten Zeile wird die externe Datei geöffnet und in der zweiten gelesen. Anschließend muss die Datei wieder *manuell* geschlossen werden. Oft wird jedoch genau dieser letzte Schritt vergessen. Gewöhn Dir also an, stets den ```with```-Kontextmanager im Umgang mit externen Dateien zu benutzen."
   ]
  },
  {
   "cell_type": "markdown",
   "id": "a9d73221-ffbb-41ed-8aee-b46c9f3b24de",
   "metadata": {
    "deletable": false,
    "editable": false
   },
   "source": [
    "### Output\n",
    "\n",
    "Für den Output von Dateien verwenden wir ebenfalls den ```with```-Kontextmanager sowie die ```open```-Funktion, aber wie oben erwähnt mit dem zusätzlichen Parameter ```\"w\"``` oder ```\"a\"```:\n",
    "\n",
    "```with open(file, \"w\", encoding=\"utf-8\") as write_file:```<br>\n",
    "&nbsp;&nbsp;&nbsp;&nbsp;&nbsp;&nbsp;&nbsp;&nbsp;&nbsp;&nbsp;```for line in data:```<br>\n",
    "&nbsp;&nbsp;&nbsp;&nbsp;&nbsp;&nbsp;&nbsp;&nbsp;&nbsp;&nbsp;&nbsp;&nbsp;&nbsp;&nbsp;&nbsp;&nbsp;&nbsp;&nbsp;&nbsp;&nbsp;```write_file.write(line + \"\\n\")```\n",
    "\n",
    "In diesem Beispiel iterieren wir über ein mit ```data``` referenziertes Listenobjekt (das wir im Code davor auf irgendeine Weise geschaffen haben) und schreiben mittels der ```write```-Methode jedes Element (```line```) in eine neue Zeile von ```write_file``` (die neue Zeile kommt durch den abschließenden Zeilenumbruch im ```write```-Befehl zustande, wobei dieser mit der jeweiligen ```line``` zu *einem* string konkateniert wird, da ```write``` nur *ein* Argument akzeptiert). Wie beim Input wird ```write_file``` nach Verlassen der (äußeren) Einrückung automatisch geschlossen. Je nach gewünschtem Outputformat (z.&nbsp;B. als Textdatei oder als Tabelle) kommen andere Schreibmethoden als ```write``` zum Einsatz (s.&nbsp;u.).  \n",
    "\n",
    "Im Folgenden schauen wir uns genauer an, wie wir mit den beiden wichtigsten Datenformaten, *Textdateien* und *tabellarische Dateien*, beim Input und Output umgehen.  "
   ]
  },
  {
   "cell_type": "markdown",
   "id": "97a4c529-b5d3-4436-8a78-33533061344c",
   "metadata": {
    "deletable": false,
    "editable": false
   },
   "source": [
    "## Textdateien\n",
    "\n",
    "Textdateien sind grundlegend nach Zeilen strukturierte Dateien. Das trifft sowohl auf Microsoft Office-Dokumente mit dem Suffix \".docx\" zu als auch auf sog. *Plain Text Files* (mit dem Suffix \".txt\"). Letztere sind **nur** nach Zeilen strukturiert und können von den meisten Programmen auf sämtlichen Betriebssystemen und natürlich auch von Python geöffnet werden. Deshalb beschränken wir uns im Folgenden auf Plain Text Files. \n",
    "\n",
    "Am Ende jeder Zeile in einer solchen Textdatei steht ein Zeilenumbruch, der als ```\"\\n\"``` (ausgesprochen: *backslash n* oder *newline*) kodiert wird. Wenn wir eine \".txt\"-Datei z.&nbsp;B. in Microsoft Word öffnen, werden uns i.&nbsp;d.&nbsp;R. nur die Zeilenumbrüche, nicht aber die dafür verantwortlichen Zeichen angezeigt (links im Screenshot unten). Optional können wir sie uns aber einblenden lassen (rechts im Screenshot unten)."
   ]
  },
  {
   "cell_type": "markdown",
   "id": "f8cb68c1-7e2e-4a8e-90de-4a18aaaaa5d9",
   "metadata": {
    "deletable": false,
    "editable": false
   },
   "source": [
    "<img src=\"../3_Dateien/Grafiken_und_Videos/Miss_Sara_Sampson.png\">"
   ]
  },
  {
   "cell_type": "markdown",
   "id": "5737fa70-7052-4428-b1e1-995318e09c70",
   "metadata": {
    "deletable": false,
    "editable": false
   },
   "source": [
    "Hier handelt es sich um die ersten paar Zeilen aus Gotthold Ephraim Lessings [*Miss Sara Sampson*](https://www.projekt-gutenberg.org/lessing/sampson/sampson.html). \n",
    "\n",
    "An den sichtbar gemachten Zeichen für Zeilenumbrüche sehen wir, dass die letzten beiden Redebeiträge jeweils nur in einer einzigen Zeile gespeichert sind. Hier werden sie bloß aufgrund der horizontalen Begrenzung des Fensters auf mehreren Zeilen angezeigt.\n",
    "\n",
    "Auch bei Python werden Zeilenumbrüche nur in gewissen Fällen als Zeichen angezeigt, wie wir gleich sehen werden. Damit arbeiten können wir aber in jedem Fall, also auch wenn Zeilenumbrüche als Zeichen bei einer Ausgabe mal nicht angezeigt werden.\n",
    "\n",
    "Das wollen wir jetzt ausprobieren. Dazu lesen wir den im Screenshot gezeigten Text sowie den Rest des ersten Aufzugs aus dem Trauerspiel in Python ein. Die Datei befindet sich im Ordner \"3_Dateien/Miss_Sara_Sampson\". Die simpelste Methode zum Einlesen einer Datei heißt, wie oben erwähnt, ```read```:"
   ]
  },
  {
   "cell_type": "code",
   "execution_count": 4,
   "id": "317f0bb6-4be5-4172-b878-f780f1e05d47",
   "metadata": {},
   "outputs": [
    {
     "name": "stdout",
     "output_type": "stream",
     "text": [
      "Erster Aufzug\n",
      "\n",
      "Erster Auftritt\n",
      "\n",
      "Der Schauplatz ist ein Saal im Gasthofe.\n",
      "\n",
      "Sir William Sampson und Waitwell treten in Reisekleidern herein.\n",
      "\n",
      "Sir William. Hier meine Tochter? Hier in diesem elenden Wirt \n",
      "\n",
      "26960\n"
     ]
    }
   ],
   "source": [
    "#Um in den Ordner \"3_Dateien\" zu gelangen, navigieren wir mit \"../\" erst eine Ordnerebene nach oben\n",
    "with open(\"../3_Dateien/Miss_Sara_Sampson/Miss_Sara_Sampson_Aufzug_1.txt\", encoding=\"utf-8\") as read_file:\n",
    "    miss_sara_sampson = read_file.read()\n",
    "    \n",
    "print(miss_sara_sampson[0:200], \"\\n\")\n",
    "\n",
    "\"\"\"Tipp: Im Output hier werden Zeilenumbrüche nicht als Zeichen angezeigt; \n",
    "will man dies forcieren, kann man die 'repr'-Funktion verwenden.\"\"\"\n",
    "#print(repr(miss_sara_sampson[0:200]))\n",
    "\n",
    "print(len(miss_sara_sampson))"
   ]
  },
  {
   "cell_type": "markdown",
   "id": "01370232-940d-45a7-977e-105e3ec2d562",
   "metadata": {
    "deletable": false,
    "editable": false
   },
   "source": [
    "Bei ```read``` wird die gesamte Textdatei in einen einzigen langen string überführt. Da der erste Aufzug recht umfangreich ist (26960 Zeichen), geben wir hier mithilfe von Slicing nur die ersten 200 Zeichen aus. Indem Du die eckigen Klammern entfernst, kannst Du Dir den gesamten ersten Aufzug zu Gemüte führen (das ist nicht nötig, aber fürs weitere Verständnis lohnt es sich, ihn zumindest zu überfliegen).\n",
    "\n",
    "Natürlich wollen wir den Text nicht nur lesen. Dafür hätten wir ein beliebiges Textverarbeitungsprogramm verwenden und uns das Programmieren sparen können. Programmieren bringt erst dann einen Vorteil, wenn wir es mit sinnvoll strukturierten Daten zu tun haben (dieses Merkmal ist hier ja u.&nbsp;a. durch die Zeilenumbrüche gegeben) und wir uns diese Strukturiertheit bei der Verarbeitung und Auswertung der Daten zunutze machen können. \n",
    "\n",
    "Machen wir es konkret und stellen uns vor, wir würden gerne sämtliche Redebeiträge der Protagonistin Sara extrahieren. Wie bereits erwähnt, entspricht jeder Redebeitrag einer Zeile. Es macht in einem ersten Schritt also Sinn, dass wir das strukturelle Merkmal der Zeilenumbrüche ausnutzen und den Text in Zeilen (und damit in Redebeiträge) unterteilen. Dazu könnten wir ```split(\"\\n\")``` auf ```miss_sara_sampson``` anwenden. Es gibt aber genau dafür auch eine eigene Lesemethode:"
   ]
  },
  {
   "cell_type": "code",
   "execution_count": 5,
   "id": "ec4221d7-8d74-4851-adad-16cef180369b",
   "metadata": {},
   "outputs": [
    {
     "name": "stdout",
     "output_type": "stream",
     "text": [
      "['Erster Aufzug\\n', '\\n', 'Erster Auftritt\\n', '\\n', 'Der Schauplatz ist ein Saal im Gasthofe.\\n']\n"
     ]
    }
   ],
   "source": [
    "with open(\"../3_Dateien/Miss_Sara_Sampson/Miss_Sara_Sampson_Aufzug_1.txt\", encoding=\"utf-8\") as read_file:\n",
    "    miss_sara_sampson = read_file.readlines()\n",
    "\n",
    "print(miss_sara_sampson[0:5])"
   ]
  },
  {
   "cell_type": "markdown",
   "id": "dc2da647-e8ed-411c-83b1-5ea860709a3d",
   "metadata": {
    "deletable": false,
    "editable": false
   },
   "source": [
    "Mit ```readlines``` werden die einzelnen Zeilen einer Textdatei als string-Elemente in eine Liste aufgenommen. Über den ```print```-Befehl lassen wir uns die ersten fünf Elemente, also die ersten fünf Zeilen, ausgeben. Wir sehen, dass einige Zeilen nur aus einem ```\"\\n\"``` bestehen (natürlich zeigten sich diese leeren Zeilen auch schon bei der vorherigen Ausgabe). Diese leeren Zeilen können wir mithilfe der (bisher uneingeführten) string-Methode ```isspace``` entfernen:"
   ]
  },
  {
   "cell_type": "code",
   "execution_count": 6,
   "id": "70b0fcca-e468-40a7-b853-3d027c095993",
   "metadata": {},
   "outputs": [
    {
     "name": "stdout",
     "output_type": "stream",
     "text": [
      "['Erster Aufzug\\n', 'Erster Auftritt\\n', 'Der Schauplatz ist ein Saal im Gasthofe.\\n', 'Sir William Sampson und Waitwell treten in Reisekleidern herein.\\n', 'Sir William. Hier meine Tochter? Hier in diesem elenden Wirtshause?\\n']\n"
     ]
    }
   ],
   "source": [
    "#Wir iterieren über alle Elemente in 'miss_sara_sampson'.\n",
    "for line in miss_sara_sampson:\n",
    "    \n",
    "    #Wenn das Element nur (!) aus whitespace-Zeichen (und dazu gehören Zeilenumbrüche) besteht...\n",
    "    if line.isspace():\n",
    "        \n",
    "        #...dann entfernen wir das betreffende Element aus der Liste.\n",
    "        miss_sara_sampson.remove(line)\n",
    "        \n",
    "print(miss_sara_sampson[0:5])"
   ]
  },
  {
   "cell_type": "markdown",
   "id": "5559280a-b5bd-4741-bcc7-e2604350135e",
   "metadata": {
    "deletable": false,
    "editable": false
   },
   "source": [
    "Hat geklappt! \n",
    "\n",
    "Wir sehen auch, dass jeder string noch mit einem kodierten Zeilenumbruch endet. Dies ist überflüssig, da die Struktur, die im Fließtext durch die Zeilenumbrüche entstand, bereits in Form der Elemente auf der Liste widergespiegelt wird. Die kodierten Zeilenumbrüche können wir so entfernen:"
   ]
  },
  {
   "cell_type": "code",
   "execution_count": 7,
   "id": "676ae205-2c22-4c18-8ba3-676cd4a3d736",
   "metadata": {},
   "outputs": [
    {
     "name": "stdout",
     "output_type": "stream",
     "text": [
      "['Erster Aufzug', 'Erster Auftritt', 'Der Schauplatz ist ein Saal im Gasthofe.', 'Sir William Sampson und Waitwell treten in Reisekleidern herein.', 'Sir William. Hier meine Tochter? Hier in diesem elenden Wirtshause?']\n"
     ]
    }
   ],
   "source": [
    "preprocessed = []\n",
    "\n",
    "for line in miss_sara_sampson:\n",
    "    #Hier entfernen wir sämtliche whitespace-Zeichen am rechten Rand (trailing whitespace) und hängen das Resultat 'preprocessed' an.\n",
    "    preprocessed.append(line.rstrip())\n",
    "\n",
    "print(preprocessed[0:5])"
   ]
  },
  {
   "cell_type": "markdown",
   "id": "ea00ab6c-e8d3-487f-a269-ceb1c637b3bd",
   "metadata": {
    "deletable": false,
    "editable": false
   },
   "source": [
    "Klappt ebenfalls.\n",
    "\n",
    "Zeilenumbrüche (sowie sonstige whitespace-Zeichen) am rechten Rand können aber bereits beim Einlesen einer Textdatei entfernt werden. Dabei muss noch nicht einmal eine Lesemethode verwendet werden. Zwar können wir uns die geöffnete Datei ```read_file``` nicht direkt als Zeichenkette ausgeben lassen (dafür brauchen wir die Lesemethoden ```read``` oder ```readlines```; überzeug Dich selbst davon, indem Du versuchst, ```read_file``` auszugeben), aber es ist praktischerweise möglich, über ```read_file``` zu iterieren. Die einzelnen Elemente entsprechen ganz einfach den Zeilen:"
   ]
  },
  {
   "cell_type": "code",
   "execution_count": 8,
   "id": "d2d9b986-8563-4f37-a20f-dd1f73d04ae3",
   "metadata": {},
   "outputs": [
    {
     "name": "stdout",
     "output_type": "stream",
     "text": [
      "Sir William Sampson und Waitwell treten in Reisekleidern herein.\n",
      "Sir William. Hier meine Tochter? Hier in diesem elenden Wirtshause?\n",
      "Waitwell. Ohne Zweifel hat Mellefont mit Fleiß das allerelendeste im ganzen Städtchen zu seinem Aufenthalte gewählt. Böse Leute suchen immer das Dunkle, weil sie böse Leute sind. Aber was hilft es ihnen, wenn sie sich auch vor der ganzen Welt verbergen könnten? Das Gewissen ist doch mehr als eine ganze uns verklagende Welt. – Ach, Sie weinen schon wieder, schon wieder, Sir! – Sir!\n",
      "Sir William. Laß mich weinen, alter ehrlicher Diener. Oder verdient sie etwa meine Tränen nicht?\n",
      "Waitwell. Ach! sie verdient sie, und wenn es blutige Tränen wären.\n"
     ]
    }
   ],
   "source": [
    "#Dieser Code erledigt alle Schritte von oben auf einmal.\n",
    "\n",
    "with open(\"../3_Dateien/Miss_Sara_Sampson/Miss_Sara_Sampson_Aufzug_1.txt\", encoding=\"utf-8\") as read_file:\n",
    "    miss_sara_sampson = []\n",
    "    for line in read_file:\n",
    "        if line.isspace():\n",
    "            continue\n",
    "        miss_sara_sampson.append(line.rstrip())\n",
    "\n",
    "    #Hier sparen wir uns noch mehr Zeilen mithilfe einer List Comprehension.\n",
    "    #miss_sara_sampson = [line.rstrip() for line in read_file if not line.isspace()]\n",
    "\n",
    "for i in range(3,8):\n",
    "    print(miss_sara_sampson[i])"
   ]
  },
  {
   "cell_type": "markdown",
   "id": "f4cea12b-8aa4-4380-b8e1-38d01859501f",
   "metadata": {
    "deletable": false,
    "editable": false
   },
   "source": [
    "Hier überprüfen wir erst, ob die Zeile nur aus whitespace besteht, und wenn ja, dann überspringen wir sie (```continue```). Andernfalls hängen wir die am rechten Rand von whitespace bereinigte Zeile ```miss_sara_sampson``` an. Das Ergebnis ist das gleiche wie oben, nur haben wir uns dabei ein paar Zeilen Code gespart."
   ]
  },
  {
   "cell_type": "markdown",
   "id": "b16e108c-6c0c-4466-a84c-8d99f7f21aae",
   "metadata": {
    "deletable": false,
    "editable": false
   },
   "source": [
    "***\n",
    "\n",
    "✏️ **Übung 3:** Lies den ersten Aufzug aus Lessings [*Nathan der Weise*](https://www.projekt-gutenberg.org/lessing/nathan/chap002.html) ein. Die Datei befindet sich im Unterverzeichnis \"Nathan_der_Weise\" im Dateienordner. Find heraus, welche der Figuren des Stücks (bereitgestellt in ```characters```) am häufigsten erwähnt wird (wir unterscheiden nicht zwischen Erwähnungen in Redebeiträgen und sonst wo im Text, z.&nbsp;B. in der Sprecherkennzeichung).\n",
    "\n",
    "Um Deine Fertigkeiten aus dem Notebook \"Funktionen und Methoden Teil 1\" gleich wieder einzusetzen, kannst Du dazu eine sortierte Frequenzliste mit allen Figuren und ihren jeweiligen Erwähnungshäufigkeiten erstellen.\n",
    "\n",
    "<details>\n",
    "  <summary>💡 Tipp </summary>\n",
    "    <br>Zum Auszählen der Häufigkeiten kannst Du eine bereits aus dem Notebook \"Funktionen und Methoden Teil 1\" bekannte string-Methode nutzen.\n",
    "</details>\n"
   ]
  },
  {
   "cell_type": "code",
   "execution_count": 9,
   "id": "5f9767cb-1872-470b-b6fc-a159c1d63e88",
   "metadata": {},
   "outputs": [],
   "source": [
    "#In diese Zelle kannst Du den Code zur Übung schreiben.\n",
    "\n",
    "characters = [\"Sultan Saladin\", \"Sittah\", \"Nathan\", \"Recha\", \"Daja\", \"Tempelherr\", \"Derwisch\", \"Patriarch von Jerusalem\", \"Klosterbruder\", \"Emir\"] \n",
    "\n"
   ]
  },
  {
   "cell_type": "markdown",
   "id": "9df5068f-3f0d-458d-bec4-7b71c8cb8b94",
   "metadata": {
    "deletable": false,
    "editable": false
   },
   "source": [
    "***"
   ]
  },
  {
   "cell_type": "markdown",
   "id": "53cd988a-3081-4fdd-9c80-d72818475d93",
   "metadata": {
    "deletable": false,
    "editable": false
   },
   "source": [
    "Die Antwort ist natürlich keine große Überraschung. 🙈 \n",
    "\n",
    "Zurück zu ```miss_sara_sampson```, das ja mittlerweile eine Liste mit von trailing whitespace befreiten Zeilen darstellt. Die Liste enthält neben Redebeiträgen auch noch Metakommentare wie *Sir William Sampson und Waitwell treten in Reisekleidern herein.* (Index ```3```). \n",
    "\n",
    "Um nun Saras Redebeiträge zu extrahieren, können wir uns den strukturellen Umstand zunutze machen, dass am Anfang aller Redebeiträge der Name der Figur gefolgt von einem Punkt steht:"
   ]
  },
  {
   "cell_type": "code",
   "execution_count": 10,
   "id": "2399a820-4185-4feb-ba35-a60f9df3aa88",
   "metadata": {},
   "outputs": [
    {
     "name": "stdout",
     "output_type": "stream",
     "text": [
      "Sara. Meiner Tugend? Nennen Sie mir dieses Wort nicht! – Sonst klang es mir süße, aber itzt schallt mir ein schrecklicher Donner darin! \n",
      "\n",
      "Sara. Mit den Augen der Liebe, Mellefont. \n",
      "\n",
      "Sara. Einige Tage! Wie ist ein Tag schon so lang! \n",
      "\n",
      "Sara. Mit der es Ihnen zuletzt doch wohl noch fehlschlägt. \n",
      "\n",
      "Sara. Diese sollen die Zeugen unserer Verbindung sein? – Grausamer! so soll diese Verbindung nicht in meinem Vaterlande geschehen? So soll ich mein Vaterland als eine Verbrecherin verlassen? Und als eine solche, glauben Sie, würde ich Mut genug haben, mich der See zu vertrauen? Dessen Herz muß ruhiger oder muß ruchloser sein als meines, welcher nur einen Augenblick zwischen sich und dem Verderben mit Gleichgültigkeit nichts als ein schwankendes Brett sehen kann. In jeder Welle, die an unser Schiff schlüge, würde mir der Tod entgegenrauschen; jeder Wind würde mir von den väterlichen Küsten Verwünschungen nachbrausen, und der kleinste Sturm würde mich ein Blutgericht über mein Haupt zu sein dünken. – Nein, Mellefont, so ein Barbar können Sie gegen mich nicht sein. Wenn ich noch das Ende Ihres Vergleichs erlebe, so muß es Ihnen auf einen Tag nicht ankommen, den wir hier länger zubringen. Es muß dieses der Tag sein, an dem Sie mich die Martern aller hier verweinten Tage vergessen lehren. Es muß dieses der heilige Tag sein – Ach! welcher wird es denn endlich sein? \n",
      "\n",
      "22\n"
     ]
    }
   ],
   "source": [
    "saras_turns = []\n",
    "\n",
    "for turn in miss_sara_sampson:\n",
    "    if turn.startswith(\"Sara.\"): \n",
    "        saras_turns.append(turn)\n",
    "\n",
    "#Als List Comprehension\n",
    "#saras_turns = [turn for turn in miss_sara_sampson if turn.startswith(\"Sara.\")]\n",
    "\n",
    "#Hier geben wir zur Überprüfung die Redebeiträge mit Indizes 10, 11, 12, 13, 14 aus\n",
    "for i in range(10,15):\n",
    "    print(saras_turns[i], \"\\n\")\n",
    "\n",
    "print(len(saras_turns))"
   ]
  },
  {
   "cell_type": "markdown",
   "id": "8bdb41e7-74fe-4a5c-8594-60f45cf7ea0f",
   "metadata": {
    "deletable": false,
    "editable": false
   },
   "source": [
    "```startswith``` tut ganz klar seinen Dienst. \n",
    "\n",
    "### Exkurs: Die Wahrheitsmatrix\n",
    "\n",
    "An dieser Stelle lohnt sich nochmal ein Blick in ```miss_sara_sampson```, zur Vergewisserung, dass wir mit obiger Bedingung auch wirklich alle Redebeiträge von Sara extrahiert haben. Es könnte ja z.&nbsp;B. sein, dass ihr Name vor einem Redebeitrag aus welchem Grund auch immer kleingeschrieben ist (\"sara.\") oder aber, dass zwischen ihrem Namen und dem Punkt eine Klammer mit Metakommentaren steht. \n",
    "\n",
    "Und tatsächlich – ein Redebeitrag beginnt so: \"Sara (sie setzt sich).\" (Index ```71``` in ```miss_sara_sampson```). Nach eingehender Prüfung wissen wir, dass dies auch der einzige Redebeitrag ist, der nicht von ```turn.startswith(\"Sara.\")``` \"eingefangen\" wird. Wir könnten nun etwas unelegant die zusätzliche Bedingung ```or turn.startswith(\"Sara (sie setzt sich).\")``` aufstellen. \n",
    "\n",
    "Um sicherzustellen, dass der Code wiederverwendbar ist (z.&nbsp;B. beim zweiten Aufzug), wählen wir den eleganteren Weg der regulären Ausdrücke (engl.: *regular expressions*, abgekürzt: *RegEx*). Reguläre Ausdrücke sind ein äußerst praktisches Werkzeug, das wir uns im Notebook \"Reguläre Ausdrücke\" im Detail anschauen. Kurz gesagt: Wir definieren hier *einen* regulären Ausdruck (```pattern```), der sowohl Redebeiträge mit als auch solche ohne Metakommentar abdeckt. Lässt sich der definierte reguläre Ausdruck wie eine Schablone über den Anfang eines Elements in  ```miss_sara_sampson``` legen, dann haben wir einen sog. *match* und wir hängen das Element an ```saras_turns``` an. Wie wir sehen, erhalten wir dadurch 23 statt bisher 22 Redebeiträge zurück:"
   ]
  },
  {
   "cell_type": "code",
   "execution_count": 11,
   "id": "6b83780f-549b-4339-9a40-2452d789f4f3",
   "metadata": {},
   "outputs": [
    {
     "name": "stdout",
     "output_type": "stream",
     "text": [
      "Sara. Mellefont. Norton. \n",
      "\n",
      "Sara. Ach, Mellefont, wenn es nichts als eine unruhige Nacht wäre – – \n",
      "\n",
      "Sara. Mellefont. \n",
      "\n",
      "Sara (sie setzt sich). Ich beunruhige Sie sehr früh; und werden Sie mir es vergeben, daß ich meine Klagen wieder mit dem Morgen anfange? \n",
      "\n",
      "Sara. Was sollte ich Ihnen nicht vergeben? Sie wissen, was ich Ihnen bereits vergeben habe. Aber die neunte Woche, Mellefont, die neunte Woche fängt heute an, und dieses elende Haus sieht mich noch immer auf eben dem Fuße als den ersten Tag. \n",
      "\n",
      "23\n"
     ]
    }
   ],
   "source": [
    "import re\n",
    "\n",
    "saras_turns = []\n",
    "\n",
    "#Sieht kryptisch aus 🤯 und Du musst diesen regulären Ausdruck im Moment noch nicht nachvollziehen können.\n",
    "pattern = r\"Sara(\\(\\s\\S*\\))?.\"\n",
    "\n",
    "for turn in miss_sara_sampson:\n",
    "    if re.match(pattern, turn):\n",
    "        saras_turns.append(turn)\n",
    "        \n",
    "for i in range(5):\n",
    "    print(saras_turns[i], \"\\n\")\n",
    "\n",
    "print(len(saras_turns))"
   ]
  },
  {
   "cell_type": "markdown",
   "id": "1e5a3753-0939-4842-9b5a-766a4b7b324c",
   "metadata": {
    "deletable": false,
    "editable": false
   },
   "source": [
    "Das Überprüfen, ob wir mit der aufgestellten Bedingung auch wirklich alle wahren Redebeiträge von Sara abdecken, ist ein sehr wichtiger Schritt. Konkret verhindern wir dadurch sog. *false negatives* im Sinne einer [Wahrheitsmatrix](https://de.wikipedia.org/wiki/Beurteilung_eines_binären_Klassifikators#Wahrheitsmatrix:_Richtige_und_falsche_Klassifikationen):\n",
    "\n",
    "|              | ein Redebeitrag von Sara                 | kein Redebeitrag von Sara                |\n",
    "|--------------|------------------------------------------|------------------------------------------|\n",
    "| Test positiv | <font color=green>*true positive*</font> | <font color=red>*false positive*</font>  |\n",
    "| Test negativ | <font color=red>*false negative*</font>  | <font color=green>*true negative*</font> | \n",
    "\n",
    "*False negatives* sind Fälle, die in Wahrheit Redebeiträge von Sara sind, die aber fälschlicherweise nicht als solche erkannt wurden. Mit anderen Worten: Der Test (die Bedingung, die wir aufgestellt haben) fiel negativ aus (die Bedingung ergab ```False```), aber dieses Testresultat ist falsch. *True*/*False* bezieht sich bei allen vier Begriffspaaren jeweils auf die Richtigkeit des Testresultats und *positive*/*negative* auf das gefällte Testresultat.\n",
    "\n",
    "Konsequenterweise müssen wir umgekehrt sicherstellen, dass wir mit der aufgestellten Bedingung nicht übers Ziel hinaus schießen und *false positives* \"einfangen\", also Redebeiträge, die nicht von Sara sind, aber fälschlicherweise als solche erkannt wurden. Tatsächlich sind das erste und dritte Element in ```saras_turns``` (Indizes ```0``` und ```2```) keine Redebeiträge von Sara, sondern bloß Metakommentare:"
   ]
  },
  {
   "cell_type": "code",
   "execution_count": 12,
   "id": "ff45b693-1ead-4857-acd3-d403112a8e48",
   "metadata": {},
   "outputs": [
    {
     "name": "stdout",
     "output_type": "stream",
     "text": [
      "['Sara. Mellefont. Norton.', 'Sara. Mellefont.']\n"
     ]
    }
   ],
   "source": [
    "#Dies sind die beiden \"false positives\".\n",
    "print(saras_turns[0:3:2])"
   ]
  },
  {
   "cell_type": "markdown",
   "id": "fd02a6ca-1e81-4ea1-9f92-75025925b0af",
   "metadata": {
    "deletable": false,
    "editable": false
   },
   "source": [
    "Ein Blick auf alle Elemente in ```saras_turns``` verrät, dass diese die einzigen beiden *false positives* sind.\n",
    "\n",
    "Wir müssen also eine zweite Bedingung aufstellen, um diese beiden Fälle auszuschließen. Sie haben gemeinsam, dass nach \"Sara.\" \"Mellefont.\" steht. Bevor wir eine entsprechende Ausschlussbedingung aufstellen, müssen wir überprüfen, ob dies nicht auch auf wahre Redebeiträge (*true positives*) zutrifft (es ist ja denkbar, dass Sara einen Beitrag mit \"Mellefont.\" anfängt). Dies ist aber nicht der Fall.\n",
    "\n",
    "Die zweite Bedingung stellen wir so auf: Das zweite Wort (Index ```1```) auf einer Liste mit allen Wörtern im jeweiligen ```turn``` (die Wörterliste erhalten wir mittels ```split```) darf nicht (```!=```, vgl. Vergleichsoperatoren) \"Mellefont.\" sein. Wenn dies wahr ist, und die erste Bedingung ebenfalls (```and```), dann hängen wir den ```turn``` an ```saras_turns``` an."
   ]
  },
  {
   "cell_type": "code",
   "execution_count": 13,
   "id": "cb57af0d-6e40-437e-a4f2-d0bd0382528a",
   "metadata": {},
   "outputs": [
    {
     "name": "stdout",
     "output_type": "stream",
     "text": [
      "21\n"
     ]
    }
   ],
   "source": [
    "saras_turns = []\n",
    "\n",
    "pattern = r\"Sara( \\S*)?.\"\n",
    "\n",
    "for turn in miss_sara_sampson:\n",
    "    if re.match(pattern, turn) and turn.split()[1] != \"Mellefont.\":\n",
    "        saras_turns.append(turn)\n",
    "\n",
    "print(len(saras_turns))\n",
    "\n",
    "#for turn in saras_turns:\n",
    "    #print(turn, \"\\n\")"
   ]
  },
  {
   "cell_type": "markdown",
   "id": "f3e8de87-3fdf-4e7e-9219-773b7b85d603",
   "metadata": {
    "deletable": false,
    "editable": false
   },
   "source": [
    "Eine letzte Überprüfung zeigt, dass wir damit wirklich alle wahren Redebeiträge von Sara (alle *true positives*) extrahiert haben (um das Bild zu vervollständigen: Alle nicht extrahierten Elemente sind die *true negatives*). \n",
    "\n",
    "Dieses Beispiel lehrt uns, dass wir iterativ vorgehen müssen, wenn wir mit strukturellen Merkmalen arbeiten. Selten denken wir von Anfang an an alle Ausnahmen, die beachtet werden müssen, um wirklich das gewünschte Ergebnis zu errechnen. \n",
    "\n",
    "Übrigens haben wir für die letzte Bedingung keine besonders elegante Lösung gewählt. Sie schließt nur spezifisch Mellefont aus und keine weiteren Figuren. Gleichzeitig deckt sie wie gesagt theoretisch auch Fälle ab, wo \"Mellefont.\" das erste Wort eines Redebeitrags von Sara ist. Während wir es bei der ersten zusätzlichen Bedingung noch mit einfacher fassbaren strukturellen Merkmalen (nämlich den optionalen Metakommentaren in **Klammern**) zu tun hatten, zeigen sich hier die Grenzen von Datenfilterung basierend auf strukturellen Merkmalen. Denn \"Mellefont.\" besteht strukturell aus Buchstaben und einem Punkt, wie sie auch in wahren Redebeiträgen von Sara vorkommen. Neben der iterativen Herangehensweise sind in solchen Fällen also auch sehr spezifische und vermeintlich unelegante Bedingungen in Ordnung."
   ]
  },
  {
   "cell_type": "markdown",
   "id": "d9588b68-890f-48fa-8d05-2e52af57f6f3",
   "metadata": {
    "deletable": false,
    "editable": false
   },
   "source": [
    "***\n",
    "\n",
    "✏️ **Übung 4:** Im Gegensatz zu *Miss Sara Sampson* ist *Nathan der Weise* etwas anders formatiert, z.&nbsp;B. verteilen sich Redebeiträge z.&nbsp;T. über mehrere Zeilen. \n",
    "\n",
    "Lies den ersten Aufzug aus *Nathan der Weise* abermals ein. Schau Dir die Formatierung des Textes genau an, um ein strukturelles Merkmal zu finden, anhand dessen Du eine Liste mit zusammengehörigen Redebeiträgen und Metakommentaren erstellen kannst. Ein über mehrere Zeilen verteilter Redebeitrag oder Metakommentar soll jeweils in ein Element einfließen. \n",
    "\n",
    "Bereinige anschließend die Liste von allem, was keinen Redebeitrag darstellt. Auch hierfür musst Du Dir die Liste gut anschauen, um ein strukturelles Merkmal zu identifizieren, anhand dessen Du die \"Spreu vom Weizen\" trennen kannst. Sollte sich ein Metakommentar innerhalb eines Redebeitrags befinden, kannst Du dies ignorieren. Stell durch einen iterativen Ansatz sicher, dass Du am Ende wirklich alle Redebeiträge und nur Redebeiträge auf der Liste hast (also die *true positives*).\n",
    "\n",
    "Dir steht wiederum eine Liste mit Figuren zur Verfügung.\n",
    "\n",
    "<details>\n",
    "  <summary>💡 Tipp </summary>\n",
    "    <br>Um die Redebeiträge zu extrahieren, kann Dir u. a. die Methode <code>startswith</code> helfen.\n",
    "</details>"
   ]
  },
  {
   "cell_type": "code",
   "execution_count": 14,
   "id": "6ff140ad-872a-42ca-90a4-eed11ef959b1",
   "metadata": {},
   "outputs": [],
   "source": [
    "#In diese Zelle kannst Du den Code zur Übung schreiben.\n",
    "\n",
    "characters = [\"Sultan Saladin\", \"Sittah\", \"Nathan\", \"Recha\", \"Daja\", \"Tempelherr\", \"Derwisch\", \"Patriarch von Jerusalem\", \"Klosterbruder\", \"Emir\"] \n",
    "\n"
   ]
  },
  {
   "cell_type": "markdown",
   "id": "0f0dfaa9-6bbb-4141-9441-ca109378f05c",
   "metadata": {
    "deletable": false,
    "editable": false
   },
   "source": [
    "***"
   ]
  },
  {
   "cell_type": "markdown",
   "id": "a18f7dd8-fd34-4322-939f-af80e62fdda6",
   "metadata": {
    "deletable": false,
    "editable": false
   },
   "source": [
    "Nun haben wir verschiedene Techniken zum Einlesen von Textdateien kennengelernt. Hier folgt eine kurze Zusammenfassung, wann Du welche Technik anwenden kannst:\n",
    "\n",
    "- ```read``` überführt die gesamte Datei in einen einzigen string.\n",
    "- ```readlines``` überführt die einzelnen Zeilen der Datei in Elemente auf einer Liste.\n",
    "- ```for line in read_file``` iteriert über die geöffnete Datei (ohne jegliche Lesemethode), wobei ```line``` einer Zeile in der Datei entspricht.\n",
    "- ```strip``` (meistens spezifisch ```rstrip```) entfernt (trailing) whitespace, insbesondere Zeilenumbrüche.\n",
    "- ```isspace``` in einem ```if```-Statement mit ```continue``` überspringt leere Zeilen.\n",
    "\n",
    "Schauen wir uns nun an, wie wir Text in eine Datei schreiben können. Wir arbeiten dafür mit dem Ergebnis der letzten Übung, also mit der Liste an Redebeiträgen im ersten Aufzug von *Nathan der Weise*, weiter. Damit wir auf dem gleichen Stand sind, steht in der nächsten Zelle eine mögliche Lösung der Aufgabe. Wenn Du sie ausführst, siehst Du bereits anhand der ersten fünf Redebeiträge, dass diese *in sich* unterschiedlich formatiert sind. Zum Teil folgt auf den Figurennamen nach dem Punkt ein Zeilenumbruch, zum Teil mehrere Leerschläge."
   ]
  },
  {
   "cell_type": "code",
   "execution_count": 15,
   "id": "bce16b42-5e18-4c2e-93b6-b87f6509fc71",
   "metadata": {},
   "outputs": [
    {
     "name": "stdout",
     "output_type": "stream",
     "text": [
      "Daja. \n",
      "Er ist es! Nathan! – Gott sei ewig Dank, \n",
      "Daß Ihr doch endlich einmal wiederkommt. \n",
      "\n",
      "Nathan. \n",
      "Ja, Daja; Gott sei Dank! Doch warum endlich? \n",
      "Hab ich denn eher wiederkommen wollen? \n",
      "Und wiederkommen können? Babylon \n",
      "Ist von Jerusalem, wie ich den Weg, \n",
      "Seitab bald rechts, bald links, zu nehmen bin \n",
      "Genötigt worden, gut zweihundert Meilen; \n",
      "Und Schulden einkassieren, ist gewiß \n",
      "Auch kein Geschäft, das merklich födert, das \n",
      "So von der Hand sich schlagen läßt. \n",
      "\n",
      "Daja.       O Nathan, \n",
      "Wie elend, elend hättet Ihr indes \n",
      "Hier werden können! Euer Haus ... \n",
      "\n",
      "Nathan.       Das brannte. \n",
      "So hab ich schon vernommen. – Gebe Gott, \n",
      "Daß ich nur alles schon vernommen habe! \n",
      "\n",
      "Daja. \n",
      "Und wäre leicht von Grund aus abgebrannt. \n",
      "\n"
     ]
    }
   ],
   "source": [
    "characters = [\"Sultan Saladin\", \"Sittah\", \"Nathan\", \"Recha\", \"Daja\", \"Tempelherr\", \"Derwisch\", \"Patriarch von Jerusalem\", \"Klosterbruder\", \"Emir\"] \n",
    "\n",
    "with open(\"../3_Dateien/Nathan_der_Weise/Nathan_der_Weise_Aufzug_1.txt\", encoding=\"utf-8\") as read_file:\n",
    "    nathan_der_weise = read_file.read()\n",
    "\n",
    "belongs_together = nathan_der_weise.split(\"\\n\\n\")\n",
    "\n",
    "actual_turns = []\n",
    "\n",
    "for element in belongs_together:\n",
    "    for character in characters:\n",
    "        if element.startswith(character + \".\"):\n",
    "            actual_turns.append(element)\n",
    "\n",
    "for i in range(5):\n",
    "    print(actual_turns[i], \"\\n\")"
   ]
  },
  {
   "cell_type": "markdown",
   "id": "7ad27357-9d72-48cc-bb03-34214344e191",
   "metadata": {
    "deletable": false,
    "editable": false
   },
   "source": [
    "Unser Ziel ist es, die Redebeiträge in einheitlicher Formatierung in eine externe Datei zu schreiben. Der folgende Code übernimmt die einheitliche Formatierung. Lies die Kommentare aufmerksam, um den Code nachzuvollziehen. "
   ]
  },
  {
   "cell_type": "code",
   "execution_count": 16,
   "id": "53c37e6e-765d-44ba-b787-a2371b785a36",
   "metadata": {},
   "outputs": [
    {
     "name": "stdout",
     "output_type": "stream",
     "text": [
      "Daja:\n",
      "Er ist es! Nathan! – Gott sei ewig Dank, \n",
      "Daß Ihr doch endlich einmal wiederkommt. \n",
      "\n",
      "Nathan:\n",
      "Ja, Daja; Gott sei Dank! Doch warum endlich? \n",
      "Hab ich denn eher wiederkommen wollen? \n",
      "Und wiederkommen können? Babylon \n",
      "Ist von Jerusalem, wie ich den Weg, \n",
      "Seitab bald rechts, bald links, zu nehmen bin \n",
      "Genötigt worden, gut zweihundert Meilen; \n",
      "Und Schulden einkassieren, ist gewiß \n",
      "Auch kein Geschäft, das merklich födert, das \n",
      "So von der Hand sich schlagen läßt. \n",
      "\n",
      "Daja:\n",
      "O Nathan, \n",
      "Wie elend, elend hättet Ihr indes \n",
      "Hier werden können! Euer Haus ... \n",
      "\n",
      "Nathan:\n",
      "Das brannte. \n",
      "So hab ich schon vernommen. – Gebe Gott, \n",
      "Daß ich nur alles schon vernommen habe! \n",
      "\n",
      "Daja:\n",
      "Und wäre leicht von Grund aus abgebrannt. \n",
      "\n"
     ]
    }
   ],
   "source": [
    "#Am Ende hängen wir die vereinheitlichten Redebeiträge an diese Liste an.\n",
    "standardized_turns = []\n",
    "\n",
    "#Wir iterieren über die einzelnen Redebeiträge in 'actual_turns'.\n",
    "for turn in actual_turns:\n",
    "    \n",
    "    \"\"\"Als Nächstes splitten wir den 'turn' ein einziges Mal beim ersten Punkt, der ja auf den \n",
    "    Figurennamen folgt (damit wir nur einmal splitten und nicht bei jedem Punkt, setzen wir den\n",
    "    optionalen Parameter 'maxsplit' auf 1). Dadurch entsteht eine Liste, wobei das erste Element \n",
    "    (mit Index 0) der Figurenname ist. Diesen weisen wir 'turn_speaker' zu.\"\"\"\n",
    "    turn_speaker = turn.split(\".\", maxsplit=1)[0]\n",
    "    \n",
    "    #Das zweite Element (mit Index 1) ist ja der eigentliche Redebeitrag, wir weisen ihn 'turn_words' zu.\n",
    "    turn_words = turn.split(\".\", maxsplit=1)[1]\n",
    "    \n",
    "    \"\"\"Genau dieser Redebeitrag enthält nun leading whitespace (was sowohl Zeilenumbrüche als auch \n",
    "    Leerschläge umfasst). Wir entfernen diese und weisen das Resultat 'turn_words_stripped' zu.\"\"\"\n",
    "    turn_words_stripped = turn_words.lstrip()\n",
    "    \n",
    "    #Nun konkatenieren wir einheitlich Figurenname und Redebeitrag mit einem Doppelpunkt und Zeilenumbruch dazwischen.\n",
    "    standardized_turn = turn_speaker + \":\\n\" + turn_words_stripped\n",
    "    \n",
    "    \"\"\"Den standardisierten Redebeitrag hängen wir an 'standardized_turns' an.\"\"\"\n",
    "    standardized_turns.append(standardized_turn)\n",
    "    \n",
    "    #Sämtliche Schritte in einem Statement sähe übrigens so aus:\n",
    "    #standardized_turns.append(turn.split(\".\", 1)[0] + \":\\n\" + turn.split(\".\", 1)[1].lstrip())\n",
    "    \n",
    "for i in range(5):\n",
    "    print(standardized_turns[i], \"\\n\")"
   ]
  },
  {
   "cell_type": "markdown",
   "id": "1fbb60b3-2e6b-4651-b6d1-6e94b649223f",
   "metadata": {
    "deletable": false,
    "editable": false
   },
   "source": [
    "Das schaut doch gleich viel besser aus. Zeilenumbrüche innerhalb der Redebeiträge haben wir übrigens unberührt gelassen, schließlich handelt es sich um ein dramatisches Gedicht. \n",
    "\n",
    "Nun wollen wir die Redebeiträge in eine externe Datei schreiben. Wie oben erklärt, öffnen wir dazu die gewünschte Datei im Schreibmodus (```\"w\"```). Da die unten angegebene Datei noch nicht im Verzeichnis existiert, wird sie **automatisch** neu geschaffen. Anschließend iterieren wir über ```standardized_turns``` und schreiben Element für Element (Zeile für Zeile) in die geöffnete Datei (```write```). Wichtig: Die Zeilenumbrüche müssen wir explizit reinschreiben."
   ]
  },
  {
   "cell_type": "code",
   "execution_count": 17,
   "id": "b358465c-84c1-4c5b-86e4-cc1ee6602162",
   "metadata": {},
   "outputs": [],
   "source": [
    "\"\"\"Hier geben wir einerseits den Speicherort an, gleichzeitig geben wir der Datei\n",
    "auch einen Namen; bei Textdateien hängen wir stets '.txt' als Dateisuffix an!\"\"\"\n",
    "with open(\"../3_Dateien/Output/Nathan_der_Weise_Aufzug_1_standardisiert.txt\", \"w\", encoding=\"utf-8\") as write_file:\n",
    "    for element in standardized_turns:\n",
    "        \n",
    "        \"\"\"Da es auch innerhalb der Redebeiträge Zeilenumbrüche gibt, schreiben wir\n",
    "        wie in der ursprünglichen Datei zwei Zeilenumbrüche nach jedem Redebeitrag.\"\"\"\n",
    "        write_file.write(element + \"\\n\\n\") #Konkatenation zu einem string mittels +-Operator, damit ein Argument (also nicht kommasepariert zwei Argumente!)"
   ]
  },
  {
   "cell_type": "markdown",
   "id": "e952f712-0812-4e50-9162-4e911d2f9279",
   "metadata": {
    "deletable": false,
    "editable": false
   },
   "source": [
    "Nun solltest Du die neue Datei im angegebenen Verzeichnis vorfinden. Du kannst sie entweder wieder in Python einlesen, oder mit einem Textverarbeitungsprogramm auf Deinem Computer öffnen.\n",
    "\n",
    "***\n",
    "\n",
    "✏️ **Übung 5:** Bisher haben wir nur mit dem ersten Aufzug aus *Miss Sara Sampson* gearbeitet. Das Trauerspiel besteht aber aus fünf Aufzügen, die sich allesamt im gleichen Verzeichnis wie der erste Aufzug befinden. \n",
    "\n",
    "Öffne eine neue Textdatei mit dem Namen \"Miss_Sara_Sampson_komplett.txt\" im Verzeichnis \"Output\" und schreib alle fünf Aufzüge in der richtigen Reihenfolge in diese Datei.\n",
    "\n",
    "<details>\n",
    "    <summary>💡 Tipp </summary>\n",
    "    <br>Anstatt jede Datei über ihren Pfad einzeln zu öffnen, kannst Du die oben bereits vorgestellte <code>listdir</code>-Funktion des <code>os</code>-Moduls verwenden. Als Argument übergibst Du ihr den Pfad zum betreffenden Verzeichnis. Du kriegst eine Liste mit den darin befindlichen Dateien und Unterverzeichnissen (jeweils als string) zurück. Über diese Liste kannst Du dann wie gewohnt iterieren.\n",
    "</details>"
   ]
  },
  {
   "cell_type": "code",
   "execution_count": 18,
   "id": "afc17700-c23b-4c17-83de-b97aac1904d5",
   "metadata": {},
   "outputs": [],
   "source": [
    "#In diese Zelle kannst Du den Code zur Übung schreiben.\n",
    "\n",
    "\n"
   ]
  },
  {
   "cell_type": "markdown",
   "id": "74bf0c4b-a02d-4c27-8a8d-60dc40bb3794",
   "metadata": {
    "deletable": false,
    "editable": false
   },
   "source": [
    "***\n",
    "Abschließend ein kleiner Ausblick in den Anwendungsfall, den Du im zweiten Teil des Notebooks bearbeiten wirst."
   ]
  },
  {
   "cell_type": "markdown",
   "id": "8c4d1f9d-18ce-4018-8ea9-2eb578da983d",
   "metadata": {
    "deletable": false,
    "editable": false
   },
   "source": [
    "***\n",
    "\n",
    "## 🔧 Anwendungsfall: Einen Gedankenprotokollanten programmieren\n",
    "\n",
    "Wir wollen ein interaktives Programm schreiben, mit dessen Hilfe eine Benutzerin schlaue Gedanken protokollieren kann. Die Benutzerin soll durch das Programm geführt werden und entscheiden können, wo, d.&nbsp;h. in welchem (externen) Dokument, sie ihre Gedanken festhalten will. Sie soll sowohl neue Dokumente anlegen können als auch in bestehende reinschreiben. Anschließend soll sie beliebig viele Gedanken in dieses Dokument einfügen können. Das folgende Video zeigt das fertige Programm \"in Aktion\":"
   ]
  },
  {
   "cell_type": "code",
   "execution_count": 19,
   "id": "57f7b22b-af9e-4844-8f60-668767439f1b",
   "metadata": {},
   "outputs": [
    {
     "data": {
      "image/jpeg": "[encoded data removed]",
      "text/html": [
       "\n",
       "        <iframe\n",
       "            width=\"400\"\n",
       "            height=\"300\"\n",
       "            src=\"https://www.youtube.com/embed/RlshSCCX55E\"\n",
       "            frameborder=\"0\"\n",
       "            allowfullscreen\n",
       "            \n",
       "        ></iframe>\n",
       "        "
      ],
      "text/plain": [
       "<IPython.lib.display.YouTubeVideo at 0x10850e470>"
      ]
     },
     "execution_count": 19,
     "metadata": {},
     "output_type": "execute_result"
    }
   ],
   "source": [
    "#Führ diese Zelle aus, um das Video einzubetten.\n",
    "from IPython.display import YouTubeVideo\n",
    "YouTubeVideo('RlshSCCX55E')"
   ]
  },
  {
   "cell_type": "markdown",
   "id": "34b6cce5-c8f0-481c-bea6-a099bcb97b55",
   "metadata": {
    "deletable": false,
    "editable": false
   },
   "source": [
    "Ohne dieses Programm würde die Benutzerin vermutlich ein Microsoft Word-Dokument öffnen, ihre Gedanken reinschreiben, das Dokument speichern und dann wieder schließen. Das Anlegen/Öffnen/Speichern/Schließen des Dokuments wollen wir ihr abnehmen und ihr stattdessen ermöglichen, ihre Gedanken über eine freundliche, aber sehr minimale Benutzeroberfläche (engl.: *user interface*, abgekürzt: *UI*) zu protokollieren.\n",
    "\n",
    "Überleg bereits an dieser Stelle, wie Du beim Programmieren des Gedankenprotokollanten vorgehen könntest. Nun hast Du aber erst einmal das Ende dieses ersten Teils erreicht. Gute Arbeit bis hierhin!\n",
    "<br><br>"
   ]
  },
  {
   "cell_type": "markdown",
   "id": "6c526d8a-465e-459f-a467-182586a7ef7a",
   "metadata": {
    "deletable": false,
    "editable": false
   },
   "source": [
    "***\n",
    "<table>\n",
    "      <tr>\n",
    "        <td>\n",
    "            <img src=\"../3_Dateien/Lizenz/CC-BY-SA.png\" width=\"400\">\n",
    "        </td> \n",
    "        <td>\n",
    "            <p>Dieses Notebook sowie sämtliche weiteren <a href=\"https://github.com/yannickfrommherz/exdimed-student/tree/main\">Materialien zum Programmierenlernen für Geistes- und Sozialwissenschaftler:innen</a> sind im Rahmen des Projekts <i>Experimentierraum Digitale Medienkompetenz</i> als Teil von <a href=\"https://tu-dresden.de/gsw/virtuos/\">virTUos</a> entstanden. Erstellt wurden sie von Yannick Frommherz unter Mitarbeit von Anne Josephine Matz. Sie stehen als Open Educational Resource nach <a href=\"https://creativecommons.org/licenses/by-sa/4.0/\">CC BY SA</a> zur freien Verfügung. Für Feedback und bei Fragen nutz bitte das <a href=\"https://forms.gle/VsYJgy4bZTSqKioA7\">Kontaktformular</a>.\n",
    "        </td>\n",
    "      </tr>\n",
    "</table>"
   ]
  }
 ],
 "metadata": {
  "kernelspec": {
   "display_name": "Python 3 (ipykernel)",
   "language": "python",
   "name": "python3"
  },
  "language_info": {
   "codemirror_mode": {
    "name": "ipython",
    "version": 3
   },
   "file_extension": ".py",
   "mimetype": "text/x-python",
   "name": "python",
   "nbconvert_exporter": "python",
   "pygments_lexer": "ipython3",
   "version": "3.10.8"
  }
 },
 "nbformat": 4,
 "nbformat_minor": 5
}