{
 "cells": [
  {
   "cell_type": "markdown",
   "id": "671f992a-ca8c-4985-8020-424e2be8ce54",
   "metadata": {
    "deletable": false,
    "editable": false
   },
   "source": [
    "# Funktionen und Methoden\n",
    "\n",
    "In diesem Notebook lernen wir Funktionen und Methoden kennen. Nach einer Einführung in *Code Reuse* schauen wir uns Funktionen und Methoden besonders wichtiger Datentypen anhand eines konkreten Anwendungsfalls an. Wir lernen, wie wir selbst Funktionen schreiben können und abschließend, wie wir von fertigem Code für spezifische Anwendungsfelder in Form von Modulen profitieren können.\n",
    "\n",
    "## Code Reuse\n",
    "\n",
    "Die allermeisten Operationen, die wir beim Programmieren unternehmen, haben andere (und ab einem gewissen Zeitpunkt meist wir selbst auch) schon unzählige Male vorher ausgeführt. Nun sind wir erst beim vierten Notebook und dennoch haben wir uns bereits mehrfach die Länge von einem Objekt ausgeben lassen (mithilfe der ```len```-Funktion), oder überhaupt, uns Objekte mit der ```print```-Funktion ausgeben lassen. \n",
    "\n",
    "Ohne zu überlegen, haben wir vorgefertigte \"Bausteine\" von Python eingesetzt. Wenn man darüber nachdenkt, macht etwa die ```len```-Funktion nichts außergewöhnliches. Wir könnten sie einfach nachbilden, indem wir zum Beispiel bei einem ```str```-Objekt über dessen einzelne Zeichen iterieren und bei jedem Zeichen einen Zähler um 1 erhöhen. Der finale Stand des Zählers entspräche dann der Länge des strings:"
   ]
  },
  {
   "cell_type": "code",
   "execution_count": 1,
   "id": "2837878c-dba9-467b-828d-5d465ea910cb",
   "metadata": {},
   "outputs": [
    {
     "name": "stdout",
     "output_type": "stream",
     "text": [
      "8\n"
     ]
    }
   ],
   "source": [
    "string = \"testwort\"\n",
    "\n",
    "count = 0 #vor der Schleife initialisieren wir die Zähler-Variable mit 0\n",
    "\n",
    "#hier iterieren wir über die einzelnen Zeichen in string\n",
    "for character in string:\n",
    "    count += 1 #bei jedem Zeichen erhöhen wir den Zähler um 1\n",
    "    \n",
    "print(count) #am Ende lassen wir uns den finalen Stand des Zählers ausgeben"
   ]
  },
  {
   "cell_type": "markdown",
   "id": "cdf92461-e8bd-4d17-ad9b-4cdf5e1f6866",
   "metadata": {
    "deletable": false,
    "editable": false
   },
   "source": [
    "Dieser Code sieht vergleichsweise simpel aus. Dennoch wäre es sehr mühselig, diese paar Zeilen jedes einzelne Mal schreiben zu müssen, wenn wir die Länge eines strings herausfinden wollen. Wie wir wissen, ist das aber nicht nötig, denn es gibt eine vordefinierte *Funktion* bei Python, auf die wir für diese Art von Operation zurückgreifen können. \n",
    "\n",
    "Funktionen und Methoden sind im Grunde nichts anderes als Code, der eine öfter verwendete Operation (und sei sie noch so trivial) definiert. Um wiederverwendet werden zu können, sind Funktionen/Methoden abstrakt formuliert: Anstelle konkreter Objekte stehen in ihrem Code Variablen, die, wenn wir eine Funktion/Methode *aufrufen*, mit dem Objekt *ausgefüllt* werden, auf das wir die Funktion/Methode anwenden. Anders formuliert: Wenn wir ```len(string)``` ausführen, *übergeben* wir der ```len```-Funktion unseren string. Im Code der ```len```-Funktion gibt es eine Variable, an deren Stelle nun unser string eingesetzt wird. Der Code wird also spezifisch für unseren string ausgerechnet. \n",
    "\n",
    "Python liefert in seiner *Grundausstattung* jede Menge nützliche Funktionen und Methoden. Davon werden wir die wichtigsten in diesem Notebook anschauen. Da es aber Fälle gibt, wo wir die ersten sind, die eine bestimmte Operation **mehrfach** ausführen müssen, ist es in Python möglich, eigene Funktionen (und Methoden, aber das klammern wir aus) zu definieren. Das schauen wir uns ebenfalls an. Ganz oft sind wir aber nicht die ersten, die eine bestimmte Operation mehrfach benötigen. Dennoch liefert Python eine entsprechende Funktion/Methode nicht in der Grundausstattung mit, da ihr Anwendungsfeld zu spezifisch ist. Hier kommen sog. *Module* ins Spiel, die wir in Python *importieren* können. Durch solche Module kommen wir an unzählige weitere nützliche Funktionen/Methoden. Wie der Import von Modulen funktioniert, schauen wir uns ganz am Ende des Notebooks an.\n",
    "\n",
    "Wir lernen ja programmieren, weil wir damit gewisse Aufgaben effizienter ausführen können (oder sie gar erst in Angriff nehmen können, wie beim Web-Scraping-Beispiel im ersten Notebook). Mit Funktionen, Methoden und Modulen können wir bereits geschriebenen Code (wieder)verwenden, weshalb man auch von *Code Reuse* spricht. Indem wir lernen, diese vorgefertigten Bausteine miteinander zu kombinieren, je nach dem, was wir mit unserem Code erreichen wollen, lernen wir (effizient) zu programmieren."
   ]
  },
  {
   "cell_type": "markdown",
   "id": "bbcf9788-ba1b-4383-8269-a15990bc9c0a",
   "metadata": {
    "deletable": false,
    "editable": false
   },
   "source": [
    "## Funktionen vs. Methoden\n",
    "\n",
    "Bevor wir uns konkrete Funktionen und Methoden anhand eines Anwendungsfalls anschauen, folgen ein paar grundsätzliche Bemerkungen. Funktionen haben stets folgende Syntax:\n",
    "\n",
    "```function(object)```\n",
    "\n",
    "Anstelle von *function* steht der Funktionsname, z.B. ```len``` und bei *object* wird der Funktion ein Objekt übergeben, etwa ein string. Wie wir bei der ```print```-Funktion gesehen haben, können bei einigen Funktionen kommasepariert auch mehrere Objekte angegeben werden. Weiter können je nach Funktion optional kommasepariert Parameter (also eine [von den Standardwerten abweichende] Spezifierung, wie die Funktion ausgeführt werden soll) angegeben werden (z.B. den ```sep```-Parameter bei der ```print```-Funktion, siehe zweites Notebook).\n",
    "\n",
    "Methoden haben dagegen folgende Syntax:\n",
    "\n",
    "```object.method()```\n",
    "\n",
    "An erster Stelle steht das Objekt, auf das die Methode angewendet werden soll (etwa der string bei der ```startswith```-Methode vom dritten Notebook). Nach einem Punkt (man spricht deswegen auch von *dot notation*) steht der Methodenname und direkt anschließend runde Klammern. Oft sind die Klammern leer, da keine (von den Standardwerten abweichenden) optionalen Parameter angegeben werden (können). Bei der ```startswith```-Methode wird aber z.B. ein weiterer string erwartet, bei dem überprüft werden soll, ob er am Anfang des ersten strings steht oder nicht (vgl. drittes Notebook und unten).\n",
    "\n",
    "Abgesehen von der Syntax unterscheiden sich Funktionen und Methoden in einem wichtigen Punkt: Methoden sind immer datentypspezifisch. Eine Methode funktioniert immer nur für einen einzigen Datentypen (es sei denn, eine gleichnamige Methode mit gleicher Funktionsweise wurde für verschiedene Datentypen definiert). Deshalb schauen wir uns unten Methoden für die Datentypen ```str```, ```list``` und ```dict``` separat an. \n",
    "\n",
    "Funktionen hingegen sind keinem Datentypen zugeordnet, was aber nicht heißt, dass sie auf sämtliche Objekte angewendet werden können. Die ```len```-Funktion etwa funktioniert u.a. bei strings und Listen, nicht aber bei ```int```-Objekten (vgl. zweites Notebook), da in der Funktionsdefinition von ```len``` nicht festgelegt wurde, wie die Länge eines solchen Objekts berechnet werden soll (es wäre ja auch nicht sinnvoll)."
   ]
  },
  {
   "cell_type": "markdown",
   "id": "1e5ed91f-66ce-45fc-bfcb-a6c4e01749a3",
   "metadata": {
    "deletable": false,
    "editable": false
   },
   "source": [
    "***\n",
    "\n",
    "##  🔧 Anwendungsfall: Errechnen von Schlüsselwörtern\n",
    "\n",
    "Stellen wir uns vor, wir haben einen langen Text und würden gerne wissen, welche Wörter darin besonders oft vorkommen, sog. *Schlüsselwörter*. Gehen wir noch einen Schritt weiter und stellen uns vor, wir hätten zwei Texte, die wir gerne im Hinblick auf Schlüsselwörter vergleichen wollen. Ein solcher Vergleich wäre z.B. bei Parteiprogrammen oder Koalitionsverträgen spannend, um zu sehen, worauf die jeweiligen Texte ihren Fokus legen und worin sie sich unterscheiden. Sagen wir, wir wollen die deutschen Koalitionsverträge von 2018 (CDU, CSU, SPD) und 2021 (SPD, Grüne, FDP) miteinander vergleichen. Die beiden Texte sind im Ordner \"3_Dateien\" gespeichert. Mit folgendem Code können wir sie in den Arbeitsspeicher laden und uns mittels Slicing jeweils die ersten 100 Zeichen ausgeben lassen."
   ]
  },
  {
   "cell_type": "code",
   "execution_count": 2,
   "id": "2ccb1fca-16e4-4437-9961-4d65bd0f321e",
   "metadata": {},
   "outputs": [
    {
     "name": "stdout",
     "output_type": "stream",
     "text": [
      "2018:\n",
      " Ein neuer Aufbruch für Europa Eine neue Dynamik für Deutschland Ein neuer Zusammenhalt für unser Lan \n",
      "\n",
      "2021:\n",
      " \n",
      "Mehr Fortschritt wagen \n",
      "\n",
      "\n",
      "Bündnis für Freiheit, Gerechtigkeit und Nachhaltigkeit \n",
      "\n",
      "\n",
      "Koalitionsvertr\n"
     ]
    }
   ],
   "source": [
    "with open(\"../3_Dateien/Koalitionsvertraege/koalitionsvertrag_2018.txt\", encoding=\"utf-8\") as f:\n",
    "    kv18 = f.read()\n",
    "    \n",
    "with open(\"../3_Dateien/Koalitionsvertraege/koalitionsvertrag_2021.txt\", encoding=\"utf-8\") as g:\n",
    "    kv21 = g.read()\n",
    "\n",
    "print(\"2018:\\n\", kv18[0:100], \"\\n\")    \n",
    "print(\"2021:\\n\", kv21[0:100])"
   ]
  },
  {
   "cell_type": "markdown",
   "id": "30a71aef-2b04-447a-82e6-e902939b73ea",
   "metadata": {
    "deletable": false,
    "editable": false
   },
   "source": [
    "Wie genau der Input und Output von Dateien funktioniert, lernen wir im nächsten Notebook. Grob gesagt, übertragen wir den Inhalt der beiden Textdateien in string-Objekte. Das mit ```kv18``` referenzierte Objekt beinhält also den ganzen Koalitionsvertrag von 2018 als *ein* string, auf den wir problemlos Indexing/Slicing sowie andere uns bereits bekannte string-Operationen anwenden können. Das wollen wir gleich mal üben.\n",
    "\n",
    "***\n",
    "\n",
    "✏️ **Übung 1:** Finde heraus, welcher der beiden Koalitionsverträge länger ist."
   ]
  },
  {
   "cell_type": "code",
   "execution_count": 3,
   "id": "14fb9931-9d32-4245-bc51-9b0ce378987a",
   "metadata": {},
   "outputs": [],
   "source": [
    "#In diese Zelle kannst Du den Code zur Übung schreiben.\n",
    "\n",
    "\n"
   ]
  },
  {
   "cell_type": "markdown",
   "id": "6950f1bc-1aa5-49ba-8083-1e05454ec85a",
   "metadata": {
    "deletable": false,
    "editable": false
   },
   "source": [
    "***\n",
    "\n",
    "✏️ **Übung 2:** Die unten bereitgestellte Liste ```buzzwords``` enthält heuristisch zusammengetragene Schlagwörter aus der Politik – erweitere die Liste gerne um eigene Begriffe, die Dich interessieren. Um einen ersten inhaltlichen Eindruck der Koalitionsverträge zu bekommen, wollen wir herausfinden, wie oft diese Begriffe in ihnen vorkommen und wie sich ihre Frequenz zwischen den Texten entwickelt. Zu diesem Zweck können wir ```count``` für strings verwenden (```kv18``` und ```kv21``` sind ja wie gesagt string-Objekte). ```count``` erlaubt es uns, das Vorkommen einer bestimmten Zeichenkette innerhalb einer anderen Zeichenkette auszuzählen. ```count``` hat folgende Syntax:\n",
    "\n",
    "```string.count(\"to_be_counted\")```\n",
    "\n",
    "```\"Schifffahrtsgesellschaft\".count(\"f\")``` ergäbe etwa 4.\n",
    "\n",
    "Was bei einem Wort funktioniert, geht auch bei langen strings wie bei unseren Koalitionsverträgen.\n",
    "\n",
    "Berechne nun wie oft jeder Begriff  auf ```buzzwords``` in den beiden Verträgen vorkommt und verwende einen geeigneten Datentypen, um Deine Ergebnisse (separat für jeden Vertrag) abzuspeichern. Lasse Dir anschließend für jeden Begriff die beiden Frequenzen sowie einen Trend über die Zeit (z.B. mittels der Emojis 📈, 📉, 🟰) ausgeben. Das Ergebnis für \"Corona\" sollte z.B. so aussehen:\n",
    "\n",
    "<img src=\"../3_Dateien/Grafiken_und_Videos/Frequenz_Corona.png\">"
   ]
  },
  {
   "cell_type": "code",
   "execution_count": 4,
   "id": "906b979c-d53e-4a4f-9981-e1e751f23076",
   "metadata": {},
   "outputs": [],
   "source": [
    "#In diese Zelle kannst Du den Code zur Übung schreiben.\n",
    "\n",
    "buzzwords = [\"Sozial\", \"Klima\", \"Europa\", \"Verkehr\", \"Landwirtschaft\", \"Umwelt\", \"Corona\"]\n",
    "\n",
    "\n"
   ]
  },
  {
   "cell_type": "markdown",
   "id": "676a02e2-8afa-4fb1-b151-4e7af7085953",
   "metadata": {
    "deletable": false,
    "editable": false
   },
   "source": [
    "*** \n",
    "\n",
    "An der Syntax hast Du es vermutlich bereits erkannt: bei ```count``` handelt es sich um die erste string-Methode, die wir in diesem Notebook kennenlernen.\n",
    "\n",
    "Wie wir sehen, unterscheidet sich die Frequenz der Schlagwörter markant. Im Vergleich zu 2018 scheint neben \"Corona\" insbesondere \"Klima\" an Bedeutung hinzugewonnen zu haben. Alle andere Schlagwörter dagegen kommen seltener vor. Um diese \"impressionistischen\" Ergebnisse belastbar zu machen, müssten wir im nächsten Schritt natürlich auch die in Übung 1 festgestellte unterschiedliche Textlänge berücksichtigen, schließlich sind absolute Frequenzen abhängig von der Gesamttextlänge.\n",
    "\n",
    "Beim Anwendungsfall in diesem Notebook wollen wir einen Schritt weiter gehen und für *jedes* einzelne Wort in den beiden Koalitionsverträgen herausfinden, wie oft es jeweils vorkommt. Anstatt Begriffe wie in Übung 2 als relevant vorauszusetzen, erhalten wir so induktiv einen fundierten Blick auf die Texte und finden vielleicht Wörter, mit deren Vorkommen wir nicht gerechnet hätten. Die ```count```-Methode wird auch da zum Einsatz kommen. Im Folgenden lernen wir alle weiteren wichtigen Funktionen und Methoden für die drei Datentypen ```str```, ```list``` und ```dict``` kennen, die es uns schließlich in Kombination ermöglichen, Schlüsselwörter für die Koalitionsverträge zu errechnen. \n",
    "\n",
    "***\n",
    "\n",
    "Eine Übersicht aller wichtigen Funktionen und Methoden findet sich in den jeweiligen Cheat Sheets.\n",
    "\n",
    "## Operationen bei Zeichenketten / strings"
   ]
  },
  {
   "cell_type": "markdown",
   "id": "21a5abc0-1485-42f2-ba12-2fcd284d7bdd",
   "metadata": {
    "deletable": false,
    "editable": false
   },
   "source": [
    "Bei einem langen Text verliert man schnell den Überblick darüber, was beim Ausführen von Code genau geschieht. Deswegen wollen wir erst mit einem simplen string arbeiten, um die Funktionsweise der einzelnen Operationen genau zu verstehen. Das erlernte Wissen übertragen wir später einfach auf die beiden Koalitionstexte. Der Beispielstring lautet:"
   ]
  },
  {
   "cell_type": "code",
   "execution_count": 5,
   "id": "eb8781ac-be9b-456f-9f5b-4c066147dc2c",
   "metadata": {},
   "outputs": [],
   "source": [
    "sentence = \"Gesagt ist gesagt.\""
   ]
  },
  {
   "cell_type": "markdown",
   "id": "4fbbbbd5-4014-46d3-951c-f905e4b1e253",
   "metadata": {
    "deletable": false,
    "editable": false
   },
   "source": [
    "Auch wollen wir fürs Erste nur ein spezifisches Wort zählen, nämlich \"gesagt\". Wir wissen natürlich, dass \"gesagt\" in ```sentence``` vorkommt, hätten wir aber einen längeren Text, bei dem wir uns nicht sicher sind, ob ein bestimmtes Wort vorkommt, so könnten wird dies mit dem ```in```-Statement überprüfen:"
   ]
  },
  {
   "cell_type": "code",
   "execution_count": 6,
   "id": "8e692c27-9c3d-4f1a-ac31-f9a35fc45eef",
   "metadata": {},
   "outputs": [
    {
     "name": "stdout",
     "output_type": "stream",
     "text": [
      "True\n"
     ]
    }
   ],
   "source": [
    "print(\"gesagt\" in sentence)"
   ]
  },
  {
   "cell_type": "markdown",
   "id": "0c2e19c3-a151-4fb1-bfe8-66d7ec0e4493",
   "metadata": {
    "deletable": false,
    "editable": false
   },
   "source": [
    "Dabei erhalten wir ganz einfach den Boolschen Wert ```True``` zurück. In Kombination mit dem logischen Operator ```not``` (vgl. drittes Notebook), können wir auch das Gegenteil überprüfen und kriegen wieder einen Boolschen Wert zurück:"
   ]
  },
  {
   "cell_type": "code",
   "execution_count": 7,
   "id": "509b88ea-0f9f-4348-8601-43dcffaa99ab",
   "metadata": {},
   "outputs": [
    {
     "name": "stdout",
     "output_type": "stream",
     "text": [
      "True\n"
     ]
    }
   ],
   "source": [
    "print(\"getan\" not in sentence)"
   ]
  },
  {
   "cell_type": "markdown",
   "id": "d961ed42-ea67-401d-a40a-9020cc5c172c",
   "metadata": {
    "deletable": false,
    "editable": false
   },
   "source": [
    "***\n",
    "\n",
    "✏️ **Übung 3:** Die beiden Koalitionsverträge stammen von unterschiedlichen Parteien (CDU, CSU, SPD bzw. SPD, Grüne, FDP). Finde heraus, welche beiden Parteien es mit ihrem Kurznamen in beide Verträge geschafft haben. Stelle sicher, dass die Zelle mit dem Dateiinput oben ausgeführt ist, damit die Variablen ```kv18``` und ```kv21``` mit dem jeweiligen Text initialisiert sind."
   ]
  },
  {
   "cell_type": "code",
   "execution_count": 8,
   "id": "7981b761-c368-4590-9a38-19ad4a743935",
   "metadata": {},
   "outputs": [],
   "source": [
    "#In diese Zelle kannst Du den Code zur Übung schreiben.\n",
    "\n",
    "\n"
   ]
  },
  {
   "cell_type": "markdown",
   "id": "aa71d64c-f4a6-45d2-90ce-1b871aa65e45",
   "metadata": {
    "deletable": false,
    "editable": false
   },
   "source": [
    "***\n",
    "\n",
    "Zurück zu unserem Anwendungsfall. Bei der Wortzählung soll Groß-/Kleinschreibung keine Rolle spielen (\"Gesagt\" und \"gesagt\" sollen also zusammengezählt werden). Zu diesem Zweck bietet es sich an, sämtliche Zeichen kleinzuschreiben. Dazu verwenden wir die ```lower```-Methode, die einen kompletten string in Kleinbuchstaben konvertiert."
   ]
  },
  {
   "cell_type": "code",
   "execution_count": 9,
   "id": "bb274336-cebc-4a1a-a18a-3ba1db8c6204",
   "metadata": {},
   "outputs": [
    {
     "name": "stdout",
     "output_type": "stream",
     "text": [
      "gesagt ist gesagt.\n"
     ]
    }
   ],
   "source": [
    "sentence = sentence.lower()\n",
    "print(sentence)"
   ]
  },
  {
   "cell_type": "markdown",
   "id": "15902b8e-fe82-4366-85c6-78690291db6b",
   "metadata": {
    "deletable": false,
    "editable": false
   },
   "source": [
    "Das hat wunderbar geklappt. \n",
    "\n",
    "Als kleinen Einschub sehen wir in der nächsten Zelle mit ```lower``` verwandte Methoden, die allesamt mit Groß- bzw. Kleinschreibung zu tun haben:"
   ]
  },
  {
   "cell_type": "code",
   "execution_count": 10,
   "id": "76d17267-c51f-4485-934a-455a5c592880",
   "metadata": {},
   "outputs": [
    {
     "name": "stdout",
     "output_type": "stream",
     "text": [
      "Alles Großbuchstaben: HEUTE WIRD ES SCHNEIEN. \n",
      "\n",
      "Nur der Anfangsbuchstabe großgeschrieben: Heute wird es schneien. \n",
      "\n",
      "Wie ein englischsprachiger Titel: Heute Wird \n",
      "\n",
      "Und den Titel umgekehrt: hEUTE wIRD\n"
     ]
    }
   ],
   "source": [
    "string = \"heute wird es schneien.\"\n",
    "\n",
    "uppercase = string.upper()\n",
    "print(\"Alles Großbuchstaben:\", uppercase, \"\\n\")\n",
    "\n",
    "capitalized = string.capitalize()\n",
    "print(\"Nur der Anfangsbuchstabe großgeschrieben:\", capitalized, \"\\n\")\n",
    "\n",
    "title = string[0:10].title() #wir können die Methode auch nur auf einen Teil des strings anwenden\n",
    "print(\"Wie ein englischsprachiger Titel:\", title, \"\\n\")\n",
    "\n",
    "swapped = title.swapcase() #zur besseren Veranschaulichung kehren wir den Titel um\n",
    "print(\"Und den Titel umgekehrt:\", swapped)"
   ]
  },
  {
   "cell_type": "markdown",
   "id": "e2381dc3-2044-4218-acb7-3846fb4a6847",
   "metadata": {
    "deletable": false,
    "editable": false
   },
   "source": [
    "Als kurze Erinnerung: strings sind unveränderlich (vgl. zweites Notebook). Deswegen weisen wir das Resultat einer auf einen string angewandten Methode jeweils einer neuen Variable zu (oder überschreiben die alte, wie oben bei ```lower```). Führe den Code unten aus, um Dich selbst davon zu überzeugen, dass das ```str```-Objekt zwar im ```print```-Befehl modifiziert ausgegeben wird, das Objekt an sich aber nicht geändert wird:"
   ]
  },
  {
   "cell_type": "code",
   "execution_count": 11,
   "id": "4853a73d-6c39-48e3-a032-9f07489cd323",
   "metadata": {},
   "outputs": [
    {
     "name": "stdout",
     "output_type": "stream",
     "text": [
      "testwort\n",
      "Testwort\n"
     ]
    }
   ],
   "source": [
    "immutability = \"Testwort\"\n",
    "print(immutability.lower())\n",
    "print(immutability)"
   ]
  },
  {
   "cell_type": "markdown",
   "id": "d375cf38-73c5-433b-9557-3e1b7dfcaab5",
   "metadata": {
    "deletable": false,
    "editable": false
   },
   "source": [
    "Zurück zu unserem Anwendungsfall. Als nächstes wollen wir den Satz *tokenisieren*, also in einzelne Wörter unterteilen. Dafür gibt es die ```split```-Methode. Sie nimmt einen string und unterteilt ihn standardmäßig bei jedem whitespace-Zeichen (die wichtigsten darunter: Leerschläge: ```\" \"```, Zeilenumbrüche: ```\"\\n\"```, Tabulatoren: ```\"\\t\"```). Die Methode gibt eine Liste mit den unterteilten Einheiten (beim standardmäßigen whitespace: Wörtern) zurück:"
   ]
  },
  {
   "cell_type": "code",
   "execution_count": 12,
   "id": "6b01e3a9-3a95-42a6-94e6-742abdaba46f",
   "metadata": {},
   "outputs": [
    {
     "name": "stdout",
     "output_type": "stream",
     "text": [
      "['gesagt', 'ist', 'gesagt.']\n"
     ]
    }
   ],
   "source": [
    "words = sentence.split()\n",
    "print(words)"
   ]
  },
  {
   "cell_type": "markdown",
   "id": "bab33d67-ffae-4749-82c1-9145a91b7d5c",
   "metadata": {
    "deletable": false,
    "editable": false
   },
   "source": [
    "Sehr gut!\n",
    "\n",
    "***\n",
    "\n",
    "✏️ **Übung 4:** Anstelle von whitespace, das standardmäßig als Trennzeichen von ```split``` verwendet wird (und deswegen auch nicht angegeben werden muss), können wir strings auch bei anderen Trennzeichen aufsplitten. Dazu geben wir das gewünschte Trennzeichen in den Klammern an, etwa ```\".\"```, wenn wir einen string in Sätze aufsplitten wollen. \n",
    "\n",
    "Bringe die Geschichte, die in ```sentence``` in komischer Reihenfolge erzählt wird, in die richtige Reihenfolge. Das Resultat sollte ein string mit drei richtig geordneten Sätzen sein. \n",
    "\n",
    "💡 Tipp: Auf dem Weg dorthin solltest Du ```split```, Indexing und Konkatenation mithilfe des ```+```-Operators verwenden (beide Techniken haben wir in den vorigen Notebooks kennengelernt)."
   ]
  },
  {
   "cell_type": "code",
   "execution_count": 13,
   "id": "75b582b8-5f76-4cc2-8a98-e7a9369b6822",
   "metadata": {},
   "outputs": [],
   "source": [
    "#In diese Zelle kannst Du den Code zur Übung schreiben.\n",
    "\n",
    "sentence = \"\"\"Die beiden verliebten sich ineinander. \n",
    "Und wenn sie nicht gestorben sind, kann's sein, dass sie sich heute noch küssen.\n",
    "Es war einmal ein Hase und ein Fuchs.\"\"\"\n",
    "\n"
   ]
  },
  {
   "cell_type": "markdown",
   "id": "d9741c53-89d6-4c78-820f-31beec0f5b1e",
   "metadata": {
    "deletable": false,
    "editable": false
   },
   "source": [
    "***\n",
    "\n",
    "Kehren wir zu unserem Anwendungsfall zurück. Bevor wir uns die Wortfrequenzen auszählen lassen können, haben wir noch ein Problem: Beim zweiten \"gesagt\" hängt am Ende ein Punkt dran, der nicht zum Wort gehört. Um diesen loszuwerden können wir die ```strip```-Methode verwenden. Sie nimmt einen string und entfernt standardmäßig sämtliche whitespace-Zeichen am Anfang (leading) und Ende (trailing) eines strings. Sie ermöglicht aber auch das Entfernen von benutzerdefinierten Zeichen. So können wir den Punkt beim dritten Element (mit Index 2!) auf der Liste ```words``` enfternen:"
   ]
  },
  {
   "cell_type": "code",
   "execution_count": 14,
   "id": "a5d55d27-48ec-4d6a-b483-a01d74fac43b",
   "metadata": {},
   "outputs": [
    {
     "name": "stdout",
     "output_type": "stream",
     "text": [
      "['gesagt', 'ist', 'gesagt']\n"
     ]
    }
   ],
   "source": [
    "words[2] = words[2].strip(\".\")\n",
    "print(words)"
   ]
  },
  {
   "cell_type": "markdown",
   "id": "e9e0e0df-ac08-4689-be81-96c231e6c2fb",
   "metadata": {
    "deletable": false,
    "editable": false
   },
   "source": [
    "Nun haben wir eine Liste mit bereinigten Wörtern. \n",
    "\n",
    "***\n",
    "\n",
    "✏️ **Übung 5:** Selbstverständlich kann man das Vorkommen eines Wortes auf einer Liste auszählen lassen (das lernen wir bei den Methoden für Listen). Hier wollen wir aber die oben bereits kennengelernte ```count```-Methode für strings noch einmal anwenden. Dazu müssen wir die Listenelemente wieder zu einem string konkatenieren. Verwende eine Dir bereits bekannte ```str```-Methode, um aus ```words``` wieder einen string zu kreieren. Eine Variable namens ```sentence_again``` soll auf diesen string zeigen. \n",
    "\n",
    "Benutze anschließend die ```count```-Methode, um \"gesagt\" in ```sentence_again``` zu zählen.  Das Resultat sollte natürlich zwei sein."
   ]
  },
  {
   "cell_type": "code",
   "execution_count": 15,
   "id": "94382e06-63b3-4a04-8f31-be77206e20af",
   "metadata": {},
   "outputs": [],
   "source": [
    "#In diese Zelle kannst Du den Code zur Übung schreiben.\n",
    "\n",
    "\n"
   ]
  },
  {
   "cell_type": "markdown",
   "id": "6ae32995-9203-4944-9422-78189fc02600",
   "metadata": {
    "deletable": false,
    "editable": false
   },
   "source": [
    "***\n",
    "\n",
    "Nun haben wir einige ```string```-Methoden kennengelernt und uns die Frequenz eines einzelnen Wortes auf sehr rudimentäre Art auszählen lassen. In der Regel (und so auch bei unseren Koalitionsverträgen) haben wir es nicht mit so kurzen strings zu tun und wir wollen nicht bloß die Häufigkeit eines einzelnen Wortes erfahren, sondern sämtliche Wortfrequenzen ermitteln. Für ein Schlüsselwörter-Skript fehlen uns noch Kenntnisse im Umgang mit Listen und dictionaries, die wir gleich kennenlernen. Erst besprechen wir noch ein paar weitere ```str```-Methoden. \n",
    "\n",
    "Die bereits bekannte ```strip```-Methode gibt es auch in den Ausführungen ```rstrip``` und ```lstrip```, die whitespace-Zeichen (oder das/die benutzerdefinerte(n) Zeiche(n)) nur jeweils am Anfang (```lstrip```) bzw. am Ende (```rstrip```) entfernen:"
   ]
  },
  {
   "cell_type": "code",
   "execution_count": 16,
   "id": "21719b21-b9b2-45e0-aea3-d62c931e8de6",
   "metadata": {},
   "outputs": [
    {
     "name": "stdout",
     "output_type": "stream",
     "text": [
      "Links entfernt: ganz viele komische Zeichen/%§..§//§§.... \n",
      "Rechts entfernt: ...ganz viele komische Zeichen\n"
     ]
    }
   ],
   "source": [
    "sentence = \"...ganz viele komische Zeichen/%§..§//§§....\"\n",
    "print(\"Links entfernt:\", sentence.lstrip(\".\"), \"\\nRechts entfernt:\", sentence.rstrip(\".%§/\")) #es können mehrere zu entfernende Zeichen spezifiziert werden"
   ]
  },
  {
   "cell_type": "markdown",
   "id": "f7833e10-187f-48c2-bae8-270c6ae1f0a3",
   "metadata": {
    "deletable": false,
    "editable": false
   },
   "source": [
    "Weiter gibt es die Methode ```find``` zum Finden bestimmter Zeichen(ketten) innerhalb eines strings. Die Methode nimmt einen string sowie die zu findende Zeichenkette als Parameter und gibt den Index des ersten Zeichens des ersten Vorkommens der zu findenden Zeichenkette zurück."
   ]
  },
  {
   "cell_type": "code",
   "execution_count": 17,
   "id": "bd0d159e-f608-40a7-a37c-63e7619454a7",
   "metadata": {},
   "outputs": [
    {
     "name": "stdout",
     "output_type": "stream",
     "text": [
      "4\n",
      "Freiheit des einen ist die Freiheit des \n",
      "26\n"
     ]
    }
   ],
   "source": [
    "sentence = \"Die Freiheit des einen ist die Freiheit des anderen.\"\n",
    "print(sentence.find(\"Freiheit\"))\n",
    "\n",
    "#die find-Methode im Einsatz als Indizes bei Indexing und Slicing\n",
    "print(sentence[sentence.find(\"Freiheit\"):sentence.find(\"anderen\")]) #Einsatz der durch find zurückgegeben Indizes als Slicing-Indizes\n",
    "print(sentence[sentence.find(\"Freiheit\")+1:].find(\"Freiheit\")) #Finden des zweiten Vorkommens von \"Freiheit\", indem das erste Vorkommen \"weggeslict\" wird (der Index bezieht sich auf den geslicten Satz und nicht auf sentence!)"
   ]
  },
  {
   "cell_type": "markdown",
   "id": "a5bd1760-3690-40d9-98e5-c83dfcf59aa0",
   "metadata": {
    "deletable": false,
    "editable": false
   },
   "source": [
    "Da die ```find```-Methode nur jeweils den Index des ersten Vorkommens einer Zeichenkette zurückgibt, ist sie von begrenztem Nutzen. Im sechsten Notebook zu regulären Ausdrücken (RegEx) lernen wir sinnvollere Funktionen/Methoden kennen, die Python nicht direkt mitliefert, sondern erst importiert werden müssen.\n",
    "\n",
    "Neben dem Finden von bestimmten Zeichen(ketten), können wir auch Substrings in strings ersetzen. Dies geht mit der ```replace```-Methode, die sogar zwei Parameter in Klammern verlangt: Erstens den zu ersetzenden Substring und zweitens den Substring, der als Ersatz genommen werden soll:"
   ]
  },
  {
   "cell_type": "code",
   "execution_count": 18,
   "id": "19bd2a73-d177-4b8d-a7f2-2b90bb896cc5",
   "metadata": {},
   "outputs": [
    {
     "name": "stdout",
     "output_type": "stream",
     "text": [
      "Washington DC ist die Hauptstadt der USA.\n"
     ]
    }
   ],
   "source": [
    "sentence = \"New York ist die Hauptstadt der USA.\"\n",
    "sentence = sentence.replace(\"New York\", \"Washington DC\")\n",
    "print(sentence)"
   ]
  },
  {
   "cell_type": "markdown",
   "id": "6b610b74-f244-4d1d-823d-7ddd67f6f93b",
   "metadata": {
    "deletable": false,
    "editable": false
   },
   "source": [
    "Würde \"New York\" mehrfach in ```sentence``` vorkommen, so würden alle Vorkommen durch \"Washington DC\" ersetzt werden. \n",
    "\n",
    "Den beiden letzten Methoden ```startswith``` und ```endswith``` sind wir schon im letzten Notebook begegnet. Sie überprüfen, ob ein string mit einer bestimmten Zeichenkette beginnt oder endet und liefern Boolsche Werte zurück. Von daher kann man sie gut in bedingten Anweisungen einsetzen."
   ]
  },
  {
   "cell_type": "code",
   "execution_count": 19,
   "id": "6b5c041e-ea26-4cae-8795-a754b216139a",
   "metadata": {},
   "outputs": [
    {
     "name": "stdout",
     "output_type": "stream",
     "text": [
      "True\n",
      "True\n",
      "False\n",
      "Der Satz fängt mit einem maskulinen Artikel an.\n"
     ]
    }
   ],
   "source": [
    "sentence = \"Der frühe Vogel fängt den Wurm.\"\n",
    "print(sentence.startswith(\"Der\"))\n",
    "print(sentence.startswith((\"Der\", \"Die\", \"Das\"))) #mehere Zeichenketten können in einem Tupel angegeben werden, ergibt True wenn eine der Zeichenketten am Anfang des Objekts steht\n",
    "print(sentence.endswith(\"Wurm\")) #ergibt False, da danach noch ein Punkt folgt\n",
    "\n",
    "#Methoden können übrigens aneinander gehängt werden. Python wendet erst lower an, dann startswith; ohne lower ergäbe dieses if-Statement False\n",
    "if sentence.lower().startswith(\"der\"):\n",
    "    print(\"Der Satz fängt mit einem maskulinen Artikel an.\")"
   ]
  },
  {
   "cell_type": "markdown",
   "id": "9b601814-dc5d-4df7-895f-dd1c22beeed7",
   "metadata": {
    "deletable": false,
    "editable": false
   },
   "source": [
    "***\n",
    "\n",
    "✏️ **Übung 6:** Verwende ```str```-Methoden, um aus ```names``` eine Liste mit Namen wie folgt zu kreieren: ```['Martin Berger', 'Kirsten Hauser', 'Michaela Kircher', 'Fritz Hofer']```. Die Namen sollen vollkommen von leading und trailing whitespace bereingt und mit korrekter Groß-/Kleinschreibung vorliegen. "
   ]
  },
  {
   "cell_type": "code",
   "execution_count": 20,
   "id": "7b6cdde0-365a-43d0-bbb5-a25b1e8921b1",
   "metadata": {},
   "outputs": [],
   "source": [
    "#In diese Zelle kannst Du den Code zur Übung schreiben.\n",
    "names = \"Name: Martin Berger name: Kirsten Hauser NAME: Michaela Kircher nAME: Fritz Hofer\"\n",
    "\n",
    "\n"
   ]
  },
  {
   "cell_type": "markdown",
   "id": "b62a3a3d-51ed-42c4-be8c-520a793ee3ed",
   "metadata": {
    "deletable": false,
    "editable": false
   },
   "source": [
    "***\n",
    "\n",
    "## Operationen bei Listen\n",
    "\n",
    "Machen wir weiter mit dem Datentyp ```list```. Oben hatten wir es ja kurzzeitig mit einer Liste zu tun, die wir dann aber pro forma wieder in einen string konvertierten. Wenn man Wörter in einem Text bereinigen will, etwa mit dem Ziel, Schlüsselwörter zu errechnen, ist es tatsächlich aber viel praktischer, mit einer Liste weiterzuarbeiten. Während ein string einfach *eine* lange Aneinanderkettung von Zeichen ist, liegen uns die Wörter auf einer Liste in *diskreten Einheiten* vor. Mittels Iteration können wir dann bestimmte Schritte des *preprocessing* (so nennt sich diese Technik) Wort für Wort vornehmen. \n",
    "\n",
    "Das typische Vorgehen beim preprocessing ist also \n",
    "\n",
    "1) einen string in eine Liste mit Wörtern unterteilen (```split```)\n",
    "2) über die Liste iterieren und preprocessing-Methoden (```lower```, ```strip``` sowie ggf. andere) Wort für Wort anwenden\n",
    "3) jedes bereinigte Wort an eine neue Liste anhängen (```append```)\n",
    "\n",
    "```append``` sind wir bereits im letzten Notebook begegnet. Mithilfe dieser Listenmethode können wir ein Element an eine Liste anhängen. Der folgende Code vereint die bisher erlernten Schritte im Hinblick auf unseren Anwendungsfall. \n",
    "\n",
    "Wichtig: die neue Liste mit den bereingten Wörtern muss erst ins Leben gerufen werden, bevor wir Elemente an sie anhängen können. Das tun wir, indem wir die Variable ```preprocessed_words``` gleich zu Beginn mit einer leeren Liste initialisieren (mithilfe der entsprechenden Syntax, hier eben eckige Klammern, kann man auch leere Objekte anderer Datentypen initialisieren)."
   ]
  },
  {
   "cell_type": "code",
   "execution_count": 21,
   "id": "954a155b-e966-447e-8607-f7ed45df8ebd",
   "metadata": {},
   "outputs": [
    {
     "name": "stdout",
     "output_type": "stream",
     "text": [
      "['gesagt', 'ist', 'gesagt']\n"
     ]
    }
   ],
   "source": [
    "sentence = \"Gesagt ist gesagt.\"\n",
    "words = sentence.split()\n",
    "\n",
    "preprocessed_words = []\n",
    "\n",
    "for word in words:\n",
    "    word = word.lower()\n",
    "    word = word.strip(\".\")\n",
    "    preprocessed_words.append(word)\n",
    "\n",
    "print(preprocessed_words)"
   ]
  },
  {
   "cell_type": "markdown",
   "id": "c6f02a4e-053b-4393-8a91-445732063810",
   "metadata": {
    "deletable": false,
    "editable": false
   },
   "source": [
    "Klappt ausgezeichnet.  \n",
    "\n",
    "Überleg Dir für einen Augenblick, warum wir bei den strings das Resultat der Methoden ```lower``` bzw. ```strip``` einer Variablen zuweisen (besser gesagt: die Variable ```word``` damit jeweils *überschreiben*). Das Resultat von ```append```, also die Liste mit dem neu angehängten Wort, weisen wir dagegen keiner Variablen zu. \n",
    "\n",
    "Genau, das liegt daran, dass string-Objekte unveränderlich und Listenobjekte veränderlich sind. Wollen wir mit einem veränderten string weiterarbeiten, müssen wir ihn einer Variablen zuweisen, denn das originale string-Objekt wird die Veränderung aufgrund seiner Unveränderlichkeit *nie* übernehmen. Listenobjekte hingegen können wir beliebig verändern, weswegen das Schaffen eines neuen bzw. Überschreiben eines alten Objekts (mittels Variablenzuweisung) nicht nötig ist. \n",
    "\n",
    "```append``` hängt ein Element immer am Ende einer Liste an. Daneben gibt es auch die Methode ```insert```, die es uns erlaubt, ein Element an einer bestimmten Position in der Liste, d.h. bei einem bestimmten Index, einzufügen:"
   ]
  },
  {
   "cell_type": "code",
   "execution_count": 22,
   "id": "5a89c6cf-1c66-4176-86ac-3de7c4f2fff0",
   "metadata": {},
   "outputs": [
    {
     "name": "stdout",
     "output_type": "stream",
     "text": [
      "['gesagt', 'ist', 'nicht', 'gesagt']\n"
     ]
    }
   ],
   "source": [
    "preprocessed_words.insert(2, \"nicht\")\n",
    "print(preprocessed_words)"
   ]
  },
  {
   "cell_type": "markdown",
   "id": "3722090c-ec2a-4a4d-97ce-3c7ff632225e",
   "metadata": {
    "deletable": false,
    "editable": false
   },
   "source": [
    "Schau was passiert, wenn Du diese Zelle mehrfach ausführst. \n",
    "\n",
    "Auch dieses Verhalten geht auf die Veränderlichkeit von Listen zurück. Nach einmal Ausführen referenziert ```words``` folgende Liste ['Gesagt', 'ist', 'nicht', 'gesagt.'] im Arbeitsspeicher. Bei der nächsten Ausführung wird ```insert``` auf das nun veränderte ```words``` angewandt, etc. Dieser und der oben geschilderte Umstand sind fortgeschrittenes theoretisches Wissen, sie zeigen aber, dass die (Un)veränderlichkeit von Objekten durchaus einen Effekt haben kann. \n",
    "\n",
    "Es gibt noch eine dritte Methode, um eine Liste zu erweitern. Sie heißt ```extend``` und wird dann verwendet, wenn wir die Elemente eines iterierbaren Objekts einzeln an eine Liste anhängen wollen. Schau, was passiert, wenn Du den folgenden Code mit ```extend``` ausführst vs. was passiert, wenn Du stattdessen ```append``` verwendest. Der Unterschied ist subtil, aber durchaus bedeutend. Welche Methode macht hier mehr Sinn?"
   ]
  },
  {
   "cell_type": "code",
   "execution_count": 23,
   "id": "d39bb5a8-afb0-46ba-95c4-7edf88a33b79",
   "metadata": {},
   "outputs": [
    {
     "name": "stdout",
     "output_type": "stream",
     "text": [
      "['Bananen', 'Orangen', 'Kiwis', 'Gurke', 'Tomate', 'Avokado']\n"
     ]
    }
   ],
   "source": [
    "shopping_list = [\"Bananen\", \"Orangen\", \"Kiwis\"]\n",
    "\n",
    "vegetables = [\"Gurke\", \"Tomate\", \"Avokado\"]\n",
    "\n",
    "shopping_list.extend(vegetables)\n",
    "#shopping_list.append(vegetables)\n",
    "print(shopping_list)"
   ]
  },
  {
   "cell_type": "markdown",
   "id": "e5c0cbac-8091-482a-800a-24dae0db3dc6",
   "metadata": {
    "deletable": false,
    "editable": false
   },
   "source": [
    "```append``` behandelt die Liste ```vegetables``` einfach als *ein* Element. Wir wollen aber keine Liste in der Liste, weswegen hier ```extend``` sinnvoller ist.\n",
    "\n",
    "Wie oben erwähnt kann man sich die Häufigkeit eines Worts (genauer gesagt: eines Elements) auf einer Liste auszählen lassen. Die ```count```-Methode für Listen hat den gleichen Namen und die gleiche Funktion wie bei strings:"
   ]
  },
  {
   "cell_type": "code",
   "execution_count": 24,
   "id": "49fe5102-0976-460f-96d4-58ef3b7163a4",
   "metadata": {},
   "outputs": [
    {
     "name": "stdout",
     "output_type": "stream",
     "text": [
      "2\n"
     ]
    }
   ],
   "source": [
    "print(preprocessed_words.count(\"gesagt\"))"
   ]
  },
  {
   "cell_type": "markdown",
   "id": "1ae8070b-1712-4edb-aba2-80c0ff0ea1cd",
   "metadata": {
    "deletable": false,
    "editable": false
   },
   "source": [
    "Auch diese Methode wird uns später beim Errechnen von Schlüsselwörtern für die Koalitionstexte helfen.\n",
    "\n",
    "Neben den Methoden, zum Erweitern einer Liste, gibt es natürlich auch solche zum Entfernen von Elementen auf einer Liste. Konkret folgende zwei: ```remove``` und ```pop```. ```remove``` entfernt das in Klammern angegebene Element auf einer Liste, allerdings nur das erste:"
   ]
  },
  {
   "cell_type": "code",
   "execution_count": 25,
   "id": "8552ea9a-8e04-41ef-bf9b-91fdfeaae9dc",
   "metadata": {},
   "outputs": [
    {
     "name": "stdout",
     "output_type": "stream",
     "text": [
      "['Pretoria', 'Buenos Aires', 'Malaga']\n"
     ]
    }
   ],
   "source": [
    "cities = [\"Pretoria\", \"Buenos Aires\", \"Malaga\", \"Malaga\"]\n",
    "cities.remove(\"Malaga\")\n",
    "print(cities)"
   ]
  },
  {
   "cell_type": "markdown",
   "id": "65678fbd-8c23-4e78-b690-1fd02b22dddf",
   "metadata": {
    "deletable": false,
    "editable": false
   },
   "source": [
    "Bei ```pop``` dagegen geben wir nicht das zu entfernende Element an, sondern dessen Index. Geben wir keinen Index an, so wird standardmäßig das letzte Element auf der Liste (also dasjenige mit dem Index ```-1```) entfernt. Bevor ein Element aus der Liste entfernt wird, gibt ```pop``` das betreffende Element noch zurück. Um dies zu verstehen, führe die folgende Zelle solange aus, bis Du eine Fehlermeldung erhältst:"
   ]
  },
  {
   "cell_type": "code",
   "execution_count": 26,
   "id": "c3d161c9-7e1a-4d19-9e47-a09ef1b7720a",
   "metadata": {},
   "outputs": [
    {
     "name": "stdout",
     "output_type": "stream",
     "text": [
      "Das letzte Element der Liste wird nun entfernt: Malaga\n",
      "Die Liste beinhaltet nun noch: ['Pretoria', 'Buenos Aires']\n"
     ]
    }
   ],
   "source": [
    "print(\"Das letzte Element der Liste wird nun entfernt:\", cities.pop())\n",
    "print(\"Die Liste beinhaltet nun noch:\", cities)"
   ]
  },
  {
   "cell_type": "markdown",
   "id": "22af5481-8f89-4a9b-b9fd-30799e0f90b7",
   "metadata": {
    "deletable": false,
    "editable": false
   },
   "source": [
    "Als erstes wird \"Malaga\" zurückgegeben und anschließend von der Liste entfernt, danach \"Buenos Aires\" und schließlich \"Pretoria\". Dann erhalten wir eine Fehlermeldung, denn Python kann natürlich kein \"letztes Element\" auf einer *leeren* Liste finden. ```pop``` ist immer dann interessant, wenn wir Elemente an einer bestimmten Position in der Liste entfernen wollen, unabhängig davon, um was für ein Element es sich handelt (da würden wir ```remove``` benutzen).\n",
    "\n",
    "Bemühen wir dafür noch mal das Gesellschaftsspiel-Skript aus dem letzten Notebook. In der Übung dazu hast Du ein Skript geschrieben, bei dem der Beitritt ins Spiel nicht mehr möglich ist (die Iteration wird mit ```break``` abgebrochen), sobald sechs Teilnehmer:innen im Spiel sind. In der Zelle unten steht die Musterlösung zu jener Aufgabe, neu mit einer längeren Liste an Spielanwärter:innen und einer nicht mehr hardgecodeten Mindest- und Maximalanzahl Teilnehmer:innen.\n",
    "***\n",
    "\n",
    "✏️ **Übung 7:** Modifiziere den Code nun derart, dass bei sechs Teilnehmer:innen diejenige Person aus dem Spiel \"gekickt\" wird, die bereits am längsten daran teilnimmt (bzw. sich bereits am längsten auf der Teilnehmer:innenliste befindet). Im gleichen Zug soll die nächste Person aus ```participants_pool``` ins Spiel gelassen werden. Wie beim letzten Mal auch, möchten wir bei jeder Iteration informiert werden, wer gerade im Spiel ist."
   ]
  },
  {
   "cell_type": "code",
   "execution_count": 27,
   "id": "735c03dd-58be-4ecd-be08-d967dbf2bf3a",
   "metadata": {
    "tags": []
   },
   "outputs": [
    {
     "name": "stdout",
     "output_type": "stream",
     "text": [
      "Noch nicht genügend Teilnehmer:innen, wir brauchen noch 3 😬\n",
      "Aktuell auf der Liste: ['Max'] \n",
      "\n",
      "Noch nicht genügend Teilnehmer:innen, wir brauchen noch 2 😬\n",
      "Aktuell auf der Liste: ['Max', 'Moritz'] \n",
      "\n",
      "Noch nicht genügend Teilnehmer:innen, wir brauchen noch 1 😬\n",
      "Aktuell auf der Liste: ['Max', 'Moritz', 'Janine'] \n",
      "\n",
      "Das Spiel läuft 😍\n",
      "Aktuell auf der Liste: ['Max', 'Moritz', 'Janine', 'Hussein'] \n",
      "\n",
      "Das Spiel läuft 😍\n",
      "Aktuell auf der Liste: ['Max', 'Moritz', 'Janine', 'Hussein', 'Fritz'] \n",
      "\n",
      "Das Spiel läuft 😍\n",
      "Aktuell auf der Liste: ['Max', 'Moritz', 'Janine', 'Hussein', 'Fritz', 'Mia'] \n",
      "\n",
      "Leider ist das Spiel voll 🥲\n",
      "Aktuelle Teilnehmer:innen:  ['Max', 'Moritz', 'Janine', 'Hussein', 'Fritz', 'Mia']\n"
     ]
    }
   ],
   "source": [
    "#In diese Zelle kannst Du den Code zur Übung schreiben.\n",
    "\n",
    "participants_pool = [\"Max\", \"Moritz\", \"Janine\", \"Hussein\", \"Fritz\", \"Mia\", \"Marianne\", \"Dolores\", \"Yin\", \"Margareth\", \"Benni\"]\n",
    "\n",
    "participants_game = []\n",
    "\n",
    "min_participants = 4\n",
    "max_participants = 6\n",
    "\n",
    "for name in participants_pool:\n",
    "    if len(participants_game) < min_participants-1:\n",
    "        participants_game.append(name)\n",
    "        print(\"Noch nicht genügend Teilnehmer:innen, wir brauchen noch\", min_participants-len(participants_game), \"😬\")\n",
    "        \n",
    "        #zur Überprüfung der aktuellen Teilnehmer:innenliste\n",
    "        print(\"Aktuell auf der Liste:\", participants_game, \"\\n\")\n",
    "        continue\n",
    "        \n",
    "    elif len(participants_game) >= max_participants:\n",
    "        print(\"Leider ist das Spiel voll 🥲\")\n",
    "        print(\"Aktuelle Teilnehmer:innen: \", participants_game)\n",
    "        break\n",
    "        \n",
    "    elif len(participants_game) >= max_participants:\n",
    "        participants_game.pop(0)\n",
    "        \n",
    "    participants_game.append(name)\n",
    "    print(\"Das Spiel läuft 😍\")\n",
    "    \n",
    "    #zur Überprüfung der aktuellen Teilnehmer:innenliste\n",
    "    print(\"Aktuell auf der Liste:\", participants_game, \"\\n\")"
   ]
  },
  {
   "cell_type": "markdown",
   "id": "609bb497-d468-4369-b484-f6ba13a33a0b",
   "metadata": {
    "deletable": false,
    "editable": false
   },
   "source": [
    "*** \n",
    "\n",
    "Mit dem hier verwendeten Know-How können wir ohne allzu viel Modifikationen auch ein sog. n-gram-Skript schreiben. N-gramme sind u.a. in der Korpuslinguistik sehr beliebte Analyseeinheiten. Anstatt einzelne Wörter (oder andere Einheiten, siehe unten) zu betrachten, schaut man sich z.B. immer zwei aufeinanderfolgende Wörter an, oder aber drei aufeinanderfolgende, etc. Im ersten Fall spricht man von Wort-Bigrammen, im zweiten von Wort-Trigrammen. \n",
    "\n",
    "Der Satz \"Ich gehe am Abend noch spazieren\" enthält also folgende Wort-Bigramme: \"Ich gehe\", \"gehe am\", \"am Abend\", \"Abend noch\", \"noch spazieren\". Da Sprachproduktion in vielerlei Hinsicht regelhaft ist, kann man solche Wort-Bigramme u.a. heranziehen, um Texte in bestimmte Textsorten zu klassifizieren (der Annahme folgend, dass bestimmte Wort-Bigramme überdurchschnittlich häufig in bestimmten Textsorten auftreten) oder um Fragen der Autorschaft eines Textes zu klären (der Annahme folgend, dass bestimmte Wort-Bigramme von bestimmten Autor:innen überdurschnittlich häufig verwendet werden). \n",
    "\n",
    "Allgemein formuliert erhalten wir n-gramme, indem wir einen Text (oder sonst eine sequentielle Datei) in kleinere Einheiten unterteilen (oftmals eben Wörter, aber auch Sätze, Phrasen oder Buchstaben etc. sind möglich) und dann *n* aufeinanderfolgende (also in der Sequenz konsekutiv auftretende) Einheiten als ein n-gram zusammenfassen. \n",
    "\n",
    "***\n",
    "\n",
    "✏️ **Übung 8:** Deine Aufgabe ist es nun, ein Skript zu schreiben, dass den oben im Beispiel verwendeten Satz nimmt und die darin vorkommenden Wort-Bigramme auf der Liste ```all_ngrams``` speichert. Neben ```all_ngrams``` wirst Du als Zwischenschritt beim Zusammentragen der Wort-Bigramme eine zweite Liste namens ```current_ngrams``` brauchen. Beide Listen sind bereits im Code gegeben und werden leer initialisiert. \n",
    "\n",
    "Wie erwähnt ist dieses Problem dem obigen im Gesellschaftsspiel-Skript sehr ähnlich. Denk daran, so wenig wie möglich zu hardcoden. Konkret: Verwende, wo möglich, Variablen, sodass Dein Skript problemlos auch für andere Sätze oder zum Errechnen von Tri-, Quadrigrammen etc. benutzt werden kann. "
   ]
  },
  {
   "cell_type": "code",
   "execution_count": 28,
   "id": "8be01ebf-c91b-4914-b42f-d1db57fde829",
   "metadata": {
    "tags": []
   },
   "outputs": [],
   "source": [
    "#In diese Zelle kannst Du den Code zur Übung schreiben.\n",
    "\n",
    "sentence = \"Ich gehe am Abend noch spazieren\"\n",
    "\n",
    "all_ngrams = []\n",
    "current_ngram = []\n",
    "\n",
    "\n"
   ]
  },
  {
   "cell_type": "markdown",
   "id": "592ce804-6b70-455a-b7a2-c294eb7be362",
   "metadata": {
    "deletable": false,
    "editable": false
   },
   "source": [
    "***\n",
    "\n",
    "Sehr gut!\n",
    "\n",
    "Wie erwähnt gibt es immer mehrere, gleichwertige Lösungen für ein bestimmtes Programmierproblem. Um das zu exemplifizieren, findest Du in der folgenden Zelle *eine* weitere Methode zur Berechnung von n-grammen. Der Code ist ziemlich kompakt und wird im Anschluss an die Zelle erläutert. Versuche aber erst, ihn selbst nachzuvollziehen."
   ]
  },
  {
   "cell_type": "code",
   "execution_count": 29,
   "id": "d7a66d33-c856-475e-aeb8-5c18e3be3066",
   "metadata": {},
   "outputs": [
    {
     "name": "stdout",
     "output_type": "stream",
     "text": [
      "['Ich gehe', 'gehe am', 'am Abend', 'Abend noch', 'noch spazieren']\n"
     ]
    }
   ],
   "source": [
    "sentence = \"Ich gehe am Abend noch spazieren\"\n",
    "words = sentence.split()\n",
    "n = 2\n",
    "\n",
    "ngrams = []\n",
    "\n",
    "for i in range(len(words)-n+1):\n",
    "    ngrams.append(\" \".join(words[i:i+n]))\n",
    "\n",
    "print(ngrams)"
   ]
  },
  {
   "cell_type": "markdown",
   "id": "d247fc2d-2725-4889-b6fb-e6f144622462",
   "metadata": {
    "deletable": false,
    "editable": false
   },
   "source": [
    "Die ersten paar Zeilen des Codes sind die gleichen wie in der ersten Variante. Der Unterschied spielt sich in der `for`-Schleife ab: In der ersten Variante wird grob formuliert in jeder Iteration ein neues n-gram (`current_ngram`) geschaffen, indem das bisher erste Wort vom letzten n-gram entfernt wird und ein neues hinten angehängt wird. Jedes n-gram wird dann `all_ngrams` angehängt. In der zweiten Variante hier \"schieben\" wir hingegen eine Art \"Fenster\" über `words`: Mittels Slicing schneiden wir uns eine neue Liste von der Länge `n` aus `words` heraus und rücken bei jeder Iteration den Start- und Endindex für das Slicing um eine Position vor. Die neue Liste fügen wir jeweils mit der uns aus dem zweiten Notebook bekannten `join`-Methode zu einem string zusammen und hängen diesen als n-gram `ngrams` an. Das Resultat ist natürlich dasselbe wie bei der ersten Variante. "
   ]
  },
  {
   "cell_type": "markdown",
   "id": "73015204-fcb8-411b-a596-2553e560d2ae",
   "metadata": {
    "deletable": false,
    "editable": false
   },
   "source": [
    "Zurück zu den Operationen bei Listen: Wie bei strings mit der ```find```-Methode, kann man auch in Listen nach einem bestimmten Element suchen und kriegt den Index (des ersten Vorkommens) zurück. Bei Listen nennt sich die entsprechende Methode allerdings ```index```:"
   ]
  },
  {
   "cell_type": "code",
   "execution_count": 30,
   "id": "7b675221-290c-400d-a06f-bede6fbd5b26",
   "metadata": {},
   "outputs": [
    {
     "name": "stdout",
     "output_type": "stream",
     "text": [
      "2\n"
     ]
    }
   ],
   "source": [
    "shopping_list = [\"Bananen\", \"Orangen\", \"Kiwis\"]\n",
    "print(shopping_list.index(\"Kiwis\"))"
   ]
  },
  {
   "cell_type": "markdown",
   "id": "97358002-c919-4e7a-96ae-5f73e6e390a2",
   "metadata": {
    "deletable": false,
    "editable": false
   },
   "source": [
    "Probier gerne aus, was passiert, wenn Du nach einem Element suchst, das nicht in der Liste enthalten ist. \n",
    "\n",
    "Um zu überprüfen, ob ein Element in einer Liste enthalten ist (und wenn nein, um einer Fehlermeldung vorzubeugen), kann man wie bei strings das ```in```-Statement einsetzen:"
   ]
  },
  {
   "cell_type": "code",
   "execution_count": 31,
   "id": "4208e5f9-683f-4472-bb71-d971cc7fe0aa",
   "metadata": {},
   "outputs": [
    {
     "name": "stdout",
     "output_type": "stream",
     "text": [
      "False\n"
     ]
    }
   ],
   "source": [
    "print(\"Erdbeeren\" in shopping_list)"
   ]
  },
  {
   "cell_type": "markdown",
   "id": "7b6e9947-5c66-4d76-8386-95d9f5023c42",
   "metadata": {
    "deletable": false,
    "editable": false
   },
   "source": [
    "***\n",
    "\n",
    "✏️ **Übung 9:** Erinnerst Du Dich an die Übung mit den beiden Einkaufslisten, die zu einer zusammengeführt werden sollten, aus dem zweiten Notebook? Damals haben wir mithilfe von ```set``` sichergestellt, dass keine doppelten Elemente auf der zusammengeführten Einkaufsliste vorkommen. In dieser Übung wollen wir es etwas manueller machen (zu Übungszwecken sehen wir vom oben verkündeten Code-Reuse-Mantra ab). Iteriere über eine der beiden Listen und füge der anderen Liste sämtliche Lebensmittel an, sofern sie nicht bereits auf dieser anderen Liste stehen. Gib Dir anschließend die andere Liste aus. Diese sollte dann einer zusammengeführten Liste entsprechen."
   ]
  },
  {
   "cell_type": "code",
   "execution_count": 32,
   "id": "8728303a-f0df-4e41-8d52-cb715c374117",
   "metadata": {},
   "outputs": [],
   "source": [
    "#In diese Zelle kannst Du den Code zur Übung schreiben.\n",
    "\n",
    "my_shopping_list = [\"Brot\", \"Orangen\", \"Feldsalat\", \"Hafermilch\"]\n",
    "partner_shopping_list = [\"Hafermilch\", \"Kekse\", \"Mehl\", \"Brot\"]\n",
    "\n",
    "\n"
   ]
  },
  {
   "cell_type": "markdown",
   "id": "ccd81492-b5d5-420c-9355-d6c3fb324a42",
   "metadata": {
    "deletable": false,
    "editable": false
   },
   "source": [
    "***\n",
    "\n",
    "Abschließend wollen wir zwei Listenmethoden anschauen, mit denen wir die Elemente auf einer Liste neu sortieren können: ```sort``` und ```reverse```. ```sort``` sortiert eine Liste standardmäßig in aufsteigender Reihenfolge. Folgende Beispiele mit Zahlen und strings veranschaulichen dies:"
   ]
  },
  {
   "cell_type": "code",
   "execution_count": 33,
   "id": "647eb086-192d-4cd2-a202-dc516aafb158",
   "metadata": {},
   "outputs": [
    {
     "name": "stdout",
     "output_type": "stream",
     "text": [
      "['Alpha', 'Beta', 'Delta', 'Gamma'] [1, 2, 3, 4, 5, 6]\n"
     ]
    }
   ],
   "source": [
    "list_of_strings = [\"Beta\", \"Gamma\", \"Alpha\", \"Delta\"]\n",
    "list_of_numbers = [2,3,6,4,1,5]\n",
    "\n",
    "list_of_strings.sort()\n",
    "list_of_numbers.sort()\n",
    "\n",
    "print(list_of_strings, list_of_numbers)"
   ]
  },
  {
   "cell_type": "markdown",
   "id": "401efff2-3874-4b24-abee-7cdfd3cafe17",
   "metadata": {
    "deletable": false,
    "editable": false
   },
   "source": [
    "Handelt es sich bei den Listenelementen um strings, so wird alphabetisch sortiert (und nicht etwa nach dem griechischen Alphabet 😉). \n",
    "\n",
    "```sort``` nimmt optional Parameter. Zum Beispiel kann spezifiziert werden, dass in absteigender Reihenfolge sortiert werden soll:"
   ]
  },
  {
   "cell_type": "code",
   "execution_count": 34,
   "id": "cec2f652-9961-43a4-bbc2-d682ca3a5fe1",
   "metadata": {},
   "outputs": [
    {
     "name": "stdout",
     "output_type": "stream",
     "text": [
      "[6, 5, 4, 3, 2, 1]\n"
     ]
    }
   ],
   "source": [
    "list_of_numbers.sort(reverse=True)\n",
    "print(list_of_numbers)"
   ]
  },
  {
   "cell_type": "markdown",
   "id": "7c79d6fa-5549-463c-aec4-089e3d14f5ed",
   "metadata": {
    "deletable": false,
    "editable": false
   },
   "source": [
    "Ebenso kann man mit dem ```key```-Parameter angeben, nach welchem benutzerdefinierten Kriterium sortiert werden soll. Wir könnten eine Liste von strings z.B. nach der Länge der strings sortieren. Dazu brauchen wir eine etwas komplizierte sog. `lambda`-Funktion (noch so ein griechischer Buchstabe...). Ohne die Details genauer zu erläutern: Der hier verwendete ```key```-Parameter geht Element (```x```) für Element auf der Liste durch und rechnet für jedes Element seine Länge aus und sortiert anschließend die Liste nach den jeweils errechneten Längen:"
   ]
  },
  {
   "cell_type": "code",
   "execution_count": 35,
   "id": "1269202f-cc7e-46f0-9f27-85783f1cd144",
   "metadata": {},
   "outputs": [
    {
     "name": "stdout",
     "output_type": "stream",
     "text": [
      "['Beta', 'Alpha', 'Delta', 'Gamma']\n"
     ]
    }
   ],
   "source": [
    "list_of_strings.sort(key=lambda x: len(x))\n",
    "print(list_of_strings)"
   ]
  },
  {
   "cell_type": "markdown",
   "id": "892e1a8f-b733-40aa-b5c8-bfd5ef50a55d",
   "metadata": {
    "deletable": false,
    "editable": false
   },
   "source": [
    "Wie wir sehen, wurde die Liste im zweiten Schritt wieder standardmäßig alphabetisch sortiert.\n",
    "\n",
    "Im Zusammenhang mit ```sort``` ist auch die Funktion (!) ```sorted``` interessant. ```sorted``` nimmt ein iterierbares Objekt (in Klammern, da eine Funktion!) und gibt eine sortierte Liste zurück. Die Funktion akzeptiert also Listen selbst, aber u.a. auch dictionaries oder strings:"
   ]
  },
  {
   "cell_type": "code",
   "execution_count": 36,
   "id": "b385febf-7f16-4e25-86d4-6bc7822c163a",
   "metadata": {},
   "outputs": [
    {
     "name": "stdout",
     "output_type": "stream",
     "text": [
      "[1.41, 1.42, 1.43, 1.44] \n",
      " [('sein', 35), ('haben', 28)] \n",
      " ['D', 'E', 'F', 'a', 'b', 'c']\n",
      "<class 'list'>\n"
     ]
    }
   ],
   "source": [
    "a_list = [1.43, 1.44, 1.42, 1.41]\n",
    "dictionary = {\"haben\": 28, \"sein\": 35}\n",
    "string = \"abcDEF\"\n",
    "\n",
    "a_list_sorted = sorted(a_list)\n",
    "dictionary_sorted = sorted(dictionary.items(), key=lambda x: x[1], reverse=True)\n",
    "string_sorted = sorted(string)\n",
    "\n",
    "print(a_list_sorted, \"\\n\", dictionary_sorted, \"\\n\", string_sorted)\n",
    "print(type(dictionary_sorted))"
   ]
  },
  {
   "cell_type": "markdown",
   "id": "d73f6b3e-d219-4f02-b056-40b60558082c",
   "metadata": {
    "deletable": false,
    "editable": false
   },
   "source": [
    "In dieser Zelle lernen wir Folgendes:\n",
    "    \n",
    "- Auch ```sorted``` sortiert standardmäßig in aufsteigender Reihenfolge. Hier können wir ebenfalls ```reverse=True``` spezifizieren, um die absteigende Reihenfolge zu erhalten.\n",
    "- Bei strings wird jedes einzelne Zeichen als zu sortierendes Element behandelt.\n",
    "- Großbuchstaben stehen im Alphabet vor Kleinbuchstaben (das gilt übrigens auch für die Listenmethode ```sort```).\n",
    "- Der ```key```-Parameter kann ebenfalls benutzerdefiniert werden. Im Falle des dictionary geht Python Schlüssel-Werte-Paar (```x```) für Schlüssel-Werte-Paar durch, nimmt den Wert (```x[1]```; ```x[0]``` wäre der zugehörige Schlüssel) und sortiert nach den Werten. Zur verwendeten ```items```-Methode für dictionaries siehe unten.\n",
    "- Das Resultat von ```sorted``` weisen wir *immer* einer Variablen zu, unabhängig von der (Un)veränderlichkeit des betreffenden Objekts. Grund dafür ist, dass Funktionen, im Gegensatz zu Methoden, immer nur Werte zurückgeben, nie aber etwas an den ihnen übergegeben Objekten verändern. \n",
    "- Sortieren wir ein dictionary, so erhalten wir eine Liste zurück. Alles andere würde keinen Sinn ergeben, denn dictionaries \"speichern\" ihre Schlüssel-Werte-Paare nicht in einer bestimmten Reihenfolge \"ab\".\n",
    "\n",
    "Abschließend schauen wir uns noch ```reverse``` an. Wie der Name sagt, kehrt diese Methode ganz einfach die Reihenfolge einer Liste um:"
   ]
  },
  {
   "cell_type": "code",
   "execution_count": 37,
   "id": "3e59a529-0a3f-4af4-b361-681efae49603",
   "metadata": {},
   "outputs": [
    {
     "name": "stdout",
     "output_type": "stream",
     "text": [
      "['a', 'b', 'c', 'd', 'e', 'f', 'g', 'h', 'i', 'j', 'k', 'l', 'm', 'n', 'o', 'p', 'q', 'r', 's', 't', 'u', 'v', 'w', 'x', 'y', 'z']\n"
     ]
    }
   ],
   "source": [
    "list_of_letters = ['z', 'y', 'x', 'w', 'v', 'u', 't', 's', 'r', 'q', 'p', 'o', 'n', \n",
    "                   'm', 'l', 'k', 'j', 'i', 'h', 'g', 'f', 'e', 'd', 'c', 'b', 'a']\n",
    "\n",
    "list_of_letters.reverse()\n",
    "\n",
    "print(list_of_letters)"
   ]
  },
  {
   "cell_type": "markdown",
   "id": "4a1ec92b-f7d5-4367-a275-25c81c6e2210",
   "metadata": {
    "deletable": false,
    "editable": false
   },
   "source": [
    "In diesem Beispiel hätte `sort` natürlich den gleichen Effekt gehabt. Soviel zum Thema Listen. \n",
    "\n",
    "Bevor wir zu dictionaries übergehen, werfen wir noch einen Blick auf die Technik *List Comprehension*. Es handelt sich dabei um eine fortgeschrittene Technik, mit der Listen auf sehr elegante Weise erzeugt werden können. Alles, was wir gleich mithilfe einer List Comprehension angehen, kannst Du bereits mithilfe anderer Techniken lösen. Der Vorteil von List Comprehensions besteht darin, dass wir viele Schritte auf eine einzige Zeile Code komprimieren können. Ob Du zukünftig List Comprehension verwendest oder nicht, steht Dir frei. In jedem Fall macht es Sinn, dass Du die Technik gesehen hast und weißt, wozu sie eingesetzt wird.\n",
    "\n",
    "### Exkurs: List Comprehension\n",
    "\n",
    "Am Anfang des Abschnitts *Operationen bei Listen* (s.o.) haben wir die bis dahin erlernten Schritte des Preprocessing wie folgt zusammengefasst:"
   ]
  },
  {
   "cell_type": "code",
   "execution_count": 38,
   "id": "18f14a0a-116d-48d7-b313-599a773eaba6",
   "metadata": {},
   "outputs": [
    {
     "name": "stdout",
     "output_type": "stream",
     "text": [
      "['gesagt', 'ist', 'gesagt']\n"
     ]
    }
   ],
   "source": [
    "sentence = \"Gesagt ist gesagt.\"\n",
    "\n",
    "#eigentlicher Code\n",
    "words = sentence.split()\n",
    "preprocessed_words = []\n",
    "for word in words:\n",
    "    word = word.lower()\n",
    "    word = word.strip(\".\")\n",
    "    preprocessed_words.append(word)\n",
    "\n",
    "print(preprocessed_words)"
   ]
  },
  {
   "cell_type": "markdown",
   "id": "534e57b2-828b-43b8-af60-f80709f446b1",
   "metadata": {
    "deletable": false,
    "editable": false
   },
   "source": [
    "Dieser Code eignet sich wunderbar, um aus einem string eine Liste mit bereinigten Wörtern zu erstellen. Er besteht aus sechs Zeilen Code und ließe sich zwar auf drei Zeilen komprimieren (probier's aus!), nicht jedoch auf eine einzige Zeile wie hier: "
   ]
  },
  {
   "cell_type": "code",
   "execution_count": 39,
   "id": "ff0ac115-a61f-45b1-8d46-71bdd1c5913c",
   "metadata": {},
   "outputs": [
    {
     "name": "stdout",
     "output_type": "stream",
     "text": [
      "['gesagt', 'ist', 'gesagt']\n"
     ]
    }
   ],
   "source": [
    "preprocessed_words = [word.lower().strip(\".\") for word in sentence.split()]\n",
    "\n",
    "print(preprocessed_words)"
   ]
  },
  {
   "cell_type": "markdown",
   "id": "70dcb01e-8f31-4398-800e-e8abf83257b8",
   "metadata": {
    "deletable": false,
    "editable": false
   },
   "source": [
    "Das ist eine List Comprehension. Sie verpackt sämtliche Schritte von oben in *eine* Zeile Code. Das Resultat ist dasselbe. \n",
    "\n",
    "Knapp formuliert iterieren wir hier – wie bei einer ```for```-Schleife – Wort für Wort (```word[...] for word```) über eine Liste mit (noch unbereinigten) Wörtern (```sentence.split()```) und wenden die Methoden ```lower``` und ```strip``` auf jedes Wort an (Methoden können wie bereits oben gezeigt einfach aneinander gehängt werden). Das bereingte Wort wird dann an eine neue Liste angehängt, die, sobald komplett, mit ```preprocessed_words``` referenziert wird. Dass die bereinigten Wörter nach und nach an diese neue Liste angehängt werden, geht nicht klar aus dem Code hervor (im Gegensatz zur langen Version oben, wo wir ein Wort nach dem anderen mittels ```append``` an die neue Liste anhängen). Die Kürze des Codes geht hier also auf Kosten der Verständlichkeit."
   ]
  },
  {
   "cell_type": "markdown",
   "id": "1ecb72a4-cf9a-4cd8-bda7-8cca0722933c",
   "metadata": {
    "deletable": false,
    "editable": false
   },
   "source": [
    "Schauen wir uns die einzelnen Bestandteile einer List Comprehension in ihrer grundlegenden Syntax an:\n",
    "\n",
    "```new_list = [expression for element in iterable]```\n",
    "\n",
    "Eine List Comprehension wird **immer** von eckigen Klammern umrahmt (die eckigen Klammern machen auch deutlich, dass das Result der List Comprehension stets eine Liste ist). Innerhalb der Klammern gibt es stets folgende drei Bestandteile:\n",
    "- ```iterable``` definiert das Objekt, über das wir iterieren.\n",
    "- ```element``` ist die Variable für das einzelne Element bei der Iteration über ```iterable``` (im Beispiel oben, in der ersten Iteration \"Gesagt\", in der zweiten \"ist\", in der dritten \"gesagt.\"). Die Variable kann wie immer frei benannt werden.\n",
    "\n",
    "Bis hierhin entspricht die Syntax dem Anweisungskopf einer ```for```-Schleife. Was nun bei einer ```for```-Schleife im  Anweisungskörper steht (im Beispiel oben die Methoden ```lower```, ```strip``` und ```append```), wird bei einer List Comprehension in die ```expression``` verpackt:\n",
    "\n",
    "- ```expression``` definiert i.d.R. einen komplexen Ausdruck, der nach und nach auf jedes ```element``` angewandt wird (im Beispiel oben werden ```lower``` und ```strip``` auf jedes ```element``` angewandt). Zur Erinnerung: Ein komplexer Ausdruck ergibt, wenn ausgerechnet, immer einen Wert (vgl. erstes Notebook). Genau dieser Wert wird an die durch die List Comprehension entstehende, neue Liste angehängt (```new_list```). Wie wir unten sehen werden, kann anstatt eines komplexen Ausdrucks auch nur die Variable ```element``` (ohne dass z.B. eine Methode angewandt würde) oder gar ein ganz anderes Objekt da stehen.\n",
    "\n",
    "Neben dem ```append```-Schritt fällt bei List Comprehensions auch das Initialisieren einer leeren Liste vor der ```for```-Schleife (an die innerhalb der Schleife dann die einzelnen bearbeiteten Elemente angehängt werden) weg. Man könnte sagen, dass wir uns bei List Comprehensions mehr darauf fokussieren können, *was* in der neuen Liste landen soll, anstatt uns damit zu beschäftigen *wie* die neue Liste konstruiert wird (vgl. [realpython.com](https://realpython.com/list-comprehension-python/))"
   ]
  },
  {
   "cell_type": "markdown",
   "id": "46e9d929-5b58-4b5b-b777-a614c3826fd2",
   "metadata": {
    "deletable": false,
    "editable": false
   },
   "source": [
    "List Comprehensions können aber noch mehr. In Kombination mit bedingten Anweisungen können sie auf folgende zwei Arten noch gezielter eingesetzt werden:\n",
    "\n",
    "1) Wir können einen Filter auf das Objekt anwenden, über das wir iterieren (```iterable```). Wir definieren dazu eine bedingte Anweisung, die bei jedem ```element``` überprüft, ob die Bedingung zutrifft. Nur wenn die Bedingung zutrifft, wird ```expression``` auf ```element``` angewandt und der daraus resultierende Wert an die neue Liste angehängt. Die grundlegende Syntax wird dafür folgendermaßen erweitert:\n",
    "\n",
    "    ```new_list = [expression for element in iterable if condition]```\n",
    "\n",
    "Dies können wir z.B. benutzen, um aus aus einem string sämtliche kurzen Wörter herauszufiltern, hier am Beispiel des ersten Absatzes des ersten Artikels des deutschen Grundgesetzes:"
   ]
  },
  {
   "cell_type": "code",
   "execution_count": 40,
   "id": "e2b013c2-e6da-4254-9fad-3e4f4751416e",
   "metadata": {},
   "outputs": [
    {
     "name": "stdout",
     "output_type": "stream",
     "text": [
      "['Die', 'des', 'ist', 'Sie', 'zu', 'und', 'zu', 'ist']\n"
     ]
    }
   ],
   "source": [
    "constitution = \"Die Würde des Menschen ist unantastbar. Sie zu achten und zu schützen ist Verpflichtung aller staatlichen Gewalt.\"\n",
    "\n",
    "short_words = [word for word in constitution.split() if len(word) < 4]\n",
    "print(short_words)"
   ]
  },
  {
   "cell_type": "markdown",
   "id": "1828f20e-e303-4498-9685-f37091487e8f",
   "metadata": {
    "deletable": false,
    "editable": false
   },
   "source": [
    "Wie oben erwähnt, kann, wie hier, bei ```expression``` nur die Variable für ```element``` stehen. So verwenden wir die List Comprehension schlicht zum Erstellen einer gefilterten Liste, ohne dabei die Elemente, die es \"in die Liste schaffen\" zusätzlich zu modifizieren. \n",
    "\n",
    "Natürlich lässt sich das Filtern auch mit der Anwendung eines komplexen Ausdrucks kombinieren:"
   ]
  },
  {
   "cell_type": "code",
   "execution_count": 41,
   "id": "3adffe51-b6a0-4101-916c-2e5f28d44a4a",
   "metadata": {},
   "outputs": [
    {
     "name": "stdout",
     "output_type": "stream",
     "text": [
      "['unantastbar', 'Verpflichtung', 'staatlichen']\n"
     ]
    }
   ],
   "source": [
    "long_words = [word.strip(\".\") for word in constitution.split() if len(word) > 10]\n",
    "print(long_words)"
   ]
  },
  {
   "cell_type": "markdown",
   "id": "e4cdf69c-aaed-461a-ae02-def47da4e1ad",
   "metadata": {
    "deletable": false,
    "editable": false
   },
   "source": [
    "Hier entfernen wir mittels ```strip``` bei ```expression``` den Punkt am Ende von \"unantastbar.\".\n",
    "\n",
    "2) Wir können die Anwendung von ```expression``` an eine bedingte Anweisung knüpfen. Konkret können wir zwei verschiedene ```expressions``` definieren, die abhängig davon, ob die Bedingung auf das jeweilige ```element``` zutrifft, angewandt werden. Die grundlegende Syntax sieht so aus:\n",
    "\n",
    "    ```new_list = [expression1 if condition else expression2 for element in iterable]```\n",
    "\n",
    "Damit können wir z.B. die oben vorgestellte ```swapcase```-Methode nachprogrammieren:"
   ]
  },
  {
   "cell_type": "code",
   "execution_count": 42,
   "id": "97ea1e8c-36b9-400e-bd43-940acbdb9ed9",
   "metadata": {},
   "outputs": [
    {
     "name": "stdout",
     "output_type": "stream",
     "text": [
      "dIE wÜRDE DES mENSCHEN IST UNANTASTBAR. sIE ZU ACHTEN UND ZU SCHÜTZEN IST vERPFLICHTUNG ALLER STAATLICHEN gEWALT.\n",
      "True\n"
     ]
    }
   ],
   "source": [
    "swapped_case_list = [letter.lower() if letter.isupper() else letter.upper() for letter in constitution]\n",
    "\n",
    "swapped_case_string = \"\".join(swapped_case_list)\n",
    "\n",
    "print(swapped_case_string)\n",
    "\n",
    "#Überprüfen, ob das Resultat dasselbe wie bei der swapcase-Methode ist\n",
    "print(swapped_case_string == constitution.swapcase())"
   ]
  },
  {
   "cell_type": "markdown",
   "id": "c537b883-f392-41a0-a668-3cafee25357a",
   "metadata": {
    "deletable": false,
    "editable": false
   },
   "source": [
    "Bei jedem ```letter``` wird überprüft, ob es sich um einen Großbuchstaben handelt, und wenn ja, wird ```letter.lower()``` darauf angewandet (```expression1```), andernfalls ```letter.upper()``` (```expression2```). In jedem Fall wird der modifizierte Buchstabe an die neue Liste ```swapped_case_list``` angehängt. Mit ```join``` fügen wir die einzelnen Listenelemente wieder zu einem string zusammen.\n",
    "\n",
    "Die beiden Varianten der Einbindung von bedingten Anweisungen in List Comprehensions lassen sich auch miteinander kombinieren. Das führt jedoch zu ziemlich langen, schwierig zu lesenden Codezeilen, weswegen davon i.d.R. abgesehen wird."
   ]
  },
  {
   "cell_type": "markdown",
   "id": "deece023-abb7-4f60-8d49-af8d8f8ac536",
   "metadata": {
    "deletable": false,
    "editable": false
   },
   "source": [
    "***\n",
    "\n",
    "✏️ **Übung 10:** ```temperatures``` ist eine Liste mit unterschiedlichen Messtemperaturen in Grad Celsius. Sie beinhält positive und negative Werte sowie fehlende Werte, die mit \"NA\" gekennzeichnet sind (für *not available*, etwa weil das Thermometer ausfiel). Erstelle nun mittels List Comprehension folgende neuen Listen. Überlege Dir jeweils genau, an welcher Stelle in der List Comprehension Du die bedingte Anweisung einbauen musst.   \n",
    "\n",
    "1. ```temperatures_preprocessed``` soll eine Liste referenzieren, die nur numerische Werte enthält.\n",
    "\n",
    "Erstelle ausgehend von ```temperatures_preprocessed``` diese zwei weiteren Listen.\n",
    "\n",
    "2. ```positives_replaced``` soll eine Liste referenzieren, auf der sämtliche positiven Werte durch 0.0 ersetzt werden.\n",
    "3. ```only_positives``` soll eine Liste referenzieren, die nur positive Werte beinhält."
   ]
  },
  {
   "cell_type": "code",
   "execution_count": 43,
   "id": "2177137c-5d4b-4b2c-bdb2-8553fed2632c",
   "metadata": {},
   "outputs": [],
   "source": [
    "#In diese Zelle kannst Du den Code zur Übung schreiben.\n",
    "\n",
    "temperatures = [18.6, 23.4, \"NA\", 12.2, -3.1, 33.7, -10.9, -17.8, \"NA\", 7.0, 9.1, -0.2, 0.0, 8.6, \"NA\", \"NA\", 39.4, -29.8]\n",
    "\n",
    "\n"
   ]
  },
  {
   "cell_type": "markdown",
   "id": "daf04959-1bfa-4a07-bef9-80baabd40849",
   "metadata": {
    "deletable": false,
    "editable": false
   },
   "source": [
    "***\n",
    "\n",
    "## Operationen bei dictionaries\n",
    "\n",
    "Um abschließend Operationen bei dictionaries kennenzulernen, verwenden wir folgendes dictionary mit österreichischen Bundesländern:"
   ]
  },
  {
   "cell_type": "code",
   "execution_count": 44,
   "id": "bf8ba7c8-b356-4fc7-b2db-df2fbe50c988",
   "metadata": {},
   "outputs": [],
   "source": [
    "federal_states = {\"Vorarlberg\": \"Bregenz\", \"Tirol\": \"Innsbruck\", \"Kärnten\": \"Klagenfurt\",\n",
    "                \"Steiermark\": \"Graz\"}"
   ]
  },
  {
   "cell_type": "markdown",
   "id": "7fe1f7b5-d1fd-4289-8091-81579c683168",
   "metadata": {
    "deletable": false,
    "editable": false
   },
   "source": [
    "Um die Hauptstadt zu einem Bundesland zu erhalten, also den Wert zu einem Schlüssel, können wir, wie wir bereits gesehen haben, folgende Syntax verwenden:"
   ]
  },
  {
   "cell_type": "code",
   "execution_count": 45,
   "id": "d9d4ed7c-7449-4c9f-8929-7e55d18951fb",
   "metadata": {},
   "outputs": [
    {
     "name": "stdout",
     "output_type": "stream",
     "text": [
      "Graz\n"
     ]
    }
   ],
   "source": [
    "print(federal_states[\"Steiermark\"])"
   ]
  },
  {
   "cell_type": "markdown",
   "id": "62a46d67-47b1-4295-8b3b-e662409274c4",
   "metadata": {
    "deletable": false,
    "editable": false
   },
   "source": [
    "Was passiert, wenn wir den Wert zu einem Schlüssel erfragen, der nicht im dictionary ist?"
   ]
  },
  {
   "cell_type": "code",
   "execution_count": 46,
   "id": "2e1e312b-1375-4064-962f-d8325033ee0e",
   "metadata": {},
   "outputs": [
    {
     "ename": "KeyError",
     "evalue": "'Oberösterreich'",
     "output_type": "error",
     "traceback": [
      "\u001b[0;31m---------------------------------------------------------------------------\u001b[0m",
      "\u001b[0;31mKeyError\u001b[0m                                  Traceback (most recent call last)",
      "Cell \u001b[0;32mIn[46], line 1\u001b[0m\n\u001b[0;32m----> 1\u001b[0m \u001b[38;5;28mprint\u001b[39m(\u001b[43mfederal_states\u001b[49m\u001b[43m[\u001b[49m\u001b[38;5;124;43m\"\u001b[39;49m\u001b[38;5;124;43mOberösterreich\u001b[39;49m\u001b[38;5;124;43m\"\u001b[39;49m\u001b[43m]\u001b[49m)\n",
      "\u001b[0;31mKeyError\u001b[0m: 'Oberösterreich'"
     ]
    }
   ],
   "source": [
    "print(federal_states[\"Oberösterreich\"])"
   ]
  },
  {
   "cell_type": "markdown",
   "id": "ec7b3620-f126-4b05-9f41-31bfa43fa6f1",
   "metadata": {
    "deletable": false,
    "editable": false
   },
   "source": [
    "Sind wir uns nicht sicher, ob ein Schlüssel in einem dictionary existiert, bietet sich folgende dictionary-Methode an:"
   ]
  },
  {
   "cell_type": "code",
   "execution_count": 47,
   "id": "68ef1c67-67c0-467f-8015-1d0539bb0857",
   "metadata": {},
   "outputs": [
    {
     "name": "stdout",
     "output_type": "stream",
     "text": [
      "Schlüssel nicht vorhanden\n"
     ]
    }
   ],
   "source": [
    "print(federal_states.get(\"Oberösterreich\", \"Schlüssel nicht vorhanden\"))"
   ]
  },
  {
   "cell_type": "markdown",
   "id": "7838636a-fb48-41b4-93c3-ceb521817f44",
   "metadata": {
    "deletable": false,
    "editable": false
   },
   "source": [
    "Der zweite Parameter ist optional. Geben wir nichts an, so erhalten wir im Falle eines inexistenten Schlüssels ```None``` zurück. Wie bei strings und Listen können wir die Existenz eines Schlüssels in einem dictionary auch mittels ```in``` überprüfen:"
   ]
  },
  {
   "cell_type": "code",
   "execution_count": 48,
   "id": "d1b4d682-0bf7-435f-a582-ec6b3c453563",
   "metadata": {},
   "outputs": [
    {
     "name": "stdout",
     "output_type": "stream",
     "text": [
      "False\n"
     ]
    }
   ],
   "source": [
    "print(\"Oberösterreich\" in federal_states)"
   ]
  },
  {
   "cell_type": "markdown",
   "id": "5d2d1a59-ae1c-4c15-b679-663945e1a1b3",
   "metadata": {
    "deletable": false,
    "editable": false
   },
   "source": [
    "Oberösterreich ist aber natürlich ein österreichisches Bundesland, wir sollten unser dictionary also erweitern. Ein neues Schlüssel-Werte-Paar kreieren wir ganz einfach wie folgt:"
   ]
  },
  {
   "cell_type": "code",
   "execution_count": 49,
   "id": "abeca294-7f17-4405-b4a1-8071505a0599",
   "metadata": {},
   "outputs": [
    {
     "name": "stdout",
     "output_type": "stream",
     "text": [
      "Linz\n"
     ]
    }
   ],
   "source": [
    "federal_states[\"Oberösterreich\"] = \"Linz\" #definieren eines neuen Schlüssel-Werte-Paars\n",
    "print(federal_states[\"Oberösterreich\"]) #überprüfen wir dies gleich"
   ]
  },
  {
   "cell_type": "markdown",
   "id": "950c20ac-374c-4b98-b249-6c39d3856314",
   "metadata": {
    "deletable": false,
    "editable": false
   },
   "source": [
    "Angenommen, ein Bundesland erhielte eine neue Hauptstadt, so könnten wir gleichermaßen ein bestehendes Schlüssel-Werte-Paar überschreiben (probier's aus!).\n",
    "\n",
    "Was machen wir, wenn z.B. Vorarlberg aus der Republik Österreich austritt? Dafür gibt es das ```del```-Statement, das eine gewöhnungsbedürftige Syntax aufweist:"
   ]
  },
  {
   "cell_type": "code",
   "execution_count": 50,
   "id": "0aceacc1-233d-4052-a342-5761fbcf39e5",
   "metadata": {},
   "outputs": [
    {
     "name": "stdout",
     "output_type": "stream",
     "text": [
      "{'Tirol': 'Innsbruck', 'Kärnten': 'Klagenfurt', 'Steiermark': 'Graz', 'Oberösterreich': 'Linz'}\n"
     ]
    }
   ],
   "source": [
    "del federal_states[\"Vorarlberg\"]\n",
    "print(federal_states)"
   ]
  },
  {
   "cell_type": "markdown",
   "id": "c102d283-6f19-411b-8a2c-b31101838fde",
   "metadata": {
    "deletable": false,
    "editable": false
   },
   "source": [
    "Genau wie bei Listen gibt es auch für dictionaries eine ```pop```-Methode, bei der allerdings nicht ein Index angegeben wird (dictionaries haben keine Reihenfolge!), sondern ein Schlüssel:"
   ]
  },
  {
   "cell_type": "code",
   "execution_count": 51,
   "id": "e58eb78b-4549-42f6-bea0-88a4ac5f1bc6",
   "metadata": {},
   "outputs": [
    {
     "data": {
      "text/plain": [
       "'Linz'"
      ]
     },
     "execution_count": 51,
     "metadata": {},
     "output_type": "execute_result"
    }
   ],
   "source": [
    "federal_states.pop(\"Oberösterreich\")"
   ]
  },
  {
   "cell_type": "markdown",
   "id": "c19ebfe6-6429-4ec8-84b7-939ab3112bb4",
   "metadata": {
    "deletable": false,
    "editable": false
   },
   "source": [
    "Wie Du siehst, gibt ```pop``` bei dictionaries ebenfalls den Wert zurück, bevor es das Schlüssel-Werte-Paar aus dem dictionary entfernt, wie sich wie folgt überprüfen lässt:"
   ]
  },
  {
   "cell_type": "code",
   "execution_count": 52,
   "id": "941b88a4-0f92-4cd9-85af-1e30b7294a79",
   "metadata": {},
   "outputs": [
    {
     "name": "stdout",
     "output_type": "stream",
     "text": [
      "{'Tirol': 'Innsbruck', 'Kärnten': 'Klagenfurt', 'Steiermark': 'Graz'}\n"
     ]
    }
   ],
   "source": [
    "print(federal_states)"
   ]
  },
  {
   "cell_type": "markdown",
   "id": "11f8b355-a954-4620-8258-54dfb263ad57",
   "metadata": {
    "deletable": false,
    "editable": false
   },
   "source": [
    "Was passiert, wenn Du den ```pop```-Befehl nochmal ausführst? \n",
    "\n",
    "Dieses Verhalten liegt wiederum daran, dass dictionaries veränderlich sind (was wie bei Listen der Grund ist, warum wir das Resultat einer dictionary-Methode nicht einer neuen Variablen zuweisen). Wenn wir ein Schlüssel-Werte-Paar einmal entfernt haben, kann es nicht ein zweites Mal entfernt werden, denn es existiert ja nicht mehr. Solltest Du irgendwann auf Fehlermeldungen in diesem Abschnitt stossen (abgesehen von den Stellen, an denen dies intendiert ist), dann liegt das wahrscheinlich daran, dass Du die Zellen nicht in der richtigen Reihenfolge maximal einmal ausgeführt hast. Du kannst dann einfach nochmal dort starten, wo das problematische Objekt erstmals initialisiert wird.\n",
    "\n",
    "Unser Bundesländer-dictionary war von Anfang an nicht vollständig. Unten haben wir ein zweites dictionary, das die restlichen Bundesländer beinhält. Folgendermaßen können wir sie vereinen:"
   ]
  },
  {
   "cell_type": "code",
   "execution_count": 53,
   "id": "3564749b-62a3-4852-ba90-9a60e058e59f",
   "metadata": {},
   "outputs": [
    {
     "name": "stdout",
     "output_type": "stream",
     "text": [
      "{'Vorarlberg': 'Bregenz', 'Tirol': 'Innsbruck', 'Kärnten': 'Klagenfurt', 'Steiermark': 'Graz', 'Wien': 'Wien', 'Niederösterreich': 'Sankt Pölten', 'Oberösterreich': 'Linz', 'Salzburg': 'Salzburg', 'Burgenland': 'Eisenstadt'}\n"
     ]
    }
   ],
   "source": [
    "federal_states = {\"Vorarlberg\": \"Bregenz\", \"Tirol\": \"Innsbruck\", \"Kärnten\": \"Klagenfurt\",\n",
    "                \"Steiermark\": \"Graz\"} #sicherheitshalber initialisieren wir das dictionary nochmal neu\n",
    "federal_states_completion = {\"Wien\": \"Wien\", \"Niederösterreich\": \"Sankt Pölten\",\n",
    "                               \"Oberösterreich\": \"Linz\", \"Salzburg\": \"Salzburg\", \"Burgenland\": \"Eisenstadt\"}\n",
    "\n",
    "federal_states.update(federal_states_completion)\n",
    "print(federal_states)"
   ]
  },
  {
   "cell_type": "markdown",
   "id": "4f68a5f6-763c-4e95-afb8-140e9630733c",
   "metadata": {
    "deletable": false,
    "editable": false
   },
   "source": [
    "Anstatt alle Schlüssel-Werte-Paare auf einmal zurückzubekommen, ist es wie bei Listen in der Regel sinnvoller, über ein dictionary zu iterieren und Schlüssel-Werte-Paare nacheinander einzeln zurückzukriegen. Dazu gibt es die bereits verwendete ```items```-Methode, die wir direkt im Schleifenkopf anwenden:"
   ]
  },
  {
   "cell_type": "code",
   "execution_count": 54,
   "id": "7d37b88f-4c45-4f1c-97cd-475bacfdb750",
   "metadata": {},
   "outputs": [
    {
     "name": "stdout",
     "output_type": "stream",
     "text": [
      "('Vorarlberg', 'Bregenz')\n",
      "('Tirol', 'Innsbruck')\n",
      "('Kärnten', 'Klagenfurt')\n",
      "('Steiermark', 'Graz')\n",
      "('Wien', 'Wien')\n",
      "('Niederösterreich', 'Sankt Pölten')\n",
      "('Oberösterreich', 'Linz')\n",
      "('Salzburg', 'Salzburg')\n",
      "('Burgenland', 'Eisenstadt')\n"
     ]
    }
   ],
   "source": [
    "for state in federal_states.items():\n",
    "    print(state)"
   ]
  },
  {
   "cell_type": "markdown",
   "id": "3ddbd646-1633-4c28-baa7-49dc54ec16db",
   "metadata": {
    "deletable": false,
    "editable": false
   },
   "source": [
    "Wenn Du den Output genau anschaust, siehst Du, dass wir Tupel bestehend aus Schlüssel und Wert zurückbekommen. Wollen wir getrennt auf Schlüssel und Wert zugreifen, so können wir zwischen ```for``` und ```in``` auch zwei Variablen angeben:"
   ]
  },
  {
   "cell_type": "code",
   "execution_count": 55,
   "id": "ca6d8915-3661-4d71-a98a-68d2f0edc4be",
   "metadata": {},
   "outputs": [
    {
     "name": "stdout",
     "output_type": "stream",
     "text": [
      "Bregenz liegt in Vorarlberg\n",
      "Innsbruck liegt in Tirol\n",
      "Klagenfurt liegt in Kärnten\n",
      "Graz liegt in Steiermark\n",
      "Wien liegt in Wien\n",
      "Sankt Pölten liegt in Niederösterreich\n",
      "Linz liegt in Oberösterreich\n",
      "Salzburg liegt in Salzburg\n",
      "Eisenstadt liegt in Burgenland\n"
     ]
    }
   ],
   "source": [
    "for state, capital in federal_states.items():\n",
    "    print(capital, \"liegt in\", state)"
   ]
  },
  {
   "cell_type": "markdown",
   "id": "ca99ebbc-2373-4f76-8c04-78a3b5702514",
   "metadata": {
    "deletable": false,
    "editable": false
   },
   "source": [
    "Manchmal interessieren uns nur die Werte. Dann können wir stattdessen die ```values```-Methode benutzen:"
   ]
  },
  {
   "cell_type": "code",
   "execution_count": 56,
   "id": "418427b8-2aab-4cd0-85a5-4fc187cf624b",
   "metadata": {},
   "outputs": [
    {
     "name": "stdout",
     "output_type": "stream",
     "text": [
      "Bregenz\n",
      "Innsbruck\n",
      "Klagenfurt\n",
      "Graz\n",
      "Wien\n",
      "Sankt Pölten\n",
      "Linz\n",
      "Salzburg\n",
      "Eisenstadt\n"
     ]
    }
   ],
   "source": [
    "for capital in federal_states.values():\n",
    "    print(capital)"
   ]
  },
  {
   "cell_type": "markdown",
   "id": "924fef88-f8fe-4b85-97eb-08f24347a491",
   "metadata": {
    "deletable": false,
    "editable": false
   },
   "source": [
    "Sind wir stattdessen bloß an den Schlüsseln interessiert, so können wir entweder die ```keys```-Methode verwenden, oder – noch einfacher – über das dictionary selbst iterieren. Iteriert man nämlich ohne Methode über ein dictionary, so iteriert Python schlicht über die darin enthaltenen Schlüssel:"
   ]
  },
  {
   "cell_type": "code",
   "execution_count": 57,
   "id": "5689f1ed-5df8-4f75-a0c0-e9c633017c01",
   "metadata": {},
   "outputs": [
    {
     "name": "stdout",
     "output_type": "stream",
     "text": [
      "Vorarlberg\n",
      "Tirol\n",
      "Kärnten\n",
      "Steiermark\n",
      "Wien\n",
      "Niederösterreich\n",
      "Oberösterreich\n",
      "Salzburg\n",
      "Burgenland\n",
      "\n",
      "und das gleiche nochmal:\n",
      "\n",
      "Vorarlberg\n",
      "Tirol\n",
      "Kärnten\n",
      "Steiermark\n",
      "Wien\n",
      "Niederösterreich\n",
      "Oberösterreich\n",
      "Salzburg\n",
      "Burgenland\n"
     ]
    }
   ],
   "source": [
    "for state in federal_states.keys():\n",
    "    print(state)\n",
    "    \n",
    "print(\"\\nund das gleiche nochmal:\\n\")\n",
    "    \n",
    "for state in federal_states:\n",
    "    print(state)"
   ]
  },
  {
   "cell_type": "markdown",
   "id": "303af548-3b6c-41dc-b5df-cd043796626d",
   "metadata": {
    "deletable": false,
    "editable": false
   },
   "source": [
    "***\n",
    "\n",
    "✏️ **Übung 11:** Eine Funktion zum Sortieren von dictionaries kennst Du bereits von oben. Sortiere ```federal_states``` alphabetisch nach ihren Haupstädten. Das Resultat sollte eine Liste mit Tupeln bestehend aus Bundesland und Hauptstadt sein."
   ]
  },
  {
   "cell_type": "code",
   "execution_count": 58,
   "id": "4d85688d-ff0a-4064-a61d-737bfdb0fbed",
   "metadata": {},
   "outputs": [],
   "source": [
    "#In diese Zelle kannst Du den Code zur Übung schreiben.\n",
    "\n",
    "\n"
   ]
  },
  {
   "cell_type": "markdown",
   "id": "bbe131cc-d84f-4378-a2b4-93216c3b7577",
   "metadata": {
    "deletable": false,
    "editable": false
   },
   "source": [
    "***"
   ]
  },
  {
   "cell_type": "markdown",
   "id": "b740ca68-45a1-41f0-b216-1c25aa4e072c",
   "metadata": {
    "deletable": false,
    "editable": false
   },
   "source": [
    "Wichtig ist, dass Du Dir merkst, dass wir stets die ```items```-Methode brauchen, wenn wir sowohl auf Schlüssel als auch auf Wert zugreifen wollen. Reichen die Schlüssel, so können wir direkt übers dictionary iterieren bzw. einer Funktion wie ```sorted``` das dictionary direkt übergeben.\n",
    "\n",
    "Nun kommen wir zurück zu unserem Anwendungsfall. Du kannst Dich entscheiden, ob Du die Aufgabe von hier an selbst lösen möchtest, oder, alternativ, Schritt für Schritt zur Lösung geleitet werden willst. Die Aufgabe ist dann bereits in sinnvolle Schritte heruntergebrochen, die einzelnen Schritte musst Du aber immer noch selbst lösen. Am Ende kannst Du alle Schritte zu einem Skript zusammenfügen. \n",
    "\n",
    "Wenn Du es selbst probieren willst, füge Deinen Code direkt nach der Aufgabenbeschreibung ein. Die Schritt-für-Schritt-Anleitung folgt im Anschluss. \n",
    "\n",
    "***\n",
    "\n",
    "##  🔧 Anwendungsfall: Errechnen von Schlüsselwörtern\n",
    "\n",
    "Gegeben sind die Koalitionsverträge von 2018 und 2021 in ```kv18``` bzw. ```kv21```. Zusätzlich ist ```stopwords``` gegeben, eine Liste mit sog. Stopwörtern, also hochfrequenten Wörtern wie *und*, *der*, *die*, *das* etc., die wir von der Berechnung von Schlüsselwörtern ausschließen wollen. \n",
    "\n",
    "Bereinige sämtliche Wörter und entferne alle Stopwörter. Errechne anschließend für jeden Wort*type* (vgl. zweites Notebook), wie oft er vorkommt und speichere diese paarweise Information in einem geeigneten Objekt ab. Sortiere dieses Objekt in absteigender Reihenfolge und lasse Dir die zehn häufigsten Schlüsselwörter ausgeben. Wiederhole diese Schritte für den zweiten Text, um die Schlüsselwörter vergleichen zu können. "
   ]
  },
  {
   "cell_type": "code",
   "execution_count": 59,
   "id": "d3f78287-3777-4e76-9f2d-0b22904b570a",
   "metadata": {},
   "outputs": [],
   "source": [
    "#In diese Zelle kannst Du den Code zur Übung schreiben.\n",
    "\n",
    "with open(\"../3_Dateien/Koalitionsvertraege/koalitionsvertrag_2018.txt\", encoding=\"utf-8\") as f:\n",
    "    kv18 = f.read()\n",
    "    \n",
    "with open(\"../3_Dateien/Koalitionsvertraege/koalitionsvertrag_2021.txt\", encoding=\"utf-8\") as g:\n",
    "    kv21 = g.read()\n",
    "    \n",
    "stopwords = []\n",
    "\n",
    "with open(\"../3_Dateien/Koalitionsvertraege/stopwords-de.txt\", encoding=\"utf-8\")as h:\n",
    "    for line in h:\n",
    "        stopwords.append(line.rstrip())\n",
    "\n",
    "\n",
    "\n",
    "\n",
    "\n",
    "\n",
    "\n",
    "\n",
    "\n",
    "\n",
    "\n",
    "\n",
    "\n",
    "\n",
    "\n",
    "\n",
    "\n",
    "\n",
    "\n",
    "\n"
   ]
  },
  {
   "cell_type": "markdown",
   "id": "9c1776df-f52a-47a9-9f32-5a04dda9b73f",
   "metadata": {
    "deletable": false,
    "editable": false
   },
   "source": [
    "*** \n",
    "\n",
    "**Schritt-für-Schritt-Anleitung**\n",
    "\n",
    "1) Lade die drei Dateien in den Arbeitsspeicher, indem Du folgenden Code ausführst."
   ]
  },
  {
   "cell_type": "code",
   "execution_count": 60,
   "id": "814b9fd3-3d11-4c41-bec6-244a49ea1569",
   "metadata": {
    "tags": []
   },
   "outputs": [],
   "source": [
    "with open(\"../3_Dateien/Koalitionsvertraege/koalitionsvertrag_2018.txt\", encoding=\"utf-8\") as f:\n",
    "    kv18 = f.read()\n",
    "    \n",
    "with open(\"../3_Dateien/Koalitionsvertraege/koalitionsvertrag_2021.txt\", encoding=\"utf-8\") as g:\n",
    "    kv21 = g.read()\n",
    "    \n",
    "stopwords = []\n",
    "\n",
    "with open(\"../3_Dateien/Koalitionsvertraege/stopwords-de.txt\", encoding=\"utf-8\") as h:\n",
    "    for line in h:\n",
    "        stopwords.append(line.rstrip())"
   ]
  },
  {
   "cell_type": "markdown",
   "id": "c0f13b30-368e-49ef-9fba-ed3ec643d685",
   "metadata": {
    "deletable": false,
    "editable": false
   },
   "source": [
    "Im Folgenden arbeiten wir erst einmal mit ```kv18```, derselbe Code lässt sich anschließend auch auf ```kv21``` anwenden. Als erstes wollen wir von *einem* langen string mit dem ganzen Koalitionsvertrag zu einer Liste mit Wörtern kommen.\n",
    "\n",
    "2) Tokenisiere ```kv18``` und lasse Dir zum Überprüfen eine Schnittmenge davon ausgeben, z.B. alle Wörter vom hundertsten bis zum hundertzwanzigsten."
   ]
  },
  {
   "cell_type": "code",
   "execution_count": 61,
   "id": "ead03834-8f30-48ce-8bd5-63c8f1ef3502",
   "metadata": {
    "tags": []
   },
   "outputs": [],
   "source": [
    "#In diese Zelle kannst Du den Code zur Aufgabe schreiben.\n",
    "\n",
    "\n"
   ]
  },
  {
   "cell_type": "markdown",
   "id": "5ddd4a13-ade6-456a-9270-dfd91308b9b9",
   "metadata": {
    "deletable": false,
    "editable": false
   },
   "source": [
    "Wie Du weißt (und vermutlich auch anhand der ausgegebenen Wörter sehen kannst), müssen wir die Wörter nun bereinigen, um sie anschließend \"fair\" auszählen zu können:\n",
    "\n",
    "3) Ändere sämtliche Wörter in Kleinbuchstaben und entferne alle Satz- und Sonderzeichen an den Wortenden (hier ist ein iterativer Ansatz nötig, indem Du Dir das Resultat mehrfach ausgeben lässt [trial and error!] und schaust, welche weiteren Zeichen entfernt werden müssen, bis alle weg sind). Überprüfe anschließend für jedes bereinigte Wort, ob es in ```stopwords``` ist. Wenn ja, überspringe es, wenn nein, hänge es einer Liste namens ```preprocessed_words``` an."
   ]
  },
  {
   "cell_type": "code",
   "execution_count": 62,
   "id": "0730f77c-8efe-4807-96aa-4528a6a4a6b5",
   "metadata": {
    "tags": []
   },
   "outputs": [],
   "source": [
    "#In diese Zelle kannst Du den Code zur Aufgabe schreiben.\n",
    "\n",
    "\n"
   ]
  },
  {
   "cell_type": "markdown",
   "id": "b0817159-7ed6-4bf2-bf59-09005e2c476b",
   "metadata": {
    "deletable": false,
    "editable": false
   },
   "source": [
    "Um die Häufigkeit pro Worttype ausrechnen zu können, müssen wir erstmal wissen, welche Worttypes in ```preprocessed_words``` überhaupt vorkommen. \n",
    "\n",
    "4) Verwende den Casting-Operator eines hierfür geeigneten Datentyps (vgl. zweites Notebook), um nur die einzigartigen Elemente zu erhalten. Weise das Ergebnis einer Variable namens ```types``` zu."
   ]
  },
  {
   "cell_type": "code",
   "execution_count": 63,
   "id": "0d1fd820-e504-4e90-b801-b8d9a1d48e60",
   "metadata": {},
   "outputs": [],
   "source": [
    "#In diese Zelle kannst Du den Code zur Aufgabe schreiben.\n",
    "\n",
    "\n"
   ]
  },
  {
   "cell_type": "markdown",
   "id": "e42a2498-405e-4f13-9141-6f8a3d1d3a66",
   "metadata": {
    "deletable": false,
    "editable": false
   },
   "source": [
    "Gut. Jetzt haben wir ein Set an Types. Für jeden Type können wir nun ausrechnen, wie oft er in ```preprocessed_words``` vorkommt. Dadurch erhalten wir für jeden Type eine Zahl. Diese paarweise Information wollen wir in einem geeigneten Format, konkret einem dictionary abspeichern. \n",
    "\n",
    "5) Initialisiere ein leeres dictionary names ```freq_dict```\n",
    "6) Iteriere über ```types``` \n",
    "7) Schaffe für jeden Type ein Schlüssel-Werte-Paar mit dem Type als Schlüssel und dem Vorkommen des jeweiligen Types in ```preprocessed_words``` als Wert. Wie man Schlüssel-Werte-Paare in einem dictionary schafft, haben wir oben gelernt (```dict[\"key\"] = \"value\"```). Denk daran, dass anstelle von Objekten, hier strings, immer auch Variablen stehen können."
   ]
  },
  {
   "cell_type": "code",
   "execution_count": 64,
   "id": "a4426db8-868e-461d-b62b-570b748c5317",
   "metadata": {},
   "outputs": [],
   "source": [
    "#In diese Zelle kannst Du den Code zur Aufgabe schreiben.\n",
    "\n",
    "\n"
   ]
  },
  {
   "cell_type": "markdown",
   "id": "bda5c6f5-af6e-4fae-9845-c631016bcdb1",
   "metadata": {
    "deletable": false,
    "editable": false
   },
   "source": [
    "Die Schlüssel-Werte-Paare in ```freq_dict``` sind noch ungeordnet. \n",
    "\n",
    "8) Verwende eine Dir bekannte Funktion, um eine nach Häufigkeit (Werten) sortierte Liste zu erstellen und weise diese der Variablen ```freq_sorted``` zu."
   ]
  },
  {
   "cell_type": "code",
   "execution_count": 65,
   "id": "d595e980-4281-4094-91c7-d79fdf925f60",
   "metadata": {},
   "outputs": [],
   "source": [
    "#In diese Zelle kannst Du den Code zur Aufgabe schreiben.\n",
    "\n",
    "\n"
   ]
  },
  {
   "cell_type": "markdown",
   "id": "ea0edb90-3203-45c1-9132-084e157cb181",
   "metadata": {
    "deletable": false,
    "editable": false
   },
   "source": [
    "Wunderbar! Schauen wir uns die zehn häufigsten Wörter an:\n",
    "\n",
    "9) Nutze eine Kontrollstruktur in Kombination mit der ```range```-Funktion (vgl. drittes Notebook), um Dir die ersten zehn Type-Vorkommen-Paare ausgeben zu lassen. "
   ]
  },
  {
   "cell_type": "code",
   "execution_count": 66,
   "id": "1abdfad1-6afe-4963-b448-3e4e1f8de182",
   "metadata": {},
   "outputs": [],
   "source": [
    "#In diese Zelle kannst Du den Code zur Aufgabe schreiben.\n",
    "\n",
    "\n"
   ]
  },
  {
   "cell_type": "markdown",
   "id": "185840e2-f2d0-485a-b002-3f8c694861df",
   "metadata": {
    "deletable": false,
    "editable": false
   },
   "source": [
    "Füge unten sämtliche Codeteile in der richtigen Reihenfolge zusammen. \n",
    "\n",
    "10) Verwende Kommentare (```#```, ```\"\"\"...\"\"\"```), um jeden einzelnen Schritt zu dokumentieren (als Programmierer:innen denken  wir direkt nach dem Fertigschreiben eines Codes oft, dass dieser selbsterklärend sei, i.d.R. versteht man nach einiger Zeit aber nicht mal seinen eigenen Code auf Anhieb. Mach es Dir also zur Gewohnheit, Deine Codes stets ausführlich zu dokumentieren)."
   ]
  },
  {
   "cell_type": "code",
   "execution_count": 67,
   "id": "6e710380-c3f4-4fd9-9d62-33c76c6554e2",
   "metadata": {},
   "outputs": [],
   "source": [
    "#In diese Zelle kannst Du den Code zur Aufgabe schreiben.\n",
    "\n",
    "\n"
   ]
  },
  {
   "cell_type": "markdown",
   "id": "18228586-0aa1-486d-8e4f-05adfa4dbbba",
   "metadata": {
    "deletable": false,
    "editable": false
   },
   "source": [
    "***\n",
    "\n",
    "Um Schlüsselwörter für ```kv21``` auszurechnen, könntest Du nun einfach ```kv18``` durch ```kv21``` im ```split```-Befehl ersetzen. Alternativ könntest Du den Code auch einfach nochmal für ```kv21``` angepasst darunter kopieren. Beide Varianten sind aber nicht sonderlich elegant. Sie erfordern entweder manuelles Ändern einer Variablen oder sind unnötig lang. Und stell Dir vor, Du müsstest Schlüsselwörter für alle Koalitionsverträge seit 1945 ausrechnen... 😱\n",
    "\n",
    "Hier haben wir es also mit Code zu tun, den wir mehr als einmal ausführen wollen. Ein klassischer Fall für *Code Reuse*, und konkreter: für unsere erste eigene Funktion. "
   ]
  },
  {
   "cell_type": "markdown",
   "id": "9d5551b6-76b0-4f3c-9ffb-aaeee271e671",
   "metadata": {
    "deletable": false,
    "editable": false
   },
   "source": [
    "## Funktionen selbst definieren\n",
    "\n",
    "Funktionen selbst definieren lohnt sich immer dann, wenn wir (fast) den gleichen Code für strukturell ähnliche Objekte mehrfach ausführen müssen (und nicht bereits eine eingebaute bzw. über ein Modul importierbare Funktion/Methode dafür besteht, vgl. unten). \n",
    "\n",
    "Wie bei Kontrollstrukturen verwenden wir Variablen im Code einer Funktionsdefinition. Anstatt ```kv18``` werden wir also einen Platzhalter, z.B. namens ```text``` in den Code schreiben (```text``` ist keine schlechte Idee, denn tatsächlich lässt sich unser Code ja nicht nur auf Koalitionsverträge anwenden, sondern auf strings jeglicher Art). Bei jedem Funktionsaufruf übergeben wir unserer Funktion ein Objekt, das bei der Variablen ```text``` im Funktionscode eingesetzt werden soll. Damit unterscheidet sich unsere Funktion in keiner Weise von eingebauten Funktionen wie ```print``` oder ```len```, denen wir ja auch in Klammern ein Objekt übergeben. \n",
    "\n",
    "Um nun eine Funktion zu definieren, brauchen wir das ```def```-Statement mit folgender Syntax:\n",
    "\n",
    "```def name(argument):```\n",
    "\n",
    "Bei ```name``` setzen wir einen beliebigen Funktionsnamen ein, den wir später beim Funktionsaufruf verwenden. Bei ```argument``` definieren wir, was der Funktion übergeben werden muss bzw. kann, wenn sie aufgerufen wird. In unserem Fall wollen wir jeweils nur einen Koalitionsvertrag übergeben. Wir nennen unser Argument ```text```. Der Name des Arguments definiert gleichzeitig den Namen der betreffenden Variablen im Code. Überall wo ```text``` im Funktionscode steht, wird das eingesetzt, was der Funktion für dieses Argument übergeben wird.\n",
    "\n",
    "Abgeschlossen wir das ```def```-Statement von einem Doppelpunkt. Unter den Doppelpunkt eingerückt folgt nun der Code, wobei wir wie gesagt das hardgecodete ```kv18``` durch die Variable ```text``` ersetzen. Im Folgenden siehst Du die Musterlösung zur obigen Aufgabe, verwandelt in eine Funktion:"
   ]
  },
  {
   "cell_type": "code",
   "execution_count": 68,
   "id": "5347259e-d962-4b84-b1fb-baa102a30efb",
   "metadata": {},
   "outputs": [],
   "source": [
    "def get_freqs(text):\n",
    "    \n",
    "    stopwords = []\n",
    "        \n",
    "    with open(\"../3_Dateien/Koalitionsvertraege/stopwords-de.txt\", encoding=\"utf-8\") as h:\n",
    "        for line in h:\n",
    "            stopwords.append(line.rstrip())\n",
    "    \n",
    "    words = text.split()\n",
    "\n",
    "    preprocessed_words = []\n",
    "\n",
    "    for word in words:\n",
    "        word = word.lower() \n",
    "        word = word.strip(\".,():\")\n",
    "        if word in stopwords:\n",
    "            continue\n",
    "        preprocessed_words.append(word)\n",
    "\n",
    "    types = set(preprocessed_words)\n",
    "\n",
    "    freq_dict = {} \n",
    "\n",
    "    for type_ in types:\n",
    "        freq_dict[type_] = preprocessed_words.count(type_)\n",
    "\n",
    "    freq_sorted = sorted(freq_dict.items(), key = lambda x: x[1], reverse=True)\n",
    "\n",
    "    for i in range(10):\n",
    "        print(freq_sorted[i][0], \"kommt\", freq_sorted[i][1], \"oft vor.\")"
   ]
  },
  {
   "cell_type": "markdown",
   "id": "b3d21895-4b94-4c89-843a-e9a2831decd4",
   "metadata": {
    "deletable": false,
    "editable": false
   },
   "source": [
    "Wenn Du diese Zelle ausführst, passiert vordergründig nichts. Im Hintergrund allerdings wurde die Funktion definiert und wir können sie nun über die uns vertraute Syntax für beide Koalitionsverträge aufrufen (die Ausführung kann einige Sekunden dauern, Python hat ja einiges auszurechnen)."
   ]
  },
  {
   "cell_type": "code",
   "execution_count": 69,
   "id": "c19a7371-b1e6-47dc-bb38-f35e4e91a4e8",
   "metadata": {},
   "outputs": [
    {
     "name": "stdout",
     "output_type": "stream",
     "text": [
      "werden kommt 1032 oft vor.\n",
      "wollen kommt 905 oft vor.\n",
      "ist kommt 263 oft vor.\n",
      "stärken kommt 215 oft vor.\n",
      "deutschland kommt 194 oft vor.\n",
      "wird kommt 186 oft vor.\n",
      "sind kommt 178 oft vor.\n",
      "insbesondere kommt 162 oft vor.\n",
      "unterstützen kommt 143 oft vor.\n",
      "dazu kommt 137 oft vor.\n",
      "\n",
      "\n"
     ]
    },
    {
     "name": "stdout",
     "output_type": "stream",
     "text": [
      "werden kommt 985 oft vor.\n",
      "wollen kommt 492 oft vor.\n",
      "stärken kommt 236 oft vor.\n",
      "ist kommt 169 oft vor.\n",
      "unterstützen kommt 166 oft vor.\n",
      "wird kommt 159 oft vor.\n",
      "setzen kommt 156 oft vor.\n",
      "sind kommt 128 oft vor.\n",
      "deutschland kommt 121 oft vor.\n",
      "schaffen kommt 120 oft vor.\n"
     ]
    }
   ],
   "source": [
    "get_freqs(kv18)\n",
    "print(\"\\n\")\n",
    "get_freqs(kv21)"
   ]
  },
  {
   "cell_type": "markdown",
   "id": "ec81b623-305a-4fb2-bb7c-df5bda86fe0b",
   "metadata": {
    "deletable": false,
    "editable": false
   },
   "source": [
    "Interessanterweise sind die Schlüsselwörter ziemlich ähnlich, trotz der Tatsache, dass sie von unterschiedlichen Parteien kommen. Vielleicht gibt es so was wie genrespezifische Wörter bei Koalitionsverträgen?\n",
    "\n",
    "Wir haben in dieser Zelle übrigens keine ```print```-Befehle benutzt, denn die sind bereits im Funktionscode. \n",
    "\n",
    "Wenn wir mit den errechneten Frequenzlisten weiterarbeiten wollen (anstatt bloß die zehn häufigsten Wörter zu erhalten), müssen wir den Funktionscode nochmal leicht anpassen. Konkret streichen wir sämtliche ```print```-Befehle und fügen stattdessen ein ```return```-Statement am Ende ein. Dieses benutzt man immer, wenn man will, dass eine Funktion etwas zurückgibt. Die eingebaute Funktion ```sorted``` tut dies zum Beispiel: Sie gibt eine sortierte Liste zurück. Diese sortierte Liste haben wir oben jeweils direkt einer neuen Variable zugewiesen. Gleiches tun wir unten im Anschluss an den modifizierten Code:"
   ]
  },
  {
   "cell_type": "code",
   "execution_count": 70,
   "id": "d0bc551f-2639-4211-a9a4-036a629ac1a6",
   "metadata": {},
   "outputs": [],
   "source": [
    "def get_freqs(text):\n",
    "        \n",
    "    stopwords = []\n",
    "    \n",
    "    with open(\"../3_Dateien/Koalitionsvertraege/stopwords-de.txt\", encoding=\"utf-8\") as h:\n",
    "        for line in h:\n",
    "            stopwords.append(line.rstrip())\n",
    "    \n",
    "    words = text.split()\n",
    "\n",
    "    preprocessed_words = []\n",
    "\n",
    "    for word in words:\n",
    "        word = word.lower() \n",
    "        word = word.strip(\".,():\")\n",
    "        if word in stopwords:\n",
    "            continue\n",
    "        preprocessed_words.append(word)\n",
    "\n",
    "    types = set(preprocessed_words)\n",
    "\n",
    "    freq_dict = {} \n",
    "\n",
    "    for type_ in types:\n",
    "        freq_dict[type_] = preprocessed_words.count(type_)\n",
    "\n",
    "    freq_sorted = sorted(freq_dict.items(), key = lambda x: x[1], reverse=True)\n",
    "\n",
    "    return freq_sorted"
   ]
  },
  {
   "cell_type": "code",
   "execution_count": 71,
   "id": "66e15aa0-a4e4-40c4-8c0b-38027e2fb0de",
   "metadata": {},
   "outputs": [],
   "source": [
    "keywords_kv18 = get_freqs(kv18)\n",
    "keywords_kv21 = get_freqs(kv21)"
   ]
  },
  {
   "cell_type": "markdown",
   "id": "f4a18e71-dc32-457b-8ae4-0180e456c611",
   "metadata": {
    "deletable": false,
    "editable": false
   },
   "source": [
    "Nun wird mit den beiden Variablen ```keywords_kv18``` und ```keywords_kv21``` eine sortierte Frequenzliste für den jeweiligen Koalitionsvertrag referenziert. Mit einer ```for```-Schleife in Kombination mit ```range``` können wir uns jetzt die zehn häufigsten Wörter sogar parallel für die beiden Koalitionsverträge ausgeben lassen:"
   ]
  },
  {
   "cell_type": "code",
   "execution_count": 72,
   "id": "4db28efd-41ad-4205-a971-b8753ee75626",
   "metadata": {},
   "outputs": [
    {
     "name": "stdout",
     "output_type": "stream",
     "text": [
      "KV18: werden               KV21: werden\n",
      "KV18: wollen               KV21: wollen\n",
      "KV18: ist                  KV21: stärken\n",
      "KV18: stärken              KV21: ist\n",
      "KV18: deutschland          KV21: unterstützen\n",
      "KV18: wird                 KV21: wird\n",
      "KV18: sind                 KV21: setzen\n",
      "KV18: insbesondere         KV21: sind\n",
      "KV18: unterstützen         KV21: deutschland\n",
      "KV18: dazu                 KV21: schaffen\n"
     ]
    }
   ],
   "source": [
    "for i in range(10):\n",
    "    \n",
    "    #die Ausgabe wird mittels sog. f-strings in zwei Spalten formattiert, die wir uns im fünften Notebook genauer anschauen\n",
    "    print(\"KV18:\", f\"{keywords_kv18[i][0]:20}\", \"KV21:\", keywords_kv21[i][0])"
   ]
  },
  {
   "cell_type": "markdown",
   "id": "da0777b6-26d3-4802-851b-0e43f8f88e33",
   "metadata": {
    "deletable": false,
    "editable": false
   },
   "source": [
    "Probier Deine Funktion gerne an einem anderen Text aus. Du kannst dazu eine neue ```.txt```-Datei in den Arbeitsspeicher laden (indem Du den Dateipfad  zum Koalitionsvertrag im Einlese-Befehl von oben durch den Pfad zur neuen Datei ersetzt, alle Details zum Input von Dateien im nächsten Notebook) oder alternativ den Text als string einer Variable zuweist und diese dann ```get_freqs``` übergibst.\n",
    "\n",
    "Wie wir bereits bei Funktionen der Grundausstattung (etwa ```sorted```) gesehen haben und unten bei einer modifizierten Version von ```get_freqs``` sehen werden, ist es möglich, mehrere obligatorische und auch optionale Argumente bei einer Funktion zu definieren. Optional bedeutet, dass es einen Standardwert gibt, mit dem die Funktion rechnet, wenn ihr kein Wert für dieses Argument übergeben wird. Die einzelnen Argumente werden im ```def```-Statement kommasepariert. Beim Funktionsaufruf muss die Reihenfolge der zu übergebenden Argumente der Reihenfolge in der Funktionsdefinition entsprechen. \n",
    "\n",
    "***\n",
    "\n",
    "✏️ **Übung 12:** Definiere eine Funktion ```sum_div```, die drei Argumente nimmt. Das erste soll mit dem zweiten addiert werden. Das Ergebnis davon soll durch das dritte Argument geteilt werden. Dieses Ergebnis soll zurückgegeben werden. Entferne anschließend den Hashtag vor der bereits existierenden Code-Zeile. Wenn Du ```True``` erhältst, hast Du alles richtig gemacht!"
   ]
  },
  {
   "cell_type": "code",
   "execution_count": 73,
   "id": "d88753c7-58c1-4122-8061-e961cd130029",
   "metadata": {},
   "outputs": [],
   "source": [
    "#In diese Zelle kannst Du den Code zur Übung schreiben.\n",
    "\n",
    "\n",
    "#sum_div(2,3,2) == 2.5"
   ]
  },
  {
   "cell_type": "markdown",
   "id": "545863e4-66f5-40d3-a7f7-65ee3d72788c",
   "metadata": {
    "deletable": false,
    "editable": false
   },
   "source": [
    "***\n",
    "\n",
    "Abschließend schauen wir uns Module an. Da noch einmal einiges an Informationen auf Dich zukommt, lohnt es sich, mit einem \"frischen Kopf\" an diesen letzten Teil des Notebooks heranzugehen."
   ]
  },
  {
   "cell_type": "markdown",
   "id": "6f643db1-08a8-45c5-9ad8-25c76d6503f5",
   "metadata": {
    "deletable": false,
    "editable": false
   },
   "source": [
    "## Module\n",
    "\n",
    "Bis zu diesem Punkt haben wir mit Funktionen/Methoden aus der Grundausstattung von Python gearbeitet. Diese haben zweifelsohne einiges drauf. Dennoch kommt man als Programmier:in bald an einen Punkt, an dem sich bestimmte Anwendungsfälle effizienter lösen lassen, wenn man über die Funktionen/Methoden der Grundausstattung hinaus anwendungsspezifischeren Code verwendet. Für viele Anwendungsfelder – etwa für den Umgang mit Text, zum Scrapen von Webseiten oder zur Visualisierung von Daten – gibt es sog. *Module* (oder *Packages* bzw. *Bibliotheken*, siehe Bemerkung zum Schluss), mit denen wir diese spezifischen Probleme wesentlich effizienter angehen können. \n",
    "\n",
    "Solche Module stammen entweder von Python selbst oder von Entwickler:innen aus der Python-Community. Mit Modulen von Python sind Module gemeint, die Teil der sog. *Standardbibliothek* sind, nicht aber der Grundausstattung. In der Praxis bedeutet das Folgendes: Wenn wir Python installieren werden die Module der Standardbibliothek automatisch mitinstalliert. Sobald wir ein solches Modul in unserem Code verwenden wollen, müssen wir es jedoch importieren, da es nicht zur Grundausstattung gehört. Module von anderen Entwickler:innen müssen wir immer zuerst (zusätzlich zu Python) installieren, bevor wir sie importieren und verwenden können. \n",
    "\n",
    "Ein Modul an sich ist ganz simpel aufgebaut: Es handelt sich schlicht um eine Python-Datei mit dem Dateisuffix \".py\", die Code enthält. Machen wir es konkret, und zwar vorerst an einem eigenen Modul. Denn auch wir können unsere eigenen Module erstellen. \n",
    "\n",
    "Der Code der Schlüsselwortfunktion von oben befindet sich bereits als Modul mit dem Namen ```keywords``` im Verzeichnis \"3_Dateien/Module/\". Öffne die Datei und schaue Dir den Code an. Wie Du sehen wirst, gibt es einen Unterschied zum Code von oben: Die Funktion erwartet neben ```text``` auch ```stopwords``` als zweites Argument. ```text``` soll weiterhin als string übergeben werden, ```stopwords``` hingegen als Liste. Mit der Ausklammerung der Stopwortdatei aus dem Funktionscode im Modul wird Letzteres überall einsetzbar. Der Pfad zur Stopwortdatei ändert sich nämlich in Abhängigkeit des Speicherorts des Moduls. Dieses Problem umgehen wir, indem wir die Stopwörter beim Funktionsaufruf übergeben. Diese Abstraktion macht es uns auch möglich, bei Bedarf andere Stopwortlisten zu verwenden. Im nächsten Notebook lernen wir mehr über Dateipfade, erst einmal ist nur wichtig, dass die Funktion im Modul neu auch Stopwörter als zweites Argument erwartet.\n",
    "\n",
    "Bevor wir unser Modul importieren, laden wir uns die Koalitionstexte sowie die Stopwörter zur Sicherheit noch einmal in den Arbeitsspeicher. Führe dazu die folgende Zelle aus."
   ]
  },
  {
   "cell_type": "code",
   "execution_count": 74,
   "id": "25353d1a-8098-4fa0-866a-59076a10acd8",
   "metadata": {},
   "outputs": [],
   "source": [
    "with open(\"../3_Dateien/Koalitionsvertraege/koalitionsvertrag_2018.txt\", encoding=\"utf-8\") as f:\n",
    "    kv18 = f.read()\n",
    "    \n",
    "with open(\"../3_Dateien/Koalitionsvertraege/koalitionsvertrag_2021.txt\", encoding=\"utf-8\") as g:\n",
    "    kv21 = g.read()\n",
    "    \n",
    "stopwords_list = []\n",
    "with open(\"../3_Dateien/Koalitionsvertraege/stopwords-de.txt\", encoding=\"utf-8\") as h:\n",
    "    for line in h:\n",
    "        stopwords_list.append(line.rstrip())\n",
    "\n",
    "\"\"\"diese beiden Zeilen kannst Du ignorieren (sie sind nötig, da sich das anschließend zu importierende Modul \n",
    "in einem anderen Verzeichnis als das Notebook befindet; ironischerweise importieren wir für diese \n",
    "Operation auch ein Modul, nämlich 'sys')\"\"\"\n",
    "import sys\n",
    "sys.path.append(\"../3_Dateien/Module\")"
   ]
  },
  {
   "cell_type": "markdown",
   "id": "2df9c5f5-811d-46c9-ab0f-205751648741",
   "metadata": {
    "deletable": false,
    "editable": false
   },
   "source": [
    "Anstatt nun den Code aus der Moduldatei händisch in unseren Code hineinzukopieren, können wir ihn über folgenden simplen Befehl *importieren*:"
   ]
  },
  {
   "cell_type": "code",
   "execution_count": 75,
   "id": "e7f83c9f-032f-487d-95c9-db1995de8153",
   "metadata": {},
   "outputs": [],
   "source": [
    "from keywords import get_freqs"
   ]
  },
  {
   "cell_type": "markdown",
   "id": "a42fc41c-3a42-439d-bcea-022761877424",
   "metadata": {
    "deletable": false,
    "editable": false
   },
   "source": [
    "Nach ```from``` geben wir den Namen des Moduls (d.h. der \".py\"-Datei, aber ohne Suffix) an, gefolgt von ```import``` und dem Namen der zur importierenden Funktion. \n",
    "\n",
    "Indem wir hier eine spezifische Funktion importieren, etablieren wir ```get_freqs``` im sog. *Namespace* von Python. Der Namespace umfasst alle Namen, die Python in der aktuellen Sitzung kennt und zuordnen kann. Neben den vordefinierten Namen wie z.B. ```len``` für die entsprechende Funktion sind dies alle Namen, die wir selbst im Laufe einer Sitzung einführen, etwa als Variablennamen, um irgendein Objekt zu referenzieren, oder, um eine Funktion zu bezeichnen. ```get_freqs``` wird hier also unter diesem Namen eingeführt und wenn wir fortan ```get_freqs``` aufrufen, weiß Python, worauf wir uns beziehen. \n",
    "\n",
    "Dadurch gibt es denn auch keinen syntaktischen Unterschied zwischen dem Aufruf einer importierten Funktion und einer aus der Grundausstattung:"
   ]
  },
  {
   "cell_type": "code",
   "execution_count": 76,
   "id": "444b593d-0935-40a0-ba03-8b3967f9392d",
   "metadata": {},
   "outputs": [
    {
     "name": "stdout",
     "output_type": "stream",
     "text": [
      "[('werden', 1032), ('wollen', 905), ('ist', 263), ('stärken', 215), ('deutschland', 194), ('wird', 186), ('sind', 178), ('insbesondere', 162), ('unterstützen', 143), ('dazu', 137)]\n"
     ]
    }
   ],
   "source": [
    "top_ten = get_freqs(kv18, stopwords_list)[0:10] #hier weisen wir die zehn häufigsten Schlüsselwörter direkt einer Variable zu\n",
    "print(top_ten)"
   ]
  },
  {
   "cell_type": "markdown",
   "id": "83d7af03-b052-44e0-bff8-69d5242817d5",
   "metadata": {
    "deletable": false,
    "editable": false
   },
   "source": [
    "Wie erwähnt, müssen wir hier im Unterschied zu oben ```get_freqs``` zusätzlich zu ```kv18``` (für das Argument ```text```) auch ```stopwords_list``` (für ```stopwords```) übergeben. \n",
    "\n",
    "Welche Argumente unsere Funktion erwartet und was sie im Gegenzug zurückgibt, können wir uns übrigens über das ```__doc__```-Attribut ausgeben lassen. Dazu hängt man einen Punkt, zwei Unterschriche, dann \"doc\" und noch einmal zwei Unterstriche an den Funktionsnamen an:"
   ]
  },
  {
   "cell_type": "code",
   "execution_count": 77,
   "id": "33a47b5a-115a-4b55-abec-4bffe2a58c9b",
   "metadata": {},
   "outputs": [
    {
     "name": "stdout",
     "output_type": "stream",
     "text": [
      "Takes in text as string and stopwords as list, returns frequency for all types in text, excluding stopwords.\n"
     ]
    }
   ],
   "source": [
    "print(get_freqs.__doc__)"
   ]
  },
  {
   "cell_type": "markdown",
   "id": "5fac1d96-0aa0-4543-95bd-899da6b2efed",
   "metadata": {
    "deletable": false,
    "editable": false
   },
   "source": [
    "Dies ist ein sog. *docstring*. Praktisch handelt es sich schlicht um den string, der direkt im Anschluss an das ```def```-Statement der Funktion steht (dieser string ist Dir sicherlich in der Moduldatei aufgefallen). Wenn Du fortan eigene Funktionen schreibst, lohnt es sich, auf diese Weise einen kurzen docstring einzufügen. Funktionen von Python und solche anderer Entwickler:innen verfügen in aller Regel über einen docstring, der Dir bei Bedarf kurz und knapp erläutert, wozu die Funktion dient. Wie im ersten Notebook erwähnt, ist Codedokumentation über Kommentare äußerst wichtig. Docstrings erfüllen den gleichen Zweck, mit dem zusätzlichen Vorteil, dass wir nicht in den Code reinschauen müssen, sondern die wichtigsten Informationen bequem über das ```__doc__```-Attribut abrufen können.\n",
    "\n",
    "Zurück zum Import von Modulen: Folgender Code tut genau das gleiche wie oben, aber mit dem Unterschied, dass wir hier nur unser Modul importieren, nicht aber eine spezifische Funktion. "
   ]
  },
  {
   "cell_type": "code",
   "execution_count": 78,
   "id": "6eb52ba4-28b9-468d-878b-7dfdd075dd9e",
   "metadata": {},
   "outputs": [
    {
     "name": "stdout",
     "output_type": "stream",
     "text": [
      "[('werden', 1032), ('wollen', 905), ('ist', 263), ('stärken', 215), ('deutschland', 194), ('wird', 186), ('sind', 178), ('insbesondere', 162), ('unterstützen', 143), ('dazu', 137)]\n"
     ]
    }
   ],
   "source": [
    "import keywords\n",
    "\n",
    "top_ten = keywords.get_freqs(kv18, stopwords_list)[0:10]\n",
    "\n",
    "print(top_ten)"
   ]
  },
  {
   "cell_type": "markdown",
   "id": "0352ba2c-166a-499e-82da-9c61ea317391",
   "metadata": {
    "deletable": false,
    "editable": false
   },
   "source": [
    "Wenn wir so vorgehen, wird ```get_freqs``` nicht im Namespace etabliert. Deswegen müssen wir beim Funktionsaufruf erst den Modulnamen gefolgt von einem Punkt angeben. Nur so weiß Python, wo sich die Funktion befindet, auf die wir uns beziehen (es handelt sich also um eine Art *Adresse* zur Funktion). Der Punkt zwischen Modul- und Funktionsnamen könnte den Eindruck erwecken, dass es sich bei ```get_freqs``` um eine Methode handelt (s.o.), das ist aber natürlich nicht der Fall.\n",
    "\n",
    "Um die obige Syntax zu vereinfachen, können wir dem Modul beim Import übrigens auch einen Namen geben:"
   ]
  },
  {
   "cell_type": "code",
   "execution_count": 79,
   "id": "3468a16d-173d-44e3-a576-14ea6a7810ac",
   "metadata": {},
   "outputs": [
    {
     "name": "stdout",
     "output_type": "stream",
     "text": [
      "[('medizintechnik', 1), ('sanierungsstau', 1), ('opt-in-lösung', 1), ('sicht', 1), ('sexualisierter', 1), ('angesehenen', 1), ('„feuille', 1), ('amazon', 1), ('deradikalisierung', 1), ('nutzungszeitraum', 1)]\n"
     ]
    }
   ],
   "source": [
    "import keywords as kw\n",
    "\n",
    "bottom_ten = kw.get_freqs(kv18, stopwords_list)[-11:-1]\n",
    "\n",
    "print(bottom_ten)"
   ]
  },
  {
   "cell_type": "markdown",
   "id": "05c0bf18-d1d4-4ccc-b962-ade0967a985e",
   "metadata": {
    "deletable": false,
    "editable": false
   },
   "source": [
    "Wenn Du in Zukunft Schlüsselwörter ausrechnen willst, kannst Du ganz einfach unser selbst geschriebenes Modul ```keywords``` importieren. Das ```import```-Statement funktioniert problemlos, wenn sich die entsprechende \".py\"-Datei im selben Verzeichnis wie das Python-Skript, in das Du das Modul importieren willst, befindet. \n",
    "\n",
    "Um weitere eigene Module zu erstellen, musst Du lediglich fertigen Code (i.d.R. eine oder mehrere Funktionen) in eine leere Datei packen und diese mit dem Suffix \".py\" abspeichern. Der Texteditor [Sublime Text](https://www.sublimetext.com), der auf macOS und Windows läuft, empfiehlt sich hierfür.\n",
    "\n",
    "Nun haben wir gesehen, dass das Speichern und Importieren eines eigenen Moduls wirklich simpel ist. Bei längerem Code lohnt sich das sog. *Modularisieren*, also das Aufteilen und Auslagern des Codes in sinnvollen Einheiten als Module, um diese dann, wo benötigt, zu importieren. Am Anfang einer Programmierkarriere ist das aber noch nicht relevant. Viel wichtiger als eigene Module sind im Moment noch die oben angesprochenen Module aus der Standardbibliothek von Python bzw. der Community für spezifische Anwendungsfelder. Ab dem nächsten Notebook werden wir immer mehr von solchen Modulen Gebrauch machen.\n",
    "\n",
    "Wie wir unten am Beispiel des ```random```-Moduls zur Generierung zufälliger Zahlen sehen, werden solche Module gleich importiert wie unser eigenes Modul oben:"
   ]
  },
  {
   "cell_type": "code",
   "execution_count": 80,
   "id": "b9396f1f-d6bd-4aba-bc5a-b0149ecf477c",
   "metadata": {},
   "outputs": [
    {
     "name": "stdout",
     "output_type": "stream",
     "text": [
      "[18, 56, 50, 67, 71, 3, 7, 1, 82, 77]\n"
     ]
    }
   ],
   "source": [
    "#Import des ganzen Moduls und Aufruf der Funktion mittels Voranstellen des Modulnamens\n",
    "\"\"\"\n",
    "import random\n",
    "\n",
    "random_numbers = []\n",
    "\n",
    "for i in range(10):\n",
    "    random_numbers.append(random.randint(0,100))\n",
    "\n",
    "print(random_numbers)\"\"\"\n",
    "\n",
    "#Import einer spezifischen Funktion aus dem Modul\n",
    "from random import randint\n",
    "\n",
    "random_numbers = []\n",
    "\n",
    "for i in range(10):\n",
    "    random_numbers.append(randint(0,100))\n",
    "\n",
    "print(random_numbers)"
   ]
  },
  {
   "cell_type": "markdown",
   "id": "dea13e44-1b5c-40b1-a913-208eea2ecf20",
   "metadata": {
    "deletable": false,
    "editable": false
   },
   "source": [
    "Die Funktion ```randint``` des Moduls ```random``` generiert zufällige Zahlen innerhalb des angegebenen Bereichs (0-99). Entsprechend schaut ```random_numbers``` bei jeder Ausführung der Zelle anders aus. Bei ```random``` handelt es sich übrigens um ein Modul aus der [Standardbibliothek](https://docs.python.org/3/library/) von Python. \n",
    "\n",
    "Abschließend noch ein paar Worte zur Terminologie: Neben *Modulen* hört man oft auch die Begriffe *Package* und *Bibliothek* (engl. *library*). Die Begriffe werden gerne vermischt, was nicht weiter schlimm ist. Falls Dich die Unterschiede interessieren: Wenn mehrere *Module* zusammengefasst werden, entsteht ein *Package* (praktisch handelt es sich um nichts anderes als ein Verzeichnis, das mehrere Module beinhält). Genau wie man eine Funktion aus einem Modul importieren kann, kann man ein spezifisches Modul innerhalb eines Packages importieren: ```from package import module```. *Bibliotheken* wiederum umfassen mehrere Packages und Module. "
   ]
  },
  {
   "cell_type": "markdown",
   "id": "7a9aaa52-cd97-4e52-9bc6-d01f5b6f9a54",
   "metadata": {
    "deletable": false,
    "editable": false
   },
   "source": [
    "***\n",
    "\n",
    "✏️ **Übung 13:** Importiere die Funktion ```sample``` des ```random```-Moduls. ```sample``` generiert eine zufällige Auswahl von Elementen, z.B. zehn zufällige Elemente, aus einer Grundgesamtheit mit allen Elementen. Die Funktion erwartet als erstes Argument die Grundgesamtheit in Form einer Liste und als zweites eine Ganzzahl, mit der die Anzahl der zufällig auszuwählenden Elemente definiert wird. Die Grundgesamtheit in dieser Übung ist das ```participants_pool``` von der Übung von oben bzw. aus dem letzten Notebook. Die Anzahl der zufällig auszuwählenden Elemente beträgt in diesem Fall vier. Wir wollen also zufällige Spielzusammensetzungen mit jeweils vier Teilnehmer:innen erhalten.\n",
    "\n",
    "Deine Aufgabe besteht nun darin, so viele zufällige Spielzusammensetzungen zu genererieren, bis eine Zusammensetzung doppelt vorkommt. Verwende dazu eine passende Kontrollstruktur, die Deinen Code so oft wiederholt, bis die Bedingung, dass eine zufällige Zusammensetzung bereits einmal zuvor generiert wurde, zutrifft. In diesem Fall soll die Iteration abbrechen und die Anzahl der notwendigen Wiederholungen bis zur identischen Zusammensetzung ausgegeben werden. \n",
    "\n",
    "Beachte, dass es für diese Anzahl der notwendigen Wiederholungen keine richtige Antwort gibt, da es in der Natur der zufälligen Auswahl liegt, dass es manchmal etwas mehr und manchmal etwas weniger Wiederholungen braucht.\n",
    "\n",
    "📌 Herausforderung: Verpacke Deinen gesamten Code in eine (andere) Kontrollstruktur, die Deinen Code, sagen wir, 1000 Mal wiederholt. Bei jeder Wiederholung soll die notwendige Anzahl bis zwei Zusammensetzungen doppelt vorkommen auf einer Liste gespeichert werden. Berechne zum Schluss den Mittelwert dieser Liste, indem Du mittels der Funktion ```sum``` alle Werte auf der Liste addierst und die Summe durch die Länge der Liste dividierst. Bei wiederholter Ausführung dieses Codes sollten die Mittelwerte nur noch geringfügig schwanken."
   ]
  },
  {
   "cell_type": "code",
   "execution_count": 81,
   "id": "30d97b38-08a2-4197-8b3f-0e3c115470b6",
   "metadata": {},
   "outputs": [],
   "source": [
    "#In diese Zelle kannst Du den Code zur Übung schreiben.\n",
    "\n",
    "participants_pool = [\"Max\", \"Moritz\", \"Janine\", \"Hussein\", \"Fritz\", \"Mia\", \"Marianne\", \"Dolores\", \"Yin\", \"Margareth\", \"Benni\"]\n",
    "\n",
    "\n"
   ]
  },
  {
   "cell_type": "markdown",
   "id": "bf581c8b-ad96-4fe5-8921-8e96b2469c4e",
   "metadata": {
    "deletable": false,
    "editable": false
   },
   "source": [
    "***\n",
    "\n",
    "Damit sind wir am Ende des Notebooks angelangt. 🎉"
   ]
  }
 ],
 "metadata": {
  "kernelspec": {
   "display_name": "Python 3 (ipykernel)",
   "language": "python",
   "name": "python3"
  },
  "language_info": {
   "codemirror_mode": {
    "name": "ipython",
    "version": 3
   },
   "file_extension": ".py",
   "mimetype": "text/x-python",
   "name": "python",
   "nbconvert_exporter": "python",
   "pygments_lexer": "ipython3",
   "version": "3.10.8"
  }
 },
 "nbformat": 4,
 "nbformat_minor": 5
}