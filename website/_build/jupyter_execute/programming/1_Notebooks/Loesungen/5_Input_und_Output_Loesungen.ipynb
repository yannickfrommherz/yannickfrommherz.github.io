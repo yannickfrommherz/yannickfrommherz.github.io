{
 "cells": [
  {
   "cell_type": "markdown",
   "id": "6b495fad-f81e-4870-b739-e19837b8801c",
   "metadata": {
    "deletable": false,
    "editable": false
   },
   "source": [
    "# Input und Output (Lösungen)\n",
    "\n",
    "☝️ Beachte: es gibt beim Programmieren fast immer verschiedene Lösungswege. Deine Lösung mag anders aussehen, aber dennoch zum gewünschten Resultat führen. Das richtige Resultat ist das Wichtigste. "
   ]
  },
  {
   "cell_type": "markdown",
   "id": "34ed0e08-fbe4-4518-afca-084b462136a9",
   "metadata": {
    "deletable": false,
    "editable": false
   },
   "source": [
    "✏️ **Lösung 1:** Navigiere in Deinem Dateimanager zu fünf beliebigen Dateien in fünf verschiedenen Verzeichnissen. Kopiere die absoluten Dateipfade wie oben beschrieben und weise je einen Dateipfad einer der folgenden Variablen zu (innerhalb der Anführungszeichen). \n",
    "\n",
    "*keine Lösung*\n",
    "\n",
    "***"
   ]
  },
  {
   "cell_type": "markdown",
   "id": "ba0acc27-1ebc-412f-a6ad-ef758c4c5d62",
   "metadata": {
    "deletable": false,
    "editable": false
   },
   "source": [
    "✏️ **Lösung 2:** Das aktuelle Arbeitsverzeichnis auf einem Windows-Rechner sei \"C:\\Users\\Name\\Documents\\Project\\Folder\". Du möchtest auf eine Datei zugreifen, die folgenden absoluten Dateipfad besitzt: \"C:\\Users\\Name\\Documents\\Resources\\file.csv\". Mithilfe welchen relativen Pfads können wir in Python auf \"file.csv\" zugreifen?"
   ]
  },
  {
   "cell_type": "code",
   "execution_count": 1,
   "id": "37a20dfc-8616-493c-8712-ca9d1e37c4f6",
   "metadata": {},
   "outputs": [],
   "source": [
    "relative_path = \"../../Resources/file.csv\" #mit Schrägstrichen auf allen Betriebssystemen (r\"\\..\\..\\Resources\\file.csv\" würde bei Windows aber auch funktionieren)"
   ]
  },
  {
   "cell_type": "markdown",
   "id": "b7dfec52-89fe-41bd-9bd0-68f191df5650",
   "metadata": {
    "deletable": false,
    "editable": false
   },
   "source": [
    "***\n",
    "\n",
    "✏️ **Lösung 3:** Lies den ersten Aufzug aus Lessings [Nathan der Weise](https://www.projekt-gutenberg.org/lessing/nathan/chap002.html) ein. Die Datei befindet sich am gleichen Ort wie Miss Sara Sampson, allerdings eine Verzeichnisebene tiefer in \"Nathan_der_Weise\". Finde heraus, welche der Figuren des Stücks (bereitgestellt in ```characters```) am häufigsten erwähnt wird (wir unterscheiden nicht zwischen Erwähnungen in Redebeiträgen und sonst wo im Text, z.B. in der Sprecherkennzeichung).\n",
    "\n",
    "Um Deine Fertigkeiten aus dem letzten Notebook gleich wieder einzusetzen, könntest Du dazu auch eine sortierte Frequenzliste mit allen Figuren und ihren jeweiligen Erwähnungshäufigkeiten erstellen."
   ]
  },
  {
   "cell_type": "code",
   "execution_count": 2,
   "id": "b5dc25a4-febb-442e-bdcb-84fd857f4292",
   "metadata": {},
   "outputs": [
    {
     "name": "stdout",
     "output_type": "stream",
     "text": [
      "Nathan 105\n",
      "Daja 85\n",
      "Tempelherr 68\n",
      "Derwisch 44\n",
      "Recha 39\n",
      "Klosterbruder 35\n",
      "Sultan Saladin 1\n",
      "Sittah 0\n",
      "Patriarch von Jerusalem 0\n",
      "Emir 0\n"
     ]
    }
   ],
   "source": [
    "characters = [\"Sultan Saladin\", \"Sittah\", \"Nathan\", \"Recha\", \"Daja\", \"Tempelherr\", \"Derwisch\", \"Patriarch von Jerusalem\", \"Klosterbruder\", \"Emir\"] \n",
    "\n",
    "#Achtung: anderer Pfad als im Notebook, da das Lösungsnotebook in einem anderen Verzeichnis liegt\n",
    "with open(\"../../3_Dateien/Nathan_der_Weise/Nathan_der_Weise_Aufzug_1.txt\", encoding=\"utf-8\") as read_file:\n",
    "    nathan_der_weise = read_file.read()\n",
    "\n",
    "freq_dict = {}\n",
    "\n",
    "for name in characters:\n",
    "    freq_dict[name] = nathan_der_weise.count(name)\n",
    "\n",
    "freq_list = sorted(freq_dict.items(), key = lambda x: x[1], reverse=True)\n",
    "\n",
    "for name in freq_list:\n",
    "    print(name[0], name[1])"
   ]
  },
  {
   "cell_type": "markdown",
   "id": "57b97010-3bd6-432e-8574-b957a92bbb68",
   "metadata": {
    "deletable": false,
    "editable": false
   },
   "source": [
    "***\n",
    "\n",
    "✏️ **Lösung 4:** Im Gegensatz zu Miss Sara Sampson ist Nathan der Weise etwas anders formatiert, z.B. verteilen sich Redebeiträge z.T. über mehrere Zeilen. \n",
    "\n",
    "Lies den ersten Aufzug aus Nathan der Weise abermals ein. Schaue Dir die Formatierung des Textes genau an, um ein strukturelles Merkmal zu finden, anhand dessen Du eine Liste mit zusammengehörigen Redebeiträgen und Metakommentaren erstellen kannst. Ein über mehrere Zeilen verteilter Redebeitrag oder Metakommentar soll jeweils in ein Element einfließen. \n",
    "\n",
    "Bereinige anschließend die Liste von allem, was kein Redebeitrag darstellt. Auch hierfür musst Du Dir die Liste gut anschauen, um ein strukturelles Merkmal zu identifizieren, anhand dessen Du die \"Spreu vom Weizen\" trennen kannst. Sollte sich ein Metakommentar innerhalb eines Redebeitrags befinden, kannst Du dies ignorieren. Stelle durch einen iterativen Ansatz sicher, dass Du am Ende wirklich alle Redebeiträge und nur Redebeiträge auf der Liste hast (also die *true positives*).\n",
    "\n",
    "Dir steht wiederum eine Liste mit Figuren zur Verfügung."
   ]
  },
  {
   "cell_type": "code",
   "execution_count": 3,
   "id": "695def1a-baee-4f20-8ee4-8dd20e472fe4",
   "metadata": {},
   "outputs": [
    {
     "name": "stdout",
     "output_type": "stream",
     "text": [
      "Daja. \n",
      "Er ist es! Nathan! – Gott sei ewig Dank, \n",
      "Daß Ihr doch endlich einmal wiederkommt. \n",
      "\n",
      "Nathan. \n",
      "Ja, Daja; Gott sei Dank! Doch warum endlich? \n",
      "Hab ich denn eher wiederkommen wollen? \n",
      "Und wiederkommen können? Babylon \n",
      "Ist von Jerusalem, wie ich den Weg, \n",
      "Seitab bald rechts, bald links, zu nehmen bin \n",
      "Genötigt worden, gut zweihundert Meilen; \n",
      "Und Schulden einkassieren, ist gewiß \n",
      "Auch kein Geschäft, das merklich födert, das \n",
      "So von der Hand sich schlagen läßt. \n",
      "\n",
      "Daja.       O Nathan, \n",
      "Wie elend, elend hättet Ihr indes \n",
      "Hier werden können! Euer Haus ... \n",
      "\n",
      "Nathan.       Das brannte. \n",
      "So hab ich schon vernommen. – Gebe Gott, \n",
      "Daß ich nur alles schon vernommen habe! \n",
      "\n",
      "Daja. \n",
      "Und wäre leicht von Grund aus abgebrannt. \n",
      "\n"
     ]
    }
   ],
   "source": [
    "characters = [\"Sultan Saladin\", \"Sittah\", \"Nathan\", \"Recha\", \"Daja\", \"Tempelherr\", \"Derwisch\", \"Patriarch von Jerusalem\", \"Klosterbruder\", \"Emir\"] \n",
    "\n",
    "#Achtung: anderer Pfad als im Notebook, da das Lösungsnotebook in einem anderen Verzeichnis liegt\n",
    "with open(\"../../3_Dateien/Nathan_der_Weise/Nathan_der_Weise_Aufzug_1.txt\", encoding=\"utf-8\") as read_file:\n",
    "    nathan_der_weise = read_file.read()\n",
    "\n",
    "belongs_together = nathan_der_weise.split(\"\\n\\n\")\n",
    "\n",
    "actual_turns = []\n",
    "\n",
    "for element in belongs_together:\n",
    "    for character in characters:\n",
    "        if element.startswith(character + \".\"):\n",
    "            actual_turns.append(element)\n",
    "\n",
    "for i in range(5):\n",
    "    print(actual_turns[i], \"\\n\")"
   ]
  },
  {
   "cell_type": "markdown",
   "id": "ca993ecf-baa0-426d-b872-9e39b01f604f",
   "metadata": {
    "deletable": false,
    "editable": false
   },
   "source": [
    "***\n",
    "\n",
    "✏️ **Lösung 5:** Bisher haben wir nur mit dem ersten Aufzug aus Miss Sara Sampson gearbeitet. Das Trauerspiel besteht aber aus fünf Aufzügen, die sich allesamt im gleichen Verzeichnis wie der erste Aufzug befinden. \n",
    "\n",
    "Öffne eine neue Textdatei mit Namen \"Miss_Sara_Sampson_komplett.txt\" im Verzeichnis \"Output\" und schreibe alle fünf Aufzüge in der richtigen Reihenfolge in diese Datei.\n",
    "\n",
    "Anstatt jede Datei über ihren Pfad einzeln zu öffnen, kannst Du die oben bereits vorgestellte ```listdir```-Funktion des ```os```-Moduls verwenden. Als Argument übergibst Du ihr den Pfad zum betreffenden Verzeichnis. Du kriegst eine Liste mit den darin befindlichen Dateien und Unterverzeichnissen (jeweils als string) zurück. Über diese Liste kannst Du dann wie gewohnt iterieren."
   ]
  },
  {
   "cell_type": "code",
   "execution_count": 4,
   "id": "6ccf2508-e6ad-48f6-be9d-4f2833394456",
   "metadata": {},
   "outputs": [],
   "source": [
    "import os\n",
    "\n",
    "#Achtung: andere Pfade als im Notebook, da das Lösungsnotebook in einem anderen Verzeichnis liegt\n",
    "input_path = \"../../3_Dateien/Miss_Sara_Sampson/\"\n",
    "output_file = \"../../3_Dateien/Output/Miss_Sara_Sampson_komplett.txt\"\n",
    "\n",
    "with open(output_file, \"w\", encoding=\"utf-8\") as write_file:\n",
    "    for file in sorted(os.listdir(input_path)):\n",
    "        \n",
    "        #mit dieser Bedingung überspringen wir etwaige (z.T. im Dateimanager unsichtbare) Dateien\n",
    "        if file.startswith(\"Miss\"):\n",
    "            with open(input_path + file, encoding=\"utf-8\") as read_file:\n",
    "                write_file.write(read_file.read())\n",
    "            write_file.write(\"\\n\\n\")"
   ]
  },
  {
   "cell_type": "markdown",
   "id": "18afcdd3-7c2b-4e5a-84a3-1e214ce0e614",
   "metadata": {
    "deletable": false,
    "editable": false
   },
   "source": [
    "***\n",
    "\n",
    "✏️ **Lösung 6:** Finde heraus, wieviele der 100 flächengrößten Gemeinden zu jedem der 16 Bundesländer gehören. Du kannst direkt mit ```biggest_municipalities``` weiterarbeiten. Dir steht ein dictionary mit Bundesländern zur Verfügung. Ziel ist es, den Wert (jetzt noch 0 für alle Bundesländer) für jedes Bundesland korrekt zu berechnen."
   ]
  },
  {
   "cell_type": "code",
   "execution_count": 5,
   "id": "07a055a3-024b-4dd3-bcce-a10c36d2bc09",
   "metadata": {},
   "outputs": [
    {
     "name": "stdout",
     "output_type": "stream",
     "text": [
      "Baden-Württemberg 1\n",
      "Bayern 5\n",
      "Berlin 1\n",
      "Brandenburg 30\n",
      "Bremen 1\n",
      "Hamburg 1\n",
      "Hessen 2\n",
      "Mecklenburg-Vorpommern 0\n",
      "Niedersachsen 15\n",
      "Nordrhein-Westfalen 13\n",
      "Rheinland-Pfalz 0\n",
      "Saarland 0\n",
      "Sachsen 5\n",
      "Sachsen-Anhalt 24\n",
      "Schleswig-Holstein 1\n",
      "Thüringen 1\n"
     ]
    }
   ],
   "source": [
    "#Da es sich hier um ein anderes Skript handelt, muss die Datei hier erst eingelesen werden\n",
    "import csv\n",
    "\n",
    "#Achtung: anderer Pfad als im Notebook, da das Lösungsnotebook in einem anderen Verzeichnis liegt\n",
    "with open(\"../../3_Dateien/Tabellarische_Daten/Liste_der_flächengrössten_Gemeinden_Deutschlands.csv\", encoding=\"utf-8\") as read_file:\n",
    "    \n",
    "    data = csv.reader(read_file, delimiter=\";\")\n",
    "    \n",
    "    biggest_municipalities = []\n",
    "    \n",
    "    for row in data:\n",
    "        biggest_municipalities.append(row)\n",
    "\n",
    "federal_states = {'Baden-Württemberg': 0, 'Bayern': 0, 'Berlin': 0, 'Brandenburg': 0, 'Bremen': 0, 'Hamburg': 0, 'Hessen': 0, \n",
    "                'Mecklenburg-Vorpommern': 0, 'Niedersachsen': 0, 'Nordrhein-Westfalen': 0, 'Rheinland-Pfalz': 0, 'Saarland': 0, \n",
    "                'Sachsen': 0, 'Sachsen-Anhalt': 0, 'Schleswig-Holstein': 0, 'Thüringen': 0}\n",
    "\n",
    "for i in range(len(biggest_municipalities)):\n",
    "    for state in federal_states.keys():\n",
    "        if biggest_municipalities[i][4] == state:\n",
    "            federal_states[state] += 1\n",
    "\n",
    "for state, number in federal_states.items():\n",
    "    print(state, number)"
   ]
  },
  {
   "cell_type": "markdown",
   "id": "f68b7130-728e-4ae5-8fcc-cf312b0beb74",
   "metadata": {
    "deletable": false,
    "editable": false
   },
   "source": [
    "🔧 **Anwendungsfall (Lösung):** Deine Aufgabe ist es also, ein kleines interaktives Programm zu schreiben, mit dessen Hilfe eine Benutzerin schlaue Gedanken protokollieren kann. Konkret müssen folgende Schritte umgesetzt werden:\n",
    "\n",
    "1. Die Benutzerin wird gegrüßt und ihr wird erklärt, welche Funktionen das Programm ihr bietet.\n",
    "2. Die Benutzerin wird aufgefordert, anzugeben, in welchem Dokument sie ihre(n) Gedanke(n) festhalten will. Handelt es sich um ein noch nicht existierendes Dokument, so wird es für sie geschaffen. Existiert das Dokument bereits, so soll(en) ihr(e) Gedanke(n) an dessen Ende gehängt werden.\n",
    "3. Die Benutzerin wird aufgefordert, ihren Gedanken einzugeben.\n",
    "4. Der Gedanke wird in das gewählte Dokument geschrieben.\n",
    "5. Die Benutzerin wird zur Entscheidung aufgefordert, ob sie einen weiteren Gedanken im selben Dokument festhalten will oder ob sie das Programm verlassen will.\n",
    "    1. Will die Benutzerin einen weiteren Gedanken festhalten, so soll das Programm zu Schritt 3 zurückspringen.\n",
    "    2. Will die Benutzerin das Programm verlassen, so soll sie verabschiedet werden."
   ]
  },
  {
   "cell_type": "code",
   "execution_count": 6,
   "id": "7696ec3e-2f2e-42a2-8e42-32a18d323c89",
   "metadata": {},
   "outputs": [
    {
     "ename": "StdinNotImplementedError",
     "evalue": "raw_input was called, but this frontend does not support input requests.",
     "output_type": "error",
     "traceback": [
      "\u001b[0;31m---------------------------------------------------------------------------\u001b[0m",
      "\u001b[0;31mStdinNotImplementedError\u001b[0m                  Traceback (most recent call last)",
      "\u001b[0;32m/var/folders/dy/1d_wflpx5_57vhd_6cdbfk0m0000gn/T/ipykernel_30177/805338919.py\u001b[0m in \u001b[0;36m<module>\u001b[0;34m\u001b[0m\n\u001b[1;32m      7\u001b[0m \u001b[0;34m\u001b[0m\u001b[0m\n\u001b[1;32m      8\u001b[0m     \u001b[0;32mif\u001b[0m \u001b[0mfirst_time\u001b[0m \u001b[0;34m==\u001b[0m \u001b[0;32mTrue\u001b[0m\u001b[0;34m:\u001b[0m\u001b[0;34m\u001b[0m\u001b[0;34m\u001b[0m\u001b[0m\n\u001b[0;32m----> 9\u001b[0;31m         \u001b[0mfile_name\u001b[0m \u001b[0;34m=\u001b[0m \u001b[0minput\u001b[0m\u001b[0;34m(\u001b[0m\u001b[0;34m\"\"\"Hallo! Bitte gib den Namen der Datei an, in der Du Deinen Gedanken festhalten willst.\\n\\nSollte die Datei noch nicht existieren, lege ich sie für Dich an.\\n\\nAn das Dateisuffix musst Du nicht denken.\\n\\n⇥\"\"\"\u001b[0m\u001b[0;34m)\u001b[0m\u001b[0;34m\u001b[0m\u001b[0;34m\u001b[0m\u001b[0m\n\u001b[0m\u001b[1;32m     10\u001b[0m \u001b[0;34m\u001b[0m\u001b[0m\n\u001b[1;32m     11\u001b[0m     \u001b[0;32mwith\u001b[0m \u001b[0mopen\u001b[0m\u001b[0;34m(\u001b[0m\u001b[0mpath\u001b[0m \u001b[0;34m+\u001b[0m \u001b[0mfile_name\u001b[0m \u001b[0;34m+\u001b[0m \u001b[0;34m\".txt\"\u001b[0m\u001b[0;34m,\u001b[0m \u001b[0;34m\"a\"\u001b[0m\u001b[0;34m,\u001b[0m \u001b[0mencoding\u001b[0m\u001b[0;34m=\u001b[0m\u001b[0;34m\"utf-8\"\u001b[0m\u001b[0;34m)\u001b[0m \u001b[0;32mas\u001b[0m \u001b[0mwrite_file\u001b[0m\u001b[0;34m:\u001b[0m\u001b[0;34m\u001b[0m\u001b[0;34m\u001b[0m\u001b[0m\n",
      "\u001b[0;32m/Library/Frameworks/Python.framework/Versions/3.10/lib/python3.10/site-packages/ipykernel/kernelbase.py\u001b[0m in \u001b[0;36mraw_input\u001b[0;34m(self, prompt)\u001b[0m\n\u001b[1;32m   1001\u001b[0m         \"\"\"\n\u001b[1;32m   1002\u001b[0m         \u001b[0;32mif\u001b[0m \u001b[0;32mnot\u001b[0m \u001b[0mself\u001b[0m\u001b[0;34m.\u001b[0m\u001b[0m_allow_stdin\u001b[0m\u001b[0;34m:\u001b[0m\u001b[0;34m\u001b[0m\u001b[0;34m\u001b[0m\u001b[0m\n\u001b[0;32m-> 1003\u001b[0;31m             raise StdinNotImplementedError(\n\u001b[0m\u001b[1;32m   1004\u001b[0m                 \u001b[0;34m\"raw_input was called, but this frontend does not support input requests.\"\u001b[0m\u001b[0;34m\u001b[0m\u001b[0;34m\u001b[0m\u001b[0m\n\u001b[1;32m   1005\u001b[0m             )\n",
      "\u001b[0;31mStdinNotImplementedError\u001b[0m: raw_input was called, but this frontend does not support input requests."
     ]
    }
   ],
   "source": [
    "#Achtung: anderer Pfad als im Notebook, da das Lösungsnotebook in einem anderen Verzeichnis liegt\n",
    "path = \"../../3_Dateien/Output/\"\n",
    "\n",
    "first_time = True\n",
    "\n",
    "while True:\n",
    "    \n",
    "    if first_time == True:\n",
    "        file_name = input(\"\"\"Hallo! Bitte gib den Namen der Datei an, in der Du Deinen Gedanken festhalten willst.\\n\\nSollte die Datei noch nicht existieren, lege ich sie für Dich an.\\n\\nAn das Dateisuffix musst Du nicht denken.\\n\\n⇥\"\"\")\n",
    "        \n",
    "    with open(path + file_name + \".txt\", \"a\", encoding=\"utf-8\") as write_file:\n",
    "        \n",
    "        thought = input(\"\\nWunderbar. Welchen Gedanken möchtest Du festhalten?\\n\\n⇥\")\n",
    "        \n",
    "        write_file.write(thought + \"\\n\")\n",
    "        \n",
    "    print(\"\\nToller Gedanke!\\n\")\n",
    "    \n",
    "    repeat = input(\"Möchtest Du einen weiteren Gedanken in der gleichen Datei festhalten? Dann drücke 'Y'. Wenn nicht, drücke eine beliebige andere Taste.\\n\\n⇥\")\n",
    "    \n",
    "    first_time = False\n",
    "    \n",
    "    if repeat != \"Y\":\n",
    "        print(\"\\nSuper, hab noch einen schönen Tag!\")\n",
    "        break"
   ]
  },
  {
   "cell_type": "markdown",
   "id": "d717a97b-6900-432f-901e-dea5dbf5a02b",
   "metadata": {
    "deletable": false,
    "editable": false
   },
   "source": [
    "***\n",
    "\n",
    "✏️ **Lösung 7:** In ```shopping_list``` finden sich Schlüssel-Werte-Paare bestehend aus Lebensmitteln und dem jeweiligen Preis. Deine Aufgabe ist es, die Ausgabe mithilfe von f-strings wie im folgenden Screenshot gezeigt auszugeben.\n",
    "\n",
    "Hinweis 1: Einen digit space kannst Du nicht nur für Zahlen, sondern für Objekte jeglichen Datentyps festlegen. Der digit space für die Spalte \"Product\" soll 25 Stellen betragen, derjenige für \"Price\" 5.\n",
    "\n",
    "Hinweis 2: Wie erwähnt werden Zahlen innerhalb des digit space standardmäßig rechtsbündig ausgerichtet. Strings werden hingegen innerhalb des digit space standardmäßig linksbündig ausgerichtet (Tabellenkalkulationsprogramme legen das gleiche Verhalten an den Tag, wie Dir vielleicht schon aufgefallen ist). Um die Darstellung im Screenshot umzusetzen musst Du Dich folglich nicht um das alignment kümmern, da es dem Standard entspricht."
   ]
  },
  {
   "cell_type": "code",
   "execution_count": 7,
   "id": "718a9d4e-163d-43e5-822a-14bd03132de3",
   "metadata": {},
   "outputs": [
    {
     "name": "stdout",
     "output_type": "stream",
     "text": [
      "Product                   Price\n",
      "Apple                      0.77\n",
      "Banana                     1.23\n",
      "Oat Milk                   1.94\n",
      "Olive Oil Extra Vergine   11.17\n"
     ]
    }
   ],
   "source": [
    "shopping_list = {\"Apple\": 0.77, \"Banana\": 1.23, \"Oat Milk\": 1.944, \"Olive Oil Extra Vergine\": 11.17}\n",
    "\n",
    "print(f\"{'Product':25} {'Price':5}\")\n",
    "\n",
    "for key, value in shopping_list.items():\n",
    "    \n",
    "    \"\"\"'key' erhält einen digit space von 20 Stellen, die von linksbündig befüllt werden (da es sich um strings handelt);\n",
    "    'value' erhält einen digit space von 5 Stellen, die rechtsbündig befüllt werden (da es sich um Zahlen handelt);\n",
    "    'value' wird auf zwei Dezimalstellen gerundet als float ausgegeben\"\"\"\n",
    "    print(f\"{key:25} {value:5.2f}\")"
   ]
  }
 ],
 "metadata": {
  "kernelspec": {
   "display_name": "Python 3 (ipykernel)",
   "language": "python",
   "name": "python3"
  },
  "language_info": {
   "codemirror_mode": {
    "name": "ipython",
    "version": 3
   },
   "file_extension": ".py",
   "mimetype": "text/x-python",
   "name": "python",
   "nbconvert_exporter": "python",
   "pygments_lexer": "ipython3",
   "version": "3.10.7"
  }
 },
 "nbformat": 4,
 "nbformat_minor": 5
}