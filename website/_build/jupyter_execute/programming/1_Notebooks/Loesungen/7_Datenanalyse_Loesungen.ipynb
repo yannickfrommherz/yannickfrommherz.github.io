{
 "cells": [
  {
   "cell_type": "markdown",
   "id": "d1d9baad-a423-4ae2-a7bf-d2b73f848ffc",
   "metadata": {
    "deletable": false,
    "editable": false
   },
   "source": [
    "# Datenanalyse (Lösungen)\n",
    "\n",
    "☝️ Beachte: es gibt beim Programmieren fast immer verschiedene Lösungswege. Deine Lösung mag anders aussehen, aber dennoch zum gewünschten Resultat führen. Das richtige Resultat ist das Wichtigste. \n",
    "\n",
    "⚠️ Führe folgenden Code aus, bevor du einzelne Lösungen ausführst. Im Lehrnotebook sortieren wir das DataFrame zu einem bestimmten Zeitpunkt. Diese Sortierung nehmen wir im Lösungsnotebook nicht vor, weswegen die Reihenfolge der Zeilen ab einem gewissen Punkt abweicht. Dies ist nicht weiter schlimm und wird bloß erwähnt, dass Du nicht wunderst, warum die Daten zwischen den beiden Notebooks vermeintlich anders ausschauen."
   ]
  },
  {
   "cell_type": "code",
   "execution_count": 1,
   "id": "9c9e03a4-b7bb-400b-b101-383ef481d5d5",
   "metadata": {},
   "outputs": [],
   "source": [
    "import pandas as pd\n",
    "\n",
    "#Achtung: anderer Pfad als im Notebook, da das Lösungsnotebook in einem anderen Verzeichnis liegt \n",
    "with open(\"../../3_Dateien/Songkorpus/songkorpus_token.tsv\") as f:\n",
    "    songkorpus = pd.read_csv(f, sep=\"\\t\")\n",
    "    \n",
    "songkorpus.columns = [\"Token\", \"Jahr\", \"Häufigkeit\"]\n",
    "\n",
    "tokens = songkorpus[\"Token\"]\n",
    "\n",
    "decades = []\n",
    "for year in (songkorpus[\"Jahr\"]):\n",
    "    decade = str(year)[:-1] + \"0\"\n",
    "    decades.append(decade)\n",
    "    \n",
    "songkorpus[\"Jahrzehnt\"] = decades\n",
    "original_len = len(songkorpus)"
   ]
  },
  {
   "cell_type": "markdown",
   "id": "0b22170b-c5be-4da7-91d7-ce4381124664",
   "metadata": {
    "deletable": false,
    "editable": false
   },
   "source": [
    "*** \n",
    "\n",
    "✏️ **Lösung 1:** Erstelle eine weitere Series, die nur das 100.000te, 200.000te und 300.000te Token der Series `tokens` beinhält. "
   ]
  },
  {
   "cell_type": "code",
   "execution_count": 2,
   "id": "59fcc6a6-ad19-48f9-ae3b-22227cb7c32d",
   "metadata": {},
   "outputs": [
    {
     "name": "stdout",
     "output_type": "stream",
     "text": [
      "100000      Leuten\n",
      "200000       alten\n",
      "300000    mitnehme\n",
      "Name: Token, dtype: object\n",
      "100000      Leuten\n",
      "200000       alten\n",
      "300000    mitnehme\n",
      "Name: Token, dtype: object\n"
     ]
    }
   ],
   "source": [
    "print(tokens[[100000,200000,300000]]) #Alternative 1: Liste an Indizes (beachte die inneren eckigen Klammern!)\n",
    "print(tokens[100000::100000]) #Alternative 2: Slicing mit Start-Index 100000 und Step 100000, vgl. zweites Notebook"
   ]
  },
  {
   "cell_type": "markdown",
   "id": "e9f5b42a-3e16-43c2-be74-4ac38f3b8987",
   "metadata": {
    "deletable": false,
    "editable": false
   },
   "source": [
    "*** \n",
    "\n",
    "✏️ **Lösung 2:** \n",
    "\n",
    "1. Lies die Datei `songkorpus_tokens.tsv` abermals ein und übergib beim Erstellen des DataFrames zusätzlich den Parameter `index_col=0`. Dadurch wird die erste Spalte (mit dem Index 0), also diejenige mit den Tokens, zur sog. *Index-Spalte*. Jede Zeile hat nun statt einem numerischen Index einen Namen, nämlich das jeweilige Token. Weise das DataFrame der Variablen `songkorpus_labelled_rows` zu. \n",
    "2. Benenne die Spalten wie bei `songkorpus` um. Falls Du hier eine Fehlermeldung kriegst, lies sie aufmerksam und passe Deinen Code entsprechend an.\n",
    "3. Überlege Dir, was die Tatsache, dass wir nun Tokens als Zeilennamen verwenden, zur Konsequenz hat. Experimentiere dazu gerne mit dem DataFrame herum und greife auf verschiedene Zeilen über Namen zu. "
   ]
  },
  {
   "cell_type": "code",
   "execution_count": 3,
   "id": "e344fa88-b369-4be1-881c-c5ff50787505",
   "metadata": {},
   "outputs": [],
   "source": [
    "#Achtung: anderer Pfad als im Notebook, da das Lösungsnotebook in einem anderen Verzeichnis liegt \n",
    "songkorpus_labelled_rows = pd.read_csv(\"../../3_Dateien/Songkorpus/songkorpus_token.tsv\", sep=\"\\t\", index_col=0) \n",
    "    \n",
    "songkorpus_labelled_rows.columns = [\"Jahr\", \"Häufigkeit\"] \n",
    "\n",
    "#Zu 3.: Zeilennamen können mehrfach vorkommen."
   ]
  },
  {
   "cell_type": "markdown",
   "id": "832e86b4-202f-42fc-9010-fc64aafec336",
   "metadata": {
    "deletable": false,
    "editable": false
   },
   "source": [
    "***\n",
    "\n",
    "✏️ **Lösung 3:** Setze die Tatsache, dass Zeilennamen mehrfach vorkommen dürfen, produktiv ein und finde heraus, wie oft \"Dresden\" in `songkorpus_labelled_rows` vorkommt, indem Du die Häufigkeiten in allen Jahren, in denen das Wort gesungen wird, zusammenzählst.\n",
    "\n",
    "💡 Tipp: Der erste Schritt besteht darin, aus dem gesamten DataFrame `songkorpus_labelled_rows` ein kleineres, sog. *Sub-DataFrame* zu erstellen, das mit einer neuen Variablen referenziert wird. Der zweite Schritt besteht darin, eine Series aus diesem Sub-DataFrame \"herauszuschneiden\", die Du anschließend wie eine Liste behandeln kannst, um schließlich zur Anzahl der Nennungen von \"Dresden\" zu gelangen."
   ]
  },
  {
   "cell_type": "code",
   "execution_count": 4,
   "id": "b6de3f1d-17ec-4ba7-a4b9-5cf9af7fe7b5",
   "metadata": {},
   "outputs": [
    {
     "name": "stdout",
     "output_type": "stream",
     "text": [
      "22\n",
      "22\n",
      "22\n"
     ]
    }
   ],
   "source": [
    "dresden = songkorpus_labelled_rows.loc[\"Dresden\"] #erst greifen wir auf alle Zeilen zu, die \"Dresden\" als Label haben und weisen das Resultat der Variablen \"dresden\" zu\n",
    "occurrences_per_year = dresden[\"Häufigkeit\"] #anschließend greifen wir auf die Spalte \"Häufigkeit\" im Sub-DataFrame \"dresden\" zu und weisen die resultierende Series der Variablen \"occurrences_per_year\" zu\n",
    "\n",
    "#Drei Alternativen ab hier:\n",
    "\n",
    "#1. for-Loop\n",
    "#nun iterieren wir über \"occurrences_per_year\" wie bei einer Liste und erhöhen die Zählvariable \"total\" um den jeweiligen Zeilenwert\n",
    "total = 0\n",
    "for year in occurrences_per_year:\n",
    "    total += year\n",
    "print(total)\n",
    "\n",
    "#2. sum-Funktion\n",
    "print(sum(occurrences_per_year))\n",
    "\n",
    "#3. sum-Methode von pandas\n",
    "print(occurrences_per_year.sum())"
   ]
  },
  {
   "cell_type": "markdown",
   "id": "e711ea39-898d-4ae4-904d-18baca47f0ad",
   "metadata": {
    "deletable": false,
    "editable": false
   },
   "source": [
    "***\n",
    "\n",
    "✏️ **Lösung 4:** Füge `songkorpus` eine weitere Spalte mit dem Namen \"Länge\" hinzu, in der die Anzahl Buchstaben je Token steht."
   ]
  },
  {
   "cell_type": "code",
   "execution_count": 5,
   "id": "8d50a8d7-ab0b-46bd-bd3b-273ab8ee4769",
   "metadata": {},
   "outputs": [
    {
     "data": {
      "text/html": [
       "<div>\n",
       "<style scoped>\n",
       "    .dataframe tbody tr th:only-of-type {\n",
       "        vertical-align: middle;\n",
       "    }\n",
       "\n",
       "    .dataframe tbody tr th {\n",
       "        vertical-align: top;\n",
       "    }\n",
       "\n",
       "    .dataframe thead th {\n",
       "        text-align: right;\n",
       "    }\n",
       "</style>\n",
       "<table border=\"1\" class=\"dataframe\">\n",
       "  <thead>\n",
       "    <tr style=\"text-align: right;\">\n",
       "      <th></th>\n",
       "      <th>Token</th>\n",
       "      <th>Jahr</th>\n",
       "      <th>Häufigkeit</th>\n",
       "      <th>Jahrzehnt</th>\n",
       "      <th>Länge</th>\n",
       "    </tr>\n",
       "  </thead>\n",
       "  <tbody>\n",
       "    <tr>\n",
       "      <th>0</th>\n",
       "      <td>Klaround</td>\n",
       "      <td>2007</td>\n",
       "      <td>1</td>\n",
       "      <td>2000</td>\n",
       "      <td>8</td>\n",
       "    </tr>\n",
       "    <tr>\n",
       "      <th>1</th>\n",
       "      <td>#3</td>\n",
       "      <td>2009</td>\n",
       "      <td>1</td>\n",
       "      <td>2000</td>\n",
       "      <td>2</td>\n",
       "    </tr>\n",
       "    <tr>\n",
       "      <th>2</th>\n",
       "      <td>#Babo</td>\n",
       "      <td>2015</td>\n",
       "      <td>1</td>\n",
       "      <td>2010</td>\n",
       "      <td>5</td>\n",
       "    </tr>\n",
       "    <tr>\n",
       "      <th>3</th>\n",
       "      <td>#JeSuisPasséChezSo</td>\n",
       "      <td>2018</td>\n",
       "      <td>1</td>\n",
       "      <td>2010</td>\n",
       "      <td>18</td>\n",
       "    </tr>\n",
       "    <tr>\n",
       "      <th>4</th>\n",
       "      <td>#Nachbar</td>\n",
       "      <td>2016</td>\n",
       "      <td>1</td>\n",
       "      <td>2010</td>\n",
       "      <td>8</td>\n",
       "    </tr>\n",
       "  </tbody>\n",
       "</table>\n",
       "</div>"
      ],
      "text/plain": [
       "                Token  Jahr  Häufigkeit Jahrzehnt  Länge\n",
       "0            Klaround  2007           1      2000      8\n",
       "1                  #3  2009           1      2000      2\n",
       "2               #Babo  2015           1      2010      5\n",
       "3  #JeSuisPasséChezSo  2018           1      2010     18\n",
       "4            #Nachbar  2016           1      2010      8"
      ]
     },
     "execution_count": 5,
     "metadata": {},
     "output_type": "execute_result"
    }
   ],
   "source": [
    "lengths = []\n",
    "for token in songkorpus[\"Token\"]:\n",
    "    length = len(str(token)) #Casten in string ist nötig, da manche Tokens Zahlen sind und Zahlen keine Länge haben, vgl. zweites Notebook\n",
    "    lengths.append(length)\n",
    "    \n",
    "songkorpus[\"Länge\"] = lengths\n",
    "\n",
    "songkorpus.head()"
   ]
  },
  {
   "cell_type": "markdown",
   "id": "6683ed31-2a41-4d3c-8001-dcc6af6ec194",
   "metadata": {
    "deletable": false,
    "editable": false
   },
   "source": [
    "***\n",
    "\n",
    "✏️ **Lösung 5:** Vereinfache den Code von oben, mit dessen Hilfe wir die Spalte \"Jahrzehnt\" hinzugefügt haben, indem Du ihn mittels List Comprehension (vgl. viertes Notebook) auf eine einzige Zeile reduzierst. Hole den Abschnitt zu List Comprehensions nach, falls Du ihn damals ausgelassen hast, da er als fortgeschritten markiert war.\n",
    "\n",
    "Hinweis: `songkorpus` verfügt ja bereits über eine Spalte mit der Bezeichnung \"Jahrzehnt\". Indem Du das Resultat Deiner List Comprehension `songkorpus[\"Jahrzehnt\"]` zuweist, überschreibst du die befindliche Spalte ganz einfach."
   ]
  },
  {
   "cell_type": "code",
   "execution_count": 6,
   "id": "1b035b44-6ad4-4224-837a-4feacd47b4da",
   "metadata": {},
   "outputs": [
    {
     "data": {
      "text/html": [
       "<div>\n",
       "<style scoped>\n",
       "    .dataframe tbody tr th:only-of-type {\n",
       "        vertical-align: middle;\n",
       "    }\n",
       "\n",
       "    .dataframe tbody tr th {\n",
       "        vertical-align: top;\n",
       "    }\n",
       "\n",
       "    .dataframe thead th {\n",
       "        text-align: right;\n",
       "    }\n",
       "</style>\n",
       "<table border=\"1\" class=\"dataframe\">\n",
       "  <thead>\n",
       "    <tr style=\"text-align: right;\">\n",
       "      <th></th>\n",
       "      <th>Token</th>\n",
       "      <th>Jahr</th>\n",
       "      <th>Häufigkeit</th>\n",
       "      <th>Jahrzehnt</th>\n",
       "      <th>Länge</th>\n",
       "    </tr>\n",
       "  </thead>\n",
       "  <tbody>\n",
       "    <tr>\n",
       "      <th>0</th>\n",
       "      <td>Klaround</td>\n",
       "      <td>2007</td>\n",
       "      <td>1</td>\n",
       "      <td>2000</td>\n",
       "      <td>8</td>\n",
       "    </tr>\n",
       "    <tr>\n",
       "      <th>1</th>\n",
       "      <td>#3</td>\n",
       "      <td>2009</td>\n",
       "      <td>1</td>\n",
       "      <td>2000</td>\n",
       "      <td>2</td>\n",
       "    </tr>\n",
       "    <tr>\n",
       "      <th>2</th>\n",
       "      <td>#Babo</td>\n",
       "      <td>2015</td>\n",
       "      <td>1</td>\n",
       "      <td>2010</td>\n",
       "      <td>5</td>\n",
       "    </tr>\n",
       "    <tr>\n",
       "      <th>3</th>\n",
       "      <td>#JeSuisPasséChezSo</td>\n",
       "      <td>2018</td>\n",
       "      <td>1</td>\n",
       "      <td>2010</td>\n",
       "      <td>18</td>\n",
       "    </tr>\n",
       "    <tr>\n",
       "      <th>4</th>\n",
       "      <td>#Nachbar</td>\n",
       "      <td>2016</td>\n",
       "      <td>1</td>\n",
       "      <td>2010</td>\n",
       "      <td>8</td>\n",
       "    </tr>\n",
       "  </tbody>\n",
       "</table>\n",
       "</div>"
      ],
      "text/plain": [
       "                Token  Jahr  Häufigkeit Jahrzehnt  Länge\n",
       "0            Klaround  2007           1      2000      8\n",
       "1                  #3  2009           1      2000      2\n",
       "2               #Babo  2015           1      2010      5\n",
       "3  #JeSuisPasséChezSo  2018           1      2010     18\n",
       "4            #Nachbar  2016           1      2010      8"
      ]
     },
     "execution_count": 6,
     "metadata": {},
     "output_type": "execute_result"
    }
   ],
   "source": [
    "songkorpus[\"Jahrzehnt\"] = [str(year)[:-1] + \"0\" for year in songkorpus[\"Jahr\"]]\n",
    "songkorpus.head()"
   ]
  },
  {
   "cell_type": "markdown",
   "id": "b11d1ac0-f71c-4606-b82c-1f68d673a736",
   "metadata": {
    "deletable": false,
    "editable": false
   },
   "source": [
    "*** \n",
    "\n",
    "✏️ **Lösung 6:** Führe die Zelle oben, in der wir `songkorpus` Zeilen mit Fantasiewörtern hinzugefügt haben, noch ein paar Mal aus, ohne darauf zu achten wie oft. Verwende nun `drop` in einer geeigneten Kontrollstruktur (vgl. drittes Notebook) sowie die anfangs eingeführte Variable `original_len`, um die Fantasiewörter wieder zu entfernen und `songkorpus`, was die Anzahl an Zeilen betrifft, wieder in seinen Originalzustand zu bringen. "
   ]
  },
  {
   "cell_type": "code",
   "execution_count": 7,
   "id": "27d7d2bf-aedc-4559-b9de-802ebc57ded2",
   "metadata": {},
   "outputs": [
    {
     "data": {
      "text/html": [
       "<div>\n",
       "<style scoped>\n",
       "    .dataframe tbody tr th:only-of-type {\n",
       "        vertical-align: middle;\n",
       "    }\n",
       "\n",
       "    .dataframe tbody tr th {\n",
       "        vertical-align: top;\n",
       "    }\n",
       "\n",
       "    .dataframe thead th {\n",
       "        text-align: right;\n",
       "    }\n",
       "</style>\n",
       "<table border=\"1\" class=\"dataframe\">\n",
       "  <thead>\n",
       "    <tr style=\"text-align: right;\">\n",
       "      <th></th>\n",
       "      <th>Token</th>\n",
       "      <th>Jahr</th>\n",
       "      <th>Häufigkeit</th>\n",
       "      <th>Jahrzehnt</th>\n",
       "      <th>Länge</th>\n",
       "    </tr>\n",
       "  </thead>\n",
       "  <tbody>\n",
       "    <tr>\n",
       "      <th>386505</th>\n",
       "      <td>﻿Vierzehn</td>\n",
       "      <td>2020</td>\n",
       "      <td>1</td>\n",
       "      <td>2020</td>\n",
       "      <td>9</td>\n",
       "    </tr>\n",
       "    <tr>\n",
       "      <th>386506</th>\n",
       "      <td>﻿Was</td>\n",
       "      <td>2020</td>\n",
       "      <td>1</td>\n",
       "      <td>2020</td>\n",
       "      <td>4</td>\n",
       "    </tr>\n",
       "    <tr>\n",
       "      <th>386507</th>\n",
       "      <td>﻿Weißer</td>\n",
       "      <td>2020</td>\n",
       "      <td>1</td>\n",
       "      <td>2020</td>\n",
       "      <td>7</td>\n",
       "    </tr>\n",
       "    <tr>\n",
       "      <th>386508</th>\n",
       "      <td>﻿Wie</td>\n",
       "      <td>2020</td>\n",
       "      <td>1</td>\n",
       "      <td>2020</td>\n",
       "      <td>4</td>\n",
       "    </tr>\n",
       "    <tr>\n",
       "      <th>386509</th>\n",
       "      <td>﻿Wozu</td>\n",
       "      <td>2020</td>\n",
       "      <td>1</td>\n",
       "      <td>2020</td>\n",
       "      <td>5</td>\n",
       "    </tr>\n",
       "  </tbody>\n",
       "</table>\n",
       "</div>"
      ],
      "text/plain": [
       "            Token  Jahr  Häufigkeit Jahrzehnt  Länge\n",
       "386505  ﻿Vierzehn  2020           1      2020      9\n",
       "386506       ﻿Was  2020           1      2020      4\n",
       "386507    ﻿Weißer  2020           1      2020      7\n",
       "386508       ﻿Wie  2020           1      2020      4\n",
       "386509      ﻿Wozu  2020           1      2020      5"
      ]
     },
     "execution_count": 7,
     "metadata": {},
     "output_type": "execute_result"
    }
   ],
   "source": [
    "#Vorbereitung, die im Lehrnotebook nicht notwendig ist: \n",
    "#Wir füngen \"new_row\", sagen wir, 17 Mal \"songkorpus\" hinzu\n",
    "new_row = [\"Fantasiewort\", 2023, 800, 2020, 12]\n",
    "for i in range(17):\n",
    "    songkorpus.loc[len(songkorpus)] = new_row\n",
    "\n",
    "#hier beginnt die Lösung:\n",
    "#was im Schleifenkörper steht, wird wiederholt ausgeführt, solange die Länge von \"songkorpus\"\n",
    "#größer als die ursprüngliche Länge ist, d.h. wir hören auf, wenn beide Werte gleich viel betragen\n",
    "while len(songkorpus) > original_len:\n",
    "    #als Index setzen wir die Länge von \"songkorpus\" minus 1 ein; minus 1, da Indizes bei 0 beginnen\n",
    "    songkorpus = songkorpus.drop(len(songkorpus)-1) #Überschreiben von \"songkorpus\", alternativ \"inplace=True\" spezifizieren\n",
    "\n",
    "#hier überprüfen wir das Resultat\n",
    "songkorpus.tail()"
   ]
  },
  {
   "cell_type": "markdown",
   "id": "1656866b-407e-4065-8e22-4d4615b6ac52",
   "metadata": {
    "deletable": false,
    "editable": false
   },
   "source": [
    "*** \n",
    "\n",
    "✏️ **Lösung 7:** Mithilfe von `describe` haben wir oben herausgefunden, dass die durchschnittliche Wortlänge in `songkorpus` 6.88 Buchstaben beträgt. Die maximale Wortlänge beträgt hingegen sagenhafte 53 Buchstaben. Die Verteilung scheint alles andere als gleichmäßig zu sein, was wir auch an den sog. *Quartilen* 25% und 75% sehen (Quartile werden wie der Median berechnet, nur geht es nicht um den Mittelwert sondern um die Werte nach einem Viertel bzw. drei Vierteln aller aufgereihten Werte). Finde heraus, welche Wortlängen für jeweils mindestens 10 % aller Wörter gelten. Finde ebenfalls heraus, welche Wortlängen für jeweils maximal 1 % aller Wörter gelten.\n",
    "\n",
    "💡 Tipp: Einer von verschiedenen denkbaren Lösungswegen involviert die Tatsache, dass DataFrames und Series mit dictionaries verwandt sind und sich auch in ein solches casten lassen."
   ]
  },
  {
   "cell_type": "code",
   "execution_count": 8,
   "id": "3a247969-c66f-4350-91b0-43568955a8ca",
   "metadata": {},
   "outputs": [
    {
     "name": "stdout",
     "output_type": "stream",
     "text": [
      "Mind. 10 %: 4, 5, 6, 7 \n",
      "Max. 1 %: 1, 15, 16, 17, 18, 19, 20, 21, 22, 23, 24, 25, 26, 27, 28, 29, 30, 31, 32, 33, 34, 35, 36, 37, 38, 39, 40, 41, 42, 43, 44, 46, 47, 48, 49, 50, 51, 53\n"
     ]
    }
   ],
   "source": [
    "lengths = dict(songkorpus[\"Länge\"].value_counts(normalize=True))\n",
    "\n",
    "#als List Comprehension\n",
    "min_10_pc = [str(key) for key, value in lengths.items() if value > 0.1]\n",
    "max_1_pc = [str(key) for key, value in lengths.items() if value < 0.01]\n",
    "\n",
    "#als klassischer for-Loop\n",
    "min_10_pc = [] \n",
    "max_1_pc = []\n",
    "\n",
    "for key, value in lengths.items():\n",
    "    if value > 0.1:\n",
    "        min_10_pc.append(str(key))\n",
    "    elif value < 0.01:\n",
    "        max_1_pc.append(str(key))\n",
    "\n",
    "print(\"Mind. 10 %:\", \", \".join(sorted(min_10_pc)), \"\\nMax. 1 %:\", \", \".join(sorted(max_1_pc)))"
   ]
  },
  {
   "cell_type": "markdown",
   "id": "41973d7c-514c-4e53-bfd4-baed558e640e",
   "metadata": {
    "deletable": false,
    "editable": false
   },
   "source": [
    "***\n",
    "\n"
   ]
  },
  {
   "cell_type": "markdown",
   "id": "4a832d86-43cb-4cfe-a116-910d0b5762d7",
   "metadata": {
    "deletable": false,
    "editable": false
   },
   "source": [
    "✏️ **Lösung 8:** Wir wissen bereits, wieviele Tokens in unserem DataFrame vorkommen, nämlich 386.510. Finde heraus, wieviele einzigartige Token, also Types (vgl. viertes Notebook) es gibt."
   ]
  },
  {
   "cell_type": "code",
   "execution_count": 9,
   "id": "41fd12a9-ebc2-49b0-bbf7-091913dbb227",
   "metadata": {},
   "outputs": [
    {
     "data": {
      "text/plain": [
       "104934"
      ]
     },
     "execution_count": 9,
     "metadata": {},
     "output_type": "execute_result"
    }
   ],
   "source": [
    "len(songkorpus[\"Token\"].unique())"
   ]
  },
  {
   "cell_type": "markdown",
   "id": "ee7a9597-6f3e-47f1-9630-cdd1f25a32d3",
   "metadata": {
    "deletable": false,
    "editable": false
   },
   "source": [
    "***\n",
    "\n",
    "✏️ **Lösung 9:** Erstelle ein Sub-DataFrame, das nur Tokens beinhält, die mindestes 20 Zeichen lang sind."
   ]
  },
  {
   "cell_type": "code",
   "execution_count": 10,
   "id": "9fe22d34-73ee-43a6-9023-6373280b5b22",
   "metadata": {},
   "outputs": [
    {
     "data": {
      "text/html": [
       "<div>\n",
       "<style scoped>\n",
       "    .dataframe tbody tr th:only-of-type {\n",
       "        vertical-align: middle;\n",
       "    }\n",
       "\n",
       "    .dataframe tbody tr th {\n",
       "        vertical-align: top;\n",
       "    }\n",
       "\n",
       "    .dataframe thead th {\n",
       "        text-align: right;\n",
       "    }\n",
       "</style>\n",
       "<table border=\"1\" class=\"dataframe\">\n",
       "  <thead>\n",
       "    <tr style=\"text-align: right;\">\n",
       "      <th></th>\n",
       "      <th>Token</th>\n",
       "      <th>Jahr</th>\n",
       "      <th>Häufigkeit</th>\n",
       "      <th>Jahrzehnt</th>\n",
       "      <th>Länge</th>\n",
       "    </tr>\n",
       "  </thead>\n",
       "  <tbody>\n",
       "    <tr>\n",
       "      <th>111</th>\n",
       "      <td>*ratata-ratarata-ratata*</td>\n",
       "      <td>2015</td>\n",
       "      <td>2</td>\n",
       "      <td>2010</td>\n",
       "      <td>24</td>\n",
       "    </tr>\n",
       "    <tr>\n",
       "      <th>166</th>\n",
       "      <td>-ell-ell-ell-ell-ell</td>\n",
       "      <td>2019</td>\n",
       "      <td>1</td>\n",
       "      <td>2010</td>\n",
       "      <td>20</td>\n",
       "    </tr>\n",
       "    <tr>\n",
       "      <th>388</th>\n",
       "      <td>1.......2.....3.....4.....5.....6.....7.....8....</td>\n",
       "      <td>1982</td>\n",
       "      <td>1</td>\n",
       "      <td>1980</td>\n",
       "      <td>51</td>\n",
       "    </tr>\n",
       "    <tr>\n",
       "      <th>505</th>\n",
       "      <td>100.000-Euro-Lächeln</td>\n",
       "      <td>2013</td>\n",
       "      <td>1</td>\n",
       "      <td>2010</td>\n",
       "      <td>20</td>\n",
       "    </tr>\n",
       "    <tr>\n",
       "      <th>856</th>\n",
       "      <td>187-Strassenbande-Fußtattoo</td>\n",
       "      <td>2022</td>\n",
       "      <td>1</td>\n",
       "      <td>2020</td>\n",
       "      <td>27</td>\n",
       "    </tr>\n",
       "    <tr>\n",
       "      <th>...</th>\n",
       "      <td>...</td>\n",
       "      <td>...</td>\n",
       "      <td>...</td>\n",
       "      <td>...</td>\n",
       "      <td>...</td>\n",
       "    </tr>\n",
       "    <tr>\n",
       "      <th>385866</th>\n",
       "      <td>„K-K-K-K-KitschKrieg</td>\n",
       "      <td>2020</td>\n",
       "      <td>1</td>\n",
       "      <td>2020</td>\n",
       "      <td>20</td>\n",
       "    </tr>\n",
       "    <tr>\n",
       "      <th>386040</th>\n",
       "      <td>„Panini-Fußball-Bilder</td>\n",
       "      <td>1996</td>\n",
       "      <td>1</td>\n",
       "      <td>1990</td>\n",
       "      <td>22</td>\n",
       "    </tr>\n",
       "    <tr>\n",
       "      <th>386119</th>\n",
       "      <td>„Selbstverwirklichung“</td>\n",
       "      <td>2019</td>\n",
       "      <td>1</td>\n",
       "      <td>2010</td>\n",
       "      <td>22</td>\n",
       "    </tr>\n",
       "    <tr>\n",
       "      <th>386404</th>\n",
       "      <td>„ich-fang'-alle-Blicke“-Pöter</td>\n",
       "      <td>1995</td>\n",
       "      <td>1</td>\n",
       "      <td>1990</td>\n",
       "      <td>29</td>\n",
       "    </tr>\n",
       "    <tr>\n",
       "      <th>386405</th>\n",
       "      <td>„ich-verbitte-mir-alle-Vergleiche“-Pöter</td>\n",
       "      <td>1995</td>\n",
       "      <td>1</td>\n",
       "      <td>1990</td>\n",
       "      <td>40</td>\n",
       "    </tr>\n",
       "  </tbody>\n",
       "</table>\n",
       "<p>1060 rows × 5 columns</p>\n",
       "</div>"
      ],
      "text/plain": [
       "                                                    Token  Jahr  Häufigkeit  \\\n",
       "111                              *ratata-ratarata-ratata*  2015           2   \n",
       "166                                  -ell-ell-ell-ell-ell  2019           1   \n",
       "388     1.......2.....3.....4.....5.....6.....7.....8....  1982           1   \n",
       "505                                  100.000-Euro-Lächeln  2013           1   \n",
       "856                           187-Strassenbande-Fußtattoo  2022           1   \n",
       "...                                                   ...   ...         ...   \n",
       "385866                               „K-K-K-K-KitschKrieg  2020           1   \n",
       "386040                             „Panini-Fußball-Bilder  1996           1   \n",
       "386119                             „Selbstverwirklichung“  2019           1   \n",
       "386404                      „ich-fang'-alle-Blicke“-Pöter  1995           1   \n",
       "386405           „ich-verbitte-mir-alle-Vergleiche“-Pöter  1995           1   \n",
       "\n",
       "       Jahrzehnt  Länge  \n",
       "111         2010     24  \n",
       "166         2010     20  \n",
       "388         1980     51  \n",
       "505         2010     20  \n",
       "856         2020     27  \n",
       "...          ...    ...  \n",
       "385866      2020     20  \n",
       "386040      1990     22  \n",
       "386119      2010     22  \n",
       "386404      1990     29  \n",
       "386405      1990     40  \n",
       "\n",
       "[1060 rows x 5 columns]"
      ]
     },
     "execution_count": 10,
     "metadata": {},
     "output_type": "execute_result"
    }
   ],
   "source": [
    "long_words = songkorpus[songkorpus[\"Länge\"] >= 20]\n",
    "long_words"
   ]
  },
  {
   "cell_type": "markdown",
   "id": "a662233c-4cb7-4ada-a27a-2ea3a752d705",
   "metadata": {
    "deletable": false,
    "editable": false
   },
   "source": [
    "***\n",
    "\n",
    "✏️ **Lösung 10:** Erstelle das gleiche Sub-DataFrame wie in Übung 9 (also eines, das nur Tokens beinhält, die mindestes 20 Zeichen lang sind), allerdings ohne dabei die Spalte \"Länge\" zu bemühen. Du kannst dazu eine Methode verwenden, die auch bei normalen strings funktioniert. Stelle sicher, dass die Ergebnisse der beiden Übungen identisch sind."
   ]
  },
  {
   "cell_type": "code",
   "execution_count": 11,
   "id": "6e1a05b6-06df-463b-b2ab-e74ee9b922fb",
   "metadata": {},
   "outputs": [
    {
     "name": "stdout",
     "output_type": "stream",
     "text": [
      "True\n",
      "Token  Jahr  Häufigkeit  Jahrzehnt  Länge\n",
      "True   True  True        True       True     1060\n",
      "dtype: int64\n"
     ]
    },
    {
     "data": {
      "text/plain": [
       "True"
      ]
     },
     "execution_count": 11,
     "metadata": {},
     "output_type": "execute_result"
    }
   ],
   "source": [
    "long_words_2 = songkorpus[songkorpus[\"Token\"].str.len() >= 20]\n",
    "\n",
    "#Überprüfen, ob die beiden Ergebnisse identisch sind:\n",
    "\n",
    "#unsichere Methode, da ja in den Zeilen andere Werte stehen könnten:\n",
    "print(len(long_words_2) == len(long_words))\n",
    "\n",
    "#sichere Methode, da wir erst sämtliche Werte vergleichen und dann True bzw. False auszählen\n",
    "same_values = long_words_2 == long_words\n",
    "print(same_values.value_counts()) #es kommt nur jeweils True vor, also sind die beiden Ergebnisse identisch\n",
    "\n",
    "#Pandas bietet dafür auch eine Methode, nämlich equals():\n",
    "long_words_2.equals(long_words)"
   ]
  },
  {
   "cell_type": "markdown",
   "id": "bbb2a2f4-d8dd-4ef1-997a-17b3d8e47982",
   "metadata": {
    "deletable": false,
    "editable": false
   },
   "source": [
    "*** \n",
    "\n",
    "✏️ **Lösung 11:** Oben haben wir die Spalte \"Jahrzehnt\" basierend auf den Jahreszahlen mithilfe eines `for`-Loops geschaffen. Gehe abermals von der Spalte \"Jahr\" aus, um eine neue Spalte \"Jahrzehnt_ohne_Loop\" zu schaffen, allerdings – wie der Name verrät – ohne dafür einen Loop – auch nicht in Form einer List Comprehension – zu benutzen. Mit anderen Worten: Du sollst Pandas-Syntax dafür einsetzen. Wenn Dein Code stimmt, ergibt die bereits geschriebene (derzeit auskommentierte) Zeile `True`.\n",
    "\n",
    "💡 Tipp: Es sind dieselben einzelnen Schritte wie im `for`-Loop oben nötig, allerdings formuliert in pandas-Syntax. Gegebenfalls musst Du in der [pandas-Dokumentation](https://pandas.pydata.org/docs/) nachschlagen, wie die jeweilige Syntax der pandas-Pendants ausschaut. "
   ]
  },
  {
   "cell_type": "code",
   "execution_count": 12,
   "id": "fbf80545-8682-4dc3-b8a7-57391a94234f",
   "metadata": {},
   "outputs": [
    {
     "name": "stdout",
     "output_type": "stream",
     "text": [
      "True\n"
     ]
    },
    {
     "data": {
      "text/html": [
       "<div>\n",
       "<style scoped>\n",
       "    .dataframe tbody tr th:only-of-type {\n",
       "        vertical-align: middle;\n",
       "    }\n",
       "\n",
       "    .dataframe tbody tr th {\n",
       "        vertical-align: top;\n",
       "    }\n",
       "\n",
       "    .dataframe thead th {\n",
       "        text-align: right;\n",
       "    }\n",
       "</style>\n",
       "<table border=\"1\" class=\"dataframe\">\n",
       "  <thead>\n",
       "    <tr style=\"text-align: right;\">\n",
       "      <th></th>\n",
       "      <th>Token</th>\n",
       "      <th>Jahr</th>\n",
       "      <th>Häufigkeit</th>\n",
       "      <th>Jahrzehnt</th>\n",
       "      <th>Länge</th>\n",
       "      <th>Jahrzehnt_ohne_Loop</th>\n",
       "    </tr>\n",
       "  </thead>\n",
       "  <tbody>\n",
       "    <tr>\n",
       "      <th>0</th>\n",
       "      <td>Klaround</td>\n",
       "      <td>2007</td>\n",
       "      <td>1</td>\n",
       "      <td>2000</td>\n",
       "      <td>8</td>\n",
       "      <td>2000</td>\n",
       "    </tr>\n",
       "    <tr>\n",
       "      <th>1</th>\n",
       "      <td>#3</td>\n",
       "      <td>2009</td>\n",
       "      <td>1</td>\n",
       "      <td>2000</td>\n",
       "      <td>2</td>\n",
       "      <td>2000</td>\n",
       "    </tr>\n",
       "    <tr>\n",
       "      <th>2</th>\n",
       "      <td>#Babo</td>\n",
       "      <td>2015</td>\n",
       "      <td>1</td>\n",
       "      <td>2010</td>\n",
       "      <td>5</td>\n",
       "      <td>2010</td>\n",
       "    </tr>\n",
       "    <tr>\n",
       "      <th>3</th>\n",
       "      <td>#JeSuisPasséChezSo</td>\n",
       "      <td>2018</td>\n",
       "      <td>1</td>\n",
       "      <td>2010</td>\n",
       "      <td>18</td>\n",
       "      <td>2010</td>\n",
       "    </tr>\n",
       "    <tr>\n",
       "      <th>4</th>\n",
       "      <td>#Nachbar</td>\n",
       "      <td>2016</td>\n",
       "      <td>1</td>\n",
       "      <td>2010</td>\n",
       "      <td>8</td>\n",
       "      <td>2010</td>\n",
       "    </tr>\n",
       "    <tr>\n",
       "      <th>...</th>\n",
       "      <td>...</td>\n",
       "      <td>...</td>\n",
       "      <td>...</td>\n",
       "      <td>...</td>\n",
       "      <td>...</td>\n",
       "      <td>...</td>\n",
       "    </tr>\n",
       "    <tr>\n",
       "      <th>386505</th>\n",
       "      <td>﻿Vierzehn</td>\n",
       "      <td>2020</td>\n",
       "      <td>1</td>\n",
       "      <td>2020</td>\n",
       "      <td>9</td>\n",
       "      <td>2020</td>\n",
       "    </tr>\n",
       "    <tr>\n",
       "      <th>386506</th>\n",
       "      <td>﻿Was</td>\n",
       "      <td>2020</td>\n",
       "      <td>1</td>\n",
       "      <td>2020</td>\n",
       "      <td>4</td>\n",
       "      <td>2020</td>\n",
       "    </tr>\n",
       "    <tr>\n",
       "      <th>386507</th>\n",
       "      <td>﻿Weißer</td>\n",
       "      <td>2020</td>\n",
       "      <td>1</td>\n",
       "      <td>2020</td>\n",
       "      <td>7</td>\n",
       "      <td>2020</td>\n",
       "    </tr>\n",
       "    <tr>\n",
       "      <th>386508</th>\n",
       "      <td>﻿Wie</td>\n",
       "      <td>2020</td>\n",
       "      <td>1</td>\n",
       "      <td>2020</td>\n",
       "      <td>4</td>\n",
       "      <td>2020</td>\n",
       "    </tr>\n",
       "    <tr>\n",
       "      <th>386509</th>\n",
       "      <td>﻿Wozu</td>\n",
       "      <td>2020</td>\n",
       "      <td>1</td>\n",
       "      <td>2020</td>\n",
       "      <td>5</td>\n",
       "      <td>2020</td>\n",
       "    </tr>\n",
       "  </tbody>\n",
       "</table>\n",
       "<p>386510 rows × 6 columns</p>\n",
       "</div>"
      ],
      "text/plain": [
       "                     Token  Jahr  Häufigkeit Jahrzehnt  Länge  \\\n",
       "0                 Klaround  2007           1      2000      8   \n",
       "1                       #3  2009           1      2000      2   \n",
       "2                    #Babo  2015           1      2010      5   \n",
       "3       #JeSuisPasséChezSo  2018           1      2010     18   \n",
       "4                 #Nachbar  2016           1      2010      8   \n",
       "...                    ...   ...         ...       ...    ...   \n",
       "386505           ﻿Vierzehn  2020           1      2020      9   \n",
       "386506                ﻿Was  2020           1      2020      4   \n",
       "386507             ﻿Weißer  2020           1      2020      7   \n",
       "386508                ﻿Wie  2020           1      2020      4   \n",
       "386509               ﻿Wozu  2020           1      2020      5   \n",
       "\n",
       "       Jahrzehnt_ohne_Loop  \n",
       "0                     2000  \n",
       "1                     2000  \n",
       "2                     2010  \n",
       "3                     2010  \n",
       "4                     2010  \n",
       "...                    ...  \n",
       "386505                2020  \n",
       "386506                2020  \n",
       "386507                2020  \n",
       "386508                2020  \n",
       "386509                2020  \n",
       "\n",
       "[386510 rows x 6 columns]"
      ]
     },
     "execution_count": 12,
     "metadata": {},
     "output_type": "execute_result"
    }
   ],
   "source": [
    "songkorpus[\"Jahrzehnt_ohne_Loop\"] = songkorpus[\"Jahr\"].astype(str).str.slice(0,-1) + \"0\"\n",
    "print(songkorpus[\"Jahrzehnt\"].equals(songkorpus[\"Jahrzehnt_ohne_Loop\"]))\n",
    "songkorpus"
   ]
  },
  {
   "cell_type": "markdown",
   "id": "6b83523d-d26d-41b3-9912-171f2a17a742",
   "metadata": {
    "deletable": false,
    "editable": false
   },
   "source": [
    "***\n",
    "\n",
    "✏️ **Lösung 12:** Bearbeite die Werte in der Spalte \"Token\" so, dass jedes Wort, das aus genau fünf Buchstaben besteht, großgeschrieben wird. Einfach weil wir's können! 😉"
   ]
  },
  {
   "cell_type": "code",
   "execution_count": 13,
   "id": "1c91fd0f-cb8d-45a1-8735-d4f90cf9da17",
   "metadata": {},
   "outputs": [
    {
     "data": {
      "text/html": [
       "<div>\n",
       "<style scoped>\n",
       "    .dataframe tbody tr th:only-of-type {\n",
       "        vertical-align: middle;\n",
       "    }\n",
       "\n",
       "    .dataframe tbody tr th {\n",
       "        vertical-align: top;\n",
       "    }\n",
       "\n",
       "    .dataframe thead th {\n",
       "        text-align: right;\n",
       "    }\n",
       "</style>\n",
       "<table border=\"1\" class=\"dataframe\">\n",
       "  <thead>\n",
       "    <tr style=\"text-align: right;\">\n",
       "      <th></th>\n",
       "      <th>Token</th>\n",
       "      <th>Jahr</th>\n",
       "      <th>Häufigkeit</th>\n",
       "      <th>Jahrzehnt</th>\n",
       "      <th>Länge</th>\n",
       "      <th>Jahrzehnt_ohne_Loop</th>\n",
       "    </tr>\n",
       "  </thead>\n",
       "  <tbody>\n",
       "    <tr>\n",
       "      <th>0</th>\n",
       "      <td>Klaround</td>\n",
       "      <td>2007</td>\n",
       "      <td>1</td>\n",
       "      <td>2000</td>\n",
       "      <td>8</td>\n",
       "      <td>2000</td>\n",
       "    </tr>\n",
       "    <tr>\n",
       "      <th>1</th>\n",
       "      <td>#3</td>\n",
       "      <td>2009</td>\n",
       "      <td>1</td>\n",
       "      <td>2000</td>\n",
       "      <td>2</td>\n",
       "      <td>2000</td>\n",
       "    </tr>\n",
       "    <tr>\n",
       "      <th>2</th>\n",
       "      <td>#BABO</td>\n",
       "      <td>2015</td>\n",
       "      <td>1</td>\n",
       "      <td>2010</td>\n",
       "      <td>5</td>\n",
       "      <td>2010</td>\n",
       "    </tr>\n",
       "    <tr>\n",
       "      <th>3</th>\n",
       "      <td>#JeSuisPasséChezSo</td>\n",
       "      <td>2018</td>\n",
       "      <td>1</td>\n",
       "      <td>2010</td>\n",
       "      <td>18</td>\n",
       "      <td>2010</td>\n",
       "    </tr>\n",
       "    <tr>\n",
       "      <th>4</th>\n",
       "      <td>#Nachbar</td>\n",
       "      <td>2016</td>\n",
       "      <td>1</td>\n",
       "      <td>2010</td>\n",
       "      <td>8</td>\n",
       "      <td>2010</td>\n",
       "    </tr>\n",
       "    <tr>\n",
       "      <th>...</th>\n",
       "      <td>...</td>\n",
       "      <td>...</td>\n",
       "      <td>...</td>\n",
       "      <td>...</td>\n",
       "      <td>...</td>\n",
       "      <td>...</td>\n",
       "    </tr>\n",
       "    <tr>\n",
       "      <th>386505</th>\n",
       "      <td>﻿Vierzehn</td>\n",
       "      <td>2020</td>\n",
       "      <td>1</td>\n",
       "      <td>2020</td>\n",
       "      <td>9</td>\n",
       "      <td>2020</td>\n",
       "    </tr>\n",
       "    <tr>\n",
       "      <th>386506</th>\n",
       "      <td>﻿Was</td>\n",
       "      <td>2020</td>\n",
       "      <td>1</td>\n",
       "      <td>2020</td>\n",
       "      <td>4</td>\n",
       "      <td>2020</td>\n",
       "    </tr>\n",
       "    <tr>\n",
       "      <th>386507</th>\n",
       "      <td>﻿Weißer</td>\n",
       "      <td>2020</td>\n",
       "      <td>1</td>\n",
       "      <td>2020</td>\n",
       "      <td>7</td>\n",
       "      <td>2020</td>\n",
       "    </tr>\n",
       "    <tr>\n",
       "      <th>386508</th>\n",
       "      <td>﻿Wie</td>\n",
       "      <td>2020</td>\n",
       "      <td>1</td>\n",
       "      <td>2020</td>\n",
       "      <td>4</td>\n",
       "      <td>2020</td>\n",
       "    </tr>\n",
       "    <tr>\n",
       "      <th>386509</th>\n",
       "      <td>﻿WOZU</td>\n",
       "      <td>2020</td>\n",
       "      <td>1</td>\n",
       "      <td>2020</td>\n",
       "      <td>5</td>\n",
       "      <td>2020</td>\n",
       "    </tr>\n",
       "  </tbody>\n",
       "</table>\n",
       "<p>386510 rows × 6 columns</p>\n",
       "</div>"
      ],
      "text/plain": [
       "                     Token  Jahr  Häufigkeit Jahrzehnt  Länge  \\\n",
       "0                 Klaround  2007           1      2000      8   \n",
       "1                       #3  2009           1      2000      2   \n",
       "2                    #BABO  2015           1      2010      5   \n",
       "3       #JeSuisPasséChezSo  2018           1      2010     18   \n",
       "4                 #Nachbar  2016           1      2010      8   \n",
       "...                    ...   ...         ...       ...    ...   \n",
       "386505           ﻿Vierzehn  2020           1      2020      9   \n",
       "386506                ﻿Was  2020           1      2020      4   \n",
       "386507             ﻿Weißer  2020           1      2020      7   \n",
       "386508                ﻿Wie  2020           1      2020      4   \n",
       "386509               ﻿WOZU  2020           1      2020      5   \n",
       "\n",
       "       Jahrzehnt_ohne_Loop  \n",
       "0                     2000  \n",
       "1                     2000  \n",
       "2                     2010  \n",
       "3                     2010  \n",
       "4                     2010  \n",
       "...                    ...  \n",
       "386505                2020  \n",
       "386506                2020  \n",
       "386507                2020  \n",
       "386508                2020  \n",
       "386509                2020  \n",
       "\n",
       "[386510 rows x 6 columns]"
      ]
     },
     "execution_count": 13,
     "metadata": {},
     "output_type": "execute_result"
    }
   ],
   "source": [
    "import numpy as np\n",
    "songkorpus[\"Token\"] = np.where(songkorpus[\"Länge\"] == 5, songkorpus[\"Token\"].str.upper(), songkorpus[\"Token\"])\n",
    "songkorpus"
   ]
  },
  {
   "cell_type": "markdown",
   "id": "974a5c7a-6992-446b-8ea8-20fdb7191a2a",
   "metadata": {
    "deletable": false,
    "editable": false
   },
   "source": [
    "***\n",
    "\n",
    "✏️ **Lösung 13:** Caste sämtliche Werte in `songkorpus` in strings."
   ]
  },
  {
   "cell_type": "code",
   "execution_count": 14,
   "id": "c630dc78-259c-486f-b224-6f60b0d0e97a",
   "metadata": {},
   "outputs": [
    {
     "name": "stdout",
     "output_type": "stream",
     "text": [
      "<class 'str'>\n"
     ]
    }
   ],
   "source": [
    "songkorpus = songkorpus.applymap(str) #str ist ja auch eine Funktion!\n",
    "#songkorpus = songkorpus.astype(str) #Alternative\n",
    "print(type(songkorpus.loc[0][\"Jahrzehnt_ohne_Loop\"])) #Überprüfung an einem bestimmten Wert"
   ]
  },
  {
   "cell_type": "markdown",
   "id": "3591d9ad-95c9-4b8c-8b12-ca5008c8b441",
   "metadata": {
    "deletable": false,
    "editable": false
   },
   "source": [
    "***\n",
    "\n",
    "🔧 **Anwendungsfall (komplette Lösung):** "
   ]
  },
  {
   "cell_type": "code",
   "execution_count": 15,
   "id": "3a576e9d-8c61-423a-9bc0-a9f065d42869",
   "metadata": {},
   "outputs": [
    {
     "ename": "ModuleNotFoundError",
     "evalue": "No module named 'matplotlib'",
     "output_type": "error",
     "traceback": [
      "\u001b[0;31m---------------------------------------------------------------------------\u001b[0m",
      "\u001b[0;31mModuleNotFoundError\u001b[0m                       Traceback (most recent call last)",
      "Cell \u001b[0;32mIn[15], line 10\u001b[0m\n\u001b[1;32m      7\u001b[0m total_freq_per_year \u001b[38;5;241m=\u001b[39m songkorpus\u001b[38;5;241m.\u001b[39mgroupby([\u001b[38;5;124m\"\u001b[39m\u001b[38;5;124mJahr\u001b[39m\u001b[38;5;124m\"\u001b[39m])[\u001b[38;5;124m\"\u001b[39m\u001b[38;5;124mHäufigkeit\u001b[39m\u001b[38;5;124m\"\u001b[39m]\u001b[38;5;241m.\u001b[39msum()\n\u001b[1;32m      8\u001b[0m songkorpus[\u001b[38;5;124m\"\u001b[39m\u001b[38;5;124mRelative Häufigkeit\u001b[39m\u001b[38;5;124m\"\u001b[39m] \u001b[38;5;241m=\u001b[39m songkorpus[\u001b[38;5;124m\"\u001b[39m\u001b[38;5;124mHäufigkeit\u001b[39m\u001b[38;5;124m\"\u001b[39m] \u001b[38;5;241m/\u001b[39m songkorpus[\u001b[38;5;124m\"\u001b[39m\u001b[38;5;124mJahr\u001b[39m\u001b[38;5;124m\"\u001b[39m]\u001b[38;5;241m.\u001b[39mreplace(total_freq_per_year) \n\u001b[0;32m---> 10\u001b[0m \u001b[38;5;28;01mimport\u001b[39;00m \u001b[38;5;21;01mmatplotlib\u001b[39;00m\u001b[38;5;21;01m.\u001b[39;00m\u001b[38;5;21;01mpyplot\u001b[39;00m \u001b[38;5;28;01mas\u001b[39;00m \u001b[38;5;21;01mplt\u001b[39;00m\n\u001b[1;32m     12\u001b[0m \u001b[38;5;66;03m#Abfragen der zu plottenden Wörter\u001b[39;00m\n\u001b[1;32m     13\u001b[0m words \u001b[38;5;241m=\u001b[39m \u001b[38;5;28minput\u001b[39m(\u001b[38;5;124m\"\u001b[39m\u001b[38;5;124mWelche Wörter sollen geplotted werden? Bsp.: \u001b[39m\u001b[38;5;124m'\u001b[39m\u001b[38;5;124mich, du\u001b[39m\u001b[38;5;124m'\u001b[39m\u001b[38;5;124m.\u001b[39m\u001b[38;5;124m\"\u001b[39m)\u001b[38;5;241m.\u001b[39msplit(\u001b[38;5;124m\"\u001b[39m\u001b[38;5;124m,\u001b[39m\u001b[38;5;124m\"\u001b[39m)\n",
      "\u001b[0;31mModuleNotFoundError\u001b[0m: No module named 'matplotlib'"
     ]
    }
   ],
   "source": [
    "#Achtung: anderer Pfad als im Notebook, da das Lösungsnotebook in einem anderen Verzeichnis liegt \n",
    "songkorpus = pd.read_csv(\"../../3_Dateien/Songkorpus/songkorpus_token.tsv\", sep=\"\\t\") \n",
    "    \n",
    "songkorpus.columns = [\"Token\", \"Jahr\", \"Häufigkeit\"] #Spalten umbenennen\n",
    "\n",
    "#neue Spalte für relative Häufigkeiten schaffen, indem absolute Häufigkeiten durch aufsummierte Häufigkeit pro Jahr geteilt werden (genaue Erklärung s. Schritt-für-Schritt-Anleitung)\n",
    "total_freq_per_year = songkorpus.groupby([\"Jahr\"])[\"Häufigkeit\"].sum()\n",
    "songkorpus[\"Relative Häufigkeit\"] = songkorpus[\"Häufigkeit\"] / songkorpus[\"Jahr\"].replace(total_freq_per_year) \n",
    "\n",
    "import matplotlib.pyplot as plt\n",
    "\n",
    "#Abfragen der zu plottenden Wörter\n",
    "words = input(\"Welche Wörter sollen geplotted werden? Bsp.: 'ich, du'.\").split(\",\")\n",
    "words = [word.strip() for word in words]\n",
    "\n",
    "#Iterieren über die zu plottenden Wörter\n",
    "for word in words:\n",
    "    #Schaffen eines Sub-DataFrames über Filter\n",
    "    word_df = songkorpus[songkorpus[\"Token\"] == word]\n",
    "    #Sortieren des Sub-DataFrames nach der Spalte \"Jahr\" und Zurücksetzen des Index\n",
    "    word_df = word_df.sort_values(by=\"Jahr\", ascending=True).reset_index()\n",
    "    #Definieren von x und y, \"Jahr\" soll auf x-Achse geplotted werden, \"Relative Häufigkeit\" auf y-Achse\n",
    "    x = word_df[\"Jahr\"]\n",
    "    y = word_df[\"Relative Häufigkeit\"]\n",
    "    #Eigentliches Plotten\n",
    "    plt.plot(x, y, 'o-')\n",
    "\n",
    "#Zusätzliches Verfeinern und Beschriften des Plots\n",
    "plt.title(f\"Wortverlaufskurve für {', '.join([word for word in words])}\")\n",
    "plt.xlabel(\"Jahr\")\n",
    "plt.ylabel(\"Relative Häufigkeit\")\n",
    "plt.xlim(1967, 2023)\n",
    "plt.legend(words, loc=\"best\")"
   ]
  },
  {
   "cell_type": "markdown",
   "id": "2cdae0a9-9d27-45e2-ae07-877661ded407",
   "metadata": {
    "deletable": false,
    "editable": false
   },
   "source": [
    "***\n",
    "\n",
    "🔧 **Anwendungsfall (Schritt-für-Schritt-Lösung):**\n",
    "\n",
    "1. Um sicherzugehen, dass wir wirklich mit den originalen Daten arbeiten, lies die Datei \"songkorpus_token.tsv\" abermals ein. "
   ]
  },
  {
   "cell_type": "code",
   "execution_count": 16,
   "id": "f35473fc-a5b8-4173-9cbe-bfa26af959ee",
   "metadata": {},
   "outputs": [],
   "source": [
    "#Achtung: anderer Pfad als im Notebook, da das Lösungsnotebook in einem anderen Verzeichnis liegt \n",
    "songkorpus = pd.read_csv(\"../../3_Dateien/Songkorpus/songkorpus_token.tsv\", sep=\"\\t\") "
   ]
  },
  {
   "cell_type": "markdown",
   "id": "19782675-b5ab-406c-8a2d-f0fbf9eacc0f",
   "metadata": {
    "deletable": false,
    "editable": false
   },
   "source": [
    "2. Benenne die Spalten in \"Token\", \"Jahr\" und \"Häufigkeit\" um."
   ]
  },
  {
   "cell_type": "code",
   "execution_count": 17,
   "id": "a0922a06-746f-4e51-a4d6-fa61bb19d5ba",
   "metadata": {},
   "outputs": [],
   "source": [
    "songkorpus.columns = [\"Token\", \"Jahr\", \"Häufigkeit\"]"
   ]
  },
  {
   "cell_type": "markdown",
   "id": "00b19ede-8004-4a11-97ac-d4e587ad538b",
   "metadata": {
    "deletable": false,
    "editable": false
   },
   "source": [
    "3. Im DataFrame verfügen wir bislang nur über absolute Häufigkeiten. Um die Werte zwischen einzelnen Jahren besser vergleichbar zu machen, wollen wir aber relative Häufigkeiten für die Visualisierung verwenden. Schaffe dazu eine Spalte \"Relative Häufigkeit\", die für jedes Token vermerkt, wie häufig es in Relation zur Summe aller Häufigkeiten aller Tokens im gegebenen Jahr vorkommt. Für diese Berechnung brauchst Du jeweils zwei Werte: erstens die absolute Häufigkeit (bereits in der Spalte \"Häufigkeit\") und zweitens die Summe aller Häufigkeiten aller Tokens im gegebenen Jahr.\n",
    "\n",
    "     Verwende die Methode [`groupby`](https://pandas.pydata.org/docs/reference/api/pandas.DataFrame.groupby.html) zur Berechnung der Summe aller Häufigkeiten pro Jahr. Nach dem Motto \"split-apply-combine\" erlaubt Dir diese Methode, das DataFrame nach den Werten der Spalte \"Jahr\" zu gruppieren (aufzu*split*ten). Indem Du im gleichen Statement die `sum`-Methode auf die Spalte \"Häufigkeit\" jedes durch `groupby` entstehenden Sub-DataFrame anwendest (*apply*), erhältst Du eine zusammengeführte Series (*combine*), die für jedes Jahr die Summe aller Häufigkeiten aller Tokens enthält. Weise die Series der Variablen `total_freq_per_year` zu und inspiziere sie.\n",
    "    \n",
    "    Um nun zur relativen Häufigkeit zu gelangen, musst Du für jedes Token in `songkorpus` den Wert in der Spalte \"Häufigkeit\" durch die jeweilige Summe an Häufigkeiten im gegebenen Jahr teilen. Da wir letzteren Wert in einer anderen Series (nämlich in `total_freq_per_year`) vorliegen haben, müssen wir zu einem Trick greifen: Wende die `replace`-Methode auf die Spalte \"Jahr\" an und übergib ihr `total_freq_per_year`. Wir machen uns hier den Umstand zunutze, dass eine Series wie ein dictionary funktioniert. Will heißen: `replace` ersetzt kurzerhand jedes Jahr (Schlüssel) durch die jeweilige Summe der Häufigkeiten pro Jahr (Wert)."
   ]
  },
  {
   "cell_type": "code",
   "execution_count": 18,
   "id": "0ebb5eaf-6eac-48fc-9e2d-f87a0826f639",
   "metadata": {},
   "outputs": [],
   "source": [
    "total_freq_per_year = songkorpus.groupby([\"Jahr\"])[\"Häufigkeit\"].sum()\n",
    "songkorpus[\"Relative Häufigkeit\"] = songkorpus[\"Häufigkeit\"] / songkorpus[\"Jahr\"].replace(total_freq_per_year) "
   ]
  },
  {
   "cell_type": "markdown",
   "id": "2211267b-7aed-42f1-9bcb-cb1ddd96bd66",
   "metadata": {
    "deletable": false,
    "editable": false
   },
   "source": [
    "4. Installiere ggf. `matplotlib` über das Terminal oder die Eingabeaufforderung und importiere anschließend `matplotlib.pyplot as plt` (wieder so eine gängige Abkürzung). matplotlib ist die Bibliothek, die wir zum Visualisieren unserer Daten verwenden. Mithilfe der Funktion `plot(x, y)` (denk an den Modulnamen davor) können wir einfach Grafiken produzieren. `x` ist dabei eine Liste oder Series an Werten, die auf der x-Achse abgebildet werden sollen und `y` eine Liste oder Series derjenigen Werte, die auf der y-Achse dargestellt werden sollen. `x` und `y` müssen gleich lange sein. Konkret wird der erste Punkt in der Grafik bei den Koordinaten `x[0]` und `y[0]` eingezeichnet, der zweite bei `x[1]` und `y[1]`, etc. Standardmäßig werden die einzelnen Punkte wie oben zu einem Graphen verbunden. Schau in den Beispieldarstellungen oben, welche Werte wir entlang der x-Achse bzw. entlang der y-Achsen plotten wollen. "
   ]
  },
  {
   "cell_type": "code",
   "execution_count": 19,
   "id": "875a38b3-d30f-4a1c-a127-ed6986cf36dd",
   "metadata": {},
   "outputs": [
    {
     "ename": "ModuleNotFoundError",
     "evalue": "No module named 'matplotlib'",
     "output_type": "error",
     "traceback": [
      "\u001b[0;31m---------------------------------------------------------------------------\u001b[0m",
      "\u001b[0;31mModuleNotFoundError\u001b[0m                       Traceback (most recent call last)",
      "Cell \u001b[0;32mIn[19], line 3\u001b[0m\n\u001b[1;32m      1\u001b[0m \u001b[38;5;66;03m#'pip(3) install matplotlib' zur Installation von matplotlib via Terminal/Eingabeaufforderung\u001b[39;00m\n\u001b[0;32m----> 3\u001b[0m \u001b[38;5;28;01mimport\u001b[39;00m \u001b[38;5;21;01mmatplotlib\u001b[39;00m\u001b[38;5;21;01m.\u001b[39;00m\u001b[38;5;21;01mpyplot\u001b[39;00m \u001b[38;5;28;01mas\u001b[39;00m \u001b[38;5;21;01mplt\u001b[39;00m\n",
      "\u001b[0;31mModuleNotFoundError\u001b[0m: No module named 'matplotlib'"
     ]
    }
   ],
   "source": [
    "#'pip(3) install matplotlib' zur Installation von matplotlib via Terminal/Eingabeaufforderung\n",
    "\n",
    "import matplotlib.pyplot as plt"
   ]
  },
  {
   "cell_type": "markdown",
   "id": "3f529adc-9163-441d-825d-d0bba10f69e4",
   "metadata": {
    "deletable": false,
    "editable": false
   },
   "source": [
    "5. Definiere eine Liste an Wörtern, die Du visualisieren möchtest. Diesen Schritt kannst Du auch interaktiv umsetzen, sodass Du bei jeder Ausführung aufgefordert wirst, Wörter zur Visualisierung anzugeben."
   ]
  },
  {
   "cell_type": "code",
   "execution_count": 20,
   "id": "49fe4a08-d194-41db-83b1-87b83e2934a9",
   "metadata": {},
   "outputs": [],
   "source": [
    "#Statische Definition\n",
    "words = [\"ich\", \"du\", \"er\", \"sie\"]\n",
    "\n",
    "#Interaktive Abfrage\n",
    "#words = input(\"Welche Wörter sollen geplotted werden? Bsp.: 'ich, du'.\").split(\",\")\n",
    "#words = [word.strip() for word in words]"
   ]
  },
  {
   "cell_type": "markdown",
   "id": "4367f496-5520-4002-98c7-7e50f828d11d",
   "metadata": {
    "deletable": false,
    "editable": false
   },
   "source": [
    "6. Plotte nun nacheinander eine Verlaufskurve für jedes Wort auf der Liste. Gehe dazu für jedes Wort wie folgt vor:\n",
    "    - Schaffe ein Sub-DataFrame, in dem in der Spalte \"Token\" nur das gegebene Wort steht.\n",
    "    - Sortiere das Sub-DataFrame aufsteigend nach der Spalte \"Jahr\" und setze den Index anschließend zurück.\n",
    "    - Übergib der `plot`-Funktion die relevanten Spalten des Sub-DataFrames an Stelle von `x` und `y`. Übergib als drittes Argument den string \"o-\", der den Stil des Graphen (Linie mit Punkten) definiert."
   ]
  },
  {
   "cell_type": "markdown",
   "id": "acd5f761-79ee-41ba-9ab7-a136be56a7db",
   "metadata": {
    "deletable": false,
    "editable": false
   },
   "source": [
    "7. Nachdem Du alle Wörter der Liste entsprechend geplotted hast, kannst Du **in derselben Zelle** folgende Funktionen verwenden, um den Plot zu verfeinern:\n",
    "    - `title`, um einen Titel zu setzen.\n",
    "    - `xlabel` und  `ylabel`, um die Achsen zu beschriften.\n",
    "    - `xlim`, um der x-Achse Grenzen zu setzen, z.B. von 1969 bis 2022 (dies vereinheitlicht die Plots, da diese sonst automatisch an den Wertebereich der zu plottenden Wörter angepasst wird und der Plot dadurch mitunter anders beschnitten sein kann).\n",
    "    - `legend`, um eine Legende einzufügen, indem Du der Funktion die Liste mit Wörtern übergibst"
   ]
  },
  {
   "cell_type": "code",
   "execution_count": 21,
   "id": "b99b0e1a-04c7-4d63-889f-b03feef27dde",
   "metadata": {},
   "outputs": [
    {
     "ename": "NameError",
     "evalue": "name 'plt' is not defined",
     "output_type": "error",
     "traceback": [
      "\u001b[0;31m---------------------------------------------------------------------------\u001b[0m",
      "\u001b[0;31mNameError\u001b[0m                                 Traceback (most recent call last)",
      "Cell \u001b[0;32mIn[21], line 11\u001b[0m\n\u001b[1;32m      9\u001b[0m     y \u001b[38;5;241m=\u001b[39m word_df[\u001b[38;5;124m\"\u001b[39m\u001b[38;5;124mRelative Häufigkeit\u001b[39m\u001b[38;5;124m\"\u001b[39m]\n\u001b[1;32m     10\u001b[0m     \u001b[38;5;66;03m#Eigentliches Plotten\u001b[39;00m\n\u001b[0;32m---> 11\u001b[0m     \u001b[43mplt\u001b[49m\u001b[38;5;241m.\u001b[39mplot(x, y, \u001b[38;5;124m'\u001b[39m\u001b[38;5;124mo-\u001b[39m\u001b[38;5;124m'\u001b[39m)\n\u001b[1;32m     13\u001b[0m \u001b[38;5;66;03m#Zusätzliches Verfeinern und Beschriften des Plots\u001b[39;00m\n\u001b[1;32m     14\u001b[0m plt\u001b[38;5;241m.\u001b[39mtitle(\u001b[38;5;124mf\u001b[39m\u001b[38;5;124m\"\u001b[39m\u001b[38;5;124mWortverlaufskurve für \u001b[39m\u001b[38;5;132;01m{\u001b[39;00m\u001b[38;5;124m'\u001b[39m\u001b[38;5;124m, \u001b[39m\u001b[38;5;124m'\u001b[39m\u001b[38;5;241m.\u001b[39mjoin([word\u001b[38;5;250m \u001b[39m\u001b[38;5;28;01mfor\u001b[39;00m\u001b[38;5;250m \u001b[39mword\u001b[38;5;250m \u001b[39m\u001b[38;5;129;01min\u001b[39;00m\u001b[38;5;250m \u001b[39mwords])\u001b[38;5;132;01m}\u001b[39;00m\u001b[38;5;124m\"\u001b[39m)\n",
      "\u001b[0;31mNameError\u001b[0m: name 'plt' is not defined"
     ]
    }
   ],
   "source": [
    "#Iterieren über die zu plottenden Wörter\n",
    "for word in words:\n",
    "    #Schaffen eines Sub-DataFrames über Filter\n",
    "    word_df = songkorpus[songkorpus[\"Token\"] == word]\n",
    "    #Sortieren des Sub-DataFrames nach der Spalte \"Jahr\" und Zurücksetzen des Index\n",
    "    word_df = word_df.sort_values(by=\"Jahr\", ascending=True).reset_index()\n",
    "    #Definieren von x und y, \"Jahr\" soll auf x-Achse geplotted werden, \"Relative Häufigkeit\" auf y-Achse\n",
    "    x = word_df[\"Jahr\"]\n",
    "    y = word_df[\"Relative Häufigkeit\"]\n",
    "    #Eigentliches Plotten\n",
    "    plt.plot(x, y, 'o-')\n",
    "\n",
    "#Zusätzliches Verfeinern und Beschriften des Plots\n",
    "plt.title(f\"Wortverlaufskurve für {', '.join([word for word in words])}\")\n",
    "plt.xlabel(\"Jahr\")\n",
    "plt.ylabel(\"Relative Häufigkeit\")\n",
    "plt.xlim(1967, 2023)\n",
    "plt.legend(words, loc=\"best\")"
   ]
  },
  {
   "cell_type": "markdown",
   "id": "8d9938c5-e3c9-4189-b0a5-3aed75759b1d",
   "metadata": {
    "deletable": false,
    "editable": false
   },
   "source": [
    "***\n",
    "<br>"
   ]
  }
 ],
 "metadata": {
  "kernelspec": {
   "display_name": "Python 3 (ipykernel)",
   "language": "python",
   "name": "python3"
  },
  "language_info": {
   "codemirror_mode": {
    "name": "ipython",
    "version": 3
   },
   "file_extension": ".py",
   "mimetype": "text/x-python",
   "name": "python",
   "nbconvert_exporter": "python",
   "pygments_lexer": "ipython3",
   "version": "3.10.8"
  }
 },
 "nbformat": 4,
 "nbformat_minor": 5
}