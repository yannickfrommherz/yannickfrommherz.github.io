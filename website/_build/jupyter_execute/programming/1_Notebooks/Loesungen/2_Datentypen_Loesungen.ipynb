{
 "cells": [
  {
   "cell_type": "markdown",
   "id": "bf494735-4bdf-4927-984c-22e829fe2eab",
   "metadata": {
    "deletable": false,
    "editable": false
   },
   "source": [
    "# Datentypen (Lösungen)\n",
    "\n",
    "☝️ Beachte: es gibt beim Programmieren fast immer verschiedene Lösungswege. Deine Lösung mag anders aussehen, aber dennoch zum gewünschten Resultat führen. Das richtige Resultat ist das Wichtigste. "
   ]
  },
  {
   "cell_type": "markdown",
   "id": "cb1f6e19-c436-4714-b847-7e6d7c6367c3",
   "metadata": {
    "deletable": false,
    "editable": false
   },
   "source": [
    "✏️ **Lösung 1:** Erstelle eine Liste mit allen Monaten des Jahres, allerdings gruppiert nach meteorologischen Jahreszeiten, also *März, April, Mai* zusammen in einer Liste für Frühlingsmonate, etc. Am Ende solltest Du also vier Listen für die vier Jahreszeiten haben, die wiederum Elemente einer einzigen Liste sind. Eine Variable namens ```seasons``` soll auf diese Liste zeigen."
   ]
  },
  {
   "cell_type": "code",
   "execution_count": 1,
   "id": "f8df4765-4309-4e4a-999a-d94160a6ec4b",
   "metadata": {},
   "outputs": [
    {
     "name": "stdout",
     "output_type": "stream",
     "text": [
      "[['März', 'April', 'Mai'], ['Juni', 'Juli', 'August'], ['September', 'Oktober', 'November'], ['Dezember', 'Januar', 'Februar']]\n"
     ]
    }
   ],
   "source": [
    "spring = [\"März\", \"April\", \"Mai\"]\n",
    "summer = [\"Juni\", \"Juli\", \"August\"]\n",
    "fall = [\"September\", \"Oktober\", \"November\"]\n",
    "winter = [\"Dezember\", \"Januar\", \"Februar\"]\n",
    "seasons = [spring, summer, fall, winter]\n",
    "print(seasons)"
   ]
  },
  {
   "cell_type": "markdown",
   "id": "a9dbd361-8943-4333-a9d5-17595de1dcb3",
   "metadata": {
    "deletable": false,
    "editable": false
   },
   "source": [
    "***\n",
    "✏️ **Lösung 2:** Baue auf der Jahreszeitenliste der vorherigen Übung auf und erstelle ein dictionary mit den Jahreszeiten als Schlüssel und einer Liste mit den jeweiligen drei Monaten als Werte. Verwende wieder (d.h. überschreibe) die Variable ```seasons```, um das dictionary zu referenzieren.\n"
   ]
  },
  {
   "cell_type": "code",
   "execution_count": 2,
   "id": "6852a912-64eb-4b59-9995-083e452ce725",
   "metadata": {},
   "outputs": [
    {
     "name": "stdout",
     "output_type": "stream",
     "text": [
      "['März', 'April', 'Mai']\n"
     ]
    }
   ],
   "source": [
    "seasons = {\"spring\": spring, \"summer\": summer, \"fall\": fall, \"winter\": winter}\n",
    "print(seasons[\"spring\"])"
   ]
  },
  {
   "cell_type": "markdown",
   "id": "0c42dc48-9181-46ae-bd83-a05849b974be",
   "metadata": {
    "deletable": false,
    "editable": false
   },
   "source": [
    "***\n",
    "\n",
    "✏️ **Lösung 3:** Stell Dir vor, Du und Dein:e Partner:in haben, ohne Euch zu verständigen, jeweils eine Einkaufsliste angefertigt. Zwischen den Einkaufslisten gibt es viel Übereinstimmung, z.B. habt ihr beide \"Hafermilch\" aufgeschrieben. Andere Lebensmittel finden sich nur auf jeweils einer der beiden Listen. Definiere zwei Listen mit teils gleichen, teils unterschiedlichen Lebensmitteln und versuche anschließend eine Einkaufsliste darauszumachen, die keine Lebensmittel doppelt enthält. Schließlich fehlt euch Hafermilch, aber ihr braucht nicht die doppelte Menge, nur weil beide \"Hafermilch\" aufgeschreiben haben. Lass Dir dann die fertige Einkaufsliste ausgeben."
   ]
  },
  {
   "cell_type": "code",
   "execution_count": 3,
   "id": "8670da8c-b902-498b-8a5b-3db176f20053",
   "metadata": {},
   "outputs": [
    {
     "name": "stdout",
     "output_type": "stream",
     "text": [
      "{'Pasta', 'Marmelade', 'Hafermilch', 'Brot', 'Brokkoli', 'Brötchen'}\n"
     ]
    }
   ],
   "source": [
    "hislist = [\"Pasta\", \"Hafermilch\", \"Marmelade\", \"Brötchen\"]\n",
    "herlist = [\"Brokkoli\", \"Hafermilch\", \"Brot\", \"Marmelade\"]\n",
    "theirlist = hislist + herlist\n",
    "theirset = set(theirlist)\n",
    "print(theirset)"
   ]
  },
  {
   "cell_type": "markdown",
   "id": "8e48c1b3-bd51-4d5d-96c9-100db02c09e6",
   "metadata": {
    "deletable": false,
    "editable": false
   },
   "source": [
    "***\n",
    "✏️ **Lösung 4:** Kombiniere Indexing mit einer weiteren bereits erlernten Technik, um aus den einzelnen Elementen in ```list_of_words1``` und  ```list_of_words2``` sowie aus ```conjunction``` einen String zu generieren, der natürlichsprachlich Sinn ergibt. Denk dabei auch an Leerschläge zwischen den einzelnen Wörtern. Verwende für den fertigen String eine neue Variable und lasse sie Dir am Ende ausgeben."
   ]
  },
  {
   "cell_type": "code",
   "execution_count": 4,
   "id": "6b2cf7f0-54d2-49aa-b100-10b5eb876cea",
   "metadata": {},
   "outputs": [
    {
     "name": "stdout",
     "output_type": "stream",
     "text": [
      "Mach bitte einen sinnvollen Satz daraus und lass ihn Dir am Ende ausgeben\n"
     ]
    }
   ],
   "source": [
    "list_of_words1 = [\"Satz\", \"daraus\", \"Mach\", \"bitte\", \"sinnvollen\", \"einen\"]\n",
    "conjunction = \"und\"\n",
    "list_of_words2 = [\"Ende\", \"ausgeben\", \"lass\", \"am\", \"Dir\", \"ihn\"]\n",
    "meaningful = list_of_words1[2] + \" \" + list_of_words1[3] + \" \" + list_of_words1[-1] + \" \" + list_of_words1[-2] + \" \" + list_of_words1[0] + \" \" + list_of_words1[1] + \" \" + conjunction + \" \" + list_of_words2[2] + \" \" + list_of_words2[-1] + \" \" + list_of_words2[-2] + \" \" + list_of_words2[3] + \" \" + list_of_words2[0] + \" \" + list_of_words2[1]\n",
    "print(meaningful)"
   ]
  },
  {
   "cell_type": "markdown",
   "id": "7796dc64-23c3-433c-94c8-f44e43670538",
   "metadata": {
    "deletable": false,
    "editable": false
   },
   "source": [
    "***\n",
    "\n",
    "✏️ **Lösung 5:** Die Wörter in ```words_for_sentence``` ergeben in der abgespeicherten Reihenfolge keinen sinnvollen Satz. Überlege Dir erst, in welcher Reihenfolge die Wörter einen Sinn ergeben, und dann, wie Du mithilfe von Slicing (und nicht Indexing! 😉) die Wörter in die richtige Reihenfolge bringen kannst. \n",
    "\n",
    "Um von einer Liste zu einem string zu kommen, funktioniert der ```str```-Castingoperator leider nicht. Verwende stattdessen die bereits etwas fortgeschrittenere Technik ```join```, die folgende Syntax aufweist: \n",
    "\n",
    "```\" \".join(list)``` \n",
    "\n",
    "```join``` konkateniert hier jedes Element in ```list``` mit einem Leerschlag dazwischen (also mit dem, was vor dem Punkt angegeben ist).\n",
    "\n",
    "Zur Veranschaulichung von ```join``` folgt ein Beispiel: \n",
    "\n",
    "```sentence = \" \".join([\"Mach\", \"einen\", \"Satz\", \"aus\", \"mir\"])```\n",
    "\n",
    "In die runden Klammern von ```join``` setzen wir eine Liste. ```join``` verbindet nun alle Elemente dieser Liste durch einen Leerschlag zu insgesamt einer Zeichenkette. Diese wird ```sentence``` zugewiesen. ```sentence``` referenziert also den string \"Mach einen Satz aus mir\".\n",
    "\n",
    "Tipp: Erstelle erst eine neue Liste mit den Wörtern des ersten Satzteils, dann eine Liste mit den Wörtern des zweiten Satzteils und verbinde dann die beiden Listen zu einer Liste, in der alle Wörter in der richtigen Reihenfolge stehen. Wende nun ```join``` wie oben gezeigt an, um daraus einen string zu schaffen."
   ]
  },
  {
   "cell_type": "code",
   "execution_count": 5,
   "id": "773343d8-d6c9-4896-88d5-228f30a6bb35",
   "metadata": {},
   "outputs": [
    {
     "name": "stdout",
     "output_type": "stream",
     "text": [
      "Füge bitte diesen Satz zusammen .\n"
     ]
    }
   ],
   "source": [
    "words_for_sentence = [\"Füge\", \"Satz\", \"bitte\", \"zusammen\", \"diesen\", \".\"]\n",
    "wordlist = words_for_sentence[::2] + words_for_sentence[1::2]\n",
    "sentence = \" \".join(wordlist)\n",
    "print(sentence)"
   ]
  },
  {
   "cell_type": "markdown",
   "id": "cf774c57-000f-4722-a340-15ccd2b0721f",
   "metadata": {
    "deletable": false,
    "editable": false
   },
   "source": [
    "***\n",
    "\n",
    "✏️ **Lösung 6:** Benutze eine ```for```-Schleife, um über die Liste ```wild_mix``` von oben zu iterieren. Lasse Dir für jedes Element den Datentyp ausgeben. "
   ]
  },
  {
   "cell_type": "code",
   "execution_count": 6,
   "id": "8db57b05-8eef-4625-a671-86bf8746bc4d",
   "metadata": {},
   "outputs": [
    {
     "name": "stdout",
     "output_type": "stream",
     "text": [
      "<class 'str'>\n",
      "<class 'int'>\n",
      "<class 'float'>\n",
      "<class 'dict'>\n"
     ]
    }
   ],
   "source": [
    "wild_mix = [\"Montag\", 1, 20.0, {\"Friday\": \"Freitag\", \"Saturday\": [\"Samstag\", \"Sonnabend\"]}]\n",
    "\n",
    "for element in wild_mix:\n",
    "    print(type(element))"
   ]
  }
 ],
 "metadata": {
  "kernelspec": {
   "display_name": "Python 3 (ipykernel)",
   "language": "python",
   "name": "python3"
  },
  "language_info": {
   "codemirror_mode": {
    "name": "ipython",
    "version": 3
   },
   "file_extension": ".py",
   "mimetype": "text/x-python",
   "name": "python",
   "nbconvert_exporter": "python",
   "pygments_lexer": "ipython3",
   "version": "3.10.7"
  }
 },
 "nbformat": 4,
 "nbformat_minor": 5
}