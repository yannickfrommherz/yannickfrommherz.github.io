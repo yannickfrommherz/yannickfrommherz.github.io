{
 "cells": [
  {
   "cell_type": "markdown",
   "id": "2227f2ff-2d6b-48e7-9303-ebc3da329b43",
   "metadata": {
    "deletable": false,
    "editable": false
   },
   "source": [
    "# Funktionen und Methoden (Lösungen)\n",
    "\n",
    "☝️ Beachte: es gibt beim Programmieren fast immer verschiedene Lösungswege. Deine Lösung mag anders aussehen, aber dennoch zum gewünschten Resultat führen. Das richtige Resultat ist das Wichtigste. "
   ]
  },
  {
   "cell_type": "markdown",
   "id": "fe27ec99-e26f-4a22-8ce0-de32f7a7b657",
   "metadata": {
    "deletable": false,
    "editable": false
   },
   "source": [
    "✏️ **Lösung 1:** Finde heraus, welcher der beiden Koalitionsverträge länger ist."
   ]
  },
  {
   "cell_type": "code",
   "execution_count": 1,
   "id": "b4deb21f-fb2f-45fc-adce-36fe6d822918",
   "metadata": {},
   "outputs": [
    {
     "name": "stdout",
     "output_type": "stream",
     "text": [
      "Der Koalitionsvertrag von 2018 ist länger.\n"
     ]
    }
   ],
   "source": [
    "#Achtung: anderere Pfade als im Notebook, da das Lösungsnotebook in einem anderen Verzeichnis liegt\n",
    "#die zwei Punkte im Pfadnamen bedeuten \"eine Ebene zurück im Pfad\"\n",
    "with open(\"../../3_Dateien/Koalitionsvertraege/koalitionsvertrag_2018.txt\", encoding=\"utf-8\") as f:\n",
    "    kv18 = f.read()\n",
    "    \n",
    "with open(\"../../3_Dateien/Koalitionsvertraege/koalitionsvertrag_2021.txt\", encoding=\"utf-8\") as g:\n",
    "    kv21 = g.read()\n",
    "    \n",
    "if len(kv18) > len(kv21):\n",
    "    print(\"Der Koalitionsvertrag von 2018 ist länger.\")\n",
    "else:\n",
    "    print(\"Koalitionsvertrag von 2021 ist länger.\")"
   ]
  },
  {
   "cell_type": "markdown",
   "id": "48d2729f-efed-4ebf-b603-c653ccaf7d51",
   "metadata": {
    "deletable": false,
    "editable": false
   },
   "source": [
    "*** \n",
    "\n",
    "✏️ **Lösung 2:** Die unten bereitgestellte Liste ```buzzwords``` enthält heuristisch zusammengetragene Schlagwörter aus der Politik – erweitere die Liste gerne um eigene Begriffe, die Dich interessieren. Um einen ersten inhaltlichen Eindruck der Koalitionsverträge zu bekommen, wollen wir herausfinden, wie oft diese Begriffe in ihnen vorkommen und wie sich ihre Frequenz zwischen den Texten entwickelt. Zu diesem Zweck können wir ```count``` für strings verwenden (```kv18``` und ```kv21``` sind ja wie gesagt string-Objekte). ```count``` erlaubt es uns, das Vorkommen einer bestimmten Zeichenkette innerhalb einer anderen Zeichenkette auszuzählen. ```count``` hat folgende Syntax:\n",
    "\n",
    "```string.count(\"to_be_counted\")```\n",
    "\n",
    "```\"Schifffahrtsgesellschaft\".count(\"f\")``` ergäbe etwa 4.\n",
    "\n",
    "Was bei einem Wort funktioniert, geht auch bei langen strings wie bei unseren Koalitionsverträgen.\n",
    "\n",
    "Berechne nun wie oft jeder Begriff  auf ```buzzwords``` in den beiden Verträgen vorkommt und verwende einen geeigneten Datentypen, um deine Ergebnisse (separat für jeden Vertrag) abzuspeichern. Lasse Dir anschließend für jeden Begriff die beiden Frequenzen sowie einen Trend über die Zeit (z.B. mittels der Emojis 📈, 📉, 🟰) ausgeben. Das Ergebnis für \"Corona\" sollte z.B. so aussehen:\n",
    "\n",
    "<img src=\"../../3_Dateien/Grafiken_und_Videos/Frequenz_Corona.png\"/>"
   ]
  },
  {
   "cell_type": "code",
   "execution_count": 2,
   "id": "cb2baf35-86e3-44ff-b172-cca20979826b",
   "metadata": {},
   "outputs": [
    {
     "name": "stdout",
     "output_type": "stream",
     "text": [
      "word:  Sozial\n",
      "2018:  71\n",
      "2021:  41\n",
      "trend: 📉 \n",
      "\n",
      "word:  Klima\n",
      "2018:  65\n",
      "2021:  157\n",
      "trend: 📈 \n",
      "\n",
      "word:  Europa\n",
      "2018:  98\n",
      "2021:  53\n",
      "trend: 📉 \n",
      "\n",
      "word:  Verkehr\n",
      "2018:  43\n",
      "2021:  24\n",
      "trend: 📉 \n",
      "\n",
      "word:  Landwirtschaft\n",
      "2018:  23\n",
      "2021:  12\n",
      "trend: 📉 \n",
      "\n",
      "word:  Umwelt\n",
      "2018:  33\n",
      "2021:  28\n",
      "trend: 📉 \n",
      "\n",
      "word:  Corona\n",
      "2018:  0\n",
      "2021:  18\n",
      "trend: 📈 \n",
      "\n"
     ]
    }
   ],
   "source": [
    "buzzwords = [\"Sozial\", \"Klima\", \"Europa\", \"Verkehr\", \"Landwirtschaft\", \"Umwelt\", \"Corona\"]\n",
    "\n",
    "count18 = {}\n",
    "count21 = {}\n",
    "\n",
    "for word in buzzwords:\n",
    "    count18[word] = kv18.count(word)\n",
    "    count21[word] = kv21.count(word)\n",
    "\n",
    "for word in buzzwords:\n",
    "    \n",
    "    if count18[word] > count21[word]:\n",
    "        trend = \"📉\"\n",
    "    elif count18[word] < count21[word]:\n",
    "        trend = \"📈\"\n",
    "    else:\n",
    "        trend = \"🟰\"\n",
    "        \n",
    "    print(\"word: \", word)\n",
    "    print(\"2018: \", count18[word])\n",
    "    print(\"2021: \", count21[word])\n",
    "    print(\"trend:\", trend, \"\\n\")"
   ]
  },
  {
   "cell_type": "markdown",
   "id": "abc21d37-904a-4dda-9557-5ddc8f096c3a",
   "metadata": {
    "deletable": false,
    "editable": false
   },
   "source": [
    "***\n",
    "✏️ **Lösung 3:** Die beiden Koalitionsverträge stammen von unterschiedlichen Parteien (CDU, CSU, SPD resp. SPD, Grüne, FDP). Finde heraus, welche beiden Parteien es mit ihrem Kurznamen in beide Verträge geschafft haben. Stelle sicher, dass die Zelle mit dem Dateiinput oben ausgeführt ist, damit die Variablen ```kv18``` und ```kv21``` mit dem jeweiligen Text initialisiert sind.\n"
   ]
  },
  {
   "cell_type": "code",
   "execution_count": 3,
   "id": "e378dff8-1105-4b41-98ff-5a89a45ff15c",
   "metadata": {},
   "outputs": [
    {
     "name": "stdout",
     "output_type": "stream",
     "text": [
      "SPD\n",
      "Grüne\n"
     ]
    }
   ],
   "source": [
    "parties = [\"CDU\", \"CSU\", \"SPD\", \"Grüne\", \"FDP\"]\n",
    "for party in parties:\n",
    "    if party in kv18 and party in kv21:\n",
    "        print(party)"
   ]
  },
  {
   "cell_type": "markdown",
   "id": "18e102cc-b155-4e16-a523-4dfbafaa649d",
   "metadata": {
    "deletable": false,
    "editable": false
   },
   "source": [
    "***\n",
    "\n",
    "✏️ **Lösung 4:** Anstelle von whitespace, das standardmäßig als Trennzeichen von ```split``` verwendet wird (und deswegen auch nicht angegeben werden muss), können wir strings auch bei anderen Trennzeichen aufsplitten. Dazu geben wir das gewünschte Trennzeichen in den Klammern an, etwa ```\".\"```, wenn wir einen string in Sätze aufsplitten wollen. \n",
    "\n",
    "Bringe die Geschichte, die in ```sentence``` in komischer Reihenfolge erzählt wird, in die richtige Reihenfolge. Das Resultat sollte ein string mit drei richtig geordneten Sätzen sein. \n",
    "\n",
    "💡 Tipp: Auf dem Weg dorthin solltest Du ```split```, Indexing und Konkatenation mithilfe des ```+```-Operators verwenden (beide Techniken haben wir in den vorigen Notebooks kennengelernt)."
   ]
  },
  {
   "cell_type": "code",
   "execution_count": 4,
   "id": "ba7629a4-e059-4ad3-9f26-1628dc85b5b6",
   "metadata": {},
   "outputs": [
    {
     "data": {
      "text/plain": [
       "\"Es war einmal ein Hase und ein Fuchs. Die beiden verliebten sich ineinander. Und wenn sie nicht gestorben sind, kann's sein dass, sie sich heute noch küssen\""
      ]
     },
     "execution_count": 4,
     "metadata": {},
     "output_type": "execute_result"
    }
   ],
   "source": [
    "sentence = \"\"\"Die beiden verliebten sich ineinander. Und wenn sie nicht gestorben sind, kann's sein dass, sie sich heute noch küssen.Es war einmal ein Hase und ein Fuchs.\"\"\"\n",
    "\n",
    "sentences = sentence.split(\".\")\n",
    "newtext = sentences[2] + \". \" + sentences[0] + \".\" + sentences[1]\n",
    "newtext"
   ]
  },
  {
   "cell_type": "markdown",
   "id": "fea51ae7-121f-4692-a515-2ac2347bbc8a",
   "metadata": {
    "deletable": false,
    "editable": false
   },
   "source": [
    "***\n",
    "\n",
    "✏️ **Lösung 5:** Selbstverständlich kann man das Vorkommen eines Wortes auf einer Liste auszählen lassen (das lernen wir bei den Methoden für Listen). Hier wollen wir aber die oben bereits kennengelernte ```count```-Methode für strings noch einmal anwenden. Dazu müssen wir die Listenelemente wieder zu einem string konkatenieren. Verwende eine Dir bereits bekannte ```str```-Methode, um aus ```words``` wieder einen string zu kreieren. Eine Variable namens ```sentence_again``` soll auf diesen string zeigen. \n",
    "\n",
    "Benutze anschließend die ```count```-Methode, um \"gesagt\" in ```sentence_again``` zu zählen.  Das Resultat sollte natürlich zwei sein."
   ]
  },
  {
   "cell_type": "code",
   "execution_count": 5,
   "id": "00cbee9a-6777-4712-8aa9-887ec4dd0b2a",
   "metadata": {},
   "outputs": [
    {
     "data": {
      "text/plain": [
       "2"
      ]
     },
     "execution_count": 5,
     "metadata": {},
     "output_type": "execute_result"
    }
   ],
   "source": [
    "words = ['gesagt', 'ist', 'gesagt']\n",
    "sentence_again = \" \".join(words)\n",
    "sentence_again.count(\"gesagt\")"
   ]
  },
  {
   "cell_type": "markdown",
   "id": "2f0c264c-8f07-456f-bfd7-dd9368deaf86",
   "metadata": {
    "deletable": false,
    "editable": false
   },
   "source": [
    "***\n",
    "✏️ **Lösung 6:** Verwende ```str```-Methoden, um aus ```names``` eine Liste mit Namen wie folgt zu kreieren: ```['Martin Berger', 'Kirsten Hauser', 'Michaela Kircher', 'Fritz Hofer']```. Die Namen sollen vollkommen von leading und trailing whitespace bereingt und mit korrekter Groß-/Kleinschreibung vorliegen. \n"
   ]
  },
  {
   "cell_type": "code",
   "execution_count": 6,
   "id": "09c10ae0-e575-4913-9502-7768a886fe12",
   "metadata": {},
   "outputs": [
    {
     "name": "stdout",
     "output_type": "stream",
     "text": [
      "['Martin Berger', 'Kirsten Hauser', 'Michaela Kircher', 'Fritz Hofer']\n",
      "['Martin Berger', 'Kirsten Hauser', 'Michaela Kircher', 'Fritz Hofer']\n"
     ]
    }
   ],
   "source": [
    "names = \"Name: Martin Berger name: Kirsten Hauser NAME: Michaela Kircher nAME: Fritz Hofer\"\n",
    "names = names.lstrip(\"Name: \")\n",
    "names_list = names.lower().split(\" name: \")\n",
    "names_list_title = []\n",
    "for name in names_list:\n",
    "    names_list_title.append(name.title())\n",
    "print(names_list_title)\n",
    "\n",
    "#alternative Lösung\n",
    "names = \"Name: Martin Berger name: Kirsten Hauser NAME: Michaela Kircher nAME: Fritz Hofer\"\n",
    "names = names.lstrip(\"Name: \")\n",
    "names = names.replace(\"name\", \"Name\").replace(\"NAME\", \"Name\").replace(\"nAME\", \"Name\")\n",
    "single_names = names.split(\" Name: \")\n",
    "print(single_names)"
   ]
  },
  {
   "cell_type": "markdown",
   "id": "50aa45e8-b1c7-4d2e-b5b3-2a178cbc498e",
   "metadata": {
    "deletable": false,
    "editable": false
   },
   "source": [
    "***\n",
    "✏️ **Lösung 7:** Modifiziere den Code nun derart, dass bei sechs Teilnehmer:innen diejenige Person aus dem Spiel \"gekickt\" wird, die bereits am längsten daran teilnimmt (bzw. sich bereits am längsten auf der Teilnehmer:innenliste befindet). Im gleichen Zug soll die nächste Person aus ```participants_pool``` ins Spiel gelassen werden. Wie beim letzten Mal auch, möchten wir bei jeder Iteration informiert werden, wer gerade im Spiel ist."
   ]
  },
  {
   "cell_type": "code",
   "execution_count": 7,
   "id": "5ebe5df0-4200-45e8-8638-a7fbcc5638bc",
   "metadata": {},
   "outputs": [
    {
     "name": "stdout",
     "output_type": "stream",
     "text": [
      "Noch nicht genügend Teilnehmer:innen, wir brauchen noch 3 😬\n",
      "Aktuell auf der Liste: ['Max'] \n",
      "\n",
      "Noch nicht genügend Teilnehmer:innen, wir brauchen noch 2 😬\n",
      "Aktuell auf der Liste: ['Max', 'Moritz'] \n",
      "\n",
      "Noch nicht genügend Teilnehmer:innen, wir brauchen noch 1 😬\n",
      "Aktuell auf der Liste: ['Max', 'Moritz', 'Janine'] \n",
      "\n",
      "Das Spiel läuft 😍\n",
      "Aktuell auf der Liste: ['Max', 'Moritz', 'Janine', 'Hussein'] \n",
      "\n",
      "Das Spiel läuft 😍\n",
      "Aktuell auf der Liste: ['Max', 'Moritz', 'Janine', 'Hussein', 'Fritz'] \n",
      "\n",
      "Das Spiel läuft 😍\n",
      "Aktuell auf der Liste: ['Max', 'Moritz', 'Janine', 'Hussein', 'Fritz', 'Mia'] \n",
      "\n",
      "Leider muss uns nun Max verlassen\n",
      "Das Spiel läuft 😍\n",
      "Aktuell auf der Liste: ['Moritz', 'Janine', 'Hussein', 'Fritz', 'Mia', 'Marianne'] \n",
      "\n",
      "Leider muss uns nun Moritz verlassen\n",
      "Das Spiel läuft 😍\n",
      "Aktuell auf der Liste: ['Janine', 'Hussein', 'Fritz', 'Mia', 'Marianne', 'Dolores'] \n",
      "\n",
      "Leider muss uns nun Janine verlassen\n",
      "Das Spiel läuft 😍\n",
      "Aktuell auf der Liste: ['Hussein', 'Fritz', 'Mia', 'Marianne', 'Dolores', 'Yin'] \n",
      "\n",
      "Leider muss uns nun Hussein verlassen\n",
      "Das Spiel läuft 😍\n",
      "Aktuell auf der Liste: ['Fritz', 'Mia', 'Marianne', 'Dolores', 'Yin', 'Margareth'] \n",
      "\n",
      "Leider muss uns nun Fritz verlassen\n",
      "Das Spiel läuft 😍\n",
      "Aktuell auf der Liste: ['Mia', 'Marianne', 'Dolores', 'Yin', 'Margareth', 'Benni'] \n",
      "\n"
     ]
    }
   ],
   "source": [
    "# In diese Zelle kannst Du den Code zur Übung schreiben.\n",
    "\n",
    "participants_pool = [\"Max\", \"Moritz\", \"Janine\", \"Hussein\", \"Fritz\", \"Mia\", \"Marianne\", \"Dolores\", \"Yin\", \"Margareth\", \"Benni\"]\n",
    "\n",
    "participants_game = []\n",
    "\n",
    "min_participants = 4\n",
    "max_participants = 6\n",
    "\n",
    "for name in participants_pool:\n",
    "    if len(participants_game) < min_participants-1:\n",
    "        participants_game.append(name)\n",
    "        print(\"Noch nicht genügend Teilnehmer:innen, wir brauchen noch\", 4-len(participants_game), \"😬\")\n",
    "        \n",
    "        #zur Überprüfung der aktuellen Teilnehmer:innenliste\n",
    "        print(\"Aktuell auf der Liste:\", participants_game, \"\\n\")\n",
    "        continue\n",
    "        \n",
    "    elif len(participants_game) >= max_participants:\n",
    "        print(\"Leider muss uns nun\", participants_game[0], \"verlassen\")\n",
    "        participants_game.pop(0)\n",
    "        \n",
    "    participants_game.append(name)\n",
    "    print(\"Das Spiel läuft 😍\")\n",
    "    \n",
    "    #zur Überprüfung der aktuellen Teilnehmer:innenliste\n",
    "    print(\"Aktuell auf der Liste:\", participants_game, \"\\n\")"
   ]
  },
  {
   "cell_type": "markdown",
   "id": "0a007432-612e-4b1b-9c7a-6c71d5418238",
   "metadata": {
    "deletable": false,
    "editable": false
   },
   "source": [
    "*** \n",
    "\n",
    "✏️ **Lösung 8:** Deine Aufgabe ist es nun, ein Skript zu schreiben, dass den den oben im Beispiel verwendeten Satz nimmt und die darin vorkommenden Wort-Bigramme auf der Liste ```all_ngrams``` speichert. Neben ```all_ngrams``` wirst Du als Zwischenschritt beim Zusammentragen der Wort-Bigramme eine zweite Liste namens ```current_ngrams``` brauchen. Beide Listen sind bereits im Code gegeben und werden leer initialisiert. \n",
    "\n",
    "Wie erwähnt ist dieses Problem dem obigen im Gesellschaftsspiel-Skript sehr ähnlich. Denk daran, so wenig wie möglich zu hardcoden. Konkret: Verwende, wo möglich, Variablen, sodass Dein Skript problemlos auch für andere Sätze oder zum Errechnen von Tri-, Quadrigrammen etc. benutzt werden kann. "
   ]
  },
  {
   "cell_type": "code",
   "execution_count": 8,
   "id": "839f55b1-e5bb-4561-822d-170809d163c8",
   "metadata": {},
   "outputs": [
    {
     "name": "stdout",
     "output_type": "stream",
     "text": [
      "['Ich gehe', 'gehe am', 'am Abend', 'Abend noch', 'noch spazieren']\n"
     ]
    }
   ],
   "source": [
    "sentence = \"Ich gehe am Abend noch spazieren\"\n",
    "\n",
    "all_ngrams = []\n",
    "current_ngram = []\n",
    "\n",
    "words = sentence.split()\n",
    "n = 2\n",
    "\n",
    "for word in words:\n",
    "    if len(current_ngram) < n:\n",
    "        current_ngram.append(word)\n",
    "        \"\"\"Da wir an Bigrammen interessiert sind, und len(current_ngram) noch < 2 ist \n",
    "        (also noch keine zwei Wörter auf der Liste sind), überspringen wir den \n",
    "        Rest dieser Iteration mithilfe von 'continue'\"\"\"\n",
    "        continue \n",
    "    \n",
    "    \"\"\"hier hängen wir das Bigramm an die Liste aller Bigramme\"\"\"\n",
    "    all_ngrams.append(\" \".join(current_ngram))\n",
    "\n",
    "    \"\"\"hier entfernen wir das erste Wort im Bigramm auf der Liste des gegenwärtigen Bigramms\"\"\"\n",
    "    current_ngram.pop(0)\n",
    "    \n",
    "    \"\"\"und hängen sogleich das nächste Wort an die Liste des gegenwärtigen Bigramms, wodurch wir wieder ein Bigramm erhalten, \n",
    "    welches zu Beginn der nächsten Iteration an die Liste aller Bigramme angehängt werden wird.\"\"\"\n",
    "    current_ngram.append(word) \n",
    "\n",
    "\"\"\"nach der letzten Iteration der for-Schleife müssen wir noch das letzte Bigramm an die Liste aller Bigramme anhängen, da\n",
    "es sonst verloren geht (es würde ja erst zu Beginn der nächsten Iteration angehängt, nur gibt es keine nächste Iteration)\"\"\"\n",
    "all_ngrams.append(\" \".join(current_ngram)) \n",
    "\n",
    "print(all_ngrams)"
   ]
  },
  {
   "cell_type": "markdown",
   "id": "459fb2a5-909e-4665-9b38-6671bdec5e6a",
   "metadata": {
    "deletable": false,
    "editable": false
   },
   "source": [
    "***\n",
    "\n",
    "✏️ **Lösung 9:** Erinnerst Du Dich an die Übung mit den beiden Einkaufslisten, die zu einer zusammengeführt werden sollten, aus dem zweiten Notebook? Damals haben wir mithilfe von ```set``` sichergestellt, dass keine doppelten Elemente auf der zusammengeführten Einkaufsliste vorkommen. In dieser Übung wollen wir es etwas manueller machen (zu Übungszwecken sehen wir vom oben verkündeten Code-Reuse-Mantra ab). Iteriere über eine der beiden Listen und füge der anderen Liste sämtliche Lebensmittel an, sofern sie nicht bereits auf dieser anderen Liste stehen. Gib Dir anschließend die andere Liste aus. Diese sollte dann einer zusammengeführten Liste entsprechen."
   ]
  },
  {
   "cell_type": "code",
   "execution_count": 9,
   "id": "4cc2ef7f-fa58-412e-b2b9-abbf4ef6dafc",
   "metadata": {},
   "outputs": [
    {
     "name": "stdout",
     "output_type": "stream",
     "text": [
      "['Brot', 'Orangen', 'Feldsalat', 'Hafermilch', 'Kekse', 'Mehl']\n"
     ]
    }
   ],
   "source": [
    "my_shopping_list = [\"Brot\", \"Orangen\", \"Feldsalat\", \"Hafermilch\"]\n",
    "partner_shopping_list = [\"Hafermilch\", \"Kekse\", \"Mehl\", \"Brot\"]\n",
    "\n",
    "for item in partner_shopping_list:\n",
    "    if item not in my_shopping_list:\n",
    "        my_shopping_list.append(item)\n",
    "\n",
    "print(my_shopping_list)"
   ]
  },
  {
   "cell_type": "markdown",
   "id": "10fea8d0-99f5-42b7-be9c-2fa0a8043cca",
   "metadata": {
    "deletable": false,
    "editable": false
   },
   "source": [
    "***\n",
    "\n",
    "✏️ **Lösung 10:** ```temperatures``` ist eine Liste mit unterschiedlichen Messtemperaturen in Grad Celsius. Sie beinhält positive und negative Werte sowie fehlende Werte, die mit \"NA\" gekennzeichnet sind (für *not available*, etwa weil das Thermometer ausfiel). Erstelle nun mittels List Comprehension folgende neuen Listen. Überlege Dir jeweils genau, an welcher Stelle in der List Comprehension Du die bedingte Anweisung einbauen musst.   \n",
    "\n",
    "1. ```temperatures_preprocessed``` soll eine Liste referenzieren, die nur numerische Werte enthält.\n",
    "\n",
    "Erstelle ausgehend von ```temperatures_preprocessed``` diese zwei weiteren Listen.\n",
    "\n",
    "2. ```positives_replaced``` soll eine Liste referenzieren, auf der sämtliche positiven Werte durch 0.0 ersetzt werden.\n",
    "3. ```only_positives``` soll eine Liste referenzieren, die nur positive Werte beinhält."
   ]
  },
  {
   "cell_type": "code",
   "execution_count": 10,
   "id": "f15b0153-e3b8-4367-a2a8-ab373d52a414",
   "metadata": {},
   "outputs": [
    {
     "name": "stdout",
     "output_type": "stream",
     "text": [
      "Temperaturen ohne fehlende Werte: [18.6, 23.4, 12.2, -3.1, 33.7, -10.9, -17.8, 7.0, 9.1, -0.2, 0.0, 8.6, 39.4, -29.8]\n",
      "Positive Messwerte genullt: [0.0, 0.0, 0.0, -3.1, 0.0, -10.9, -17.8, 0.0, 0.0, -0.2, 0.0, 0.0, 0.0, -29.8]\n",
      "Nur positive Messwerte: [18.6, 23.4, 12.2, 33.7, 7.0, 9.1, 8.6, 39.4]\n"
     ]
    }
   ],
   "source": [
    "temperatures = [18.6, 23.4, \"NA\", 12.2, -3.1, 33.7, -10.9, -17.8, \"NA\", 7.0, 9.1, -0.2, 0.0, 8.6, \"NA\", \"NA\", 39.4, -29.8]\n",
    "\n",
    "temperatures_preprocessed = [value for value in temperatures if value != \"NA\"]\n",
    "\n",
    "#alternativer Code\n",
    "#temperatures_preprocessed = [value for value in temperatures if type(value) == float]\n",
    "\n",
    "print(\"Temperaturen ohne fehlende Werte:\", temperatures_preprocessed)\n",
    "\n",
    "positives_replaced = [0.0 if value > 0 else value for value in temperatures_preprocessed]\n",
    "\n",
    "print(\"Positive Messwerte genullt:\", positives_replaced)\n",
    "\n",
    "only_positives = [value for value in temperatures_preprocessed if value > 0]\n",
    "\n",
    "print(\"Nur positive Messwerte:\", only_positives)"
   ]
  },
  {
   "cell_type": "markdown",
   "id": "cd5db20a-8014-4fb1-83a1-4c43ccc671d3",
   "metadata": {
    "deletable": false,
    "editable": false
   },
   "source": [
    "***\n",
    "\n",
    "✏️ **Lösung 11:** Eine Funktion zum Sortieren von dictionaries kennst Du bereits von oben. Sortiere ```federal_states``` alphabetisch nach ihren Haupstädten. Das Resultat sollte eine Liste mit Tupeln bestehend aus Bundesland und Hauptstadt sein."
   ]
  },
  {
   "cell_type": "code",
   "execution_count": 11,
   "id": "dd2aaa39-ed29-4c2f-8b73-755551110ef6",
   "metadata": {},
   "outputs": [
    {
     "name": "stdout",
     "output_type": "stream",
     "text": [
      "[('Vorarlberg', 'Bregenz'), ('Burgenland', 'Eisenstadt'), ('Steiermark', 'Graz'), ('Tirol', 'Innsbruck'), ('Kärnten', 'Klagenfurt'), ('Oberösterreich', 'Linz'), ('Salzburg', 'Salzburg'), ('Niederösterreich', 'Sankt Pölten'), ('Wien', 'Wien')]\n"
     ]
    }
   ],
   "source": [
    "federal_states = {'Vorarlberg': 'Bregenz', 'Tirol': 'Innsbruck', 'Kärnten': 'Klagenfurt', 'Steiermark': 'Graz', 'Wien': 'Wien', 'Niederösterreich': 'Sankt Pölten', 'Oberösterreich': 'Linz', 'Salzburg': 'Salzburg', 'Burgenland': 'Eisenstadt'}\n",
    "\n",
    "federal_states_sorted = sorted(federal_states.items(), key=lambda x: x[1])\n",
    "print(federal_states_sorted)"
   ]
  },
  {
   "cell_type": "markdown",
   "id": "9acbbab8-c91a-4f52-89ba-b1ae8042a6d3",
   "metadata": {
    "deletable": false,
    "editable": false
   },
   "source": [
    "***\n",
    "\n",
    "🔧 **Anwendungsfall (komplette Lösung):** Gegeben sind die Koalitionsverträge von 2018 und 2021 in ```kv18``` resp. ```kv21```. Zusätzlich ist ```stopwords``` gegeben, eine Liste mit sog. Stopwörtern, also hochfrequenten Wörtern wie *und*, *der*, *die*, *das* etc., die wir von der Berechnung von Schlüsselwörtern ausschließen wollen. \n",
    "\n",
    "Bereinige sämtliche Wörter und entferne alle Stopwörter. Errechne anschließend für jeden Wort*type* (vgl. zweites Notebook), wie oft er vorkommt und speichere diese paarweise Information in einem geeigneten Objekt ab. Sortiere dieses Objekt in absteigender Reihenfolge und lasse Dir die zehn häufigsten Schlüsselwörter ausgeben. Wiederhole diese Schritte für den zweiten Text, um die Schlüsselwörter vergleichen zu können."
   ]
  },
  {
   "cell_type": "code",
   "execution_count": 12,
   "id": "521d92f8-56e1-4a7e-ba44-558b6a53f1f2",
   "metadata": {},
   "outputs": [
    {
     "name": "stdout",
     "output_type": "stream",
     "text": [
      "werden kommt 1032 oft vor.\n",
      "wollen kommt 905 oft vor.\n",
      "ist kommt 263 oft vor.\n",
      "stärken kommt 215 oft vor.\n",
      "deutschland kommt 194 oft vor.\n",
      "wird kommt 186 oft vor.\n",
      "sind kommt 178 oft vor.\n",
      "insbesondere kommt 162 oft vor.\n",
      "unterstützen kommt 143 oft vor.\n",
      "dazu kommt 137 oft vor.\n"
     ]
    }
   ],
   "source": [
    "#Lösung für kv18 \n",
    "\n",
    "#Achtung: anderere Pfade als im Notebook, da das Lösungsnotebook in einem anderen Verzeichnis liegt\n",
    "#die zwei Punkte im Pfadnamen bedeuten \"eine Ebene zurück im Pfad\"\n",
    "with open(\"../../3_Dateien/Koalitionsvertraege/koalitionsvertrag_2018.txt\", encoding=\"utf-8\") as f:\n",
    "    kv18 = f.read()\n",
    "    \n",
    "stopwords = []\n",
    "        \n",
    "with open(\"../../3_Dateien/Koalitionsvertraege/stopwords-de.txt\", encoding=\"utf-8\") as h:\n",
    "    for line in h:\n",
    "        stopwords.append(line.rstrip())\n",
    "    \n",
    "words = kv18.split()\n",
    "\n",
    "preprocessed_words = []\n",
    "\n",
    "for word in words:\n",
    "    word = word.lower() \n",
    "    word = word.strip(\".,():\")\n",
    "    if word in stopwords:\n",
    "        continue\n",
    "    preprocessed_words.append(word)\n",
    "\n",
    "types = set(preprocessed_words)\n",
    "\n",
    "freq_dict = {} \n",
    "\n",
    "for type_ in types:\n",
    "    freq_dict[type_] = preprocessed_words.count(type_)\n",
    "\n",
    "freq_sorted = sorted(freq_dict.items(), key = lambda x: x[1], reverse=True)\n",
    "\n",
    "for i in range(10):\n",
    "    print(freq_sorted[i][0], \"kommt\", freq_sorted[i][1], \"oft vor.\")"
   ]
  },
  {
   "cell_type": "markdown",
   "id": "4a252147-80d0-4121-b424-1412a02f8ddc",
   "metadata": {
    "deletable": false,
    "editable": false
   },
   "source": [
    "***\n",
    "\n",
    "🔧 **Anwendungsfall (Schritt-für-Schritt-Lösung):**\n",
    "\n",
    "1. Schritt (bereits gegeben):"
   ]
  },
  {
   "cell_type": "code",
   "execution_count": 13,
   "id": "a76765c0-2741-4ab4-bdd9-6bb38d0c4245",
   "metadata": {},
   "outputs": [],
   "source": [
    "with open(\"../../3_Dateien/Koalitionsvertraege/koalitionsvertrag_2018.txt\", encoding=\"utf-8\") as f:\n",
    "    kv18 = f.read()\n",
    "    \n",
    "with open(\"../../3_Dateien/Koalitionsvertraege/koalitionsvertrag_2021.txt\", encoding=\"utf-8\") as g:\n",
    "    kv21 = g.read()\n",
    "    \n",
    "stopwords = []\n",
    "\n",
    "with open(\"../../3_Dateien/Koalitionsvertraege/stopwords-de.txt\", encoding=\"utf-8\") as h:\n",
    "    for line in h:\n",
    "        stopwords.append(line.rstrip())"
   ]
  },
  {
   "cell_type": "markdown",
   "id": "d7a2937c-e18c-4b35-9821-04b0ca8dc639",
   "metadata": {
    "deletable": false,
    "editable": false
   },
   "source": [
    "2. Schritt:"
   ]
  },
  {
   "cell_type": "code",
   "execution_count": 14,
   "id": "3a5b58b7-c8b5-450a-bdc9-0ad352f3adba",
   "metadata": {},
   "outputs": [
    {
     "name": "stdout",
     "output_type": "stream",
     "text": [
      "['Nur', 'so', 'können', 'wir', 'das', 'Erreichte', 'sichern', 'und', 'ausbauen.', 'Unsere', 'Ausgangslage', 'ist', 'gut.', 'Die', 'Wirtschaft', 'boomt,', 'noch', 'nie', 'waren', 'so']\n"
     ]
    }
   ],
   "source": [
    "words = kv18.split()\n",
    "print(words[99:119])"
   ]
  },
  {
   "cell_type": "markdown",
   "id": "b5f98852-42f4-4bb2-a81c-e45450d67ef4",
   "metadata": {
    "deletable": false,
    "editable": false
   },
   "source": [
    "3. Schritt:"
   ]
  },
  {
   "cell_type": "code",
   "execution_count": 15,
   "id": "b444840e-a1ba-4692-9947-5695c4617161",
   "metadata": {},
   "outputs": [
    {
     "name": "stdout",
     "output_type": "stream",
     "text": [
      "['deutschland', 'mobilisieren', 'chancen', 'digitalisierung', 'nutzen', 'deutschland', 'braucht', 'wirtschaftlichen', 'sozialen', 'fortschritt', 'teilhaben', 'wollen', 'wohlstand', 'menschen', 'ankommt', 'wahlergebnis', 'hat', 'gezeigt', 'menschen', 'unzufrieden']\n"
     ]
    }
   ],
   "source": [
    "preprocessed_words = []\n",
    "\n",
    "for word in words:\n",
    "    word = word.lower() \n",
    "    word = word.strip(\".,():\")\n",
    "    if word in stopwords:\n",
    "        continue\n",
    "    preprocessed_words.append(word)\n",
    "    \n",
    "print(preprocessed_words[99:119])"
   ]
  },
  {
   "cell_type": "markdown",
   "id": "fe93b45f-237f-4ebd-855e-af6bd062389f",
   "metadata": {
    "deletable": false,
    "editable": false
   },
   "source": [
    "4. Schritt:"
   ]
  },
  {
   "cell_type": "code",
   "execution_count": 16,
   "id": "9a3e7745-85c0-43f0-9a77-4ddce8e13a6a",
   "metadata": {},
   "outputs": [],
   "source": [
    "types = set(preprocessed_words)"
   ]
  },
  {
   "cell_type": "markdown",
   "id": "4c71eb81-5f9f-44fd-99a2-b935f97dab4e",
   "metadata": {
    "deletable": false,
    "editable": false
   },
   "source": [
    "5., 6. und 7. Schritt:"
   ]
  },
  {
   "cell_type": "code",
   "execution_count": 17,
   "id": "e0c6c1bb-5377-4b62-bb5f-11c9ebd2509b",
   "metadata": {},
   "outputs": [],
   "source": [
    "freq_dict = {} \n",
    "\n",
    "#der Unterstrich nach \"type\" dient der Unterscheidung zum Python-Schlüsselwort \"type\"\n",
    "for type_ in types:\n",
    "    freq_dict[type_] = preprocessed_words.count(type_)"
   ]
  },
  {
   "cell_type": "markdown",
   "id": "3675fa43-88db-4c21-85f1-433d93a7271d",
   "metadata": {
    "deletable": false,
    "editable": false
   },
   "source": [
    "8. Schritt:"
   ]
  },
  {
   "cell_type": "code",
   "execution_count": 18,
   "id": "9bb837ed-d10a-4470-abf0-eddc97103c73",
   "metadata": {},
   "outputs": [],
   "source": [
    "freq_sorted = sorted(freq_dict.items(), key = lambda x: x[1], reverse=True)"
   ]
  },
  {
   "cell_type": "markdown",
   "id": "0c7cfad2-20e9-4dc0-9758-0307566ef9b2",
   "metadata": {
    "deletable": false,
    "editable": false
   },
   "source": [
    "9. Schritt:"
   ]
  },
  {
   "cell_type": "code",
   "execution_count": 19,
   "id": "91878c94-6474-4640-9d44-1a2f4c690edf",
   "metadata": {},
   "outputs": [
    {
     "name": "stdout",
     "output_type": "stream",
     "text": [
      "werden kommt 1032 oft vor.\n",
      "wollen kommt 905 oft vor.\n",
      "ist kommt 263 oft vor.\n",
      "stärken kommt 215 oft vor.\n",
      "deutschland kommt 194 oft vor.\n",
      "wird kommt 186 oft vor.\n",
      "sind kommt 178 oft vor.\n",
      "insbesondere kommt 162 oft vor.\n",
      "unterstützen kommt 143 oft vor.\n",
      "dazu kommt 137 oft vor.\n"
     ]
    }
   ],
   "source": [
    "for i in range(10):\n",
    "    print(freq_sorted[i][0], \"kommt\", freq_sorted[i][1], \"oft vor.\")"
   ]
  },
  {
   "cell_type": "markdown",
   "id": "fd47bfbe-2bc3-460a-90eb-e89b824b183b",
   "metadata": {
    "deletable": false,
    "editable": false
   },
   "source": [
    "10. Schritt siehe komplette Lösung oben. "
   ]
  },
  {
   "cell_type": "markdown",
   "id": "405de54a-aab4-4fd1-af9d-67af83958dd0",
   "metadata": {
    "deletable": false,
    "editable": false
   },
   "source": [
    "***\n",
    "\n",
    "✏️ **Lösung 12:** Definiere eine Funktion ```sum_div```, die drei Argumente nimmt. Das erste soll mit dem zweiten addiert werden. Das Ergebnis davon soll durch das dritte Argument geteilt werden. Dieses Ergebnis soll zurückgegeben werden. Entferne anschließend den Hashtag vor der bereits existierenden Code-Zeile. Wenn Du ```True``` erhältst, hast Du alles richtig gemacht!"
   ]
  },
  {
   "cell_type": "code",
   "execution_count": 20,
   "id": "23a1dc97-30c0-47a3-941c-2dd1e599f5ae",
   "metadata": {},
   "outputs": [
    {
     "data": {
      "text/plain": [
       "True"
      ]
     },
     "execution_count": 20,
     "metadata": {},
     "output_type": "execute_result"
    }
   ],
   "source": [
    "def sum_div(a,b,c):\n",
    "    return (a+b)/c\n",
    "\n",
    "sum_div(2,3,2) == 2.5"
   ]
  },
  {
   "cell_type": "markdown",
   "id": "879567c4-3aaf-4e5b-84dc-006cbbb7fd9c",
   "metadata": {
    "deletable": false,
    "editable": false
   },
   "source": [
    "***\n",
    "\n",
    "✏️ **Lösung 13:** Importiere die Funktion ```sample``` des ```random```-Moduls. ```sample``` generiert eine zufällige Auswahl von Elementen, z.B. zehn zufällige Elemente, aus einer Grundgesamtheit mit allen Elementen. Die Funktion erwartet als erstes Argument die Grundgesamtheit in Form einer Liste und als zweites eine Ganzzahl, mit der die Anzahl der zufällig auszuwählenden Elemente definiert wird. Die Grundgesamtheit in dieser Übung ist das```participants_pool``` von der Übung von oben bzw. aus dem letzten Notebook. Die Anzahl der zufällig auszuwählenden Elemente beträgt in diesem Fall vier. Wir wollen also zufällige Spielzusammensetzungen mit jeweils vier Teilnehmer:innen erhalten.\n",
    "\n",
    "Deine Aufgabe besteht nun darin, so viele zufällige Spielzusammensetzungen zu genererieren, bis eine Zusammensetzung doppelt vorkommt. Verwende dazu eine passende Kontrollstruktur, die Deinen Code so oft wiederholt, bis die Bedingung, dass eine zufällige Zusammensetzung bereits einmal zuvor generiert wurde, zutrifft. In diesem Fall soll die Iteration abbrechen und die Anzahl der notwendigen Wiederholungen bis zur identischen Zusammensetzung ausgegeben werden. \n",
    "\n",
    "Beachte, dass es für diese Anzahl der notwendigen Wiederholungen keine richtige Antwort gibt, da es in der Natur der zufälligen Auswahl liegt, dass es manchmal etwas mehr und manchmal etwas weniger Wiederholungen braucht.\n",
    "\n",
    "Fortgeschritten: Wenn Du Dich herausfordern möchtest, kannst Du Deinen gesamten Code in eine (andere) Kontrollstruktur verpacken, die Deinen Code, sagen wir, 1000 Mal wiederholt. Bei jeder Wiederholung soll die notwendige Anzahl bis zwei Zusammensetzungen doppelt vorkommen auf einer Liste gespeichert werden. Berechne zum Schluss den Mittelwert dieser Liste, indem Du mittels der Funktion ```sum``` alle Werte auf der Liste addierst und die Summe durch die Länge der Liste dividierst. Bei wiederholter Ausführung dieses Codes sollten die Mittelwerte nur noch geringfügig schwanken."
   ]
  },
  {
   "cell_type": "code",
   "execution_count": 21,
   "id": "b1b396a3-371b-4902-9d18-df585af6058b",
   "metadata": {},
   "outputs": [
    {
     "name": "stdout",
     "output_type": "stream",
     "text": [
      "157\n"
     ]
    },
    {
     "name": "stdout",
     "output_type": "stream",
     "text": [
      "112.064\n"
     ]
    }
   ],
   "source": [
    "#In diese Zelle kannst Du den Code zur Übung schreiben.\n",
    "\n",
    "from random import sample\n",
    "\n",
    "participants_pool = [\"Max\", \"Moritz\", \"Janine\", \"Hussein\", \"Fritz\", \"Mia\", \"Marianne\", \"Dolores\", \"Yin\", \"Margareth\", \"Benni\"]\n",
    "\n",
    "count = 0\n",
    "\n",
    "all_compositions = []\n",
    "\n",
    "while True:\n",
    "    \n",
    "    current_composition = sample(participants_pool, 4)\n",
    "    \n",
    "    if current_composition in all_compositions:\n",
    "        print(count)\n",
    "        break\n",
    "    \n",
    "    all_compositions.append(current_composition)\n",
    "    \n",
    "    count += 1\n",
    "    \n",
    "#Fortgeschritten\n",
    "\n",
    "all_counts = []\n",
    "\n",
    "for i in range(1000):\n",
    "    \n",
    "    count = 0\n",
    "\n",
    "    all_compositions = []\n",
    "\n",
    "    while True:\n",
    "\n",
    "        current_composition = sample(participants_pool, 4)\n",
    "\n",
    "        if current_composition in all_compositions:\n",
    "            break\n",
    "\n",
    "        all_compositions.append(current_composition)\n",
    "\n",
    "        count += 1\n",
    "    \n",
    "    all_counts.append(count)\n",
    "\n",
    "print(sum(all_counts)/len(all_counts))"
   ]
  },
  {
   "cell_type": "code",
   "execution_count": null,
   "id": "ef047696-58cc-45e4-94c2-26053e17b851",
   "metadata": {},
   "outputs": [],
   "source": []
  }
 ],
 "metadata": {
  "kernelspec": {
   "display_name": "Python 3 (ipykernel)",
   "language": "python",
   "name": "python3"
  },
  "language_info": {
   "codemirror_mode": {
    "name": "ipython",
    "version": 3
   },
   "file_extension": ".py",
   "mimetype": "text/x-python",
   "name": "python",
   "nbconvert_exporter": "python",
   "pygments_lexer": "ipython3",
   "version": "3.10.7"
  }
 },
 "nbformat": 4,
 "nbformat_minor": 5
}