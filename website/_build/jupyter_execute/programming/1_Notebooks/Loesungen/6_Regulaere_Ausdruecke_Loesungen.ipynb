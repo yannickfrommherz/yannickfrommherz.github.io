{
 "cells": [
  {
   "cell_type": "markdown",
   "id": "b27ff4b2-2faf-4d13-9017-3d3c1a72232f",
   "metadata": {
    "deletable": false,
    "editable": false
   },
   "source": [
    "# Reguläre Ausdrücke (Lösungen)\n",
    "\n",
    "☝️ Beachte: es gibt beim Programmieren fast immer verschiedene Lösungswege. Deine Lösung mag anders aussehen, aber dennoch zum gewünschten Resultat führen. Das richtige Resultat ist das Wichtigste. \n",
    "\n",
    "⚠️ Führe folgenden Code aus, bevor Du einzelne Lösungen ausführst. "
   ]
  },
  {
   "cell_type": "code",
   "execution_count": 1,
   "id": "0d1335f2-1f05-447f-9d27-de084c059165",
   "metadata": {},
   "outputs": [],
   "source": [
    "import re"
   ]
  },
  {
   "cell_type": "markdown",
   "id": "ce356580-8d86-4b5d-9e51-24ecafb87d4c",
   "metadata": {
    "deletable": false,
    "editable": false
   },
   "source": [
    "✏️ **Lösung 1:** Finde heraus, wieviele Mal drei aufeinanderfolgende \"f\" im string ```text``` vorkommen. ```regex``` soll Deinen regulären Ausdruck referenzieren. Es handelt sich dabei ebenfalls um einen string, allerdings mit einem dem öffnenden Anführungszeichen vorangestellten \"r\"/\"R\". Wie bei f-strings im fünften Notebook teilen wir Python damit mit, dass der folgende string anders als ein normaler string zu interpretieren ist (wie genau, sind technische Details, die für uns nicht relevant sind, vgl. ebenfalls fünftes Notebook zu Dateipfaden bei Windows). \n",
    "\n",
    "Der Rest des Codes ist bereits fertig geschrieben. Grob formuliert, nimmt die ```findall```-Funktion des ```re```-Moduls Deinen regulären Ausdruck (```regex```) und sucht ```text``` von links nach rechts danach ab. Alle Matches landen in einer Liste, die mit ```matches``` referenziert wird und deren Länge wir uns abschließend ausgeben lassen. Die Ausgabe sollte natürlich \"3\" sein, sobald du den korrekten regulären Ausdruck bei `regex` ausgefüllt hast.\n",
    "\n",
    "💡 Tipp: Verwende bei dieser und bei den folgenden Übungen [RegExr](https://regexr.com). Auf dieser Webseite kannst Du verschiedene reguläre Ausdrücke ausprobieren (im Feld oben) und siehst dabei direkt, welche matches in einem zu durchsuchenden Text (den Du im Feld in der Mitte eingibst) gefunden werden. Oben drauf wird Dir im Feld unten jedes Zeichen Deines regulären Ausdrucks erklärt."
   ]
  },
  {
   "cell_type": "code",
   "execution_count": 2,
   "id": "5db0b4e5-70d3-4027-9f3b-a90070625974",
   "metadata": {},
   "outputs": [
    {
     "name": "stdout",
     "output_type": "stream",
     "text": [
      "3\n"
     ]
    }
   ],
   "source": [
    "text = \"Schadstofffreie Schifffahrt dank Auspufffilter\"\n",
    "regex = r\"f{3}\"\n",
    "\n",
    "matches = re.findall(regex, text)\n",
    "print(len(matches))"
   ]
  },
  {
   "cell_type": "markdown",
   "id": "0304110c-63d5-4dff-b4ae-18c053a92c14",
   "metadata": {
    "deletable": false,
    "editable": false
   },
   "source": [
    "✏️ **Lösung 2:** Kopiere den Text eines beliebigen Artikels einer Online-Zeitung (z.B. von [ZEIT Online](https://www.zeit.de), [tagesschau.de](https://www.tagesschau.de) oder den [Dresdner Neuesten Nachrichten](https://www.dnn.de)). Einzige Bedingung: der Artikel sollte Zitate beinhalten. Füge den Text als string bei `text` unten ein. Formuliere nun reguläre Ausdrücke für folgende Suchaufträge:\n",
    "\n",
    "1. alle kleingeschriebenen Wörter mit drei Buchstaben\n",
    "2. alle Wörter mit Großbuchstaben am Anfang\n",
    "3. alle Zitate (dieser reguläre Ausdruck beinhält vermutlich doppelte Anführungszeichen; umschließe den string zwecks korrekter Abgrenzung daher mit drei einfachen Anführungszeichen)\n",
    "\n",
    "Lasse Dir anschließend alle Listen schön formatiert ausgeben.\n",
    "\n",
    "👆 Hinweis: Nach oben uneingeschränkte Quantifikatoren sind *gierig*. Will heißen: sie matchen so viele Zeichen wie nur möglich. Wenn wir beim dritten Suchauftrag etwa spezifizieren, dass beliebig viele beliebige Zeichen (`.*`) innerhalb von Anführungszeichen vorkommen dürfen, führt das dazu, dass die Zitate nicht einzeln gematcht werden, sondern dass fälschlicherweise ein langes Zitat – beginnend beim ersten öffnenden Anführungszeichen und endend beim letzten schließenden Anführungszeichen – ausgegeben wird. Um diese *Gier* zu bändigen und stattdessen alle kürzesten, vollständigen matches, also alle Zitate einzeln, zu erhalten, können wir dem Quantifikator ganz einfach ein `?` anfügen."
   ]
  },
  {
   "cell_type": "code",
   "execution_count": 3,
   "id": "659810a6-da26-44a9-92d5-ad11d0153278",
   "metadata": {},
   "outputs": [
    {
     "name": "stdout",
     "output_type": "stream",
     "text": [
      "Kleingeschriebene Wörter mit drei Buchstaben:  von, ist, die, und, aus, die, auf, von, sei, und, auf, von, sei, für, die, des, als, mit, das, der, das, als, ein, von, und, auf, nur, und, mit, von, die, auf, und, auf, des, bis, dem, der, die, bis, auf, den, der, und, den, man, die, ein, wie, auf, und, auf, und, dem, hat, die, für, der, und, auf, der, und, dem, ein, und, der, die, dem, des, mit, der, die, bei, der, von, ist, der, ein, als, nur, zum, für, von, und, sei, die, von, wie, und, und, sei, nur, der, mit, der, und, zur, von, die, auf, ist, der, und, die, auf, und, die, des, der, mit, und, den, ist, und, der, hat, die, der, und, der, der, die, und, die, und, die, der, bis, den, die, die, die, und, vom, bis, den, und, der, auf, war, war, ein, des, und, des, und, man, auf, auf, als, die, den, aus, hat, vor, und, die, ein, ist, und, von, und, der, ein, den, der, von, bis, die, auf, bis, die, und, ist \n",
      "\n",
      "Großgeschriebene Wörter:  ICE, Berlin, Das, Auch, Sachsens, Michael, Berlin, Görlitz, ICE, Bundeshauptstadt, Das, Wirtschaftsministerium, Nachfrage, MDR, Ziel, Schienenverbindung, Cottbus, Görlitz, Geschwindigkeit, Dies, Investitionsgesetz, Kohleregionen, Elektrifizierung, Bahnhofes, Systemtrennstelle, Anschluss, Gleichstromsystem, Den, Wirtschaftsministerium, Ausbau, Schieneninfrastruktur, Verkehrsträgern, Einsatz, Produktgattungen, Im, Wenn, Bedarf, Regionalzüge, Görlitz, Cottbus, Umsteigen, Warum, Staatskanzlei, Nachfrage, Ausführungen, Aus, Wirtschaftsministerium, Angaben, Deutschen, Bauarbeiten, Ende, Die, Milliarden, Über, Ausbau, Ländern, Brandenburg, Über, Fernverkehr, DB, Auch, Kosten, Bahn, Kosten, Zeitplan, Deutsche, Planungen, Zeitplan, Investitionsgesetz, Bund, Grundlage, Ausbau, Bahnstrecke, Berlin, Görlitz, Im, Berlin, Cottbus, Fokus, Einzelmaßnahmen, Strecke, Auf, Abschnitt, Görlitz, Ausbau, Elektrifizierung, Strecke, Ende, Abbaus, Metropolregionen, Umsetzung, Maßnahmen, Nachfrageentwicklungen, DB, Angebotsplanung, ICE, ICE, Görlitz, Fahrgastverband, Bahn, Statement, Ministerpräsident, Tat, Besonderheit, Trasse, Frühere, Ausbau, Geschwindigkeiten, Stundenkilometer, Der, DB, Eine, Fernverkehr, Dresden, Chemnitz, Erfurt, Gera, Seit, Bahnreform, Fusion, Deutschen, Deutschen, Deutschen, AG, Regionalverkehr, Ländern, Fernverkehrszüge, DB, Eurocity, Laut, Versäumnis, Politik, Fernverkehrsentwicklung, ICE, Potentiale, Entwicklung, Fernverkehrs, Lausitz, Nachbarn, Blick, Der, Oberleitung, Das, Stromsystemen, Fernverkehr, Bestand, Lage, Polen, Tschechien, Bestand, DB, Niederlande, Schweiz, Intercity, Züge, Görlitzer, Seite, Meter, Neißeviadukt, Hauptbahnhof, Polen, Deutschland, Staatsvertrag, Seite, Staatsvertrag, Seite, Schienendrehkreuz, Lausitz, Fahrgastverband, Drehkreuz, In, Görlitz, Verkehrsströme, Fokus, Berlin, Cottbus, Wroclaw, Kraków, Przemysl, Kiew, Leipzig, Dresden, Görlitz, Wroclaw, Warschau, Verkehre, Berlin, Cottbus, Zudem, Seite, Flughafen, BER, Wroclaw, Jahren, Interesse, Berlin, Bahn, Strecke, Intercitys, Zwischen, Görlitz, Weißwasser, Dieseltriebwagen, Ostdeutschen, In, Abschnitt, Streckenausbau, Tagebau, Fahrgastverband, Görlitz, Zittau, Bahnstrecke, Seite, Liberec, Prag, Fernverkehr, Auch, Trasse, Bautzen, Görlitz, Strecken, Pro \n",
      "\n",
      "Zitate:\n",
      "17\n",
      "\"die bestehende Schienenverbindung zwischen Cottbus und Görlitz durchgängig zweigleisig zu elektrifizieren sowie auf eine Geschwindigkeit von bis zu 160 km/h zu ertüchtigen.\" \n",
      "\n",
      "\"ICE-Strecke\" \n",
      "\n",
      "\"dabei als irreführend, da ein Ausbau von Schieneninfrastruktur grundsätzlich allen Verkehrsträgern dient und nicht auf den Einsatz bestimmter Produktgattungen ausgerichtet ist\" \n",
      "\n",
      "\"nach Angaben der Deutschen Bahn sollen die Bauarbeiten bis Ende 2038 abgeschlossen werden\" \n",
      "\n",
      "\"Mit dem Investitionsgesetz Kohleregionen (InvKG) hat der Bund die Grundlage für den weiteren Ausbau der Bahnstrecke zwischen Berlin und Görlitz geschaffen.\" \n",
      "\n",
      "\"der Fokus auf Einzelmaßnahmen an der Strecke und den Bahnhöfen. Auf dem Abschnitt Cottbus - Görlitz sind ein durchgehend zweigleisiger Ausbau und die Elektrifizierung der Strecke vorgesehen.\" \n",
      "\n",
      "\"Die mit der schrittweisen Umsetzung der strukturstärkenden Maßnahmen einhergehenden Nachfrageentwicklungen wird die DB bei der Angebotsplanung berücksichtigen\" \n",
      "\n",
      "\"Das Statement von Ministerpräsident Kretschmer ist in der Tat schwerlich einzuordnen, weil ein ICE-Zug als Besonderheit grundsätzlich nur eine elektrifizierte Trasse braucht.\" \n",
      "\n",
      "\"ein generelles Versäumnis der Politik und der Bahn, dass die Fernverkehrsentwicklung auf den ICE fokussiert wurde und nicht die enormen Potentiale einer gemeinsamen Entwicklung des Fernverkehrs der Lausitz mit polnischen und tschechischen Nachbarn in den Blick genommen wurde\" \n",
      "\n",
      "\"nicht polen- und tschechientauglich\" \n",
      "\n",
      "\"DB Fernverkehr hat in seinem Bestand keine einzige Lok, die technisch in der Lage wäre, nach Polen und Tschechien zu fahren\" \n",
      "\n",
      "\"PKP Intercity würde längst Züge bis in den Görlitzer Hauptbahnhof fahren lassen, wenn die deutsche Seite die 800 Meter Fahrdraht, die zwischen 1923 und 1946 bereits hier hingen, vom Neißeviadukt bis in den Hauptbahnhof Görlitz gezogen hätte.\" \n",
      "\n",
      "\"Auf der polnischen Seite wurde dieser Staatsvertrag zeitnah realisiert, auf deutscher Seite nicht.\" \n",
      "\n",
      "\"einst ein Drehkreuz des europäischen Schienenverkehrs\" \n",
      "\n",
      "\"Würde man den Fokus statt auf ICE-Züge beispielsweise auf Eurocity-Züge Berlin - Cottbus - Wroclaw - Kraków - Przemysl -Lwiw - Kiew oder Frankfurt/Main - Leipzig - Dresden - Görlitz - Wroclaw - Warschau legen, so wären solche Verkehre sicherlich wirtschaftlicher realisierbar als innerdeutsche 'Endverkehre' Berlin - Cottbus - Görlitz. Zudem könnte die polnische Seite auch den Flughafen Berlin-Brandenburg BER aus Wroclaw kommend direkt anfahren. \" \n",
      "\n",
      "\"zeitnah\" \n",
      "\n",
      "\"Wichtig ist aber, dass diese Strecken finanziell nicht gegeneinander ausgespielt werden\" \n",
      "\n"
     ]
    }
   ],
   "source": [
    "#zur Lösung verwendeter Text stammt von https://www.mdr.de/nachrichten/sachsen/bautzen/goerlitz-weisswasser-zittau/bahnstrecke-berlin-goerlitz-ice-ausbau-fahrgastverband-wirtschaftsministerium-100.html\n",
    "text = \"\"\"Ein ICE von Berlin nach Görlitz: Das ist allenfalls Zukunftsmusik. Auch wenn Sachsens Ministerpräsident Michael Kretschmer (CDU) unlängst mitteilte, die ICE-Strecke zwischen Berlin und Görlitz werde umgesetzt, fährt noch lange kein ICE aus der Bundeshauptstadt in die niederschlesische Metropole. Das SPD-geführte sächsische Wirtschaftsministerium stellt auf Nachfrage von MDR SACHSEN klar: Ziel sei es, \"die bestehende Schienenverbindung zwischen Cottbus und Görlitz durchgängig zweigleisig zu elektrifizieren sowie auf eine Geschwindigkeit von bis zu 160 km/h zu ertüchtigen.\" Dies sei im Investitionsgesetz für die Kohleregionen aufgelistet.\n",
    "Darüber hinaus soll die Elektrifizierung des Bahnhofes Görlitz als sogenannte Systemtrennstelle mit Anschluss an das polnische Gleichstromsystem umgesetzt werden. Den Begriff der \"ICE-Strecke\" erachte das Wirtschaftsministerium \"dabei als irreführend, da ein Ausbau von Schieneninfrastruktur grundsätzlich allen Verkehrsträgern dient und nicht auf den Einsatz bestimmter Produktgattungen ausgerichtet ist\". Im Klartext: Wenn kein Bedarf besteht, fahren auch künftig nur Regionalzüge zwischen Görlitz und Cottbus mit Umsteigen Richtung Berlin. Warum Kretschmer von einer ICE-Strecke spricht, wollte die Staatskanzlei auf Nachfrage nicht beantworten und verwies auf die Ausführungen des zuständigen Wirtschaftsministeriums.\n",
    "Ausbauplan bis 2038 Aus dem Wirtschaftsministerium hieß es weiter, \"nach Angaben der Deutschen Bahn sollen die Bauarbeiten bis Ende 2038 abgeschlossen werden\". Die Investitionssumme werde auf etwa 1,65 Milliarden Euro geschätzt. Über den bestellten Zugverkehr, der nach Ausbau angeboten und von den Ländern bezahlt werden soll, führe man mit Brandenburg Gespräche. Über möglichen Fernverkehr entscheidet die DB selbst. Auch ein anderer Anbieter, wie etwa Flixtrain, könnte theoretisch auf eigene Kosten dort fahren. \n",
    "Deutsche Bahn äußert sich zurückhaltend zu Kosten und Zeitplan Die Deutsche Bahn verweist auf noch laufende Planungen und äußert sich weder zu Zeitplan noch zu Kosten. \"Mit dem Investitionsgesetz Kohleregionen (InvKG) hat der Bund die Grundlage für den weiteren Ausbau der Bahnstrecke zwischen Berlin und Görlitz geschaffen.\" Im Abschnitt Berlin – Cottbus liege \"der Fokus auf Einzelmaßnahmen an der Strecke und den Bahnhöfen. Auf dem Abschnitt Cottbus - Görlitz sind ein durchgehend zweigleisiger Ausbau und die Elektrifizierung der Strecke vorgesehen.\" \n",
    "Es gehe darum, die bisherige Braunkohle-Regionen nach dem Ende des Abbaus besser an Metropolregionen anzubinden. \"Die mit der schrittweisen Umsetzung der strukturstärkenden Maßnahmen einhergehenden Nachfrageentwicklungen wird die DB bei der Angebotsplanung berücksichtigen\", verspricht der Verkehrskonzern, ohne konkret einen ICE anzukündigen.\n",
    "Fahrgastverband zweifelt an ICE nach Görlitz Vom Fahrgastverband Pro Bahn hieß es: \"Das Statement von Ministerpräsident Kretschmer ist in der Tat schwerlich einzuordnen, weil ein ICE-Zug als Besonderheit grundsätzlich nur eine elektrifizierte Trasse braucht.\" Frühere Pläne zum Ausbau für Geschwindigkeiten von 200 Stundenkilometer und mehr seien inzwischen Geschichte. Der Fahrgastverband sei skeptisch, dass die DB eigenwirtschaftlich ICE-Züge anbieten wird. Eine Bezahlung von Fernverkehr durch Länder, wie derzeit zwischen Dresden und Chemnitz oder Erfurt und Gera sei aber nur ein Notlösung. Seit der Bahnreform mit Fusion der Deutschen Reichsbahn und der Deutschen Bundesbahn zur Deutschen Bahn AG wird Regionalverkehr von Ländern bezahlt, Fernverkehrszüge betreibt die DB AG unter wirtschaftlichen\n",
    "Fokus auf Eurocity statt Binnenverkehrs-ICE Laut Fahrgastverband ist es \"ein generelles Versäumnis der Politik und der Bahn, dass die Fernverkehrsentwicklung auf den ICE fokussiert wurde und nicht die enormen Potentiale einer gemeinsamen Entwicklung des Fernverkehrs der Lausitz mit polnischen und tschechischen Nachbarn in den Blick genommen wurde\". Der ICE ist \"nicht polen- und tschechientauglich\" - also unter dortiger Oberleitung nicht einsetzbar. Das liegt an unterschiedlichen Stromsystemen der europäischen Eisenbahnen. \"DB Fernverkehr hat in seinem Bestand keine einzige Lok, die technisch in der Lage wäre, nach Polen und Tschechien zu fahren\", so der Fahrgastverband. (Im Bestand der DB AG gibt es ICE-Mehrsystemzüge, die planmäßig und täglich nach Frankreich, Belgien, in die Niederlande und in die Schweiz fahren. Anm. der Redaktion)\n",
    "Weiter heißt es: \"PKP Intercity würde längst Züge bis in den Görlitzer Hauptbahnhof fahren lassen, wenn die deutsche Seite die 800 Meter Fahrdraht, die zwischen 1923 und 1946 bereits hier hingen, vom Neißeviadukt bis in den Hauptbahnhof Görlitz gezogen hätte.\" 2003 hätten sich Polen und Deutschland in einem Staatsvertrag hierzu verpflichtet. \"Auf der polnischen Seite wurde dieser Staatsvertrag zeitnah realisiert, auf deutscher Seite nicht.\"\n",
    "Lausitz war einst europäisches Schienendrehkreuz Die Lausitz war laut Fahrgastverband \"einst ein Drehkreuz des europäischen Schienenverkehrs\". In Cottbus und Görlitz hätten sich Verkehrsströme des Ost-West und des Nord-Süd-Verkehrs gekreuzt. \"Würde man den Fokus statt auf ICE-Züge beispielsweise auf Eurocity-Züge Berlin - Cottbus - Wroclaw - Kraków - Przemysl -Lwiw - Kiew oder Frankfurt/Main - Leipzig - Dresden - Görlitz - Wroclaw - Warschau legen, so wären solche Verkehre sicherlich wirtschaftlicher realisierbar als innerdeutsche 'Endverkehre' Berlin - Cottbus - Görlitz. Zudem könnte die polnische Seite auch den Flughafen Berlin-Brandenburg BER aus Wroclaw kommend direkt anfahren. \"Daran hat sie schon vor Jahren großes Interesse bekundet.\"\n",
    "Zwischen Berlin und Cottbus, wo die Bahn ein ICE-Werk plant, ist die Strecke elektrifiziert und wird auch jetzt schon von einzelnen Intercitys befahren. Zwischen Cottbus und Görlitz über Weißwasser fahren Dieseltriebwagen der Ostdeutschen Eisenbahn-Gesellschaft (ODEG). In diesem Abschnitt muss ein Streckenausbau auch um den Tagebau Reichwalde geplant werden.\n",
    "Zugleich fordert der Fahrgastverband von Görlitz weiter bis Zittau die Bahnstrecke zu elektrifizieren, um auf tschechischer Seite über Liberec bis Prag modernen Fernverkehr anbieten zu können. Auch die Trasse Dresden - Bautzen - Görlitz müsse \"zeitnah\" elektrifiziert und ertüchtigt werden. \"Wichtig ist aber, dass diese Strecken finanziell nicht gegeneinander ausgespielt werden\", so Pro Bahn.\"\"\"\n",
    "\n",
    "\"\"\"whitespace vor und nach den Ausdrücken in regex_1 und regex_2 sind notwendig, \n",
    "da findall sonst auch innerhalb von Wörtern matcht (elegantere Lösung siehe 'Weitere Sonderzeichen')\"\"\"\n",
    "regex_1 = r\" [a-zäöüß]{3} \"\n",
    "regex_2 = r\" [A-ZÄÖÜ]\\w* \"\n",
    "\"\"\"beachte, dass regex_3 auf den obigen Text zugeschnitten ist und bei Dir vermutlich anders aussieht\"\"\"\n",
    "regex_3 = r'''\".*?\"''' #beliebig viele beliebige Zeichen innerhalb von Anführungszeichen, mit gebändigter Gier (d.h. kürzestmöglicher match)\n",
    "\n",
    "three_letter_words = re.findall(regex_1, text)\n",
    "capital_words = re.findall(regex_2, text)\n",
    "quotes = re.findall(regex_3, text)\n",
    "\n",
    "\"\"\"Konvertieren der Listen in einen string (mittels join, vgl. 2. Notebook), \n",
    "wobei wir erst mittels List Comprehension (vgl. 4. Notebook) trailing und leading whitespace bei jedem Element entfernen\"\"\"\n",
    "print(\"Kleingeschriebene Wörter mit drei Buchstaben: \", \", \".join([word.strip() for word in three_letter_words]), \"\\n\")\n",
    "print(\"Großgeschriebene Wörter: \", \", \".join([word.strip() for word in capital_words]), \"\\n\")\n",
    "\n",
    "print(\"Zitate:\")\n",
    "print(len(quotes))\n",
    "for quote in quotes:\n",
    "    print(quote, \"\\n\")"
   ]
  },
  {
   "cell_type": "markdown",
   "id": "9cba09c4-f4d8-436c-8cbe-a2e3406fb5f1",
   "metadata": {
    "deletable": false,
    "editable": false
   },
   "source": [
    "*** \n",
    "\n",
    "✏️ **Übung 3:** Angelehnt an das Beispiel mit den Links auf [tu-dresden.de](https://tu-dresden.de) sollst Du in dieser Übung ebenfalls Links von einer bestimmten Webseite (bzw. aus dessen Quelltext) extrahieren. \n",
    "\n",
    "1. Öffne dazu den [Spielplan der Bundesligasaison 2019-2020 auf weltfussball.de](https://www.weltfussball.de/alle_spiele/bundesliga-2019-2020/). Nun wollen wir den Quelltext dieser Seite herunterladen. Da wir noch über keine Web-Scraping-Skills verfügen, machen wir es manuell. Gehe dazu je nach Browser wie folgt vor:\n",
    "\n",
    "    - bei Google Chrome im Menü \"Anzeigen\" > \"Entwickler\" > \"Quelltext anzeigen\" wählen\n",
    "    - bei Safari mittels Rechtsklick \"Seitenquelltext einblenden\" wählen\n",
    "    - bei Firefox mittels Rechtsklick \"Seitenquelltext anzeigen\" wählen\n",
    "    \n",
    "    <br>\n",
    "    \n",
    "    Markiere und kopiere nun den kompletten Quelltext und speichere ihn in einem neuen Dokument, das Du unter dem Namen \"quelltext.txt\" im Ordner \"3_Dateien/Fussball\" abspeicherst. Für diesen Vorgang empfiehlt sich das im vierten Notebook erwähnte [Sublime Text](https://www.sublimetext.com).\n",
    "    \n",
    "    Der Quelltext im Browser sollte übrigens so oder so ähnlich ausschauen:\n",
    "\n",
    "    <img src=\"../../3_Dateien/Grafiken_und_Videos/Quelltext.png\">\n",
    "\n",
    "2. Öffne das Dokument wie im fünften Notebook gelernt, lies es ein und weise es der Variablen `source_code` zu.\n",
    "\n",
    "3. Gehe nochmal zum [Spielplan](https://www.weltfussball.de/alle_spiele/bundesliga-2019-2020/) im Browser und öffne einige Spielberichte, indem Du auf die jeweiligen Spielergebnisse klickst. Schau Dir die Adresszeile an und analysiere, wie die Links aufgebaut sind sowie worin sie sich unterscheiden. Schau ebenfalls im Quelltext nach, wie die Links da aussehen (💡 Tipp: die Links im Quelltext sind abgekürzt).\n",
    "\n",
    "4. 4. Formuliere darauf aufbauend einen regulären Ausdruck, der sämtliche Links zu allen Spielberichten im Quelltext matcht. Füge ihn als string bei der Variablen `regex` ein. Ist der reguläre Ausdruck korrekt, sollte `matches` 306 Links beinhalten. Sowohl bei `regex` als auch bei `matches` musst Du natürlich noch die Hashtags entfernen.\n",
    "\n",
    "5. Erstelle eine Liste mit vollständigen Links zu allen Spielberichten und lasse sie Dir ausgeben. Probiere einige der Links aus."
   ]
  },
  {
   "cell_type": "code",
   "execution_count": 4,
   "id": "04ce8c1e-7103-4c7f-8644-e00a6dddb743",
   "metadata": {},
   "outputs": [
    {
     "ename": "FileNotFoundError",
     "evalue": "[Errno 2] No such file or directory: '../../3_Dateien/Fussball/quelltext.txt'",
     "output_type": "error",
     "traceback": [
      "\u001b[0;31m---------------------------------------------------------------------------\u001b[0m",
      "\u001b[0;31mFileNotFoundError\u001b[0m                         Traceback (most recent call last)",
      "Cell \u001b[0;32mIn[4], line 3\u001b[0m\n\u001b[1;32m      1\u001b[0m \u001b[38;5;66;03m#Achtung: anderer Pfad als im Notebook, da das Lösungsnotebook in einem anderen Verzeichnis liegt \u001b[39;00m\n\u001b[1;32m      2\u001b[0m \u001b[38;5;66;03m#Code funktioniert erst, nachdem Du das Dokument \"quelltext.txt\" erstellt hast!\u001b[39;00m\n\u001b[0;32m----> 3\u001b[0m \u001b[38;5;28;01mwith\u001b[39;00m \u001b[38;5;28;43mopen\u001b[39;49m\u001b[43m(\u001b[49m\u001b[38;5;124;43m\"\u001b[39;49m\u001b[38;5;124;43m../../3_Dateien/Fussball/quelltext.txt\u001b[39;49m\u001b[38;5;124;43m\"\u001b[39;49m\u001b[43m)\u001b[49m \u001b[38;5;28;01mas\u001b[39;00m f:\n\u001b[1;32m      4\u001b[0m     source_code \u001b[38;5;241m=\u001b[39m f\u001b[38;5;241m.\u001b[39mread()\n\u001b[1;32m      6\u001b[0m regex \u001b[38;5;241m=\u001b[39m \u001b[38;5;124mr\u001b[39m\u001b[38;5;124m\"\u001b[39m\u001b[38;5;124m/spielbericht/[\u001b[39m\u001b[38;5;124m\\\u001b[39m\u001b[38;5;124mw-]+/\u001b[39m\u001b[38;5;124m\"\u001b[39m \u001b[38;5;66;03m#literal \"/spielbericht/\", ein oder mehrere alphanumerische Zeichen bzw. literal \"-\", literal \"/\"\u001b[39;00m\n",
      "File \u001b[0;32m~/miniconda3/lib/python3.10/site-packages/IPython/core/interactiveshell.py:284\u001b[0m, in \u001b[0;36m_modified_open\u001b[0;34m(file, *args, **kwargs)\u001b[0m\n\u001b[1;32m    277\u001b[0m \u001b[38;5;28;01mif\u001b[39;00m file \u001b[38;5;129;01min\u001b[39;00m {\u001b[38;5;241m0\u001b[39m, \u001b[38;5;241m1\u001b[39m, \u001b[38;5;241m2\u001b[39m}:\n\u001b[1;32m    278\u001b[0m     \u001b[38;5;28;01mraise\u001b[39;00m \u001b[38;5;167;01mValueError\u001b[39;00m(\n\u001b[1;32m    279\u001b[0m         \u001b[38;5;124mf\u001b[39m\u001b[38;5;124m\"\u001b[39m\u001b[38;5;124mIPython won\u001b[39m\u001b[38;5;124m'\u001b[39m\u001b[38;5;124mt let you open fd=\u001b[39m\u001b[38;5;132;01m{\u001b[39;00mfile\u001b[38;5;132;01m}\u001b[39;00m\u001b[38;5;124m by default \u001b[39m\u001b[38;5;124m\"\u001b[39m\n\u001b[1;32m    280\u001b[0m         \u001b[38;5;124m\"\u001b[39m\u001b[38;5;124mas it is likely to crash IPython. If you know what you are doing, \u001b[39m\u001b[38;5;124m\"\u001b[39m\n\u001b[1;32m    281\u001b[0m         \u001b[38;5;124m\"\u001b[39m\u001b[38;5;124myou can use builtins\u001b[39m\u001b[38;5;124m'\u001b[39m\u001b[38;5;124m open.\u001b[39m\u001b[38;5;124m\"\u001b[39m\n\u001b[1;32m    282\u001b[0m     )\n\u001b[0;32m--> 284\u001b[0m \u001b[38;5;28;01mreturn\u001b[39;00m \u001b[43mio_open\u001b[49m\u001b[43m(\u001b[49m\u001b[43mfile\u001b[49m\u001b[43m,\u001b[49m\u001b[43m \u001b[49m\u001b[38;5;241;43m*\u001b[39;49m\u001b[43margs\u001b[49m\u001b[43m,\u001b[49m\u001b[43m \u001b[49m\u001b[38;5;241;43m*\u001b[39;49m\u001b[38;5;241;43m*\u001b[39;49m\u001b[43mkwargs\u001b[49m\u001b[43m)\u001b[49m\n",
      "\u001b[0;31mFileNotFoundError\u001b[0m: [Errno 2] No such file or directory: '../../3_Dateien/Fussball/quelltext.txt'"
     ]
    }
   ],
   "source": [
    "#Achtung: anderer Pfad als im Notebook, da das Lösungsnotebook in einem anderen Verzeichnis liegt \n",
    "#Code funktioniert erst, nachdem Du das Dokument \"quelltext.txt\" erstellt hast!\n",
    "with open(\"../../3_Dateien/Fussball/quelltext.txt\") as f:\n",
    "    source_code = f.read()\n",
    "    \n",
    "regex = r\"/spielbericht/[\\w-]+/\" #literal \"/spielbericht/\", ein oder mehrere alphanumerische Zeichen bzw. literal \"-\", literal \"/\"\n",
    "matches = re.findall(regex, source_code)\n",
    "\n",
    "links = []\n",
    "for match in matches:\n",
    "    links.append(\"www.weltfussball.de\" + match)\n",
    "print(links)"
   ]
  },
  {
   "cell_type": "markdown",
   "id": "b5d9bb5a-4521-4771-9afc-8de074652c89",
   "metadata": {
    "deletable": false,
    "editable": false
   },
   "source": [
    "***\n",
    "\n",
    "✏️ **Lösung 4:** Lies das Märchen \"Des Kaisers neue Kleider\" von Hans Christian Andersen aus dem Ordner \"3_Dateien\" ein und weise es `fairytale` zu. Formuliere nun reguläre Ausdrücke für folgende Suchaufträge:\n",
    "\n",
    "1. das erste Wort des Märchens\n",
    "2. regelmäßige Verben in der 3. Person Singular/Plural im Präteritum (z.B. \"lebte\" oder \"sagten\"; es ist in Ordnung, wenn Du mit diesem regulären Ausdruck auch ein paar falsch positive matches kriegst 🤫, vgl. Wahrheitsmatrix im 5. Notebook)\n",
    "3. letzte Wörter von Sätzen, die mit einem Punkt enden (z.B. \"einherzugehen\", vgl. erster Satz des Märchens)\n",
    "4. Wörter mit Doppel-a (z.B. \"Saal\")\n",
    "5. das letzte Wort des Märchens\n",
    "\n",
    "Da wir bei der ersten und letzten Aufgabe, nicht nach *allen* matches suchen, sondern nur an einem einzigen interessiert sind (es kann ja auch nur jeweils einen match geben), verwenden wir eine neue Funktion, nämlich `search`, auf die wir unten genauer eingehen. Dabei erhalten wir keine Liste zurück, sondern ein sog. *match-Objekt*, wobei wir auf den eigentlichen match wie im `print`-Statement bereits vorgegeben zugreifen können. Überhaupt sollte das `print`-Statement das Ergebnis aller fünf Suchaufträge schön formatiert ausgeben.\n",
    "\n",
    "👆 Hinweis: Je komplexer die Suchaufträge, desto mehr Möglichkeiten gibt es, einen regulären Ausdruck dafür zu konstruieren. Oft steht man vor der Frage, eine fertige Zeichenklasse wie z.B. `\\w` einzubauen oder lieber eine eigene Zeichenklasse zusammenzustellen, um auch Nicht-ASCII-Zeichen zu matchen. Manchmal erreicht man sein Ziel auch aus der umgekehrten Richtung, z.B. mithilfe von `\\S`, um alles *außer* whitespace zu matchen (was ja sämtliche Buchstaben, ASCII hin oder her, umfasst). Letzlich gilt wie immer zwischen Genauigkeit und Effizienz abzuwägen."
   ]
  },
  {
   "cell_type": "code",
   "execution_count": 5,
   "id": "9365227b-3ad8-4a07-b596-d869385dd4c3",
   "metadata": {},
   "outputs": [
    {
     "name": "stdout",
     "output_type": "stream",
     "text": [
      "Des \n",
      "\n",
      " ['lebte', 'kümmerte', 'kümmerte', 'konnte', 'hatte', 'sagte', 'wohnte', 'behaupteten', 'allerschönsten', 'hätten', 'verfertigte', 'taugten', 'ausgezeichnete', 'dachte', 'hätte', 'könnte', 'könnte', 'stellten', 'taten', 'arbeiteten', 'hatten', 'geringste', 'begehrten', 'feinste', 'prächtigste', 'steckten', 'arbeiteten', 'möchte', 'dachte', 'dachte', 'vermochte', 'glaubte', 'wußte', 'sollte', 'guten', 'alten', 'dachte', 'besten', 'alte', 'arbeiteten', 'dachte', 'alte', 'sagte', 'ersuchten', 'treten', 'fragten', 'deuteten', 'größte', 'konnte', 'dachte', 'sollte', 'hätte', 'bemerkte', 'antwortete', 'alte', 'schaute', 'berichten', 'sagten', 'nannten', 'erklärten', 'alte', 'hörte', 'erstatten', 'verlangten', 'brauchten', 'steckten', 'arbeiteten', 'sandte', 'konnte', 'fragten', 'erklärten', 'dachte', 'rühmte', 'sagte', 'wollte', 'alten', 'webten', 'sagten', 'deuteten', 'dachten', 'könnten', 'dachte', 'könnte', 'sagte', 'allerhöchsten', 'nickte', 'betrachtete', 'wollte', 'konnte', 'größte', 'guckte', 'guckte', 'konnte', 'rieten', 'verfertigten', 'ersten', 'verbrachten', 'sollten', 'arbeiteten', 'taten', 'schnitten', 'nähten', 'sagten', 'vornehmsten', 'vorzeigten', 'sagten', 'könnte', 'hätte', 'sagten', 'sagten', 'entkleidete', 'taten', 'faßten', 'nestelten', 'sollte', 'wandte', 'drehte', 'meldete', 'sagte', 'wandte', 'wollte', 'betrachtete', 'hatten', 'langten', 'hielten', 'wollten', 'durften', 'wollte', 'hatten', 'sagte', 'flüsterte', 'hatte', 'dachte', 'aushalten'] \n",
      "\n",
      " ['einherzugehen', 'konnte', 'Ankleidezimmer', 'an', 'weben', 'blieben', 'Kaiser', 'ausscheiden', 'begännen', 'Stuhle', 'Gold', 'hinein', 'vermochte', 'verhielt', 'sei', 'er', 'arbeiteten', 'laut', 'seien', 'da', 'erfahren', 'habe', 'Weber', 'Brille', 'gefällt', 'Muster', 'könne', 'Gewebe', 'weiter', 'sei', 'sehen', 'war', 'Amt', 'lassen', 'aus', 'Kaiser', 'Stoffe', 'sei', 'Einschuß', 'Beamten', 'bewundern', 'sehen', 'könnte', 'konnte', 'Ersten', 'tragen', 'darüber', 'Kaisers', 'weiter', 'dabei', 'da', 'anlegen', 'Spiegel', 'Anwesenden', 'Zeremonienmeister', 'betrachtete', 'sahen', 'sei', 'hervorgerufen', 'Kind', 'Vater', 'hatte', 'es', 'Volk', 'her'] \n",
      "\n",
      " ['Staatsrat', 'Saal'] \n",
      "\n",
      " her\n"
     ]
    }
   ],
   "source": [
    "#Achtung: anderer Pfad als im Notebook, da das Lösungsnotebook in einem anderen Verzeichnis liegt\n",
    "with open(\"../../3_Dateien/Des_Kaisers_neue_Kleider/Des_Kaisers_neue_Kleider.txt\") as f:\n",
    "    fairytale = f.read()\n",
    "\n",
    "regex_1 = r\"^\\w+\" #string-Anfang, ein oder mehrere ASCII-Zeichen (noch besser wäre eigene Klasse [A-Za-zÄäÖöÜüß], da sonst ein string-Anfang mit Umlaut/Eszett nicht gematcht würde; gilt auch unten)\n",
    "regex_2 = r\"\\b[a-zäöüß]+ten?\\b\" #Wortgrenze, ein oder mehrere kleingeschriebene Buchstaben, literal \"t\" und \"e\", optional literal \"n\", Wortgrenze\n",
    "regex_3 = r\"[A-Za-zÄäÖöÜüß]+\\.\" #Ein oder mehrere literale Buchstaben, literal \".\" (maskiert mit \"\\\", da sonst Wildcard)\n",
    "regex_4 = r\"\\b\\w*[a]{2}\\w*\\b\" #Wortgrenze, null oder mehrere ASCII-Zeichen, zwei literale \"a\", null oder mehrere ASCII-Zeichen, Wortgrenze\n",
    "regex_5 = r\"\\w+\\.$\" #ein oder mehrere ASCII-Zeichen, ein literaler \".\" (maskiert), string-Ende\n",
    "\n",
    "first_word = re.search(regex_1, fairytale)\n",
    "verbs = re.findall(regex_2, fairytale)\n",
    "last_words = re.findall(regex_3, fairytale)\n",
    "double_vowel = re.findall(regex_4, fairytale)\n",
    "last_word = re.search(regex_5, fairytale)\n",
    "\n",
    "print(first_word.group(), \"\\n\\n\", verbs, \"\\n\\n\", [word.strip(\".\") for word in last_words], \"\\n\\n\", double_vowel, \"\\n\\n\", last_word.group().strip(\".\"))"
   ]
  },
  {
   "cell_type": "markdown",
   "id": "9e8d7d5d-7f6d-4e84-8f30-577e984d6203",
   "metadata": {
    "deletable": false,
    "editable": false
   },
   "source": [
    "*** \n",
    "\n",
    "✏️ **Lösung 5:** Im vierten Notebook in Übung 2 haben wir gesehen, dass das Wort \"Klima\" viel häufiger im Koalitionsvertrag von 2021 als in demjenigen von 2018 vorkommt. Nun wollen wir herausfinden, in welcher Form das Wort verwendet wird. Neben dem alleinstehenden Auftreten von \"Klima\" (als sog. *Simplex*, da es aus nur einem Morphem besteht) ist \"Klima\" bzw. \"klima\" häufig Teil von zusammengesetzten Wörtern, also sog. *Komposita*, wie etwa in \"Klimakrise\" oder \"klimapolitisch\".  \n",
    "\n",
    "Lies den Koalitionsvertrag von 2021 nochmal ein und weise ihn der Variablen `kv21` zu. Durchsuche ihn nun nach einem regulären Ausdruck, der sämtliche Komposita, in denen \"Klima\" bzw. \"klima\" vorkommt, matcht. Hänge alle Komposita der Liste `climate_compounds` an und lasse Dir abschließend die Liste ausgeben."
   ]
  },
  {
   "cell_type": "code",
   "execution_count": 6,
   "id": "cc2fae76-63db-4020-8cf4-ba003ba6269b",
   "metadata": {},
   "outputs": [
    {
     "name": "stdout",
     "output_type": "stream",
     "text": [
      "['Klimakrise', 'Klimaschutzziele', 'Klimaschutz', 'Klimaschutz', 'Klimaschutz', 'Klimaziele', 'Klimaschutz', 'Klimaschutz', 'klimaneutral', 'klimaneutrale', 'Klimafolgen', 'Klimaschutz', 'klimaneutralen', 'Klimaschutz', 'Klimaziele', 'Klimaverträge', 'Klimaclubs', 'klimafreundliche', 'Klimaneutralität', 'klimaneutralen', 'Klimaziele', 'Klimaneutralität', 'klimaneutrales', 'Klimawirkung', 'klimafreundlichen', 'klimafreundlich', 'Klimaneutralität', 'Klimavertrag', 'klimapolitischen', 'Klimaschutzes', 'Klimaschutz', 'Klimaschutz', 'Klimaschutz', 'Klimaschutz', 'Klimakrise', 'Klimafonds', 'Klimaschutz', 'Klimaanpassung', 'Klimakrise', 'Klimaschutzziele', 'klimaresiliente', 'Klimaschutz', 'klimaresilient', 'Klimaschutz', 'Klimaanpassung', 'Klimaanpassungsstrategie', 'Klimaanpassungsgesetz', 'Klimaanpassungsstrategie', 'Klimavorsorge', 'Klimaanpassung', 'Klimaanpassung', 'Klimaresilienz', 'klimafeste', 'Klimaschutzes', 'Klimaanpassung', 'Klimaschutz', 'Klimaneutralität', 'Klimaschutzes', 'Klimaanpassung', 'klimarobusten', 'klimarobustem', 'Klimaschutzziele', 'klimaneutral', 'klimafreundliche', 'Klimaresilienz', 'Klimaschutz', 'klimaneutralen', 'Klimawandel', 'Klimakrise', 'klimaneutralen', 'Klimaneutralität', 'Klimaschutzgesetz', 'Klimaschutzgesetz', 'Klimaschutz-Sofortprogramm', 'Klimaschutz', 'Klimawirkung', 'Klimaschutzzielen', 'Klimacheck', 'Klimaziele', 'Klimaabkommen', 'Klimaneutralität', 'Klimaziele', 'Klimaziele', 'Klimaschutzsofortprogramm', 'Klimaschutzes', 'Klimaneutralität', 'klimaneutral', 'Klimarahmenkonvention', 'Klimabildung', 'Klimaschutzziele', 'Klimaziel', 'klimaneutrale', 'klimaneutrale', 'klimapolitischen', 'Klimaneutralitätsnetz', 'Klimaschutz-Sofortprogramms', 'Klimaneutrales', 'Klimaneutralität', 'Klimaschutzmaßnahmen', 'Klimageld', 'Klimapartnerschaften', 'Klimaclubs', 'Klimaneutralität', 'Klimafinanzierung', 'Klimaaußenpolitik', 'Klimaaußenpolitik', 'Klimakabinett', 'Klimakrise', 'klimaneutralen', 'klimaneutralen', 'Klimaneutralität', 'Klimaschutzdifferenzverträge', 'klimaneutrale', 'klimatechnologischen', 'Klimaneutralität', 'klimaneutral', 'klimaneutral', 'Klimacheck', 'klimapolitischen', 'Klimaschutz', 'Klimaschutz', 'Klimaschutzsofortprogramms', 'klimagerechte', 'Klimaschutzziele', 'Klimakomponente', 'Klimaanpassung', 'Klimawandel', 'klimagerechte', 'Klimaaußenpolitik', 'Klimakrise', 'Klimaschutz', 'klimafreundliche', 'klimagerechten', 'Klimawandel', 'klimafreundliche', 'Klimaaußenpolitik', 'Klimagerechtigkeit', 'Klimaabkommens', 'Klimagerechtigkeit', 'Klimafinanzierung', 'Klimafinanzierung', 'Klimaschutz', 'Klimaresilienz', 'Klimarisikoversicherungen', 'Klimaziele', 'klimasensibel', 'Klima-sowie', 'Klimapartnerschaften', 'Klimakrise', 'Klimaschutz', 'Klimakrise', 'Klimaschutz', 'Klimazieles', 'Klimaziele', 'Klimaschutz', 'Klimafonds', 'Klimaschutzmaßnahmen', 'Klimakrise', 'Klimaschutz', 'Klimaschutz', 'klimafreundlichen', 'Klimaneutralität', 'Klimaziele', 'klimaschädliche', 'Klimaschutzeffekt', 'Klimaschutzeffekt', 'Klimaschutzes', 'Klimaschutz', 'klimafreundliche', 'Klimarisiken', 'Klimaschutz']"
     ]
    },
    {
     "name": "stdout",
     "output_type": "stream",
     "text": [
      "\n"
     ]
    }
   ],
   "source": [
    "#Achtung: anderer Pfad als im Notebook, da das Lösungsnotebook in einem anderen Verzeichnis liegt\n",
    "with open(\"../../3_Dateien/Koalitionsvertraege/koalitionsvertrag_2021.txt\", encoding=\"utf-8\") as f:\n",
    "    kv21 = f.read()\n",
    "    \n",
    "regex = r\"[Kk]lima\\S+\\b\"\n",
    "\n",
    "climate_compounds = []\n",
    "\n",
    "for match in re.findall(regex, kv21):\n",
    "    climate_compounds.append(match)\n",
    "    \n",
    "print(climate_compounds)"
   ]
  },
  {
   "cell_type": "markdown",
   "id": "5a74a10e-2193-4f6d-b500-fdba33076769",
   "metadata": {
    "deletable": false,
    "editable": false
   },
   "source": [
    "***\n",
    "\n",
    "✏️ **Lösung 6:** Finde alle Substantive mit definitem Artikel (z.B. \"der\" oder \"dem\") in `text`, das der Einleitung des [ Wikipedia-Artikels zu regulären Ausdrücken](https://de.wikipedia.org/wiki/Regulärer_Ausdruck) entspricht (Stand: 26.10.2022). Der Artikel (des Substantivs) sollte jeweils mitgemacht werden."
   ]
  },
  {
   "cell_type": "code",
   "execution_count": 7,
   "id": "3869fd7c-0069-438e-a135-cac39c71fb0f",
   "metadata": {},
   "outputs": [
    {
     "name": "stdout",
     "output_type": "stream",
     "text": [
      "['der Beschreibung', 'der Softwareentwicklung', 'der Funktion', 'der Textsuche', 'der Text', 'dem Muster', 'Der Begriff', 'den Mathematiker']\n",
      "[('der Beschreibung', 'd', 'er'), ('der Softwareentwicklung', 'd', 'er'), ('der Funktion', 'd', 'er'), ('der Textsuche', 'd', 'er'), ('der Text', 'd', 'er'), ('dem Muster', 'd', 'em'), ('Der Begriff', 'D', 'er'), ('den Mathematiker', 'd', 'en')]\n"
     ]
    }
   ],
   "source": [
    "text = \"\"\"Ein regulärer Ausdruck (englisch regular expression, Abkürzung RegExp oder Regex) ist in der theoretischen Informatik eine Zeichenkette, die der Beschreibung von Mengen von Zeichenketten mit Hilfe bestimmter syntaktischer Regeln dient. Reguläre Ausdrücke finden vor allem in der Softwareentwicklung Verwendung. Neben Implementierungen in vielen Programmiersprachen verarbeiten auch viele Texteditoren reguläre Ausdrücke in der Funktion „Suchen und Ersetzen“. Ein einfacher Anwendungsfall von regulären Ausdrücken sind Wildcards.\n",
    "Reguläre Ausdrücke können als Filterkriterien in der Textsuche verwendet werden, indem der Text mit dem Muster des regulären Ausdrucks abgeglichen wird. Dieser Vorgang wird auch Pattern Matching genannt. So ist es beispielsweise möglich, alle Wörter aus einer Wortliste herauszusuchen, die mit S beginnen und auf D enden, ohne die dazwischen liegenden Buchstaben oder deren Anzahl explizit vorgeben zu müssen.\n",
    "Der Begriff des regulären Ausdrucks geht im Wesentlichen auf den Mathematiker Stephen Kleene zurück, der die ähnliche Bezeichnung reguläre Menge verwendete.\"\"\"\n",
    "\n",
    "regex = r\"(\\b(D|d)(er|ie|as|es|em|en) [A-ZÄÖÜ][a-zäöüß]*\\b)\" #Wortgrenze, literal \"D\" oder \"d\", literal \"er\", \"ie\", \"as\", \"es\", \"em\" oder \"en\", Leerzeichen, beliebiger Großbuchstabe, beliebig viele Kleinbuchstaben, Wortgrenze\n",
    "matches = re.findall(regex, text)\n",
    "\n",
    "#nur den gesamten match (Hauptgruppe) ausgeben lassen\n",
    "print([match[0] for match in matches])\n",
    "\n",
    "#den gesamten match (Hauptgruppe) und alle anderen Gruppen ausgeben lassen\n",
    "print([match for match in matches])"
   ]
  },
  {
   "cell_type": "markdown",
   "id": "3d89be60-8e3c-492c-92d6-355d428e647c",
   "metadata": {
    "deletable": false,
    "editable": false
   },
   "source": [
    "***\n",
    "\n",
    "✏️ **Lösung 7 (fortgeschritten):** Gegeben sind kurze Beschreibungen von fünf Personen in `people`. In jeder Beschreibung findet sich der Vor- und Nachname, das Geburtsdatum sowie die E-Mailadresse der Person. Wir wollen daraus ein kleines Adressbuch in tabellarischer Form schaffen. Ziel ist es, die Daten wie im Screenshot gezeigt in die Datei \"address_book.tsv\" im Ordner \"3_Dateien/Output\" zu schreiben:\n",
    "\n",
    "<img src=\"../../3_Dateien/Grafiken_und_Videos/address_book.png\">\n",
    "\n",
    "Zwischen den Namen und dem Geburtstag sowie dem Geburtstag und der E-Mailadresse soll also ein Tab stehen, da Dateien mit der Endung \".tsv\" tabulatorsepariert sind (dem gleichen Prinzip wie kommaseparierte Dateien folgend, vgl. 5. Notebook).\n",
    "\n",
    "Formuliere *einen* regulären Ausdruck, um fünf matches zu erhalten (einen pro Person), und nutze Gruppen, um die Elemente *Nachname*, *Vorname*, *Geburtstag* und *E-Mailadresse* als Teilmatch separat zu erhalten. Öffne und beschreibe anschließend die Datei \"address_book.tsv\", sodass jede Person in einer eigenen Zeile sowie jedes Element in einer eigenen Spalte abgespeichert wird.\n",
    "\n",
    "💡 Tipp: `findall` findet stets den längstmöglichen match. Da die Wildcard alle beliebigen Zeichen *außer* einem Zeilenumbruch matcht, kannst Du sie getrost in Deinen regulären Ausdruck einbauen, z.B. für die erste Gruppe der Vornamen, etwa so `(.+)`. Indem Du danach eine Gruppe für den Nachnamen anhängst, kann die durch den Quantifikator `+` \"ungebändigte\" Wildcard nicht einfach die ganze Personenbeschreibung matchen (man spricht angesichts dieser Gier auch von *fressen*). Dies, da sie ja keinen Zeilenumbruch matchen kann und nach dem Zeilenumbruch nun mal nichts kommt, das von Deiner zweiten Gruppe sowie dem restlichen regulären Ausdruck gematcht werden könnte."
   ]
  },
  {
   "cell_type": "code",
   "execution_count": 8,
   "id": "33a9a559-105e-4883-9405-820c5d81d798",
   "metadata": {},
   "outputs": [],
   "source": [
    "people = \"\"\"Detlef SCHULZ hat am 21.03.1967 Geburtstag, und das ist seine Emailadresse: schulz-detlef@gmail.net \n",
    "Ina SCHULTER wurde am 02.04.1992 geboren und ihre E-Mail-Adresse lautet: inaschulter@gmx.de\n",
    "Katharina Anne LAMAI ist ein Dezemberkind, ihr Geburtstag ist der 08.12.1955 geboren und ihre E-Mail-Adresse lautet: KaAnLa@yahoo.com\n",
    "Anuk MARGA ist am 15.01.1988 auf die Welt gekommen, ihre E-Mail-Adresse lautet: MargAnuk@gmail.com\n",
    "Albus Percival Wulfric Brian DUMBLEDORE hat 17.06.1881 das Licht der Welt erblickt. Er hat sogar eine Emailadresse: fresh-dumbledore@hogwarts.com\"\"\"\n",
    " \n",
    "#Beachte: mehr denn je können unzählige andere Lösungen auch korrekt sein!    \n",
    "\n",
    "\"\"\"Mindestens ein beliebiges Zeichen (außer Zeilenumbruch), gefolgt von einem Leerschlag, gefolgt von mindestens einem Großbuchstaben,\n",
    "gefolgt von einem Leerschlag, gefolgt von mindestens einem beliebigen Zeichen (außer Zeilenumbruch), gefolgt von einem Leerschlag,\n",
    "gefolgt von zwei Zahlen, einem Punkt (maskiert), zwei Zahlen, einem Punkt (maskiert), vier Zahlen, gefolgt von einem Leerschlag,\n",
    "gefolgt von mindestens einem beliebigen Zeichen (außer Zeilenumbruch), gefolgt von Leerschlag, gefolgt von mindestens einem beliebigen Zeichen, \n",
    "das nicht whitespace ist, gefolgt von literal '@', gefolgt von mindestens einem beliebigen Zeichen, das nicht whitespace ist;\n",
    "regulärer Ausdruck funktioniert, da die Wildcard keinen Zeilenumbruch matcht und sich von daher nicht die ganze Beschreibung 'einverleiben' kann,\n",
    "da sonst der Rest des regulären Ausdrucks nicht mehr zuträfe (vgl. Tipp im zugehörigen Notebook)\"\"\"\n",
    "regex = r\"(.+) ([A-Z]+) .+ (\\d{2}\\.\\d{2}\\.\\d{4}) .+ (\\S+@\\S+)\"\n",
    "\n",
    "matches = re.findall(regex, people)\n",
    "\n",
    "#Achtung: anderer Pfad als im Notebook, da das Lösungsnotebook in einem anderen Verzeichnis liegt\n",
    "with open(\"../../3_Dateien/Output/address_book.tsv\", \"w\") as f:\n",
    "    f.write(\"Name\\tBirthday\\tMail address\\n\")\n",
    "    for match in matches:\n",
    "        f.write(match[1] + \", \" + match[0] + \"\\t\" + match[2] + \"\\t\" + match[3] + \"\\n\")"
   ]
  },
  {
   "cell_type": "markdown",
   "id": "e09267c5-2f4c-4db3-b172-cfa043e9312e",
   "metadata": {
    "deletable": false,
    "editable": false
   },
   "source": [
    "*** \n",
    "\n",
    "✏️ **Lösung 8:** Bei ```birth_notices``` handelt es nun um eine Liste mit mehreren Geburtsanzeigen. Deine Aufgabe ist es, die Geburtsdaten der Neugeboreren mithilfe eines regulären Ausdrucks sowie einer geeigneten Funktion des `re`-Moduls aus den Anzeigen zu extrahieren und einer Liste namens ```birth_dates``` anzuhängen. Lass dir abschließend `birth_dates` ausgeben."
   ]
  },
  {
   "cell_type": "code",
   "execution_count": 9,
   "id": "2d7deb52-659a-412c-bafc-7138f0e989c2",
   "metadata": {},
   "outputs": [
    {
     "name": "stdout",
     "output_type": "stream",
     "text": [
      "['1. September 2022', '28. Februar 2022', '14. Dezember 2022', '19. August 2022', '5. Mai 2022', '1. März 2022']\n"
     ]
    }
   ],
   "source": [
    "birth_notices = [\"Lena erblickte am 1. September 2022 die Welt.\",\n",
    "                 \"Petra kam am 28. Februar 2022 zur Welt.\",\n",
    "                 \"Yusuf strahlte uns am 14. Dezember 2022 mit glänzenden Äuglein an.\", \n",
    "                 \"Juans Leben begann am sonnigen 19. August 2022.\",\n",
    "                 \"Robert bereichert seit dem 5. Mai 2022 unser Leben.\",\n",
    "                 \"Mi beglückt uns seit dem 1. März 2022.\"]\n",
    "\n",
    "birth_dates = []\n",
    "\n",
    "regex = r\"\\d{1,2}\\. (\\w|ä)+ \\d{4}\"\n",
    "\n",
    "for notice in birth_notices:\n",
    "    birth_dates.append(re.search(regex, notice).group())\n",
    "\n",
    "print(birth_dates)"
   ]
  },
  {
   "cell_type": "markdown",
   "id": "a8ac1a0d-eda7-4f9d-ab82-37b86daf969f",
   "metadata": {
    "deletable": false,
    "editable": false
   },
   "source": [
    "***\n",
    "\n",
    "✏️ **Lösung 9:** Gegeben sind in `people` nochmal die Personenbeschreibungen aus Übung 7 sowie die Musterlösung für den regulären Ausdruck in `regex`. `regex` beinhaltet Gruppen, auf deren Teilmatches wir zurückgreifen können. Formuliere einen regulären Ausdruck für `replacement`, um anschließend `people` mithilfe von `re.sub` in dasselbe Format wie in Übung 7 zu bringen:\n",
    "\n",
    "\"Nachname, Vorname \\t Geburtsdatum \\t E-Mailadresse\" \n",
    "\n",
    "Es reicht diesmal, wenn Du das Dir das Ergebnis einfach ausgeben lässt."
   ]
  },
  {
   "cell_type": "code",
   "execution_count": 10,
   "id": "53213fb7-93dd-4bac-97d2-bc7a3f2d8c71",
   "metadata": {},
   "outputs": [
    {
     "name": "stdout",
     "output_type": "stream",
     "text": [
      "SCHULZ, Detlef\t21.03.1967\tschulz-detlef@gmail.net \n",
      "SCHULTER, Ina\t02.04.1992\tinaschulter@gmx.de\n",
      "LAMAI, Katharina Anne\t08.12.1955\tKaAnLa@yahoo.com\n",
      "MARGA, Anuk\t15.01.1988\tMargAnuk@gmail.com\n",
      "DUMBLEDORE, Albus Percival Wulfric Brian\t17.06.1881\tfresh-dumbledore@hogwarts.com\n"
     ]
    }
   ],
   "source": [
    "people = \"\"\"Detlef SCHULZ hat am 21.03.1967 Geburtstag, und das ist seine Emailadresse: schulz-detlef@gmail.net \n",
    "Ina SCHULTER wurde am 02.04.1992 geboren und ihre E-Mail-Adresse lautet: inaschulter@gmx.de\n",
    "Katharina Anne LAMAI ist ein Dezemberkind, ihr Geburtstag ist der 08.12.1955 geboren und ihre E-Mail-Adresse lautet: KaAnLa@yahoo.com\n",
    "Anuk MARGA ist am 15.01.1988 auf die Welt gekommen, ihre E-Mail-Adresse lautet: MargAnuk@gmail.com\n",
    "Albus Percival Wulfric Brian DUMBLEDORE hat 17.06.1881 das Licht der Welt erblickt. Er hat sogar eine Emailadresse: fresh-dumbledore@hogwarts.com\"\"\"\n",
    " \n",
    "#Erklärung des regulären Ausdrucks siehe Lösung 5\n",
    "regex = r\"(.+) ([A-Z]+) .+ (\\d{2}\\.\\d{2}\\.\\d{4}) .+ (\\S+@\\S+)\"\n",
    "replacement = r\"\\2, \\1\\t\\3\\t\\4\"\n",
    "\n",
    "people_formatted = re.sub(regex, replacement, people)\n",
    "\n",
    "print(people_formatted)"
   ]
  },
  {
   "cell_type": "markdown",
   "id": "72efa2f3-0ace-40ac-a30d-af5ed76ba0f5",
   "metadata": {
    "deletable": false,
    "editable": false
   },
   "source": [
    "***\n",
    "\n",
    "✏️ **Lösung 10:** `birth_dates` von oben ist nun etwas länger und beinhält mehr Geburtsdaten. Ziel ist es, sämtliche Geburtsdaten in das Datumsformat nach [ISO 8601](https://de.wikipedia.org/wiki/Datumsformat#ISO_8601_und_EN_28601), also YYYY/MM/DD, zu bringen. Gehe dazu wie folgt vor:\n",
    "\n",
    "1. Wenn nötig, passe `regex` an, damit auch alle neuen Geburtsdaten gematcht werden.\n",
    "2. Setze Klammern in `regex`, um relevante Teile eines matches zu gruppieren.\n",
    "3. Passe die Funktion `to_ISO_format` an, damit jedes einzelne match-Objekt entsprechend IS0 8601 umstrukturiert wird. Hierzu einige Bemerkungen und Tipps:\n",
    "    - Bei zweistelligen Jahreszahlen unter und gleich 22 kannst Du davon ausgehen, dass sie sich auf das 21. Jahrhundert beziehen, ansonsten auf das 20. Jahrhundert.\n",
    "    - Verwende f-strings zur Formatierung der Teilmatches (vgl. fünftes Notebook).\n",
    "    - Der Funktionsaufruf innerhalb von `re.sub(...)` ist korrekt, so wie er gegeben ist (es fehlen also keine Klammern!)."
   ]
  },
  {
   "cell_type": "code",
   "execution_count": 11,
   "id": "e0e7cce2-3023-4418-8aab-baf0ab329c1f",
   "metadata": {},
   "outputs": [
    {
     "name": "stdout",
     "output_type": "stream",
     "text": [
      "Ich bin am 1992/08/09 geboren, meine Schwester am 1995/04/03 und unser Bruder am 1998/10/09. \n",
      "Unsere Mutter ist am 1967/10/23 geboren und unser Vater am 1968/01/14. \n",
      "Der letzte Familienzuwachs ist die Tochter meines Bruders, die am 2022/01/01 geboren wurde.\n"
     ]
    }
   ],
   "source": [
    "birth_dates = \"\"\"Ich bin am 09.08.1992 geboren, meine Schwester am 3.4.95 und unser Bruder am 9.10.1998. \n",
    "Unsere Mutter ist am 23.10.1967 geboren und unser Vater am 14.1.68. \n",
    "Der letzte Familienzuwachs ist die Tochter meines Bruders, die am 1.1.2022 geboren wurde.\"\"\"\n",
    "\n",
    "regex = r\"(\\d{1,2})\\.(\\d{1,2})\\.((19|20)?\\d{2})\"\n",
    "\n",
    "def to_ISO_format(match_object):\n",
    "    \n",
    "    two_digit_year = match_object.group(3)[-2:]\n",
    "    \n",
    "    year = f\"{'19' + two_digit_year if int(two_digit_year) > 22 else '20' + two_digit_year}\"\n",
    "    month = f\"{int(match_object.group(2)):02}\"\n",
    "    day = f\"{int(match_object.group(1)):02}\"\n",
    "    \n",
    "    return year + \"/\" + month + \"/\" + day\n",
    "     \n",
    "iso_dates = re.sub(regex, to_ISO_format, birth_dates)\n",
    "print(iso_dates)"
   ]
  },
  {
   "cell_type": "markdown",
   "id": "0b0c1025-4db1-4585-9baf-e5a46be8a502",
   "metadata": {
    "deletable": false,
    "editable": false
   },
   "source": [
    "***\n",
    "\n",
    "**🔧 Anwendungsfall (Lösung):**"
   ]
  },
  {
   "cell_type": "markdown",
   "id": "c7a4f6f0-2364-4d81-b355-70ac3fa6e288",
   "metadata": {
    "deletable": false,
    "editable": false
   },
   "source": [
    "Die Lösung zu beiden Teilaufgaben befindet sich in den Dateien \"pizzabot_solved_documented.py\" und \"pizza_functions_documents\" im Ordner \"3_Dateien\". Der verbesserte Pizzabot kann in der folgenden Zelle getestet werden:"
   ]
  },
  {
   "cell_type": "code",
   "execution_count": 12,
   "id": "710dd53c-4972-465e-b64f-c95009823999",
   "metadata": {},
   "outputs": [
    {
     "ename": "StdinNotImplementedError",
     "evalue": "raw_input was called, but this frontend does not support input requests.",
     "output_type": "error",
     "traceback": [
      "\u001b[0;31m---------------------------------------------------------------------------\u001b[0m",
      "\u001b[0;31mStdinNotImplementedError\u001b[0m                  Traceback (most recent call last)",
      "Cell \u001b[0;32mIn[12], line 7\u001b[0m\n\u001b[1;32m      4\u001b[0m sys\u001b[38;5;241m.\u001b[39mpath\u001b[38;5;241m.\u001b[39mappend(\u001b[38;5;124m\"\u001b[39m\u001b[38;5;124m../../3_Dateien/Module/\u001b[39m\u001b[38;5;124m\"\u001b[39m)\n\u001b[1;32m      6\u001b[0m \u001b[38;5;28;01mimport\u001b[39;00m \u001b[38;5;21;01mpizzabot_solved_documented\u001b[39;00m \u001b[38;5;28;01mas\u001b[39;00m \u001b[38;5;21;01mpizzabot\u001b[39;00m\n\u001b[0;32m----> 7\u001b[0m \u001b[43mpizzabot\u001b[49m\u001b[38;5;241;43m.\u001b[39;49m\u001b[43morder_pizza\u001b[49m\u001b[43m(\u001b[49m\u001b[43m)\u001b[49m\n",
      "File \u001b[0;32m~/Documents/Repositories/yfrommherz.ch/website/programming/1_Notebooks/Loesungen/../../3_Dateien/Module/pizzabot_solved_documented.py:57\u001b[0m, in \u001b[0;36morder_pizza\u001b[0;34m()\u001b[0m\n\u001b[1;32m     38\u001b[0m \u001b[38;5;250m\u001b[39m\u001b[38;5;124;03m\"\"\"Funktion leitet durch Bestellprozess, indem für einzelne Schritte relevante Funktionen aus dem Modul 'pizza_functions_documented' aufgerufen werden.\u001b[39;00m\n\u001b[1;32m     39\u001b[0m \u001b[38;5;124;03mDie den Funktionen zu übergebenden Argumente (prompts an User:in) werden jeweils direkt vor Funktionsaufruf definiert. \u001b[39;00m\n\u001b[1;32m     40\u001b[0m \u001b[38;5;124;03mGrober Ablauf: \u001b[39;00m\n\u001b[0;32m   (...)\u001b[0m\n\u001b[1;32m     51\u001b[0m \u001b[38;5;124;03m11) 'request_address' wird aufgerufen, um valide Lieferadresse zu erhalten.\u001b[39;00m\n\u001b[1;32m     52\u001b[0m \u001b[38;5;124;03m12) Bestellbestätigung inkl. Pizzawahl und Lieferadresse wird ausgegeben. Bot endet.\"\"\"\u001b[39;00m\n\u001b[1;32m     54\u001b[0m \u001b[38;5;66;03m#------------> CHOOSE PIZZA <------------ \u001b[39;00m\n\u001b[1;32m     55\u001b[0m \n\u001b[1;32m     56\u001b[0m \u001b[38;5;66;03m#User:in wird initial nach Name gefragt; Name wird in 'user_name' gespeichert\u001b[39;00m\n\u001b[0;32m---> 57\u001b[0m user_name \u001b[38;5;241m=\u001b[39m \u001b[38;5;28;43minput\u001b[39;49m\u001b[43m(\u001b[49m\u001b[38;5;124;43m\"\u001b[39;49m\u001b[38;5;124;43mHallo, ich bin der Pizzabot 🍕🤖\u001b[39;49m\u001b[38;5;130;43;01m\\n\u001b[39;49;00m\u001b[38;5;124;43mWie heißt Du?\u001b[39;49m\u001b[38;5;130;43;01m\\n\u001b[39;49;00m\u001b[38;5;124;43m\"\u001b[39;49m\u001b[43m)\u001b[49m\n\u001b[1;32m     59\u001b[0m \u001b[38;5;66;03m#um eine authentischere Interaktion zu simulieren fügt diese Zeile eine Sekunde Latenz ein (gilt auch für alle folgenden gleichlautenden Zeilen)\u001b[39;00m\n\u001b[1;32m     60\u001b[0m time\u001b[38;5;241m.\u001b[39msleep(\u001b[38;5;241m1\u001b[39m)\n",
      "File \u001b[0;32m~/miniconda3/lib/python3.10/site-packages/ipykernel/kernelbase.py:1174\u001b[0m, in \u001b[0;36mKernel.raw_input\u001b[0;34m(self, prompt)\u001b[0m\n\u001b[1;32m   1167\u001b[0m \u001b[38;5;250m\u001b[39m\u001b[38;5;124;03m\"\"\"Forward raw_input to frontends\u001b[39;00m\n\u001b[1;32m   1168\u001b[0m \n\u001b[1;32m   1169\u001b[0m \u001b[38;5;124;03mRaises\u001b[39;00m\n\u001b[1;32m   1170\u001b[0m \u001b[38;5;124;03m------\u001b[39;00m\n\u001b[1;32m   1171\u001b[0m \u001b[38;5;124;03mStdinNotImplementedError if active frontend doesn't support stdin.\u001b[39;00m\n\u001b[1;32m   1172\u001b[0m \u001b[38;5;124;03m\"\"\"\u001b[39;00m\n\u001b[1;32m   1173\u001b[0m \u001b[38;5;28;01mif\u001b[39;00m \u001b[38;5;129;01mnot\u001b[39;00m \u001b[38;5;28mself\u001b[39m\u001b[38;5;241m.\u001b[39m_allow_stdin:\n\u001b[0;32m-> 1174\u001b[0m     \u001b[38;5;28;01mraise\u001b[39;00m StdinNotImplementedError(\n\u001b[1;32m   1175\u001b[0m         \u001b[38;5;124m\"\u001b[39m\u001b[38;5;124mraw_input was called, but this frontend does not support input requests.\u001b[39m\u001b[38;5;124m\"\u001b[39m\n\u001b[1;32m   1176\u001b[0m     )\n\u001b[1;32m   1177\u001b[0m \u001b[38;5;28;01mreturn\u001b[39;00m \u001b[38;5;28mself\u001b[39m\u001b[38;5;241m.\u001b[39m_input_request(\n\u001b[1;32m   1178\u001b[0m     \u001b[38;5;28mstr\u001b[39m(prompt),\n\u001b[1;32m   1179\u001b[0m     \u001b[38;5;28mself\u001b[39m\u001b[38;5;241m.\u001b[39m_parent_ident[\u001b[38;5;124m\"\u001b[39m\u001b[38;5;124mshell\u001b[39m\u001b[38;5;124m\"\u001b[39m],\n\u001b[1;32m   1180\u001b[0m     \u001b[38;5;28mself\u001b[39m\u001b[38;5;241m.\u001b[39mget_parent(\u001b[38;5;124m\"\u001b[39m\u001b[38;5;124mshell\u001b[39m\u001b[38;5;124m\"\u001b[39m),\n\u001b[1;32m   1181\u001b[0m     password\u001b[38;5;241m=\u001b[39m\u001b[38;5;28;01mFalse\u001b[39;00m,\n\u001b[1;32m   1182\u001b[0m )\n",
      "\u001b[0;31mStdinNotImplementedError\u001b[0m: raw_input was called, but this frontend does not support input requests."
     ]
    }
   ],
   "source": [
    "\"\"\"diese beiden Zeilen kannst Du ignorieren (sie sind nötig, da sich das zu importierende Modul \n",
    "in einem anderen Verzeichnis als das Notebook befindet (vgl. viertes Notebook)\"\"\"\n",
    "import sys\n",
    "sys.path.append(\"../../3_Dateien/Module/\")\n",
    "\n",
    "import pizzabot_solved_documented as pizzabot\n",
    "pizzabot.order_pizza()"
   ]
  },
  {
   "cell_type": "markdown",
   "id": "ee666f32-be9d-4073-a7d8-6f528babf0d4",
   "metadata": {
    "deletable": false,
    "editable": false
   },
   "source": [
    "Weiter können die Muster-docstrings über folgende Zelle ausgegeben werden:"
   ]
  },
  {
   "cell_type": "code",
   "execution_count": 13,
   "id": "bcb72bd7-4938-4c35-baa8-972a0fa59e17",
   "metadata": {},
   "outputs": [
    {
     "name": "stdout",
     "output_type": "stream",
     "text": [
      "order_pizza: Funktion leitet durch Bestellprozess, indem für einzelne Schritte relevante Funktionen aus dem Modul 'pizza_functions_documented' aufgerufen werden.\n",
      "\tDie den Funktionen zu übergebenden Argumente (prompts an User:in) werden jeweils direkt vor Funktionsaufruf definiert. \n",
      "\tGrober Ablauf: \n",
      "\t1) User:in wird gegrüßt. \n",
      "\t2) 'choose_pizza' wird aufgerufen, um eine valide Pizzawahl zu erhalten.\n",
      "\t3) Bestätigung der Pizzawahl sowie Auflistung der Zutaten wird ausgegeben.\n",
      "\t4) 'yn_validator' wird aufgerufen, um abzufragen, ob User:in eine Zutat verändern will. Wenn ja > 5), wenn nein > 9)\n",
      "\t5) 'yn_validator' wird aufgerufen, um abzufragen, ob User:in eine Zutat entfernen will. Wenn ja > 6), wenn nein > 7)\n",
      "\t6) 'remove_ingredient' wird aufgerufen, um eine aktualisierte Zutatenliste zu erhalten.\n",
      "\t7) 'yn_validator' wird aufgerufen, um abzufragen, ob User:in eine Zutat hinzufügen will. Wenn ja > 8), wenn nein > 9) \n",
      "\t8) 'add_ingredient' wird aufgerufen, um eine aktualisierte Zutatenliste zu erhalten.\n",
      "\t9) Validität der Bestellung wird überprüft. Wenn invalide endet der Bot, wenn valide > 10)\n",
      "\t10) Bestätigung der Pizzawahl sowie Auflistung der aktualisierten Zutaten wird ausgegeben.\n",
      "\t11) 'request_address' wird aufgerufen, um valide Lieferadresse zu erhalten.\n",
      "\t12) Bestellbestätigung inkl. Pizzawahl und Lieferadresse wird ausgegeben. Bot endet. \n",
      "\n",
      "yn_validator: Funktion nimmt 'prompt' sowie reguläre Ausdrücke für 'Ja' und 'Nein' und\n",
      "    gibt dem/r User:in solange 'prompt' aus, bis der darauffolgende Input (der 'answer' zugewiesen wird)\n",
      "    entweder vollständig die 'Ja'- oder 'Nein'-RegEx matcht ('re.fullmatch'). Matcht er die 'Ja'-Regex,\n",
      "    wird ein normalisiertes 'yes' zurückgegeben, matcht er die 'Nein'-RegEx,\n",
      "    wird ein normalisiertes 'no' zurückgegeben, andernfalls wird 'reaction_to_invalid_input'\n",
      "    ausgegeben, gefolgt von der nächsten Iteration beginnend mit der Ausgabe von 'prompt'. \n",
      "\n",
      "choose_pizza: Funktion gibt dem/r User:in einmalig 'first_prompt' aus, da 'choice' initial auf 'None' gesetzt ist und\n",
      "    die Bedingung 'if not choice' True ergibt. Antwort wird 'choice' zugewiesen.\n",
      "    Anschließend wird über das als Argument übergebene dictionary 'pizzas' iteriert,\n",
      "    und 'choice' nach der RegEx jeder Pizza abgesucht. Liegt ein vollständiger match vor (re.fullmatch), wird der Name\n",
      "    der Pizza zurückgegeben. Andernfalls startet die while-Schleife von neuem, wobei 'choice' jetzt nicht mehr 'None'\n",
      "    ist und entsprechend die Bedingung 'if not choice' False ergibt. Folglich tritt 'else' ein und 'alternative_prompt'\n",
      "    wird ausgegeben, 'choice' wird mit neuem Input überschrieben. 'choice' wird wieder auf match mit den alternativen\n",
      "    Schreibweisen abgeglichen. Liegt ein match vor, wird die jeweilige Pizza zurückgegeben, anderfalls startet eine neue Iteration. \n",
      "\n",
      "remove_ingredient: Funktion gibt solange 'first_prompt' (Frage nach zu entfernender Zutat) aus, \n",
      "    wie User:in auf den am Ende der 'while'-Schleife ausgegebenen 'alternative_prompt' mit (über 'yn_validator' normalisiertem) 'yes' antwortet.\n",
      "    Solange das der Fall ist, wird die auf 'first_prompt' erhaltene Antwort kleingeschrieben 'ingredient_to_be_removed' zugewiesen.\n",
      "    Befindet sich 'ingredient_to_be_removed' unter den ebenfalls als Argument übergebenen (und initial kleingeschriebenen) Zutatenliste ('ingredients_lower'), \n",
      "    wird 'confirmation' ausgegeben und entsprechende Zutat von der Liste entfernt. Befindet sich 'ingredient_to_be_removed' nicht auf der Zutatenliste, \n",
      "    wird 'reaction_to_invalid_input' ausgegeben. Nun wird 'alternative_prompt' ausgegeben: User:in muss sich entscheiden,\n",
      "    ob (noch) eine Zutat entfernt werden soll. Bei Zustimmung beginnt die nächste Iteration, andernfalls (bei normalisiertem 'no')\n",
      "    wird die neue Liste mit Zutaten (mit großen Anfangsbuchstaben) zurückgegeben. \n",
      "\n",
      "add_ingredient: Funktion gibt solange 'first_prompt' (Frage nach hinzuzufügender Zutat) aus, \n",
      "    wie User:in auf den am Ende der 'while'-Schleife ausgegebenen 'alternative_prompt' mit (über 'yn_validator' normalisiertem) 'yes' antwortet.\n",
      "    Solange das der Fall ist, wird die auf 'first_prompt' erhaltene Antwort kleingeschrieben 'new_ingredient' zugewiesen.\n",
      "    Befindet sich 'new_ingredient' nicht bereits unter den ebenfalls als Argument übergebenen (und initial kleingeschriebenen) Zutatenliste ('ingredients_lower') UND\n",
      "    gleichzeitig auf der (auch initial kleingeschriebenen) Liste der Extrazutaten ('extra_ingredients_lower'), \n",
      "    wird 'confirmation' ausgegeben und entsprechende Zutat 'ingredients_lower' angehängt. Andernfalls (falls mind. eine der Bedingungen nicht zutrifft),\n",
      "    wird 'reaction_to_invalid_input ausgegeben. Nun wird 'alternative_prompt' ausgegeben: User:in muss sich entscheiden,\n",
      "    ob (noch) eine Zutat hinzugefügt werden soll. Bei Zustimmung beginnt die nächste Iteration, andernfalls (bei normalisiertem 'no')\n",
      "    wird die neue Liste mit Zutaten (mit großen Anfangsbuchstaben) zurückgegeben. \n",
      "\n",
      "request_address: Funktion gibt dem/r User:in einmalig 'first_prompt' aus, da 'pizza_destination' initial auf 'None' gesetzt ist und\n",
      "    die Bedingung 'if not pizza_destination' True ergibt. Antwort wird 'pizza_destination' zugewiesen.\n",
      "    Anschließend wird geprüft, ob 'w3w_regex' vollständig 'pizza_destination' matcht (re.fullmatch). \n",
      "    Wenn ja, wird 'pizza_destination' zurückgegeben, andernfalls 'reaction_to_invalid_input' ausgegeben \n",
      "    und die nächste Iteration der 'while'-Schleife beginnt, wobei 'pizza_destination' jetzt nicht mehr 'None'\n",
      "    ist und entsprechend die Bedingung 'if not pizza_destination' False ergibt. Folglich tritt 'else' ein und 'alternative_prompt'\n",
      "    wird ausgegeben, 'pizza_destination' wird mit neuem Input überschrieben. 'pizza_destination' wird wieder auf match mit 'w3w-regex' abgeglichen. \n",
      "    Liegt ein match vor, wird 'pizza_destination' zurückgegeben, anderfalls startet eine neue Iteration. \n",
      "\n"
     ]
    }
   ],
   "source": [
    "from pizzabot_solved_documented import order_pizza\n",
    "from pizza_functions_documented import *\n",
    "\n",
    "print(\"order_pizza:\", order_pizza.__doc__, \"\\n\")\n",
    "print(\"yn_validator:\", yn_validator.__doc__, \"\\n\")\n",
    "print(\"choose_pizza:\", choose_pizza.__doc__, \"\\n\")\n",
    "print(\"remove_ingredient:\", remove_ingredient.__doc__, \"\\n\")\n",
    "print(\"add_ingredient:\", add_ingredient.__doc__, \"\\n\")\n",
    "print(\"request_address:\", request_address.__doc__, \"\\n\")"
   ]
  },
  {
   "cell_type": "markdown",
   "id": "4fb475ca-319b-4e53-b9ae-6c5be9532c4d",
   "metadata": {
    "deletable": false,
    "editable": false
   },
   "source": [
    "***\n",
    "\n",
    "<br>"
   ]
  }
 ],
 "metadata": {
  "kernelspec": {
   "display_name": "Python 3 (ipykernel)",
   "language": "python",
   "name": "python3"
  },
  "language_info": {
   "codemirror_mode": {
    "name": "ipython",
    "version": 3
   },
   "file_extension": ".py",
   "mimetype": "text/x-python",
   "name": "python",
   "nbconvert_exporter": "python",
   "pygments_lexer": "ipython3",
   "version": "3.10.8"
  }
 },
 "nbformat": 4,
 "nbformat_minor": 5
}