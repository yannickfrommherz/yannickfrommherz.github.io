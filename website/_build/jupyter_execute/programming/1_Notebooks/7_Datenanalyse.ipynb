{
 "cells": [
  {
   "cell_type": "markdown",
   "id": "419114ff-f17c-45bb-8178-753282c0e39a",
   "metadata": {
    "deletable": false,
    "editable": false
   },
   "source": [
    "# Datenanalyse\n",
    "\n",
    "In diesem Notebook lernen wir, wie wir in Python große Mengen strukturierter Daten, allen voran Daten in Form von Tabellen, verarbeiten und analysieren können. \n",
    "\n",
    "Im fünften Notebook haben wir mit folgender Tabelle gearbeitet:\n",
    "\n",
    "<img src=\"../3_Dateien/Grafiken_und_Videos/Flächengrösste_Gemeinden_Tabelle.png\">\n",
    "\n",
    "Wir haben unter Zuhilfenahme des `csv`-Moduls unseren eigenen Code geschrieben, um auszurechnen, wieviele der 100 flächengrößten Gemeinden sich in jedem der sechzehn Bundesländer befinden. In diesem Notebook lernen wir die sehr viel leistungsstärkere Bibliothek *pandas* kennen, die uns diese Rechnung im Handumdrehen liefern kann. Pandas kann aber viel mehr, wie wir gleich sehen werden.\n",
    "\n",
    "Zu Beginn müssen wir pandas natürlich importieren. Folgendes Statement importiert die Bibliothek und verleiht ihr den Namen `pd`. Diese Abkürzung ist eine Konvention."
   ]
  },
  {
   "cell_type": "code",
   "execution_count": 1,
   "id": "15a68f01-688c-4605-bd5e-175caa212b93",
   "metadata": {},
   "outputs": [],
   "source": [
    "import pandas as pd"
   ]
  },
  {
   "cell_type": "markdown",
   "id": "72803703-42be-459b-94f2-12a8ee10cfe5",
   "metadata": {
    "deletable": false,
    "editable": false
   },
   "source": [
    "Solltest Du einen `ModuleNotFoundError` erhalten, musst Du `pandas` erst über die Command Line installieren. Öffne dazu das Terminal (macOS) bzw. die Eingabeaufforderung (Windows) in einem neuen Fenster, gib `pip3 install pandas` (macOS) bzw. `pip install pandas` (Windows) ein und drücke auf Enter. Sobald der Prozess abgeschlossen ist, sollte der Import oben klappen.\n",
    "Um pandas kennenzulernen, wollen wir mit einem großen Datensatz arbeiten, nämlich dem [Songkorpus](https://songkorpus.de/index.html). Das Songkorpus beinhält Lieder von bekannten deutschen Künstler:innen, u.a. von Udo Lindenberg und Fettes Brot und umspannt die Jahre 1969-2022. Öffentlich herunterladbar sind unter anderem Worthäufigkeiten pro Jahr und zwar als Tabelle (auf der Webseite selbst finden sich weitere spannende Daten und Analysen). Jedes Wort, das in einem oder mehreren Songs in einem bestimmten Jahr vorkommt, steht in einer eigenen Zeile, zusammen mit dem entsprechenden Jahr und der Häufigkeit, mit der es in diesem Jahr bei allen Künstler:innen auftritt (s.u.). Insgesamt handelt es sich um über 380.000 Wörter. Solch eine tabellarische Datei, zumal derart groß, ist prädestiniert dazu, mit pandas verarbeitet zu werden.\n",
    "\n",
    "## Input\n",
    "\n",
    "In der folgenden Zelle öffnen wir die Datei, die sich bereits in \"3_Dateien/Songkorpus\" befindet, und lesen sie mit der pandas-Funktion `read_csv` ein, die neben dem Dateipfad u.a. auch das Trennzeichen (`sep`, in diesem Fall der Tabulator \"\\t\") als Argument nimmt:"
   ]
  },
  {
   "cell_type": "code",
   "execution_count": 2,
   "id": "bbb01128-867f-4e72-8264-16e6ca07ce57",
   "metadata": {},
   "outputs": [],
   "source": [
    "#vor read_csv steht wie gewohnt der Modulname, damit Python weiß, wo sich die Funktion befindet\n",
    "songkorpus = pd.read_csv(\"../3_Dateien/Songkorpus/songkorpus_token.tsv\", sep=\"\\t\") "
   ]
  },
  {
   "cell_type": "markdown",
   "id": "c49e8f3f-2a7a-41af-bdc4-2e63a530fea1",
   "metadata": {
    "deletable": false,
    "editable": false
   },
   "source": [
    "Neben `read_csv` für Dateien mit Trennzeichen, bietet pandas u.a. auch Funktionen für XML (`read_xml`), JSON (`read_json`)  und Excel-Dateien (`read_excel`) an. Ebenfalls kann man je nach Daten weitere Parameter spezifizieren, u.a. `na_filter`, um zu definieren, wie mit fehlenden Werten (sog. *NaN-Werten*) umgegangen werden soll. \n",
    "\n",
    "*Bemerkung am Rande: Fehlende Werte führen immer wieder zu Problemen bei der Arbeit mit pandas. Deswegen solltest Du Dich beim Einlesen Deiner eigenen Daten stets fragen, ob bestimmte Werte darin fehlen könnten und wenn ja, wie Du damit umgehen möchtest. Pandas bietet neben `na_filter` nützliche Methoden wie `isna`, `dropna` und `fillna` für den Umgang mit fehlenden Werten (mehr Infos [hier](https://pandas.pydata.org/docs/user_guide/missing_data.html)). Im Folgenden gehen wir aber nicht darauf ein, im Songkorpus fehlen schlicht keine Werte.*\n",
    "\n",
    "Die Lesemethode überführt unsere Daten in jedem Fall in ein sog. *DataFrame*:"
   ]
  },
  {
   "cell_type": "code",
   "execution_count": 3,
   "id": "e5bdaa92-9dd4-43ff-9ef8-5e6916b8a0f5",
   "metadata": {},
   "outputs": [
    {
     "name": "stdout",
     "output_type": "stream",
     "text": [
      "<class 'pandas.core.frame.DataFrame'>\n"
     ]
    }
   ],
   "source": [
    "print(type(songkorpus))"
   ]
  },
  {
   "cell_type": "markdown",
   "id": "4cc6ac71-11dc-4118-a0e4-97e6517bb1bb",
   "metadata": {
    "deletable": false,
    "editable": false
   },
   "source": [
    "DataFrames sind ein eigener Datentyp von pandas, auf dem wir eine Vielzahl nützlicher Operationen ausführen können, etwa um einen Überblick über die Daten zu bekommen."
   ]
  },
  {
   "cell_type": "markdown",
   "id": "6e1a8f43-ba1b-475f-ba01-f9167491f898",
   "metadata": {
    "deletable": false,
    "editable": false
   },
   "source": [
    "## Überblick bekommen\n",
    "\n",
    "Hier bietet sich insbesondere die Methode `head` an, die standardmäßig die ersten fünf Zeilen (also den \"Kopf\") des DataFrames ausgibt: "
   ]
  },
  {
   "cell_type": "code",
   "execution_count": 4,
   "id": "ddc99c07-ede3-4c0d-b990-8f5cc66ecb3e",
   "metadata": {},
   "outputs": [
    {
     "data": {
      "text/html": [
       "<div>\n",
       "<style scoped>\n",
       "    .dataframe tbody tr th:only-of-type {\n",
       "        vertical-align: middle;\n",
       "    }\n",
       "\n",
       "    .dataframe tbody tr th {\n",
       "        vertical-align: top;\n",
       "    }\n",
       "\n",
       "    .dataframe thead th {\n",
       "        text-align: right;\n",
       "    }\n",
       "</style>\n",
       "<table border=\"1\" class=\"dataframe\">\n",
       "  <thead>\n",
       "    <tr style=\"text-align: right;\">\n",
       "      <th></th>\n",
       "      <th>CO_TOKEN</th>\n",
       "      <th>CO_YEAR</th>\n",
       "      <th>CO_COUNT</th>\n",
       "    </tr>\n",
       "  </thead>\n",
       "  <tbody>\n",
       "    <tr>\n",
       "      <th>0</th>\n",
       "      <td>Klaround</td>\n",
       "      <td>2007</td>\n",
       "      <td>1</td>\n",
       "    </tr>\n",
       "    <tr>\n",
       "      <th>1</th>\n",
       "      <td>#3</td>\n",
       "      <td>2009</td>\n",
       "      <td>1</td>\n",
       "    </tr>\n",
       "    <tr>\n",
       "      <th>2</th>\n",
       "      <td>#Babo</td>\n",
       "      <td>2015</td>\n",
       "      <td>1</td>\n",
       "    </tr>\n",
       "    <tr>\n",
       "      <th>3</th>\n",
       "      <td>#JeSuisPasséChezSo</td>\n",
       "      <td>2018</td>\n",
       "      <td>1</td>\n",
       "    </tr>\n",
       "    <tr>\n",
       "      <th>4</th>\n",
       "      <td>#Nachbar</td>\n",
       "      <td>2016</td>\n",
       "      <td>1</td>\n",
       "    </tr>\n",
       "  </tbody>\n",
       "</table>\n",
       "</div>"
      ],
      "text/plain": [
       "             CO_TOKEN  CO_YEAR  CO_COUNT\n",
       "0            Klaround     2007         1\n",
       "1                  #3     2009         1\n",
       "2               #Babo     2015         1\n",
       "3  #JeSuisPasséChezSo     2018         1\n",
       "4            #Nachbar     2016         1"
      ]
     },
     "execution_count": 4,
     "metadata": {},
     "output_type": "execute_result"
    }
   ],
   "source": [
    "songkorpus.head() #head nimmt optional eine Ganzzahl als Argument, die definiert, wieviele der ersten Zeilen ausgegeben werden sollen"
   ]
  },
  {
   "cell_type": "markdown",
   "id": "fa0db8fe-8856-4374-b1b7-fa6e954e0f07",
   "metadata": {
    "deletable": false,
    "editable": false
   },
   "source": [
    "Eher komische Wörter in der Spalte \"CO_TOKEN\". Wie wir an Spalte \"CO_COUNT\" erkennen können, kamen sie aber auch nur jeweils einmal (im in \"CO_YEAR\" angegebenen Jahr) vor.\n",
    "\n",
    "Das Gegenstück zu `head` ist `tail` (also der \"Schwanz\"), wodurch wir die letzten fünf Zeilen des DataFrames erhalten:"
   ]
  },
  {
   "cell_type": "code",
   "execution_count": 5,
   "id": "9a34ae6b-082a-46f3-a319-f6ac3ae75c49",
   "metadata": {},
   "outputs": [
    {
     "data": {
      "text/html": [
       "<div>\n",
       "<style scoped>\n",
       "    .dataframe tbody tr th:only-of-type {\n",
       "        vertical-align: middle;\n",
       "    }\n",
       "\n",
       "    .dataframe tbody tr th {\n",
       "        vertical-align: top;\n",
       "    }\n",
       "\n",
       "    .dataframe thead th {\n",
       "        text-align: right;\n",
       "    }\n",
       "</style>\n",
       "<table border=\"1\" class=\"dataframe\">\n",
       "  <thead>\n",
       "    <tr style=\"text-align: right;\">\n",
       "      <th></th>\n",
       "      <th>CO_TOKEN</th>\n",
       "      <th>CO_YEAR</th>\n",
       "      <th>CO_COUNT</th>\n",
       "    </tr>\n",
       "  </thead>\n",
       "  <tbody>\n",
       "    <tr>\n",
       "      <th>386505</th>\n",
       "      <td>﻿Vierzehn</td>\n",
       "      <td>2020</td>\n",
       "      <td>1</td>\n",
       "    </tr>\n",
       "    <tr>\n",
       "      <th>386506</th>\n",
       "      <td>﻿Was</td>\n",
       "      <td>2020</td>\n",
       "      <td>1</td>\n",
       "    </tr>\n",
       "    <tr>\n",
       "      <th>386507</th>\n",
       "      <td>﻿Weißer</td>\n",
       "      <td>2020</td>\n",
       "      <td>1</td>\n",
       "    </tr>\n",
       "    <tr>\n",
       "      <th>386508</th>\n",
       "      <td>﻿Wie</td>\n",
       "      <td>2020</td>\n",
       "      <td>1</td>\n",
       "    </tr>\n",
       "    <tr>\n",
       "      <th>386509</th>\n",
       "      <td>﻿Wozu</td>\n",
       "      <td>2020</td>\n",
       "      <td>1</td>\n",
       "    </tr>\n",
       "  </tbody>\n",
       "</table>\n",
       "</div>"
      ],
      "text/plain": [
       "         CO_TOKEN  CO_YEAR  CO_COUNT\n",
       "386505  ﻿Vierzehn     2020         1\n",
       "386506       ﻿Was     2020         1\n",
       "386507    ﻿Weißer     2020         1\n",
       "386508       ﻿Wie     2020         1\n",
       "386509      ﻿Wozu     2020         1"
      ]
     },
     "execution_count": 5,
     "metadata": {},
     "output_type": "execute_result"
    }
   ],
   "source": [
    "songkorpus.tail() #auch tail nimmt optional eine Ganzzahl als Argument, die definiert, wieviele der letzten Zeilen ausgegeben werden sollen"
   ]
  },
  {
   "cell_type": "markdown",
   "id": "88785171-847b-49ba-b653-f411a47d4489",
   "metadata": {
    "deletable": false,
    "editable": false
   },
   "source": [
    "Die Ausgabe sieht übrigens anders aus, wenn wir einen `print`-Befehl verwenden, anstatt dass JupyterLab schlicht die letzte Zeile ausgibt (probier's aus!). Mit `print`-Befehl verschwindet die angenehme Formatierung.\n",
    "\n",
    "Mithilfe von `shape`, `columns` und `index` können wir außerdem in Erfahrung bringen, welches Format (`shape`), d.h. wieviele Spalten und Zeilen, das DataFrame hat, sowie, wie Spalten (`columns`) und Zeilen (`index`) benannt sind.\n",
    "\n",
    "⚠️ Achtung: Es handelt sich dabei um sog. Attribute des DataFrames, die wir uns vereinfacht gesagt als Eigenschaften des DataFrames vorstellen können. Um auf ein Attribut eines Objekts zuzugreifen, hängt man den Namen des Attributs wie bei Methoden nach einem Punkt an das betreffende Objekt, schließt aber nicht mit Klammern ab:"
   ]
  },
  {
   "cell_type": "code",
   "execution_count": 6,
   "id": "17bae015-15ed-4991-aa7f-d0336b7ca309",
   "metadata": {},
   "outputs": [
    {
     "name": "stdout",
     "output_type": "stream",
     "text": [
      "(386510, 3)\n",
      "Index(['CO_TOKEN', 'CO_YEAR', 'CO_COUNT'], dtype='object')\n",
      "RangeIndex(start=0, stop=386510, step=1)\n"
     ]
    }
   ],
   "source": [
    "print(songkorpus.shape, songkorpus.columns, songkorpus.index, sep=\"\\n\")\n",
    "original_len = len(songkorpus)"
   ]
  },
  {
   "cell_type": "markdown",
   "id": "f77a64b1-6a33-4ec7-ae82-53b651b016aa",
   "metadata": {
    "deletable": false,
    "editable": false
   },
   "source": [
    "Unser DataFrame besteht also aus 386.510 Zeilen und drei Spalten. Die Anzahl an Zeilen, also die Länge des DataFrames, speichern wir in einer separaten Variablen ab, wir werden sie später noch brauchen.\n",
    "\n",
    "Die Spaltennamen sind \"CO_TOKEN\", \"CO_YEAR\" und \"CO_COUNT\" und die Zeilen sind mit Indizes von 0 (inklusive) bis 386510 (exklusive) durchnummeriert. \n",
    "\n",
    "Die etwas kryptischen Spaltennamen können wir ändern, indem wir das Attribut `columns` unseres DataFrames ganz einfach mit einer Liste an neuen Spaltennamen überschreiben:"
   ]
  },
  {
   "cell_type": "code",
   "execution_count": 7,
   "id": "5a70052e-6a8f-4904-97ea-920003824ec0",
   "metadata": {},
   "outputs": [
    {
     "name": "stdout",
     "output_type": "stream",
     "text": [
      "Index(['Wort', 'Jahr', 'Häufigkeit'], dtype='object')\n"
     ]
    }
   ],
   "source": [
    "songkorpus.columns = [\"Wort\", \"Jahr\", \"Häufigkeit\"]\n",
    "print(songkorpus.columns)"
   ]
  },
  {
   "cell_type": "markdown",
   "id": "5750a6ff-0a95-4f79-849c-88e2c12c575f",
   "metadata": {
    "deletable": false,
    "editable": false
   },
   "source": [
    "Die Länge der Liste muss natürlich der Anzahl an Spalten entsprechen. \n",
    "\n",
    "Um eine spezifische Spalte zu überschreiben, können wir die `rename`-Methode verwenden, derer wir ein dictionary mit Schlüssel-Werte-Paaren ({\"jetziger Name\": \"neuer Name\"}) übergeben. Im Allgemeinen haben wir beim Bearbeiten eines DataFrames zwei Möglichkeiten, um die Bearbeitung wirksam zu machen: \n",
    "\n",
    "1) Wir können immer das alte DataFrame mit der bearbeiteten Version überschreiben. So haben wir das auch in der Zelle obendran gehandhabt. \n",
    "2) Bei der Bearbeitung mithilfe einer Methode, hier `rename`, können wir auch den Parameter `inplace=True` spezifizieren, um die Bearbeitung \"an Ort und Stelle\" vorzunehmen. \n",
    "\n",
    "In der nächsten Zelle sehen wir beide Alternativen. Im Folgenden beschränken wir uns aber auf die erste Möglichkeit, da diese auch abseits von Methoden funktioniert."
   ]
  },
  {
   "cell_type": "code",
   "execution_count": 8,
   "id": "eb24bb83-3868-4010-a155-c2b2fb3bd73e",
   "metadata": {},
   "outputs": [
    {
     "data": {
      "text/html": [
       "<div>\n",
       "<style scoped>\n",
       "    .dataframe tbody tr th:only-of-type {\n",
       "        vertical-align: middle;\n",
       "    }\n",
       "\n",
       "    .dataframe tbody tr th {\n",
       "        vertical-align: top;\n",
       "    }\n",
       "\n",
       "    .dataframe thead th {\n",
       "        text-align: right;\n",
       "    }\n",
       "</style>\n",
       "<table border=\"1\" class=\"dataframe\">\n",
       "  <thead>\n",
       "    <tr style=\"text-align: right;\">\n",
       "      <th></th>\n",
       "      <th>Token</th>\n",
       "      <th>Jahr</th>\n",
       "      <th>Häufigkeit</th>\n",
       "    </tr>\n",
       "  </thead>\n",
       "  <tbody>\n",
       "    <tr>\n",
       "      <th>0</th>\n",
       "      <td>Klaround</td>\n",
       "      <td>2007</td>\n",
       "      <td>1</td>\n",
       "    </tr>\n",
       "    <tr>\n",
       "      <th>1</th>\n",
       "      <td>#3</td>\n",
       "      <td>2009</td>\n",
       "      <td>1</td>\n",
       "    </tr>\n",
       "    <tr>\n",
       "      <th>2</th>\n",
       "      <td>#Babo</td>\n",
       "      <td>2015</td>\n",
       "      <td>1</td>\n",
       "    </tr>\n",
       "    <tr>\n",
       "      <th>3</th>\n",
       "      <td>#JeSuisPasséChezSo</td>\n",
       "      <td>2018</td>\n",
       "      <td>1</td>\n",
       "    </tr>\n",
       "    <tr>\n",
       "      <th>4</th>\n",
       "      <td>#Nachbar</td>\n",
       "      <td>2016</td>\n",
       "      <td>1</td>\n",
       "    </tr>\n",
       "  </tbody>\n",
       "</table>\n",
       "</div>"
      ],
      "text/plain": [
       "                Token  Jahr  Häufigkeit\n",
       "0            Klaround  2007           1\n",
       "1                  #3  2009           1\n",
       "2               #Babo  2015           1\n",
       "3  #JeSuisPasséChezSo  2018           1\n",
       "4            #Nachbar  2016           1"
      ]
     },
     "execution_count": 8,
     "metadata": {},
     "output_type": "execute_result"
    }
   ],
   "source": [
    "songkorpus = songkorpus.rename(columns={\"Wort\": \"Token\"}) #1. Möglichkeit: Überschreiben\n",
    "songkorpus.rename(columns={\"Wort\": \"Token\"}, inplace=True) #2. Möglichkeit: Bearbeiten \"inplace\"/\"an Ort und Stelle\"\n",
    "songkorpus.head()"
   ]
  },
  {
   "cell_type": "markdown",
   "id": "d38433ae-706f-4207-a861-e3cb1f49680d",
   "metadata": {
    "deletable": false,
    "editable": false
   },
   "source": [
    "Schon kennen wir erste nützliche Operationen für einen ersten Eindruck unserer Daten.\n",
    "\n",
    "***\n",
    "\n",
    "## 🔧 Anwendungsfall: Wortverlaufskurven visualisieren 📈\n",
    "\n",
    "Auch in diesem Notebook gibt es einen Anwendungsfall: Wir wollen visualisieren, wie häufig beliebige Wörter in jedem Jahr im vom Songkorpus abgedeckten Zeitraum 1969-2022 vorkommen. Für die Begriffe \"ich\", \"du\", \"er\" und \"sie\" sähe das z.B. so aus:\n",
    "\n",
    "<img src=\"../3_Dateien/Grafiken_und_Videos/Wortverlaufskurve_Jahr.png\" width=\"700\">\n",
    "\n",
    "Es scheint, als sängen die Künstler:innen im Songkorpus bevorzugt über sich selbst (bzw. über ihr lyrisches Ich). 😅"
   ]
  },
  {
   "cell_type": "markdown",
   "id": "012bca9e-25f1-4fe4-ad84-3b20b71f136c",
   "metadata": {
    "deletable": false,
    "editable": false
   },
   "source": [
    "***\n",
    "\n",
    "Zuallererst wollen wir einen detailierten Blick auf Spalten und Zeilen werfen, aus denen ein DataFrame ja besteht.\n",
    "\n",
    "## Auf Spalten zugreifen"
   ]
  },
  {
   "cell_type": "markdown",
   "id": "bf30c95b-d6f6-4352-9724-57a9015371b8",
   "metadata": {
    "deletable": false,
    "editable": false
   },
   "source": [
    "Wenn wir an einer bestimmten Spalte eines DataFrames interessiert sind, können wir auf diese mit der gleichen Syntax wie bei dictionaries zugreifen:"
   ]
  },
  {
   "cell_type": "code",
   "execution_count": 9,
   "id": "220c3906-9941-4ce5-8e43-3b7de4b58b08",
   "metadata": {},
   "outputs": [
    {
     "data": {
      "text/plain": [
       "0                   Klaround\n",
       "1                         #3\n",
       "2                      #Babo\n",
       "3         #JeSuisPasséChezSo\n",
       "4                   #Nachbar\n",
       "                 ...        \n",
       "386505             ﻿Vierzehn\n",
       "386506                  ﻿Was\n",
       "386507               ﻿Weißer\n",
       "386508                  ﻿Wie\n",
       "386509                 ﻿Wozu\n",
       "Name: Token, Length: 386510, dtype: object"
      ]
     },
     "execution_count": 9,
     "metadata": {},
     "output_type": "execute_result"
    }
   ],
   "source": [
    "songkorpus[\"Token\"]"
   ]
  },
  {
   "cell_type": "markdown",
   "id": "41f55e2b-8722-4c15-91b3-02abc71da9a0",
   "metadata": {
    "deletable": false,
    "editable": false
   },
   "source": [
    "An dieser Stelle ist es natürlich wichtig, dass die Spalte aktuell wirklich \"Token\" und nicht mehr \"CO_TOKEN\" oder \"Wort\" heißt. Dies würde, wie bei inexistenten Schlüsseln in einem dictionary auch, zu einem `KeyError` führen.\n",
    "\n",
    "Weiter funktioniert für den Spaltenzugriff auch die sog. dot-Notation nach dem Schema `DataFrame.column`:"
   ]
  },
  {
   "cell_type": "code",
   "execution_count": 10,
   "id": "bdd34cea-ad82-4c02-9ac5-21c78a7340fb",
   "metadata": {},
   "outputs": [
    {
     "data": {
      "text/plain": [
       "0                   Klaround\n",
       "1                         #3\n",
       "2                      #Babo\n",
       "3         #JeSuisPasséChezSo\n",
       "4                   #Nachbar\n",
       "                 ...        \n",
       "386505             ﻿Vierzehn\n",
       "386506                  ﻿Was\n",
       "386507               ﻿Weißer\n",
       "386508                  ﻿Wie\n",
       "386509                 ﻿Wozu\n",
       "Name: Token, Length: 386510, dtype: object"
      ]
     },
     "execution_count": 10,
     "metadata": {},
     "output_type": "execute_result"
    }
   ],
   "source": [
    "songkorpus.Token #beachte, dass hierfür der Spaltenname nicht als string, also ohne Anführungszeichen angehängt wird!"
   ]
  },
  {
   "cell_type": "markdown",
   "id": "43d5169b-3ec0-4e4e-8d7b-94634ad0247e",
   "metadata": {
    "deletable": false,
    "editable": false
   },
   "source": [
    "Die dot-Notation erfüllt (fast immer) die gleiche Funktion wie die Zugriffsweise über eckige Klammern, auf die wir uns fortan beschränken. \n",
    "\n",
    "In jedem Fall entspricht das, was wir dabei zurückerhalten, dem zweiten wichtigen Datentyp von pandas neben *DataFrame*, nämlich einer sog. *Series*:"
   ]
  },
  {
   "cell_type": "code",
   "execution_count": 11,
   "id": "398e0325-7aa6-4037-b3b6-4a174c66f4ca",
   "metadata": {},
   "outputs": [
    {
     "name": "stdout",
     "output_type": "stream",
     "text": [
      "<class 'pandas.core.series.Series'>\n"
     ]
    }
   ],
   "source": [
    "tokens = songkorpus[\"Token\"]\n",
    "print(type(tokens))"
   ]
  },
  {
   "cell_type": "markdown",
   "id": "5ae55036-bab7-4d12-acc4-c71a4bbd4af3",
   "metadata": {
    "deletable": false,
    "editable": false
   },
   "source": [
    "Series kann man mit Listen vergleichen. Sie sind im Gegensatz zu Dataframes nicht zweidimensional (Spalten und Zeilen), sondern eindimensional. Viele Listen-Operationen wie z.B. Indexing und Slicing funktionieren bei Series gleichermaßen:"
   ]
  },
  {
   "cell_type": "code",
   "execution_count": 12,
   "id": "590b8fab-77c5-4a70-b16e-6e68c8ec2c88",
   "metadata": {},
   "outputs": [
    {
     "name": "stdout",
     "output_type": "stream",
     "text": [
      "Atzenmusik \n",
      "\n",
      "9999      Atzenlogo\n",
      "10000    Atzenmusik\n",
      "10001    Atzenparty\n",
      "Name: Token, dtype: object\n"
     ]
    }
   ],
   "source": [
    "print(tokens[10000], \"\\n\") #Indexing\n",
    "print(tokens[9999:10002]) #Slicing"
   ]
  },
  {
   "cell_type": "markdown",
   "id": "f7914210-b059-4a90-b63d-e54ab273b8bd",
   "metadata": {
    "deletable": false,
    "editable": false
   },
   "source": [
    "***\n",
    "\n",
    "✏️ **Übung 1:** Erstelle eine weitere Series, die nur das 100.000te, 200.000te und 300.000te Token der Series `tokens` beinhält. "
   ]
  },
  {
   "cell_type": "code",
   "execution_count": 13,
   "id": "35d0bdfc-209a-4bb8-ac2d-ca90416c2862",
   "metadata": {},
   "outputs": [],
   "source": [
    "#In diese Zelle kannst Du den Code zur Übung schreiben\n",
    "\n",
    "\n"
   ]
  },
  {
   "cell_type": "markdown",
   "id": "d0d7edeb-a4e1-4a04-8d45-65a176251db0",
   "metadata": {
    "deletable": false,
    "editable": false
   },
   "source": [
    "***\n",
    "\n",
    "Anstatt *eines* Spaltennamens können wir auch eine Liste an Spaltennamen übergeben, um auf mehrere Spalten gleichzeitig zuzugreifen:"
   ]
  },
  {
   "cell_type": "code",
   "execution_count": 14,
   "id": "a3f7faaf-5382-42d9-a1c0-f0b900b7db18",
   "metadata": {},
   "outputs": [
    {
     "data": {
      "text/html": [
       "<div>\n",
       "<style scoped>\n",
       "    .dataframe tbody tr th:only-of-type {\n",
       "        vertical-align: middle;\n",
       "    }\n",
       "\n",
       "    .dataframe tbody tr th {\n",
       "        vertical-align: top;\n",
       "    }\n",
       "\n",
       "    .dataframe thead th {\n",
       "        text-align: right;\n",
       "    }\n",
       "</style>\n",
       "<table border=\"1\" class=\"dataframe\">\n",
       "  <thead>\n",
       "    <tr style=\"text-align: right;\">\n",
       "      <th></th>\n",
       "      <th>Token</th>\n",
       "      <th>Jahr</th>\n",
       "    </tr>\n",
       "  </thead>\n",
       "  <tbody>\n",
       "    <tr>\n",
       "      <th>0</th>\n",
       "      <td>Klaround</td>\n",
       "      <td>2007</td>\n",
       "    </tr>\n",
       "    <tr>\n",
       "      <th>1</th>\n",
       "      <td>#3</td>\n",
       "      <td>2009</td>\n",
       "    </tr>\n",
       "    <tr>\n",
       "      <th>2</th>\n",
       "      <td>#Babo</td>\n",
       "      <td>2015</td>\n",
       "    </tr>\n",
       "    <tr>\n",
       "      <th>3</th>\n",
       "      <td>#JeSuisPasséChezSo</td>\n",
       "      <td>2018</td>\n",
       "    </tr>\n",
       "    <tr>\n",
       "      <th>4</th>\n",
       "      <td>#Nachbar</td>\n",
       "      <td>2016</td>\n",
       "    </tr>\n",
       "  </tbody>\n",
       "</table>\n",
       "</div>"
      ],
      "text/plain": [
       "                Token  Jahr\n",
       "0            Klaround  2007\n",
       "1                  #3  2009\n",
       "2               #Babo  2015\n",
       "3  #JeSuisPasséChezSo  2018\n",
       "4            #Nachbar  2016"
      ]
     },
     "execution_count": 14,
     "metadata": {},
     "output_type": "execute_result"
    }
   ],
   "source": [
    "two_columns = songkorpus[[\"Token\", \"Jahr\"]].head() #beachte die inneren eckigen Klammern für die Liste!\n",
    "two_columns"
   ]
  },
  {
   "cell_type": "markdown",
   "id": "b0efb9c9-d7f2-4930-9ebf-ac32b7f00bf9",
   "metadata": {
    "deletable": false,
    "editable": false
   },
   "source": [
    "Überlege Dir kurz, was für ein Datentyp `two_columns` hat. \n",
    "\n",
    "Genau: Nun haben wir nicht mehr nur eine Spalte, in der Zeilenwert um Zeilenwert in einer Dimension gespeichert ist, sondern zwei Spalten. `two_columns` ist also immer noch ein zweidimensionales Objekt, sprich ein DataFrame:"
   ]
  },
  {
   "cell_type": "code",
   "execution_count": 15,
   "id": "5d8f478e-4d27-4646-ad0d-dd0166ee0980",
   "metadata": {},
   "outputs": [
    {
     "name": "stdout",
     "output_type": "stream",
     "text": [
      "<class 'pandas.core.frame.DataFrame'>\n"
     ]
    }
   ],
   "source": [
    "print(type(two_columns))"
   ]
  },
  {
   "cell_type": "markdown",
   "id": "948c96de-e05a-4450-83e0-aa7f7df05d78",
   "metadata": {
    "deletable": false,
    "editable": false
   },
   "source": [
    "Nun wissen wir, wie wir auf Spalten zugreifen können. \n",
    "\n",
    "## Auf Zeilen zugreifen\n",
    "\n",
    "Um auf Zeilen zuzugreifen, hängen wir `.loc[index]` an das DataFrame an und übergeben den Index der gewünschten Zeile anstelle von `index`:"
   ]
  },
  {
   "cell_type": "code",
   "execution_count": 16,
   "id": "711ff79e-2f89-4101-a5d8-e44d211f77dc",
   "metadata": {},
   "outputs": [
    {
     "data": {
      "text/plain": [
       "Token         16-Jährige\n",
       "Jahr                2008\n",
       "Häufigkeit             1\n",
       "Name: 777, dtype: object"
      ]
     },
     "execution_count": 16,
     "metadata": {},
     "output_type": "execute_result"
    }
   ],
   "source": [
    "songkorpus.loc[777]"
   ]
  },
  {
   "cell_type": "markdown",
   "id": "48b20e21-1b6d-4fc7-8a4a-e5715816a76c",
   "metadata": {
    "deletable": false,
    "editable": false
   },
   "source": [
    "Verwende stets diese Syntax, um auf Zeilen zuzugreifen. \n",
    "\n",
    "Anfänger:innen versuchen oft, die Syntax `DataFrame[index]` zu verwenden. Das führt aber zu einem `KeyError`, denn diese Syntax ist dem Spaltenzugriff vorbehalten (sollte der übergebene `index` zufälligerweise auch ein Spaltenname sein, erhalten wir keinen `KeyError`, aber die Ausgabe entspricht dann auch der jeweiligen Spalte, und nicht der gewünschten Zeile).\n",
    "\n",
    "Da wir bloß auf eine einzige Zeile zugreifen, in der Spaltenwert um Spaltenwert in einer Dimension gespeichert ist, liegt wieder der Datentyp Series vor:"
   ]
  },
  {
   "cell_type": "code",
   "execution_count": 17,
   "id": "4e5e8ed9-b5d5-47e6-840b-085c0c5e707f",
   "metadata": {},
   "outputs": [
    {
     "name": "stdout",
     "output_type": "stream",
     "text": [
      "<class 'pandas.core.series.Series'>\n"
     ]
    }
   ],
   "source": [
    "print(type(songkorpus.loc[777]))"
   ]
  },
  {
   "cell_type": "markdown",
   "id": "3747552f-fc21-47a3-aa59-9a06a6579033",
   "metadata": {
    "deletable": false,
    "editable": false
   },
   "source": [
    "Zur Verdeutlichung: Sowohl eine Sequenz von Werten einer Spalte als auch eine Sequenz von Werten einer Zeile entsprechen bei pandas einer Series. Entscheidend ist bloß, dass nur eine einzige Dimension vorliegt. Sobald ein Objekt sowohl mehrere Spalten als auch mehrere Zeilen umfasst, handelt es sich um ein DataFrame.\n",
    "\n",
    "Ein solches Objekt können wir auch über `loc` erhalten, indem wir auf mehrere Zeilen gleichzeitig zugreifen. Dies funktioniert wie bei dem Zugriff auf mehrere Spalten (s.o), indem wir mehrere Indizes als Liste übergeben."
   ]
  },
  {
   "cell_type": "code",
   "execution_count": 18,
   "id": "5501ad3b-2a0a-4365-9322-0823c84886b7",
   "metadata": {},
   "outputs": [
    {
     "name": "stdout",
     "output_type": "stream",
     "text": [
      "<class 'pandas.core.frame.DataFrame'>\n"
     ]
    },
    {
     "data": {
      "text/html": [
       "<div>\n",
       "<style scoped>\n",
       "    .dataframe tbody tr th:only-of-type {\n",
       "        vertical-align: middle;\n",
       "    }\n",
       "\n",
       "    .dataframe tbody tr th {\n",
       "        vertical-align: top;\n",
       "    }\n",
       "\n",
       "    .dataframe thead th {\n",
       "        text-align: right;\n",
       "    }\n",
       "</style>\n",
       "<table border=\"1\" class=\"dataframe\">\n",
       "  <thead>\n",
       "    <tr style=\"text-align: right;\">\n",
       "      <th></th>\n",
       "      <th>Token</th>\n",
       "      <th>Jahr</th>\n",
       "      <th>Häufigkeit</th>\n",
       "    </tr>\n",
       "  </thead>\n",
       "  <tbody>\n",
       "    <tr>\n",
       "      <th>777</th>\n",
       "      <td>16-Jährige</td>\n",
       "      <td>2008</td>\n",
       "      <td>1</td>\n",
       "    </tr>\n",
       "    <tr>\n",
       "      <th>888</th>\n",
       "      <td>1980</td>\n",
       "      <td>1980</td>\n",
       "      <td>3</td>\n",
       "    </tr>\n",
       "  </tbody>\n",
       "</table>\n",
       "</div>"
      ],
      "text/plain": [
       "          Token  Jahr  Häufigkeit\n",
       "777  16-Jährige  2008           1\n",
       "888        1980  1980           3"
      ]
     },
     "execution_count": 18,
     "metadata": {},
     "output_type": "execute_result"
    }
   ],
   "source": [
    "print(type(songkorpus.loc[[777,888]])) #beachte die inneren eckigen Klammern für die Liste!\n",
    "songkorpus.loc[[777,888]]"
   ]
  },
  {
   "cell_type": "markdown",
   "id": "abaf1ce2-bd71-4d66-8356-901e513f348f",
   "metadata": {
    "deletable": false,
    "editable": false
   },
   "source": [
    "Zudem können wir auf mehrere aufeinanderfolgende Zeilen zugreifen, indem wir dieselbe Syntax wie bei Slicing verwenden:"
   ]
  },
  {
   "cell_type": "code",
   "execution_count": 19,
   "id": "495d18d8-52d3-424b-a948-dee7d11e720f",
   "metadata": {},
   "outputs": [
    {
     "data": {
      "text/html": [
       "<div>\n",
       "<style scoped>\n",
       "    .dataframe tbody tr th:only-of-type {\n",
       "        vertical-align: middle;\n",
       "    }\n",
       "\n",
       "    .dataframe tbody tr th {\n",
       "        vertical-align: top;\n",
       "    }\n",
       "\n",
       "    .dataframe thead th {\n",
       "        text-align: right;\n",
       "    }\n",
       "</style>\n",
       "<table border=\"1\" class=\"dataframe\">\n",
       "  <thead>\n",
       "    <tr style=\"text-align: right;\">\n",
       "      <th></th>\n",
       "      <th>Token</th>\n",
       "      <th>Jahr</th>\n",
       "      <th>Häufigkeit</th>\n",
       "    </tr>\n",
       "  </thead>\n",
       "  <tbody>\n",
       "    <tr>\n",
       "      <th>777</th>\n",
       "      <td>16-Jährige</td>\n",
       "      <td>2008</td>\n",
       "      <td>1</td>\n",
       "    </tr>\n",
       "    <tr>\n",
       "      <th>778</th>\n",
       "      <td>16-Zoll</td>\n",
       "      <td>2017</td>\n",
       "      <td>1</td>\n",
       "    </tr>\n",
       "    <tr>\n",
       "      <th>779</th>\n",
       "      <td>16.</td>\n",
       "      <td>2004</td>\n",
       "      <td>11</td>\n",
       "    </tr>\n",
       "    <tr>\n",
       "      <th>780</th>\n",
       "      <td>16/1</td>\n",
       "      <td>2000</td>\n",
       "      <td>1</td>\n",
       "    </tr>\n",
       "  </tbody>\n",
       "</table>\n",
       "</div>"
      ],
      "text/plain": [
       "          Token  Jahr  Häufigkeit\n",
       "777  16-Jährige  2008           1\n",
       "778     16-Zoll  2017           1\n",
       "779         16.  2004          11\n",
       "780        16/1  2000           1"
      ]
     },
     "execution_count": 19,
     "metadata": {},
     "output_type": "execute_result"
    }
   ],
   "source": [
    "songkorpus.loc[777:780] #keine inneren eckigen Klammern!"
   ]
  },
  {
   "cell_type": "markdown",
   "id": "c81758d0-b78e-4631-a23e-958a12934b3a",
   "metadata": {
    "deletable": false,
    "editable": false
   },
   "source": [
    "Im Gegensatz zu gewöhnlichem Slicing bei Listen wird der letzte Index bei Pandas miteingerechnet (\"inklusiv\", vgl. zweites Notebook).\n",
    "\n",
    "Abschließend sei erwähnt, dass Zeilen nicht zwingend mit *numerischen* Indizes durchnummeriert sein müssen. Zeilen können wie Spalten ebenfalls Namen haben. Dieses Szenario wollen wir in der nächsten Übung mit denselben Daten durchspielen.\n",
    "\n",
    "***\n",
    "\n",
    "✏️ **Übung 2:** \n",
    "\n",
    "1. Lies die Datei `songkorpus_tokens.tsv` abermals ein und übergib beim Erstellen des DataFrames zusätzlich den Parameter `index_col=0`. Dadurch wird die erste Spalte (mit dem Index 0), also diejenige mit den Tokens, zur sog. *Index-Spalte*. Jede Zeile hat nun statt eines numerischen Index einen Namen, nämlich das jeweilige Token. Weise das DataFrame der Variablen `songkorpus_labelled_rows` zu. \n",
    "2. Benenne die Spalten wie bei `songkorpus` um. Falls Du hier eine Fehlermeldung kriegst, lies sie aufmerksam und passe Deinen Code entsprechend an.\n",
    "3. Überlege Dir, was die Tatsache, dass wir nun Tokens als Zeilennamen verwenden, zur Konsequenz hat. Experimentiere dazu gerne mit dem DataFrame herum und greife auf verschiedene Zeilen über Namen zu. "
   ]
  },
  {
   "cell_type": "code",
   "execution_count": 20,
   "id": "59357c3f-8363-4c52-84f7-cb9a2aaf525a",
   "metadata": {},
   "outputs": [],
   "source": [
    "#In diese Zelle kannst Du den Code zur Übung schreiben\n",
    "\n",
    "\n"
   ]
  },
  {
   "cell_type": "markdown",
   "id": "7c48667d-813e-4558-a989-6703ce3fe35a",
   "metadata": {
    "deletable": false,
    "editable": false
   },
   "source": [
    "***\n",
    "\n",
    "Im Gegensatz zu Spaltennamen (und Schlüsseln bei dictionaries) dürfen Zeilennamen mehrfach vorkommen. Der Zugriff auf eine oder mehrere Zeilen funktioniert ungeachtet dessen gleich wie bei DataFrames, die mit numerischen Indizes durchnummeriert sind, also mittels `.loc[index]`.\n",
    "\n",
    "***\n",
    "\n",
    "✏️ **Übung 3:** Setze die Tatsache, dass Zeilennamen mehrfach vorkommen dürfen, produktiv ein und finde heraus, wie oft \"Dresden\" in `songkorpus_labelled_rows` vorkommt, indem Du die Häufigkeiten in allen Jahren, in denen das Wort gesungen wird, zusammenzählst.\n",
    "\n",
    "💡 Tipp: Der erste Schritt besteht darin, aus dem gesamten DataFrame `songkorpus_labelled_rows` ein kleineres, sog. *Sub-DataFrame* zu erstellen, das mit einer neuen Variablen referenziert wird. Der zweite Schritt besteht darin, eine Series aus diesem Sub-DataFrame \"herauszuschneiden\", die Du anschließend wie eine Liste behandeln kannst, um schließlich zur Anzahl der Nennungen von \"Dresden\" zu gelangen."
   ]
  },
  {
   "cell_type": "code",
   "execution_count": 21,
   "id": "6c6a7819-4392-4fae-84fa-063b21e585f6",
   "metadata": {},
   "outputs": [],
   "source": [
    "#In diese Zelle kannst Du den Code zur Übung schreiben\n",
    "\n",
    "\n"
   ]
  },
  {
   "cell_type": "markdown",
   "id": "7c5eaf89-0992-44d8-a073-e3a5a82a763f",
   "metadata": {
    "deletable": false,
    "editable": false
   },
   "source": [
    "***\n",
    "\n",
    "## Auf Spalten *und* Zeilen zugreifen"
   ]
  },
  {
   "cell_type": "markdown",
   "id": "8857bb4a-57e5-4bec-b0e8-810769dd8b82",
   "metadata": {
    "deletable": false,
    "editable": false
   },
   "source": [
    "`loc` können wir ebenfalls verwenden, um gleichzeitig anzugeben, auf welche Spalte(n) und Zeile(n) wir bei einem DataFrame zugreifen möchten. Auf den Zeilenindex folgt nach einem Komma der gewünschte Spaltenname:"
   ]
  },
  {
   "cell_type": "code",
   "execution_count": 22,
   "id": "c1cb0ad9-fca1-4291-ad1c-0754e8c94eea",
   "metadata": {},
   "outputs": [
    {
     "name": "stdout",
     "output_type": "stream",
     "text": [
      "1995\n"
     ]
    },
    {
     "data": {
      "text/plain": [
       "'Randbemerkung: Auf die Spitze getrieben, können wir mit .loc auch nur auf Spalten zugreifen, nämlich, indem wir, \\nwie bei Listen-Slicing auch möglich, durch Weglassen eines Start- und Endindex sämtliche Zeilen ansprechen, sprich so: \\nsongkorpus.loc[:, \"Jahr\"]'"
      ]
     },
     "execution_count": 22,
     "metadata": {},
     "output_type": "execute_result"
    }
   ],
   "source": [
    "print(songkorpus.loc[10, \"Jahr\"])\n",
    "\n",
    "\"\"\"Randbemerkung: Auf die Spitze getrieben, können wir mit .loc auch nur auf Spalten zugreifen, nämlich, indem wir, \n",
    "wie bei Listen-Slicing auch möglich, durch Weglassen eines Start- und Endindex sämtliche Zeilen ansprechen, sprich so: \n",
    "songkorpus.loc[:, \"Jahr\"]\"\"\""
   ]
  },
  {
   "cell_type": "markdown",
   "id": "834c5d80-c3d2-4feb-bfdd-f029fe5d7c4b",
   "metadata": {
    "deletable": false,
    "editable": false
   },
   "source": [
    "Neben der Herangehensweise über `loc` besteht auch die Möglichkeit erst wie oben gelernt auf eine spezifische Spalte bzw. eine spezifische Zeile zuzugreifen, was in einer Series resultiert, und in dieser Series anschließend auf eine bestimmte Zeile bzw. eine bestimmte Spalte zuzugreifen (z.B. `songkorpus[\"Token\"][22]`). Obige Syntax mit `loc` ist diesen sog. \"chained assignments\" (etwa: Kettenaufgabe) jedoch vorzuziehen.\n",
    "\n",
    "Wie immer können wir auch Listen übergeben, um auf mehrere Spalten und/oder mehrere Zeilen gleichzeitig zuzugreifen. Beim Zeilenzugriff funktioniert sowohl eine Liste einzelner Indizes..."
   ]
  },
  {
   "cell_type": "code",
   "execution_count": 23,
   "id": "88f2f2ce-eb25-447a-8b76-a3cbb8d6a863",
   "metadata": {},
   "outputs": [
    {
     "data": {
      "text/html": [
       "<div>\n",
       "<style scoped>\n",
       "    .dataframe tbody tr th:only-of-type {\n",
       "        vertical-align: middle;\n",
       "    }\n",
       "\n",
       "    .dataframe tbody tr th {\n",
       "        vertical-align: top;\n",
       "    }\n",
       "\n",
       "    .dataframe thead th {\n",
       "        text-align: right;\n",
       "    }\n",
       "</style>\n",
       "<table border=\"1\" class=\"dataframe\">\n",
       "  <thead>\n",
       "    <tr style=\"text-align: right;\">\n",
       "      <th></th>\n",
       "      <th>Token</th>\n",
       "      <th>Häufigkeit</th>\n",
       "    </tr>\n",
       "  </thead>\n",
       "  <tbody>\n",
       "    <tr>\n",
       "      <th>9999</th>\n",
       "      <td>Atzenlogo</td>\n",
       "      <td>2</td>\n",
       "    </tr>\n",
       "    <tr>\n",
       "      <th>10000</th>\n",
       "      <td>Atzenmusik</td>\n",
       "      <td>1</td>\n",
       "    </tr>\n",
       "  </tbody>\n",
       "</table>\n",
       "</div>"
      ],
      "text/plain": [
       "            Token  Häufigkeit\n",
       "9999    Atzenlogo           2\n",
       "10000  Atzenmusik           1"
      ]
     },
     "execution_count": 23,
     "metadata": {},
     "output_type": "execute_result"
    }
   ],
   "source": [
    "songkorpus.loc[[9999,10000], [\"Token\", \"Häufigkeit\"]]"
   ]
  },
  {
   "cell_type": "markdown",
   "id": "a945a57e-92aa-4184-b646-93703b423e53",
   "metadata": {
    "deletable": false,
    "editable": false
   },
   "source": [
    "...als auch die slicingähnliche Syntax für eine Sequenz an Zeilen:"
   ]
  },
  {
   "cell_type": "code",
   "execution_count": 24,
   "id": "76c79387-86b1-445a-a2e3-0eda0c176ff7",
   "metadata": {},
   "outputs": [
    {
     "data": {
      "text/html": [
       "<div>\n",
       "<style scoped>\n",
       "    .dataframe tbody tr th:only-of-type {\n",
       "        vertical-align: middle;\n",
       "    }\n",
       "\n",
       "    .dataframe tbody tr th {\n",
       "        vertical-align: top;\n",
       "    }\n",
       "\n",
       "    .dataframe thead th {\n",
       "        text-align: right;\n",
       "    }\n",
       "</style>\n",
       "<table border=\"1\" class=\"dataframe\">\n",
       "  <thead>\n",
       "    <tr style=\"text-align: right;\">\n",
       "      <th></th>\n",
       "      <th>Token</th>\n",
       "      <th>Häufigkeit</th>\n",
       "    </tr>\n",
       "  </thead>\n",
       "  <tbody>\n",
       "    <tr>\n",
       "      <th>9999</th>\n",
       "      <td>Atzenlogo</td>\n",
       "      <td>2</td>\n",
       "    </tr>\n",
       "    <tr>\n",
       "      <th>10000</th>\n",
       "      <td>Atzenmusik</td>\n",
       "      <td>1</td>\n",
       "    </tr>\n",
       "    <tr>\n",
       "      <th>10001</th>\n",
       "      <td>Atzenparty</td>\n",
       "      <td>4</td>\n",
       "    </tr>\n",
       "    <tr>\n",
       "      <th>10002</th>\n",
       "      <td>Atzenstyle</td>\n",
       "      <td>2</td>\n",
       "    </tr>\n",
       "    <tr>\n",
       "      <th>10003</th>\n",
       "      <td>Atzentanz</td>\n",
       "      <td>1</td>\n",
       "    </tr>\n",
       "    <tr>\n",
       "      <th>10004</th>\n",
       "      <td>Atzin</td>\n",
       "      <td>12</td>\n",
       "    </tr>\n",
       "    <tr>\n",
       "      <th>10005</th>\n",
       "      <td>Au</td>\n",
       "      <td>2</td>\n",
       "    </tr>\n",
       "  </tbody>\n",
       "</table>\n",
       "</div>"
      ],
      "text/plain": [
       "            Token  Häufigkeit\n",
       "9999    Atzenlogo           2\n",
       "10000  Atzenmusik           1\n",
       "10001  Atzenparty           4\n",
       "10002  Atzenstyle           2\n",
       "10003   Atzentanz           1\n",
       "10004       Atzin          12\n",
       "10005          Au           2"
      ]
     },
     "execution_count": 24,
     "metadata": {},
     "output_type": "execute_result"
    }
   ],
   "source": [
    "songkorpus.loc[9999:10005, [\"Token\", \"Häufigkeit\"]] "
   ]
  },
  {
   "cell_type": "markdown",
   "id": "cb2c916d-efec-4002-a603-68a8c1bf4ed4",
   "metadata": {
    "deletable": false,
    "editable": false
   },
   "source": [
    "Nun wissen wir, wie wir auf beliebige (Kombinationen) von Spalte(n) und Zeile(n) zugreifen können. Als Nächstes möchten wir unseren Daten erweitern, indem wir eine Spalte hinzufügen:\n",
    "\n",
    "## Spalten hinzufügen\n",
    "\n",
    "Eine einzelne Spalte entspricht ja einer Series und Series wiederum kommen Listen sehr nahe. Deshalb können wir zur Definition einer neuen Spalte ganz einfach eine Liste übergeben, deren Länge natürlich der Anzahl an Zeilen des DataFrames entsprechen muss.\n",
    "\n",
    "Sagen wir, wir hätten gerne eine neue Spalte, in der das Jahrzehnt gespeichert wird, in der das jeweilige Token gesungen wurde. Die einzelnen Jahre haben wir schon, nun wollen wir aber jeweils zehn Jahre zu einem Jahrzehnt bündeln. \n",
    "\n",
    "Dazu können wir in gewohnter Python-Manier über die Spalte \"Jahr\" in `songkorpus` iterieren (auch bei der Iteration zieht die Analogie Series – Liste!), auf den jeweiligen Wert in der Spalte \"Jahr\" zugreifen, ihn in einen string casten und das Jahr reduziert auf das Jahrzehnt einer neuen Liste anhängen:"
   ]
  },
  {
   "cell_type": "code",
   "execution_count": 25,
   "id": "de81e3a0-a93c-4102-9ae3-c12c446542de",
   "metadata": {},
   "outputs": [],
   "source": [
    "decades = []\n",
    "for year in songkorpus[\"Jahr\"]:\n",
    "    \"\"\"Casten in einen string ist erforderlich, da sich Slicing nur auf sequentielle Objekte anwenden lässt \n",
    "    (Ganzzahlen gehören nicht dazu, vgl. zweites Notebook) und nur strings miteinander konkateniert werden können.\"\"\"\n",
    "    decade = str(year)[:-1] + \"0\"\n",
    "    decades.append(decade)"
   ]
  },
  {
   "cell_type": "markdown",
   "id": "6b8d87a3-860b-41dd-9f40-db5f84853135",
   "metadata": {
    "deletable": false,
    "editable": false
   },
   "source": [
    "Anschließend müssen wir nur noch eine neue Spalte in `songkorpus` definieren und ihr die Liste `decades` zuweisen. Das Erstellen einer neuen Spalte erfolgt genau gleich wie das Definieren eines neuen Schlüssels bei einem dictionary:"
   ]
  },
  {
   "cell_type": "code",
   "execution_count": 26,
   "id": "f0909205-f9c5-4bb8-bc8a-4a05fb11784a",
   "metadata": {},
   "outputs": [
    {
     "data": {
      "text/html": [
       "<div>\n",
       "<style scoped>\n",
       "    .dataframe tbody tr th:only-of-type {\n",
       "        vertical-align: middle;\n",
       "    }\n",
       "\n",
       "    .dataframe tbody tr th {\n",
       "        vertical-align: top;\n",
       "    }\n",
       "\n",
       "    .dataframe thead th {\n",
       "        text-align: right;\n",
       "    }\n",
       "</style>\n",
       "<table border=\"1\" class=\"dataframe\">\n",
       "  <thead>\n",
       "    <tr style=\"text-align: right;\">\n",
       "      <th></th>\n",
       "      <th>Token</th>\n",
       "      <th>Jahr</th>\n",
       "      <th>Häufigkeit</th>\n",
       "      <th>Jahrzehnt</th>\n",
       "    </tr>\n",
       "  </thead>\n",
       "  <tbody>\n",
       "    <tr>\n",
       "      <th>0</th>\n",
       "      <td>Klaround</td>\n",
       "      <td>2007</td>\n",
       "      <td>1</td>\n",
       "      <td>2000</td>\n",
       "    </tr>\n",
       "    <tr>\n",
       "      <th>1</th>\n",
       "      <td>#3</td>\n",
       "      <td>2009</td>\n",
       "      <td>1</td>\n",
       "      <td>2000</td>\n",
       "    </tr>\n",
       "    <tr>\n",
       "      <th>2</th>\n",
       "      <td>#Babo</td>\n",
       "      <td>2015</td>\n",
       "      <td>1</td>\n",
       "      <td>2010</td>\n",
       "    </tr>\n",
       "    <tr>\n",
       "      <th>3</th>\n",
       "      <td>#JeSuisPasséChezSo</td>\n",
       "      <td>2018</td>\n",
       "      <td>1</td>\n",
       "      <td>2010</td>\n",
       "    </tr>\n",
       "    <tr>\n",
       "      <th>4</th>\n",
       "      <td>#Nachbar</td>\n",
       "      <td>2016</td>\n",
       "      <td>1</td>\n",
       "      <td>2010</td>\n",
       "    </tr>\n",
       "  </tbody>\n",
       "</table>\n",
       "</div>"
      ],
      "text/plain": [
       "                Token  Jahr  Häufigkeit Jahrzehnt\n",
       "0            Klaround  2007           1      2000\n",
       "1                  #3  2009           1      2000\n",
       "2               #Babo  2015           1      2010\n",
       "3  #JeSuisPasséChezSo  2018           1      2010\n",
       "4            #Nachbar  2016           1      2010"
      ]
     },
     "execution_count": 26,
     "metadata": {},
     "output_type": "execute_result"
    }
   ],
   "source": [
    "songkorpus[\"Jahrzehnt\"] = decades\n",
    "songkorpus.head()"
   ]
  },
  {
   "cell_type": "markdown",
   "id": "46b89bee-73bd-4297-a4fc-e0e050493d38",
   "metadata": {
    "deletable": false,
    "editable": false
   },
   "source": [
    "Recht simpel.\n",
    "\n",
    "***\n",
    "\n",
    "✏️ **Übung 4:**\n",
    "\n",
    "Füge `songkorpus` eine weitere Spalte mit dem Namen \"Länge\" hinzu, in der die Anzahl Buchstaben je Token steht."
   ]
  },
  {
   "cell_type": "code",
   "execution_count": 27,
   "id": "436f3e5f-2572-4d46-abb9-6885bf501a74",
   "metadata": {},
   "outputs": [],
   "source": [
    "#In diese Zelle kannst Du den Code zur Übung schreiben\n",
    "\n",
    "\n"
   ]
  },
  {
   "cell_type": "markdown",
   "id": "46d12e2d-5c2c-4b69-b0e6-5ed59553ac00",
   "metadata": {
    "deletable": false,
    "editable": false
   },
   "source": [
    "***\n",
    "\n",
    "✏️ **Übung 5:** Vereinfache den Code von oben, mit dessen Hilfe wir die Spalte \"Jahrzehnt\" hinzugefügt haben, indem Du ihn mittels List Comprehension (vgl. viertes Notebook) auf eine einzige Zeile reduzierst. Hole den Abschnitt zu List Comprehensions nach, falls Du ihn damals ausgelassen hast, da er als fortgeschritten markiert war.\n",
    "\n",
    "Hinweis: `songkorpus` verfügt ja bereits über eine Spalte mit dem Namen \"Jahrzehnt\". Indem Du das Resultat Deiner List Comprehension `songkorpus[\"Jahrzehnt\"]` zuweist, überschreibst du die befindliche Spalte ganz einfach."
   ]
  },
  {
   "cell_type": "code",
   "execution_count": 28,
   "id": "c5180e14-e561-41bf-b47b-0e8d36529f09",
   "metadata": {},
   "outputs": [],
   "source": [
    "#In diese Zelle kannst Du den Code zur Übung schreiben\n",
    "\n",
    "\n"
   ]
  },
  {
   "cell_type": "markdown",
   "id": "539f03ed-1b59-45f0-9501-6cc1b30bf745",
   "metadata": {
    "deletable": false,
    "editable": false
   },
   "source": [
    "***\n",
    "\n",
    "Sehr gut. Zusätzlich zum klassischen `for`-Loop und der List Comprehension lernen wir weiter unten eine dritte, pandas-eigene Methode kennen, mit der wir den modifizierten Inhalt einer Spalte in eine andere schreiben können.\n",
    "\n",
    "Schauen wir uns nun an, wie wir Zeilen zu einem DataFrame hinzufügen können."
   ]
  },
  {
   "cell_type": "markdown",
   "id": "23bcf94c-a697-462f-8a1b-2347a2ccc899",
   "metadata": {
    "deletable": false,
    "editable": false
   },
   "source": [
    "## Zeilen hinzufügen\n",
    "\n",
    "Auch neue Zeilen können wir einem DataFrame als Liste hinzufügen. Die Länge der Liste muss wiederum der Anzahl an Spalten entsprechen. \n",
    "\n",
    "Dies ist bei `new_row` in der nächsten Zelle nur der Fall, wenn Du in der Übung oben eine fünfte Spalte namens \"Länge\" hinzugefügt hast. Um sicherzustellen, dass `songkorpus` im Weiteren alle notwendigen Spalten umfasst, fügt die erste Zeile die Spalte \"Länge\" mittels List Comprension hinzu (bzw. überschreibt eine bereits vorhandene)."
   ]
  },
  {
   "cell_type": "code",
   "execution_count": 29,
   "id": "9b4d8e88-f2dc-4c92-b8b5-34196445447f",
   "metadata": {},
   "outputs": [],
   "source": [
    "songkorpus[\"Länge\"] = [len(str(token)) for token in songkorpus[\"Token\"]]\n",
    "new_row = [\"Fantasiewort\", 2023, 800, 2020, 12]"
   ]
  },
  {
   "cell_type": "markdown",
   "id": "e1b1b443-a076-4b4c-9c29-fbe2d09b9329",
   "metadata": {
    "deletable": false,
    "editable": false
   },
   "source": [
    "`new_row` können wir `songkorpus` nun unter Verwendung der bereits bekannten `.loc[index]`-Syntax hinzufügen. Als `index` geben wir schlicht den letzten numerischen Index + 1 an, was der Länge von `songkorpus` entspricht (die numerischen Indizes fangen ja bei 0 an):"
   ]
  },
  {
   "cell_type": "code",
   "execution_count": 30,
   "id": "40c70490-83b2-4083-b98f-2c1e52fd6400",
   "metadata": {},
   "outputs": [
    {
     "data": {
      "text/html": [
       "<div>\n",
       "<style scoped>\n",
       "    .dataframe tbody tr th:only-of-type {\n",
       "        vertical-align: middle;\n",
       "    }\n",
       "\n",
       "    .dataframe tbody tr th {\n",
       "        vertical-align: top;\n",
       "    }\n",
       "\n",
       "    .dataframe thead th {\n",
       "        text-align: right;\n",
       "    }\n",
       "</style>\n",
       "<table border=\"1\" class=\"dataframe\">\n",
       "  <thead>\n",
       "    <tr style=\"text-align: right;\">\n",
       "      <th></th>\n",
       "      <th>Token</th>\n",
       "      <th>Jahr</th>\n",
       "      <th>Häufigkeit</th>\n",
       "      <th>Jahrzehnt</th>\n",
       "      <th>Länge</th>\n",
       "    </tr>\n",
       "  </thead>\n",
       "  <tbody>\n",
       "    <tr>\n",
       "      <th>386506</th>\n",
       "      <td>﻿Was</td>\n",
       "      <td>2020</td>\n",
       "      <td>1</td>\n",
       "      <td>2020</td>\n",
       "      <td>4</td>\n",
       "    </tr>\n",
       "    <tr>\n",
       "      <th>386507</th>\n",
       "      <td>﻿Weißer</td>\n",
       "      <td>2020</td>\n",
       "      <td>1</td>\n",
       "      <td>2020</td>\n",
       "      <td>7</td>\n",
       "    </tr>\n",
       "    <tr>\n",
       "      <th>386508</th>\n",
       "      <td>﻿Wie</td>\n",
       "      <td>2020</td>\n",
       "      <td>1</td>\n",
       "      <td>2020</td>\n",
       "      <td>4</td>\n",
       "    </tr>\n",
       "    <tr>\n",
       "      <th>386509</th>\n",
       "      <td>﻿Wozu</td>\n",
       "      <td>2020</td>\n",
       "      <td>1</td>\n",
       "      <td>2020</td>\n",
       "      <td>5</td>\n",
       "    </tr>\n",
       "    <tr>\n",
       "      <th>386510</th>\n",
       "      <td>Fantasiewort</td>\n",
       "      <td>2023</td>\n",
       "      <td>800</td>\n",
       "      <td>2020</td>\n",
       "      <td>12</td>\n",
       "    </tr>\n",
       "  </tbody>\n",
       "</table>\n",
       "</div>"
      ],
      "text/plain": [
       "               Token  Jahr  Häufigkeit Jahrzehnt  Länge\n",
       "386506          ﻿Was  2020           1      2020      4\n",
       "386507       ﻿Weißer  2020           1      2020      7\n",
       "386508          ﻿Wie  2020           1      2020      4\n",
       "386509         ﻿Wozu  2020           1      2020      5\n",
       "386510  Fantasiewort  2023         800      2020     12"
      ]
     },
     "execution_count": 30,
     "metadata": {},
     "output_type": "execute_result"
    }
   ],
   "source": [
    "songkorpus.loc[len(songkorpus)] = new_row\n",
    "songkorpus.tail()"
   ]
  },
  {
   "cell_type": "markdown",
   "id": "88841556-dfc3-40fc-8aa8-4fcc4ab09f86",
   "metadata": {
    "deletable": false,
    "editable": false
   },
   "source": [
    "Wenn Du diese Zelle mehrfach ausführst, wird `new_row` jedes einzelne Mal hinzugefügt. Schließlich entspricht `len(songkorpus)` jedes Mal dem letzten numerischen Index + 1. \n",
    "\n",
    "Anstatt eine Zeile am Ende eines DataFrames hinzuzufügen, kannst Du die gleiche Syntax verwenden, um eine bestimmte, bereits existierende Zeile zu überschreiben. Das tun wir hier aber nicht, da wir mit den originalen Daten weiterarbeiten möchten. Entsprechend wollen wir die letzte(n) Zeile(n) mit Fantasiewörtern auch wieder entfernen.\n",
    "\n",
    "## Spalten und Zeilen entfernen\n",
    "\n",
    "Zu diesem Zweck gibt es die `drop`-Methode, die wir sowohl zum Entfernen von Spalten als auch Zeilen benutzen können. Als erstes Argument übergeben wir ihr den Namen der zu entfernenden Spalte bzw. den numerischen Index (oder Namen, s.o.) der zu entfernenden Zeile. Um mehrere Spalten oder Zeilen zu entfernen, können jeweils auch Listen übergeben werden. Anschließend spezifizieren wir mithilfe des `axis`-Parameters, ob es sich um eine Spalte oder eine Zeile handelt, die entfernt werden soll. `axis=1` steht für Spalten und `axis=0` für Zeilen (was der Standardwert ist und nicht zwingend angegeben werden muss). Die Syntax mit Standardwerten lautet also folgendermaßen:\n",
    "\n",
    "`DataFrame.drop(index_or_name, axis=0)`\n",
    "\n",
    "***\n",
    "\n",
    "✏️ **Übung 6:** Führe die Zelle oben, in der wir `songkorpus` Zeilen mit Fantasiewörtern hinzugefügt haben, noch ein paar Mal aus, ohne darauf zu achten wie oft. Verwende nun `drop` in einer geeigneten Kontrollstruktur (vgl. drittes Notebook) sowie die anfangs eingeführte Variable `original_len`, um die Fantasiewörter wieder zu entfernen und `songkorpus`, was die Anzahl an Zeilen betrifft, wieder in seinen Originalzustand zu bringen. "
   ]
  },
  {
   "cell_type": "code",
   "execution_count": 31,
   "id": "25e66df2-a536-414e-a50c-1dbbc835148f",
   "metadata": {},
   "outputs": [],
   "source": [
    "#In diese Zelle kannst Du den Code zur Übung schreiben\n",
    "\n",
    "\n"
   ]
  },
  {
   "cell_type": "markdown",
   "id": "1007a3a2-42ad-4324-bb09-280f80d6aa50",
   "metadata": {
    "deletable": false,
    "editable": false
   },
   "source": [
    "***\n",
    "\n",
    "Wunderbar! \n",
    "\n",
    "## Deskriptive Statistiken\n",
    "\n",
    "Einige der Spalten in `songkorpus` enthalten ja numerische Werte, konkret die Spalten \"Jahr\", \"Häufigkeit\" und \"Länge\" (die Werte in \"Jahrzehnt\" haben wir als string abgespeichert, s.o.). Numerischen Werten nähern wir uns am besten über despriptive Statistiken, also etwa über Minimal- und Maximalwerte.\n",
    "\n",
    "Pandas bietet dafür eine Reihe nützlicher Methoden: Angewandt auf eine Spalte, gibt `min` den kleinsten Wert darin zurück, `max` den größten, `mean` den Durchschnitt, `median` den Median und `sum` die Summe aller Werte. \n",
    "\n",
    "Bevor wir dies tun, stellen wir noch sicher, dass die oben hinzugefügten Zeilen auch wirklich nicht mehr vorhanden sind, schließlich soll das achthundertfach vorkommende \"Fantasiewort\" unsere Statistiken nicht verzerren. Anstatt mit der `drop`-Methode von oben, wählen wir hier einen anderen Weg, nämlich Slicing:"
   ]
  },
  {
   "cell_type": "code",
   "execution_count": 32,
   "id": "2c9fdce4-ac4b-4c80-a0ac-515da5178f8a",
   "metadata": {},
   "outputs": [
    {
     "name": "stdout",
     "output_type": "stream",
     "text": [
      "1\n",
      "2007\n",
      "5.7299293679335594\n",
      "1.0\n",
      "2214675\n"
     ]
    }
   ],
   "source": [
    "songkorpus = songkorpus[:original_len]\n",
    "\n",
    "print(songkorpus[\"Häufigkeit\"].min())\n",
    "print(songkorpus[\"Häufigkeit\"].max())\n",
    "print(songkorpus[\"Häufigkeit\"].mean())\n",
    "print(songkorpus[\"Häufigkeit\"].median())\n",
    "print(songkorpus[\"Häufigkeit\"].sum())"
   ]
  },
  {
   "cell_type": "markdown",
   "id": "96489fbb-f633-4796-bacb-49157a8910b7",
   "metadata": {
    "deletable": false,
    "editable": false
   },
   "source": [
    "Wenig überraschend ist 1 der kleinste Wert in der Spalte \"Häufigkeit\". Wörter, die gar nie vorkommen, befinden sich ja nicht im Datensatz. \n",
    "\n",
    "Spannend ist jedoch, zu erfahren, dass das meistgesungene Token 2007 Mal in einen bestimmten Jahr vorkommt. Interessant ist auch, dass der Durchschnitt zwar bei fast 6 Nennungen liegt, mindestens die Hälfte aller Werte jedoch genau 1 sind. Der Median ist ja der Wert, der genau in der Mitte aller \"aufgereihten\" Werte steht: links von ihm können also nur weitere Einsen stehen, in der Mitte steht selbst auch eine 1. Diese Logik funktioniert natürlich nur, weil wir wissen, dass alle Werte in dieser Spalte Ganzzahlen sind.\n",
    "\n",
    "Einen kompakten Überblick über diese und ein paar weitere Statistiken liefert auch `describe`:"
   ]
  },
  {
   "cell_type": "code",
   "execution_count": 33,
   "id": "22b1a985-e045-49cd-96ce-8282783293c1",
   "metadata": {},
   "outputs": [
    {
     "data": {
      "text/plain": [
       "count    386510.000000\n",
       "mean          5.729929\n",
       "std          31.514454\n",
       "min           1.000000\n",
       "25%           1.000000\n",
       "50%           1.000000\n",
       "75%           3.000000\n",
       "max        2007.000000\n",
       "Name: Häufigkeit, dtype: float64"
      ]
     },
     "execution_count": 33,
     "metadata": {},
     "output_type": "execute_result"
    }
   ],
   "source": [
    "songkorpus[\"Häufigkeit\"].describe() #entgegen ihrer Bezeichnung liefert describe auch die nicht-deskriptive, sondern inferentielle Standardabweichung (std)"
   ]
  },
  {
   "cell_type": "markdown",
   "id": "eb03ad88-c3df-4c7d-8b36-719a9de0b41a",
   "metadata": {
    "deletable": false,
    "editable": false
   },
   "source": [
    "Dabei lernen wir u.a., dass drei Viertel aller Tokens nur maximal drei Mal in einem bestimmten Jahr vorkommen.\n",
    "\n",
    "`describe` lässt sich nicht nur auf eine Series, sondern auch auf ein DataFrame anwenden, wobei wir die Statistiken nur bei Spalten mit numerischen Werten zurückerhalten:"
   ]
  },
  {
   "cell_type": "code",
   "execution_count": 34,
   "id": "4cc714a9-af4a-4a91-a2ff-fac3e40d827d",
   "metadata": {},
   "outputs": [
    {
     "data": {
      "text/html": [
       "<div>\n",
       "<style scoped>\n",
       "    .dataframe tbody tr th:only-of-type {\n",
       "        vertical-align: middle;\n",
       "    }\n",
       "\n",
       "    .dataframe tbody tr th {\n",
       "        vertical-align: top;\n",
       "    }\n",
       "\n",
       "    .dataframe thead th {\n",
       "        text-align: right;\n",
       "    }\n",
       "</style>\n",
       "<table border=\"1\" class=\"dataframe\">\n",
       "  <thead>\n",
       "    <tr style=\"text-align: right;\">\n",
       "      <th></th>\n",
       "      <th>Jahr</th>\n",
       "      <th>Häufigkeit</th>\n",
       "      <th>Länge</th>\n",
       "    </tr>\n",
       "  </thead>\n",
       "  <tbody>\n",
       "    <tr>\n",
       "      <th>count</th>\n",
       "      <td>386510.000000</td>\n",
       "      <td>386510.000000</td>\n",
       "      <td>386510.000000</td>\n",
       "    </tr>\n",
       "    <tr>\n",
       "      <th>mean</th>\n",
       "      <td>1999.486401</td>\n",
       "      <td>5.729929</td>\n",
       "      <td>6.877465</td>\n",
       "    </tr>\n",
       "    <tr>\n",
       "      <th>std</th>\n",
       "      <td>15.150846</td>\n",
       "      <td>31.514454</td>\n",
       "      <td>2.933722</td>\n",
       "    </tr>\n",
       "    <tr>\n",
       "      <th>min</th>\n",
       "      <td>1969.000000</td>\n",
       "      <td>1.000000</td>\n",
       "      <td>1.000000</td>\n",
       "    </tr>\n",
       "    <tr>\n",
       "      <th>25%</th>\n",
       "      <td>1986.000000</td>\n",
       "      <td>1.000000</td>\n",
       "      <td>5.000000</td>\n",
       "    </tr>\n",
       "    <tr>\n",
       "      <th>50%</th>\n",
       "      <td>2002.000000</td>\n",
       "      <td>1.000000</td>\n",
       "      <td>6.000000</td>\n",
       "    </tr>\n",
       "    <tr>\n",
       "      <th>75%</th>\n",
       "      <td>2013.000000</td>\n",
       "      <td>3.000000</td>\n",
       "      <td>8.000000</td>\n",
       "    </tr>\n",
       "    <tr>\n",
       "      <th>max</th>\n",
       "      <td>2022.000000</td>\n",
       "      <td>2007.000000</td>\n",
       "      <td>53.000000</td>\n",
       "    </tr>\n",
       "  </tbody>\n",
       "</table>\n",
       "</div>"
      ],
      "text/plain": [
       "                Jahr     Häufigkeit          Länge\n",
       "count  386510.000000  386510.000000  386510.000000\n",
       "mean     1999.486401       5.729929       6.877465\n",
       "std        15.150846      31.514454       2.933722\n",
       "min      1969.000000       1.000000       1.000000\n",
       "25%      1986.000000       1.000000       5.000000\n",
       "50%      2002.000000       1.000000       6.000000\n",
       "75%      2013.000000       3.000000       8.000000\n",
       "max      2022.000000    2007.000000      53.000000"
      ]
     },
     "execution_count": 34,
     "metadata": {},
     "output_type": "execute_result"
    }
   ],
   "source": [
    "songkorpus.describe()"
   ]
  },
  {
   "cell_type": "markdown",
   "id": "8e5ace1a-785d-4369-ab6d-afb0a7819fdc",
   "metadata": {
    "deletable": false,
    "editable": false
   },
   "source": [
    "Sehr nützlich ist auch die `value_counts`-Methode, die sämtliche Werte in einer Spalte auszählt und uns eine Art Frequenzwörterbuch zurückgibt. Die Methode liefert also genau das, was wir im fünften Notebook manuell für die 100 flächengrößten Gemeinden Deutschlands errechnet haben:"
   ]
  },
  {
   "cell_type": "code",
   "execution_count": 35,
   "id": "50125980-c033-4780-8cc3-4bb76fa43143",
   "metadata": {},
   "outputs": [
    {
     "data": {
      "text/plain": [
       "2010    109062\n",
       "2000     83075\n",
       "1980     65571\n",
       "1990     55021\n",
       "1970     50949\n",
       "2020     20995\n",
       "1960      1837\n",
       "Name: Jahrzehnt, dtype: int64"
      ]
     },
     "execution_count": 35,
     "metadata": {},
     "output_type": "execute_result"
    }
   ],
   "source": [
    "songkorpus[\"Jahrzehnt\"].value_counts()"
   ]
  },
  {
   "cell_type": "markdown",
   "id": "096bbcc3-c642-4858-bb59-4b536c0caee7",
   "metadata": {
    "deletable": false,
    "editable": false
   },
   "source": [
    "Die Zehnerjahre sind dieser Auswertung zufolge am häufigsten vertreten im `songkorpus`. \n",
    "\n",
    "Da absolute Zahlen oft schwer miteinander zu vergleichen sind, bietet `value_counts` auch die Möglichkeit, die Werte zu normalisieren, d.h. relativ auszugeben. Dazu spezifizieren wir ganz einfach `normalize=True`:"
   ]
  },
  {
   "cell_type": "code",
   "execution_count": 36,
   "id": "e5386b40-a205-4b30-b6a2-ce8187d6d0cd",
   "metadata": {},
   "outputs": [
    {
     "data": {
      "text/plain": [
       "2010    0.282171\n",
       "2000    0.214936\n",
       "1980    0.169649\n",
       "1990    0.142353\n",
       "1970    0.131818\n",
       "2020    0.054319\n",
       "1960    0.004753\n",
       "Name: Jahrzehnt, dtype: float64"
      ]
     },
     "execution_count": 36,
     "metadata": {},
     "output_type": "execute_result"
    }
   ],
   "source": [
    "songkorpus[\"Jahrzehnt\"].value_counts(normalize=True)"
   ]
  },
  {
   "cell_type": "markdown",
   "id": "871fc0db-6b04-4751-a0f8-b910ff197c64",
   "metadata": {
    "deletable": false,
    "editable": false
   },
   "source": [
    "So lässt sich leicht ablesen, dass fast die Hälfte aller Tokens in `songkorpus` aus den Nuller- und Zehnerjahren stammen. Dieses Ungleichgewicht müssen wir bei künftigen Analysen im Hinterkopf behalten.\n",
    "\n",
    "***\n",
    "\n",
    "✏️ **Übung 7:** Mithilfe von `describe` haben wir oben herausgefunden, dass die durchschnittliche Wortlänge in `songkorpus` 6.88 Buchstaben beträgt. Die maximale Wortlänge beträgt hingegen sagenhafte 53 Buchstaben. Die Verteilung scheint alles andere als gleichmäßig zu sein, was wir auch an den sog. *Quartilen* 25% und 75% sehen (Quartile werden wie der Median berechnet, nur geht es nicht um den Mittelwert sondern um die Werte nach einem Viertel bzw. drei Vierteln aller aufgereihten Werte). Finde heraus, welche Wortlängen für jeweils mindestens 10 % aller Wörter gelten. Finde ebenfalls heraus, welche Wortlängen für jeweils maximal 1 % aller Wörter gelten.\n",
    "\n",
    "💡 Tipp: Einer von verschiedenen denkbaren Lösungswegen involviert die Tatsache, dass DataFrames und Series mit dictionaries verwandt sind und sich auch in ein solches casten lassen."
   ]
  },
  {
   "cell_type": "code",
   "execution_count": 37,
   "id": "ae39edd4-5c88-4b54-94b1-8803dfcb811d",
   "metadata": {},
   "outputs": [],
   "source": [
    "#In diese Zelle kannst Du den Code zur Übung schreiben\n",
    "\n",
    "\n"
   ]
  },
  {
   "cell_type": "markdown",
   "id": "0dc5955e-fad7-41b2-80ca-402d49662581",
   "metadata": {
    "deletable": false,
    "editable": false
   },
   "source": [
    "*** \n",
    "\n",
    "Zwei weitere hilfreiche Methoden sind `nlargest` und `nsmallest`, die das DataFrame nach einer bestimmten Spalte (spezifiziert als zweites Argument) sortieren und die *n* (spezifiziert als erstes Argument) obersten bzw. untersten Zeilen ausgibt. Folgender Code liefert also die obersten zehn Zeilen eines nach der Spalte \"Häufigkeit\" absteigend sortierten DataFrames:"
   ]
  },
  {
   "cell_type": "code",
   "execution_count": 38,
   "id": "980e342c-fc27-4dbd-b8dd-d73b4be4ce59",
   "metadata": {},
   "outputs": [
    {
     "data": {
      "text/html": [
       "<div>\n",
       "<style scoped>\n",
       "    .dataframe tbody tr th:only-of-type {\n",
       "        vertical-align: middle;\n",
       "    }\n",
       "\n",
       "    .dataframe tbody tr th {\n",
       "        vertical-align: top;\n",
       "    }\n",
       "\n",
       "    .dataframe thead th {\n",
       "        text-align: right;\n",
       "    }\n",
       "</style>\n",
       "<table border=\"1\" class=\"dataframe\">\n",
       "  <thead>\n",
       "    <tr style=\"text-align: right;\">\n",
       "      <th></th>\n",
       "      <th>Token</th>\n",
       "      <th>Jahr</th>\n",
       "      <th>Häufigkeit</th>\n",
       "      <th>Jahrzehnt</th>\n",
       "      <th>Länge</th>\n",
       "    </tr>\n",
       "  </thead>\n",
       "  <tbody>\n",
       "    <tr>\n",
       "      <th>274820</th>\n",
       "      <td>ich</td>\n",
       "      <td>2019</td>\n",
       "      <td>2007</td>\n",
       "      <td>2010</td>\n",
       "      <td>3</td>\n",
       "    </tr>\n",
       "    <tr>\n",
       "      <th>274819</th>\n",
       "      <td>ich</td>\n",
       "      <td>2018</td>\n",
       "      <td>1788</td>\n",
       "      <td>2010</td>\n",
       "      <td>3</td>\n",
       "    </tr>\n",
       "    <tr>\n",
       "      <th>274817</th>\n",
       "      <td>ich</td>\n",
       "      <td>2016</td>\n",
       "      <td>1570</td>\n",
       "      <td>2010</td>\n",
       "      <td>3</td>\n",
       "    </tr>\n",
       "    <tr>\n",
       "      <th>350154</th>\n",
       "      <td>und</td>\n",
       "      <td>2018</td>\n",
       "      <td>1560</td>\n",
       "      <td>2010</td>\n",
       "      <td>3</td>\n",
       "    </tr>\n",
       "    <tr>\n",
       "      <th>274808</th>\n",
       "      <td>ich</td>\n",
       "      <td>2007</td>\n",
       "      <td>1513</td>\n",
       "      <td>2000</td>\n",
       "      <td>3</td>\n",
       "    </tr>\n",
       "    <tr>\n",
       "      <th>274821</th>\n",
       "      <td>ich</td>\n",
       "      <td>2020</td>\n",
       "      <td>1501</td>\n",
       "      <td>2020</td>\n",
       "      <td>3</td>\n",
       "    </tr>\n",
       "    <tr>\n",
       "      <th>225263</th>\n",
       "      <td>die</td>\n",
       "      <td>2018</td>\n",
       "      <td>1461</td>\n",
       "      <td>2010</td>\n",
       "      <td>3</td>\n",
       "    </tr>\n",
       "    <tr>\n",
       "      <th>274806</th>\n",
       "      <td>ich</td>\n",
       "      <td>2005</td>\n",
       "      <td>1455</td>\n",
       "      <td>2000</td>\n",
       "      <td>3</td>\n",
       "    </tr>\n",
       "    <tr>\n",
       "      <th>350141</th>\n",
       "      <td>und</td>\n",
       "      <td>2005</td>\n",
       "      <td>1451</td>\n",
       "      <td>2000</td>\n",
       "      <td>3</td>\n",
       "    </tr>\n",
       "    <tr>\n",
       "      <th>274807</th>\n",
       "      <td>ich</td>\n",
       "      <td>2006</td>\n",
       "      <td>1445</td>\n",
       "      <td>2000</td>\n",
       "      <td>3</td>\n",
       "    </tr>\n",
       "  </tbody>\n",
       "</table>\n",
       "</div>"
      ],
      "text/plain": [
       "       Token  Jahr  Häufigkeit Jahrzehnt  Länge\n",
       "274820   ich  2019        2007      2010      3\n",
       "274819   ich  2018        1788      2010      3\n",
       "274817   ich  2016        1570      2010      3\n",
       "350154   und  2018        1560      2010      3\n",
       "274808   ich  2007        1513      2000      3\n",
       "274821   ich  2020        1501      2020      3\n",
       "225263   die  2018        1461      2010      3\n",
       "274806   ich  2005        1455      2000      3\n",
       "350141   und  2005        1451      2000      3\n",
       "274807   ich  2006        1445      2000      3"
      ]
     },
     "execution_count": 38,
     "metadata": {},
     "output_type": "execute_result"
    }
   ],
   "source": [
    "songkorpus.nlargest(10, \"Häufigkeit\")"
   ]
  },
  {
   "cell_type": "markdown",
   "id": "324d3440-94b9-4762-b2ba-88f3d723dc0f",
   "metadata": {
    "deletable": false,
    "editable": false
   },
   "source": [
    "Wasser auf die Mühlen der Selbstbezogenheitsthese! 😅\n",
    "\n",
    "Natürlich können wir ein DataFrame auch als Ganzes sortieren, anstatt bloß die *n* obersten bzw. untersten Zeilen zurückzukriegen."
   ]
  },
  {
   "cell_type": "markdown",
   "id": "5bf28cc2-2581-4795-a00d-002929e17b3c",
   "metadata": {
    "deletable": false,
    "editable": false
   },
   "source": [
    "## Werte sortieren\n",
    "\n",
    "Dazu benutzen wir die Methode `sort_values`, der wir als erstes Argument die Spalte übergeben, anhand derer wir sortieren wollen, und als zweites Argument die Richtung der Sortierung, wobei `ascending=True` für aufsteigend (Standardwert) und `ascending=False` für absteigend steht.\n",
    "\n",
    "Folgender Code sortiert `songkorpus` aufsteigend nach der Spalte \"Jahr\":"
   ]
  },
  {
   "cell_type": "code",
   "execution_count": 39,
   "id": "d358fb4c-6b84-4c72-adc5-ccbd8b98339c",
   "metadata": {},
   "outputs": [
    {
     "data": {
      "text/html": [
       "<div>\n",
       "<style scoped>\n",
       "    .dataframe tbody tr th:only-of-type {\n",
       "        vertical-align: middle;\n",
       "    }\n",
       "\n",
       "    .dataframe tbody tr th {\n",
       "        vertical-align: top;\n",
       "    }\n",
       "\n",
       "    .dataframe thead th {\n",
       "        text-align: right;\n",
       "    }\n",
       "</style>\n",
       "<table border=\"1\" class=\"dataframe\">\n",
       "  <thead>\n",
       "    <tr style=\"text-align: right;\">\n",
       "      <th></th>\n",
       "      <th>Token</th>\n",
       "      <th>Jahr</th>\n",
       "      <th>Häufigkeit</th>\n",
       "      <th>Jahrzehnt</th>\n",
       "      <th>Länge</th>\n",
       "    </tr>\n",
       "  </thead>\n",
       "  <tbody>\n",
       "    <tr>\n",
       "      <th>40887</th>\n",
       "      <td>Ellenbogen</td>\n",
       "      <td>1969</td>\n",
       "      <td>1</td>\n",
       "      <td>1960</td>\n",
       "      <td>10</td>\n",
       "    </tr>\n",
       "    <tr>\n",
       "      <th>203243</th>\n",
       "      <td>atmen</td>\n",
       "      <td>1969</td>\n",
       "      <td>1</td>\n",
       "      <td>1960</td>\n",
       "      <td>5</td>\n",
       "    </tr>\n",
       "    <tr>\n",
       "      <th>330263</th>\n",
       "      <td>seines</td>\n",
       "      <td>1969</td>\n",
       "      <td>1</td>\n",
       "      <td>1960</td>\n",
       "      <td>6</td>\n",
       "    </tr>\n",
       "    <tr>\n",
       "      <th>330256</th>\n",
       "      <td>seinerseits</td>\n",
       "      <td>1969</td>\n",
       "      <td>1</td>\n",
       "      <td>1960</td>\n",
       "      <td>11</td>\n",
       "    </tr>\n",
       "    <tr>\n",
       "      <th>81807</th>\n",
       "      <td>Jetzt</td>\n",
       "      <td>1969</td>\n",
       "      <td>4</td>\n",
       "      <td>1960</td>\n",
       "      <td>5</td>\n",
       "    </tr>\n",
       "  </tbody>\n",
       "</table>\n",
       "</div>"
      ],
      "text/plain": [
       "              Token  Jahr  Häufigkeit Jahrzehnt  Länge\n",
       "40887    Ellenbogen  1969           1      1960     10\n",
       "203243        atmen  1969           1      1960      5\n",
       "330263       seines  1969           1      1960      6\n",
       "330256  seinerseits  1969           1      1960     11\n",
       "81807         Jetzt  1969           4      1960      5"
      ]
     },
     "execution_count": 39,
     "metadata": {},
     "output_type": "execute_result"
    }
   ],
   "source": [
    "songkorpus = songkorpus.sort_values(\"Jahr\", ascending=True)\n",
    "songkorpus.head()"
   ]
  },
  {
   "cell_type": "markdown",
   "id": "5d9f9b69-38fb-4bfd-a888-4665790b8976",
   "metadata": {
    "deletable": false,
    "editable": false
   },
   "source": [
    "Nach der Verwendung von `sort_values` lohnt es sich i.d.R., den Index des DataFrames, der ja durch die Sortierung ganz durcheinander geraten ist, zurückzusetzen. Dies können wir mithilfe von `reset_index` tun. Zusätzlich spezifizieren wir, dass der alte Index gelöscht werden soll (`drop=True`), andernfalls wird er in einer neuen Spalte gespeichert):"
   ]
  },
  {
   "cell_type": "code",
   "execution_count": 40,
   "id": "c5a4de64-be0e-4c36-91a5-3195503f5fb4",
   "metadata": {},
   "outputs": [
    {
     "data": {
      "text/html": [
       "<div>\n",
       "<style scoped>\n",
       "    .dataframe tbody tr th:only-of-type {\n",
       "        vertical-align: middle;\n",
       "    }\n",
       "\n",
       "    .dataframe tbody tr th {\n",
       "        vertical-align: top;\n",
       "    }\n",
       "\n",
       "    .dataframe thead th {\n",
       "        text-align: right;\n",
       "    }\n",
       "</style>\n",
       "<table border=\"1\" class=\"dataframe\">\n",
       "  <thead>\n",
       "    <tr style=\"text-align: right;\">\n",
       "      <th></th>\n",
       "      <th>Token</th>\n",
       "      <th>Jahr</th>\n",
       "      <th>Häufigkeit</th>\n",
       "      <th>Jahrzehnt</th>\n",
       "      <th>Länge</th>\n",
       "    </tr>\n",
       "  </thead>\n",
       "  <tbody>\n",
       "    <tr>\n",
       "      <th>0</th>\n",
       "      <td>Ellenbogen</td>\n",
       "      <td>1969</td>\n",
       "      <td>1</td>\n",
       "      <td>1960</td>\n",
       "      <td>10</td>\n",
       "    </tr>\n",
       "    <tr>\n",
       "      <th>1</th>\n",
       "      <td>atmen</td>\n",
       "      <td>1969</td>\n",
       "      <td>1</td>\n",
       "      <td>1960</td>\n",
       "      <td>5</td>\n",
       "    </tr>\n",
       "    <tr>\n",
       "      <th>2</th>\n",
       "      <td>seines</td>\n",
       "      <td>1969</td>\n",
       "      <td>1</td>\n",
       "      <td>1960</td>\n",
       "      <td>6</td>\n",
       "    </tr>\n",
       "    <tr>\n",
       "      <th>3</th>\n",
       "      <td>seinerseits</td>\n",
       "      <td>1969</td>\n",
       "      <td>1</td>\n",
       "      <td>1960</td>\n",
       "      <td>11</td>\n",
       "    </tr>\n",
       "    <tr>\n",
       "      <th>4</th>\n",
       "      <td>Jetzt</td>\n",
       "      <td>1969</td>\n",
       "      <td>4</td>\n",
       "      <td>1960</td>\n",
       "      <td>5</td>\n",
       "    </tr>\n",
       "  </tbody>\n",
       "</table>\n",
       "</div>"
      ],
      "text/plain": [
       "         Token  Jahr  Häufigkeit Jahrzehnt  Länge\n",
       "0   Ellenbogen  1969           1      1960     10\n",
       "1        atmen  1969           1      1960      5\n",
       "2       seines  1969           1      1960      6\n",
       "3  seinerseits  1969           1      1960     11\n",
       "4        Jetzt  1969           4      1960      5"
      ]
     },
     "execution_count": 40,
     "metadata": {},
     "output_type": "execute_result"
    }
   ],
   "source": [
    "songkorpus = songkorpus.reset_index(drop=True)\n",
    "songkorpus.head()"
   ]
  },
  {
   "cell_type": "markdown",
   "id": "deeb9b5f-cceb-4d53-b8b5-244d9b719cf8",
   "metadata": {
    "deletable": false,
    "editable": false
   },
   "source": [
    "Würden wir den Index nicht zurücksetzen, bekämen wir beim Zeilenzugriff über `loc` u.U. nicht die Ergebnisse zurück, die wir erwarten. Etwa erhielten wir über `songkorpus.loc[0]` nicht die erste Zeile des neuen DataFrames zurück, sondern die erste Zeile des alten, unsortierten DataFrames. Das liegt daran, dass Zeilen ihre Indizes bei der Sortierung standardmäßig behalten. Dieses Verhalten wird verständlicher, wenn Du Dir vorstellst, Du würdest `songkorpus_labelled_rows` sortieren. \n",
    "\n",
    "Wenn wir weder an der Häufigkeitsverteilung aller Werte in einer bestimmten Spalte (`value_counts`), noch an deren Reihenfolge (`nlargest`, `nsmallest` und `sort_values`) interessiert sind, sondern an der bloßen Existenz eines Wertes (egal wie oft er auftritt), gibt es eine weitere praktische Methode.\n",
    "\n",
    "## Einzigartige Werte\n",
    "\n",
    "Nämlich `unique`, das ähnlich wie die Python-Funktion `set` (vgl. zweites Notebook) alle einzigartigen Werte in einer bestimmten Spalte zurückgibt:"
   ]
  },
  {
   "cell_type": "code",
   "execution_count": 41,
   "id": "66bfab86-b49e-4d2c-bfba-ebc551019d83",
   "metadata": {},
   "outputs": [
    {
     "data": {
      "text/plain": [
       "array([1969, 1970, 1971, 1972, 1973, 1974, 1975, 1976, 1977, 1978, 1979,\n",
       "       1980, 1981, 1982, 1983, 1984, 1985, 1986, 1987, 1988, 1989, 1990,\n",
       "       1991, 1992, 1993, 1994, 1995, 1996, 1997, 1998, 1999, 2000, 2001,\n",
       "       2002, 2003, 2004, 2005, 2006, 2007, 2008, 2009, 2010, 2011, 2012,\n",
       "       2013, 2014, 2015, 2016, 2017, 2018, 2019, 2020, 2021, 2022])"
      ]
     },
     "execution_count": 41,
     "metadata": {},
     "output_type": "execute_result"
    }
   ],
   "source": [
    "songkorpus[\"Jahr\"].unique()"
   ]
  },
  {
   "cell_type": "markdown",
   "id": "68bb0168-7550-4e4c-9e66-83b11b75b70f",
   "metadata": {
    "deletable": false,
    "editable": false
   },
   "source": [
    "***\n",
    "\n",
    "✏️ **Übung 8:** Wir wissen bereits, wieviele Tokens in unserem DataFrame vorkommen, nämlich 386.510. Finde heraus, wieviele einzigartige Token, also Types (vgl. viertes Notebook) es gibt."
   ]
  },
  {
   "cell_type": "code",
   "execution_count": 42,
   "id": "3d3f90df-1ee0-446d-a810-291caaf8e3ef",
   "metadata": {},
   "outputs": [],
   "source": [
    "#In diese Zelle kannst Du den Code zur Übung schreiben\n",
    "\n",
    "\n"
   ]
  },
  {
   "cell_type": "markdown",
   "id": "f6807ea8-319a-42b1-a7d0-986eccf77a1b",
   "metadata": {
    "deletable": false,
    "editable": false
   },
   "source": [
    "***\n",
    "\n",
    "## DataFrame filtern \n",
    "\n",
    "Als nächstes wollen wir herausfinden, wie wir ein DataFrame filtern können. Die grundlegende Syntax sieht wie folgt aus:\n",
    "\n",
    "`DataFrame[filter]`\n",
    "\n",
    "`filter` wiederum kann unterschiedlich ausschauen, je nach dem, wie wir unser DataFrame filtern wollen. Ein einfaches Beispiel für `filter` sieht so aus:\n",
    "\n",
    "`DataFrame[column] == value`\n",
    "\n",
    "Dieser Filter verlangt, dass bei `DataFrame` in der Spalte `column` exakt der Wert `value` steht.\n",
    "\n",
    "Fügen wir diesen Filter in der obigen Syntax ein und schaffen ein Sub-DataFrame, das alle Zeilen des `songkorpus` beinhält, in denen in der Spalte `Token` das Wort \"Liebe\" steht:"
   ]
  },
  {
   "cell_type": "code",
   "execution_count": 43,
   "id": "3dbaea10-a71a-4175-9d79-556f021cde76",
   "metadata": {},
   "outputs": [
    {
     "data": {
      "text/html": [
       "<div>\n",
       "<style scoped>\n",
       "    .dataframe tbody tr th:only-of-type {\n",
       "        vertical-align: middle;\n",
       "    }\n",
       "\n",
       "    .dataframe tbody tr th {\n",
       "        vertical-align: top;\n",
       "    }\n",
       "\n",
       "    .dataframe thead th {\n",
       "        text-align: right;\n",
       "    }\n",
       "</style>\n",
       "<table border=\"1\" class=\"dataframe\">\n",
       "  <thead>\n",
       "    <tr style=\"text-align: right;\">\n",
       "      <th></th>\n",
       "      <th>Token</th>\n",
       "      <th>Jahr</th>\n",
       "      <th>Häufigkeit</th>\n",
       "      <th>Jahrzehnt</th>\n",
       "      <th>Länge</th>\n",
       "    </tr>\n",
       "  </thead>\n",
       "  <tbody>\n",
       "    <tr>\n",
       "      <th>764</th>\n",
       "      <td>Liebe</td>\n",
       "      <td>1969</td>\n",
       "      <td>1</td>\n",
       "      <td>1960</td>\n",
       "      <td>5</td>\n",
       "    </tr>\n",
       "    <tr>\n",
       "      <th>4477</th>\n",
       "      <td>Liebe</td>\n",
       "      <td>1970</td>\n",
       "      <td>93</td>\n",
       "      <td>1970</td>\n",
       "      <td>5</td>\n",
       "    </tr>\n",
       "    <tr>\n",
       "      <th>8774</th>\n",
       "      <td>Liebe</td>\n",
       "      <td>1971</td>\n",
       "      <td>106</td>\n",
       "      <td>1970</td>\n",
       "      <td>5</td>\n",
       "    </tr>\n",
       "    <tr>\n",
       "      <th>11189</th>\n",
       "      <td>Liebe</td>\n",
       "      <td>1972</td>\n",
       "      <td>104</td>\n",
       "      <td>1970</td>\n",
       "      <td>5</td>\n",
       "    </tr>\n",
       "    <tr>\n",
       "      <th>14421</th>\n",
       "      <td>Liebe</td>\n",
       "      <td>1973</td>\n",
       "      <td>152</td>\n",
       "      <td>1970</td>\n",
       "      <td>5</td>\n",
       "    </tr>\n",
       "  </tbody>\n",
       "</table>\n",
       "</div>"
      ],
      "text/plain": [
       "       Token  Jahr  Häufigkeit Jahrzehnt  Länge\n",
       "764    Liebe  1969           1      1960      5\n",
       "4477   Liebe  1970          93      1970      5\n",
       "8774   Liebe  1971         106      1970      5\n",
       "11189  Liebe  1972         104      1970      5\n",
       "14421  Liebe  1973         152      1970      5"
      ]
     },
     "execution_count": 43,
     "metadata": {},
     "output_type": "execute_result"
    }
   ],
   "source": [
    "liebe = songkorpus[songkorpus[\"Token\"] == \"Liebe\"]\n",
    "liebe.head(5)"
   ]
  },
  {
   "cell_type": "markdown",
   "id": "dc67aeef-7a83-4d63-b6a5-7a4a79c0f1f7",
   "metadata": {
    "deletable": false,
    "editable": false
   },
   "source": [
    "Das klappt wunderbar. Spiel gerne mit anderen Begriffen herum.\n",
    "\n",
    "***\n",
    "\n",
    "✏️ **Übung 9:** Erstelle ein Sub-DataFrame, das nur Tokens beinhält, die mindestes 20 Zeichen lang sind."
   ]
  },
  {
   "cell_type": "code",
   "execution_count": 44,
   "id": "1f9eeb7a-1896-46a0-8bd9-0515b00678f5",
   "metadata": {},
   "outputs": [],
   "source": [
    "#In diese Zelle kannst Du den Code zur Übung schreiben\n",
    "\n",
    "\n"
   ]
  },
  {
   "cell_type": "markdown",
   "id": "c4fa95c1-5f3d-4af9-9e3c-31e3b8f303c5",
   "metadata": {
    "deletable": false,
    "editable": false
   },
   "source": [
    "***\n",
    "\n",
    "Abgsehen von Vergleichsoperatoren (`==`, `!=`, `>`, `<`, `>=` und `<=`, vgl. erstes Notebook) bei numerischen Werten (alle Operatoren) bzw. strings (nur die ersten beiden) können wir bei strings auch andere Methoden in den Filter einbauen. Pandas bietet sowohl solche an, die wir bereits von gewöhnlichen strings kennen (vgl. viertes Notebook), als auch ein paar eigene. Wichtig ist, dass die Methoden die Boolschen Werte `True` oder `False` zurückgeben. Das heißt, `startswith` funktioniert, `split` hingegen nicht. String-Methoden bei pandas beginnen immer mit `str`, gefolgt von der Methode, also etwa `str.startswith()`. Außerdem müssen wir ihnen in einigen Fällen den Parameter `na=False` übergeben. Hier ein paar Beispiele:"
   ]
  },
  {
   "cell_type": "code",
   "execution_count": 45,
   "id": "17553cc2-c465-4b85-a8b7-ab91ea46fc39",
   "metadata": {},
   "outputs": [
    {
     "name": "stdout",
     "output_type": "stream",
     "text": [
      "217 108 398\n"
     ]
    },
    {
     "data": {
      "text/html": [
       "<div>\n",
       "<style scoped>\n",
       "    .dataframe tbody tr th:only-of-type {\n",
       "        vertical-align: middle;\n",
       "    }\n",
       "\n",
       "    .dataframe tbody tr th {\n",
       "        vertical-align: top;\n",
       "    }\n",
       "\n",
       "    .dataframe thead th {\n",
       "        text-align: right;\n",
       "    }\n",
       "</style>\n",
       "<table border=\"1\" class=\"dataframe\">\n",
       "  <thead>\n",
       "    <tr style=\"text-align: right;\">\n",
       "      <th></th>\n",
       "      <th>Token</th>\n",
       "      <th>Jahr</th>\n",
       "      <th>Häufigkeit</th>\n",
       "      <th>Jahrzehnt</th>\n",
       "      <th>Länge</th>\n",
       "    </tr>\n",
       "  </thead>\n",
       "  <tbody>\n",
       "    <tr>\n",
       "      <th>1091</th>\n",
       "      <td>Bliebe</td>\n",
       "      <td>1969</td>\n",
       "      <td>1</td>\n",
       "      <td>1960</td>\n",
       "      <td>6</td>\n",
       "    </tr>\n",
       "    <tr>\n",
       "      <th>1743</th>\n",
       "      <td>lieber</td>\n",
       "      <td>1969</td>\n",
       "      <td>3</td>\n",
       "      <td>1960</td>\n",
       "      <td>6</td>\n",
       "    </tr>\n",
       "    <tr>\n",
       "      <th>1757</th>\n",
       "      <td>liebe</td>\n",
       "      <td>1969</td>\n",
       "      <td>2</td>\n",
       "      <td>1960</td>\n",
       "      <td>5</td>\n",
       "    </tr>\n",
       "    <tr>\n",
       "      <th>1924</th>\n",
       "      <td>Bliebe</td>\n",
       "      <td>1970</td>\n",
       "      <td>1</td>\n",
       "      <td>1970</td>\n",
       "      <td>6</td>\n",
       "    </tr>\n",
       "    <tr>\n",
       "      <th>2324</th>\n",
       "      <td>bliebe</td>\n",
       "      <td>1970</td>\n",
       "      <td>2</td>\n",
       "      <td>1970</td>\n",
       "      <td>6</td>\n",
       "    </tr>\n",
       "    <tr>\n",
       "      <th>...</th>\n",
       "      <td>...</td>\n",
       "      <td>...</td>\n",
       "      <td>...</td>\n",
       "      <td>...</td>\n",
       "      <td>...</td>\n",
       "    </tr>\n",
       "    <tr>\n",
       "      <th>381292</th>\n",
       "      <td>lieber</td>\n",
       "      <td>2021</td>\n",
       "      <td>9</td>\n",
       "      <td>2020</td>\n",
       "      <td>6</td>\n",
       "    </tr>\n",
       "    <tr>\n",
       "      <th>382420</th>\n",
       "      <td>verlieben</td>\n",
       "      <td>2022</td>\n",
       "      <td>1</td>\n",
       "      <td>2020</td>\n",
       "      <td>9</td>\n",
       "    </tr>\n",
       "    <tr>\n",
       "      <th>384346</th>\n",
       "      <td>lieber</td>\n",
       "      <td>2022</td>\n",
       "      <td>3</td>\n",
       "      <td>2020</td>\n",
       "      <td>6</td>\n",
       "    </tr>\n",
       "    <tr>\n",
       "      <th>384351</th>\n",
       "      <td>lieben</td>\n",
       "      <td>2022</td>\n",
       "      <td>13</td>\n",
       "      <td>2020</td>\n",
       "      <td>6</td>\n",
       "    </tr>\n",
       "    <tr>\n",
       "      <th>384354</th>\n",
       "      <td>liebe</td>\n",
       "      <td>2022</td>\n",
       "      <td>17</td>\n",
       "      <td>2020</td>\n",
       "      <td>5</td>\n",
       "    </tr>\n",
       "  </tbody>\n",
       "</table>\n",
       "<p>398 rows × 5 columns</p>\n",
       "</div>"
      ],
      "text/plain": [
       "            Token  Jahr  Häufigkeit Jahrzehnt  Länge\n",
       "1091       Bliebe  1969           1      1960      6\n",
       "1743       lieber  1969           3      1960      6\n",
       "1757        liebe  1969           2      1960      5\n",
       "1924       Bliebe  1970           1      1970      6\n",
       "2324       bliebe  1970           2      1970      6\n",
       "...           ...   ...         ...       ...    ...\n",
       "381292     lieber  2021           9      2020      6\n",
       "382420  verlieben  2022           1      2020      9\n",
       "384346     lieber  2022           3      2020      6\n",
       "384351     lieben  2022          13      2020      6\n",
       "384354      liebe  2022          17      2020      5\n",
       "\n",
       "[398 rows x 5 columns]"
      ]
     },
     "execution_count": 45,
     "metadata": {},
     "output_type": "execute_result"
    }
   ],
   "source": [
    "liebe_startswith = songkorpus[songkorpus[\"Token\"].str.startswith(\"liebe\", na=False)] #wie normale string-Methode in Python\n",
    "liebe_endswith = songkorpus[songkorpus[\"Token\"].str.endswith(\"liebe\", na=False)] #wie normale string-Methode in Python\n",
    "liebe_contains = songkorpus[songkorpus[\"Token\"].str.contains(\"liebe\", na=False)] #pandas-eigene Methode\n",
    "\n",
    "print(len(liebe_startswith), len(liebe_endswith), len(liebe_contains))\n",
    "liebe_contains"
   ]
  },
  {
   "cell_type": "markdown",
   "id": "dd9ab133-bfee-479e-b80c-6ac37ad4dc7e",
   "metadata": {
    "deletable": false,
    "editable": false
   },
   "source": [
    "***\n",
    "\n",
    "✏️ **Übung 10:** Erstelle das gleiche Sub-DataFrame wie in Übung 9 (also eines, das nur Tokens beinhält, die mindestes 20 Zeichen lang sind), allerdings ohne dabei die Spalte \"Länge\" zu bemühen. Du kannst dazu eine Methode verwenden, die auch bei normalen strings funktioniert. Stelle sicher, dass die Ergebnisse der beiden Übungen identisch sind."
   ]
  },
  {
   "cell_type": "code",
   "execution_count": 46,
   "id": "b25b0b58-14b6-49b6-b4a6-c2117b34fe78",
   "metadata": {},
   "outputs": [],
   "source": [
    "#In diese Zelle kannst Du den Code zur Übung schreiben\n",
    "\n",
    "\n"
   ]
  },
  {
   "cell_type": "markdown",
   "id": "fb9839a9-fcf7-42cd-88d2-7492a17e1fbf",
   "metadata": {
    "deletable": false,
    "editable": false
   },
   "source": [
    "***\n",
    "\n",
    "Gut zu wissen: Filter können auch miteinander kombiniert werden. Dazu verwenden wir die logischen Operatoren aus dem vierten Notebook, die bei pandas allerdings in einem anderen Gewand daherkommen:\n",
    "\n",
    "- `&` steht für für `and`\n",
    "- `|` steht für `or` \n",
    "\n",
    "Außerdem steht `~` steht für `not` und kann zur Negation eines in runde Klammern gesetzten, einzelnen Filters benutzt werden.\n",
    "\n",
    "Unter Verwendung von `&` können wir beispielsweise alle (potenziellen) regelmäßigen Partizip II-Formen extrahieren:"
   ]
  },
  {
   "cell_type": "code",
   "execution_count": 47,
   "id": "97271f58-6d35-438c-ab3d-fecc5ec97824",
   "metadata": {},
   "outputs": [
    {
     "data": {
      "text/html": [
       "<div>\n",
       "<style scoped>\n",
       "    .dataframe tbody tr th:only-of-type {\n",
       "        vertical-align: middle;\n",
       "    }\n",
       "\n",
       "    .dataframe tbody tr th {\n",
       "        vertical-align: top;\n",
       "    }\n",
       "\n",
       "    .dataframe thead th {\n",
       "        text-align: right;\n",
       "    }\n",
       "</style>\n",
       "<table border=\"1\" class=\"dataframe\">\n",
       "  <thead>\n",
       "    <tr style=\"text-align: right;\">\n",
       "      <th></th>\n",
       "      <th>Token</th>\n",
       "      <th>Jahr</th>\n",
       "      <th>Häufigkeit</th>\n",
       "      <th>Jahrzehnt</th>\n",
       "      <th>Länge</th>\n",
       "    </tr>\n",
       "  </thead>\n",
       "  <tbody>\n",
       "    <tr>\n",
       "      <th>334</th>\n",
       "      <td>gefasst</td>\n",
       "      <td>1969</td>\n",
       "      <td>1</td>\n",
       "      <td>1960</td>\n",
       "      <td>7</td>\n",
       "    </tr>\n",
       "    <tr>\n",
       "      <th>398</th>\n",
       "      <td>gefüllt</td>\n",
       "      <td>1969</td>\n",
       "      <td>2</td>\n",
       "      <td>1960</td>\n",
       "      <td>7</td>\n",
       "    </tr>\n",
       "    <tr>\n",
       "      <th>423</th>\n",
       "      <td>gefühlt</td>\n",
       "      <td>1969</td>\n",
       "      <td>1</td>\n",
       "      <td>1960</td>\n",
       "      <td>7</td>\n",
       "    </tr>\n",
       "    <tr>\n",
       "      <th>469</th>\n",
       "      <td>gebracht</td>\n",
       "      <td>1969</td>\n",
       "      <td>2</td>\n",
       "      <td>1960</td>\n",
       "      <td>8</td>\n",
       "    </tr>\n",
       "    <tr>\n",
       "      <th>515</th>\n",
       "      <td>geduldet</td>\n",
       "      <td>1969</td>\n",
       "      <td>1</td>\n",
       "      <td>1960</td>\n",
       "      <td>8</td>\n",
       "    </tr>\n",
       "    <tr>\n",
       "      <th>...</th>\n",
       "      <td>...</td>\n",
       "      <td>...</td>\n",
       "      <td>...</td>\n",
       "      <td>...</td>\n",
       "      <td>...</td>\n",
       "    </tr>\n",
       "    <tr>\n",
       "      <th>385594</th>\n",
       "      <td>gestresst</td>\n",
       "      <td>2022</td>\n",
       "      <td>2</td>\n",
       "      <td>2020</td>\n",
       "      <td>9</td>\n",
       "    </tr>\n",
       "    <tr>\n",
       "      <th>385603</th>\n",
       "      <td>gesagt</td>\n",
       "      <td>2022</td>\n",
       "      <td>4</td>\n",
       "      <td>2020</td>\n",
       "      <td>6</td>\n",
       "    </tr>\n",
       "    <tr>\n",
       "      <th>385610</th>\n",
       "      <td>geschafft</td>\n",
       "      <td>2022</td>\n",
       "      <td>3</td>\n",
       "      <td>2020</td>\n",
       "      <td>9</td>\n",
       "    </tr>\n",
       "    <tr>\n",
       "      <th>385653</th>\n",
       "      <td>geschleudert</td>\n",
       "      <td>2022</td>\n",
       "      <td>1</td>\n",
       "      <td>2020</td>\n",
       "      <td>12</td>\n",
       "    </tr>\n",
       "    <tr>\n",
       "      <th>385688</th>\n",
       "      <td>geschenkt</td>\n",
       "      <td>2022</td>\n",
       "      <td>2</td>\n",
       "      <td>2020</td>\n",
       "      <td>9</td>\n",
       "    </tr>\n",
       "  </tbody>\n",
       "</table>\n",
       "<p>5125 rows × 5 columns</p>\n",
       "</div>"
      ],
      "text/plain": [
       "               Token  Jahr  Häufigkeit Jahrzehnt  Länge\n",
       "334          gefasst  1969           1      1960      7\n",
       "398          gefüllt  1969           2      1960      7\n",
       "423          gefühlt  1969           1      1960      7\n",
       "469         gebracht  1969           2      1960      8\n",
       "515         geduldet  1969           1      1960      8\n",
       "...              ...   ...         ...       ...    ...\n",
       "385594     gestresst  2022           2      2020      9\n",
       "385603        gesagt  2022           4      2020      6\n",
       "385610     geschafft  2022           3      2020      9\n",
       "385653  geschleudert  2022           1      2020     12\n",
       "385688     geschenkt  2022           2      2020      9\n",
       "\n",
       "[5125 rows x 5 columns]"
      ]
     },
     "execution_count": 47,
     "metadata": {},
     "output_type": "execute_result"
    }
   ],
   "source": [
    "songkorpus[songkorpus[\"Token\"].str.startswith(\"ge\", na=False) & songkorpus[\"Token\"].str.endswith(\"t\", na=False)]"
   ]
  },
  {
   "cell_type": "markdown",
   "id": "18d4bb00-3246-4568-98ab-a75e1caf9e2b",
   "metadata": {
    "deletable": false,
    "editable": false
   },
   "source": [
    "Bedenke, dass auch falsch positive Ergebnisse dabei sein könnten sowie, dass falsch negative fehlen könnten (vgl. fünftes Notebook).\n",
    "\n",
    "Nun wissen wir, wie wir ein DataFrame filtern können. \n",
    "\n",
    "## Werte zählen\n",
    "\n",
    "Dieses Wissen können wir auch einsetzen, um spezifische Werte – im Gegensatz zu allen Werten wie bei `value_counts` oben – in einer Spalte auszuzählen:"
   ]
  },
  {
   "cell_type": "code",
   "execution_count": 48,
   "id": "67ffe10b-df4a-4eed-ac55-88c91351cf8e",
   "metadata": {},
   "outputs": [
    {
     "data": {
      "text/plain": [
       "5"
      ]
     },
     "execution_count": 48,
     "metadata": {},
     "output_type": "execute_result"
    }
   ],
   "source": [
    "len(songkorpus[songkorpus[\"Token\"] == \"Wunderkind\"])"
   ]
  },
  {
   "cell_type": "markdown",
   "id": "aa962672-ed81-4900-bad3-9f7a93f41564",
   "metadata": {
    "deletable": false,
    "editable": false
   },
   "source": [
    "Wir filtern also das DataFrame (\"alle Zeilen, in denen 'Wunderkind' in der Spalte 'Token' steht\") und lassen uns ganz einfach seine Länge (sprich die Anzahl an Zeilen) ausgeben.\n",
    "\n",
    "## Werte bearbeiten\n",
    "\n",
    "Auch zum Bearbeiten von Werten benötigen wir nur bereits erlerntes Wissen. Grundsätzlich können wir alles von einem kompletten DataFrame, über eine Series (in Form einer Spalte oder Zeile) bis hin zu einzelnen, spezifischen Werten bearbeiten. \n",
    "\n",
    "Die Möglichkeiten der Bearbeitung hängen natürlich vom Datentyp der Werte ab. In unserem DataFrame haben wir einerseits strings und andererseits numerische Werte und Spalten weisen jeweils einen homogen Datentyp auf.\n",
    "\n",
    "Die Logik ist unabhängig davon, was wir wie bearbeiten, immer die gleiche: Wir greifen auf den gewünschten Ausschnitt des DataFrames zu (s.o.) und überschreiben ihn mit demselben Ausschnitt in bearbeiteter Form. Anstatt Überschreiben können wir die bearbeiteten Werte natürlich immer auch einer neuen Spalte oder Zeile (desgleichen oder eines neuen DataFrames) zuweisen, sofern die jeweiligen Dimensionen übereinstimmen  (s.o.). \n",
    "\n",
    "### Strings\n",
    "\n",
    "Auf strings angewandt, sieht das so aus, wenn wir etwa alle Tokens kleinschreiben wollen. Auch hier setzen wir `str` vor die pandas-string-Methode:"
   ]
  },
  {
   "cell_type": "code",
   "execution_count": 49,
   "id": "b024ccb6-4b3b-433e-a3c9-1f362c480f08",
   "metadata": {},
   "outputs": [
    {
     "data": {
      "text/html": [
       "<div>\n",
       "<style scoped>\n",
       "    .dataframe tbody tr th:only-of-type {\n",
       "        vertical-align: middle;\n",
       "    }\n",
       "\n",
       "    .dataframe tbody tr th {\n",
       "        vertical-align: top;\n",
       "    }\n",
       "\n",
       "    .dataframe thead th {\n",
       "        text-align: right;\n",
       "    }\n",
       "</style>\n",
       "<table border=\"1\" class=\"dataframe\">\n",
       "  <thead>\n",
       "    <tr style=\"text-align: right;\">\n",
       "      <th></th>\n",
       "      <th>Token</th>\n",
       "      <th>Jahr</th>\n",
       "      <th>Häufigkeit</th>\n",
       "      <th>Jahrzehnt</th>\n",
       "      <th>Länge</th>\n",
       "    </tr>\n",
       "  </thead>\n",
       "  <tbody>\n",
       "    <tr>\n",
       "      <th>0</th>\n",
       "      <td>ellenbogen</td>\n",
       "      <td>1969</td>\n",
       "      <td>1</td>\n",
       "      <td>1960</td>\n",
       "      <td>10</td>\n",
       "    </tr>\n",
       "    <tr>\n",
       "      <th>1</th>\n",
       "      <td>atmen</td>\n",
       "      <td>1969</td>\n",
       "      <td>1</td>\n",
       "      <td>1960</td>\n",
       "      <td>5</td>\n",
       "    </tr>\n",
       "    <tr>\n",
       "      <th>2</th>\n",
       "      <td>seines</td>\n",
       "      <td>1969</td>\n",
       "      <td>1</td>\n",
       "      <td>1960</td>\n",
       "      <td>6</td>\n",
       "    </tr>\n",
       "    <tr>\n",
       "      <th>3</th>\n",
       "      <td>seinerseits</td>\n",
       "      <td>1969</td>\n",
       "      <td>1</td>\n",
       "      <td>1960</td>\n",
       "      <td>11</td>\n",
       "    </tr>\n",
       "    <tr>\n",
       "      <th>4</th>\n",
       "      <td>jetzt</td>\n",
       "      <td>1969</td>\n",
       "      <td>4</td>\n",
       "      <td>1960</td>\n",
       "      <td>5</td>\n",
       "    </tr>\n",
       "    <tr>\n",
       "      <th>...</th>\n",
       "      <td>...</td>\n",
       "      <td>...</td>\n",
       "      <td>...</td>\n",
       "      <td>...</td>\n",
       "      <td>...</td>\n",
       "    </tr>\n",
       "    <tr>\n",
       "      <th>386505</th>\n",
       "      <td>uhh</td>\n",
       "      <td>2022</td>\n",
       "      <td>2</td>\n",
       "      <td>2020</td>\n",
       "      <td>3</td>\n",
       "    </tr>\n",
       "    <tr>\n",
       "      <th>386506</th>\n",
       "      <td>amate</td>\n",
       "      <td>2022</td>\n",
       "      <td>1</td>\n",
       "      <td>2020</td>\n",
       "      <td>5</td>\n",
       "    </tr>\n",
       "    <tr>\n",
       "      <th>386507</th>\n",
       "      <td>schlief</td>\n",
       "      <td>2022</td>\n",
       "      <td>6</td>\n",
       "      <td>2020</td>\n",
       "      <td>7</td>\n",
       "    </tr>\n",
       "    <tr>\n",
       "      <th>386508</th>\n",
       "      <td>uhren</td>\n",
       "      <td>2022</td>\n",
       "      <td>2</td>\n",
       "      <td>2020</td>\n",
       "      <td>5</td>\n",
       "    </tr>\n",
       "    <tr>\n",
       "      <th>386509</th>\n",
       "      <td>bladis</td>\n",
       "      <td>2022</td>\n",
       "      <td>3</td>\n",
       "      <td>2020</td>\n",
       "      <td>6</td>\n",
       "    </tr>\n",
       "  </tbody>\n",
       "</table>\n",
       "<p>386510 rows × 5 columns</p>\n",
       "</div>"
      ],
      "text/plain": [
       "              Token  Jahr  Häufigkeit Jahrzehnt  Länge\n",
       "0        ellenbogen  1969           1      1960     10\n",
       "1             atmen  1969           1      1960      5\n",
       "2            seines  1969           1      1960      6\n",
       "3       seinerseits  1969           1      1960     11\n",
       "4             jetzt  1969           4      1960      5\n",
       "...             ...   ...         ...       ...    ...\n",
       "386505          uhh  2022           2      2020      3\n",
       "386506        amate  2022           1      2020      5\n",
       "386507      schlief  2022           6      2020      7\n",
       "386508        uhren  2022           2      2020      5\n",
       "386509       bladis  2022           3      2020      6\n",
       "\n",
       "[386510 rows x 5 columns]"
      ]
     },
     "execution_count": 49,
     "metadata": {},
     "output_type": "execute_result"
    }
   ],
   "source": [
    "songkorpus[\"Token\"] = songkorpus[\"Token\"].str.lower()\n",
    "songkorpus"
   ]
  },
  {
   "cell_type": "markdown",
   "id": "aff80b29-37ca-407d-8f47-f498622ae901",
   "metadata": {
    "deletable": false,
    "editable": false
   },
   "source": [
    "Diese einzeilige Syntax hat es in sich: Man kann sie sich in gewohnter Python-Logik wie eine Iteration vorstellen: Im vorliegenden Fall wird Wort für Wort (in der Spalte \"Token\") kleingeschrieben. Mit dem Resultat wird die Spalte überschrieben. Sie ist dennoch nicht mit einer List Comprehension, die ja auch nur eine einzige Zeile benötigt, zu verwechseln. Denn im Gegensatz zu pythonischen `for`-Loops und ihre simplifizierte Version List Comprehension, wird der Code mit der pandas-eigenen Syntax oft wesentlich schneller berechnet (teils über 1000 Mal schneller!). Grund dafür ist die sog. *Vektorisierung*. Ganz einfach forumuliert wird dabei dieselbe Operation nicht auf ein Element nach dem anderen angewandt (wie bei `for`-Loops), sondern auf mehrere gleichzeitig. Außerdem sind pandas-Operationen im Gegensatz zu nativem Python-Code (`for`-Loops) speziell auf Effizienz ausgelegt. Wenn Du Dich dafür interessierst, findest Du u.a. in [diesem Artikel](https://medium.com/analytics-vidhya/understanding-vectorization-in-numpy-and-pandas-188b6ebc5398) und [diesem Video](https://www.youtube.com/watch?v=nxWginnBklU) Anknüpfungspunkte. Weiter unten folgen Übungen zum Vergleich von nativem Python-Code und pandas-Code.\n",
    "\n",
    "Zusätzlich zu den bisher verwendeten string-Methoden `lower`, `startswith`, `endswith` und `len` bietet pandas u.a. folgende an, die allesamt wie ihre nativen Python-Pendants funktionieren (vgl. viertes Notebook): \n",
    "- `upper`, `capitalize`, `swapcase`, `isupper` und `islower` zur Bearbeitung/Überprüfung von Groß-/Kleinschreibung der strings.\n",
    "- `split` zum Splitten der strings, optional mit dem Parameter `expand=True`, um jedem unterteilten Element eine neue Spalte zuzuweisen.\n",
    "- `replace` zum Ersetzen aller Vorkommen eines strings/regulären Ausdrucks (hier zusätzlich `regex=True` spezifizieren) mit einem anderen string.\n",
    "- `count` zum Berechnen der Auftretenshäufigkeit eines strings/regulären Ausdrucks in den strings.\n",
    "- `strip`, `lstrip` und `rstrip` zum Entfernen von (leading/trailing) whitespace in den strings.\n",
    "\n",
    "Neben `contains` (s.o.) ist außerdem `slice` eine nützliche pandas-string-Methode, die abweichend von ihrem nativen Python-Pendant heißt: `slice` mit den Argumenten `start`, `stop`, `step` implementiert die Funktionalität der eckigen Klammern, die wir bei normalen Python-strings zum Slicen verwenden.\n",
    "\n",
    "[Hier](https://pandas.pydata.org/docs/user_guide/text.html) findest Du mehr Infos zu sämlichen string-Methoden bei pandas. Denke stets daran, `str` vor die jeweilige string-Methode zu hängen!\n",
    "\n",
    "Zwei letzte praktische Methoden sind `isin(list)` und `shift(n)`, die aber nicht string-spezifisch sind, weswegen wir kein `str` vor die Methode hängen. `isin` überprüft, ob ein Wert Element der übergebenen Liste ist und gibt eine Series mit Boolschen Werten zurück. `shift` wiederum lässt uns auf den Inhalt benachbarter Zeilen zugreifen, konkret auf den Inhalt der um `n` nach oben (n) bzw. nach unten (-n) *geshifteten* Zeile. Das macht `shift` insbesondere für die Erstellung von n-grammen interessant. Die folgende Code-Zelle demonstriert die Erstellung von Bigrammen basierend auf einer Spalte mit Token (Unigrammen):"
   ]
  },
  {
   "cell_type": "code",
   "execution_count": 50,
   "id": "9ae22d36-524e-4721-8ca8-27a6bcbb9a8a",
   "metadata": {},
   "outputs": [
    {
     "data": {
      "text/html": [
       "<div>\n",
       "<style scoped>\n",
       "    .dataframe tbody tr th:only-of-type {\n",
       "        vertical-align: middle;\n",
       "    }\n",
       "\n",
       "    .dataframe tbody tr th {\n",
       "        vertical-align: top;\n",
       "    }\n",
       "\n",
       "    .dataframe thead th {\n",
       "        text-align: right;\n",
       "    }\n",
       "</style>\n",
       "<table border=\"1\" class=\"dataframe\">\n",
       "  <thead>\n",
       "    <tr style=\"text-align: right;\">\n",
       "      <th></th>\n",
       "      <th>unigram</th>\n",
       "      <th>bigram</th>\n",
       "    </tr>\n",
       "  </thead>\n",
       "  <tbody>\n",
       "    <tr>\n",
       "      <th>0</th>\n",
       "      <td>Ich</td>\n",
       "      <td>Ich gehe</td>\n",
       "    </tr>\n",
       "    <tr>\n",
       "      <th>1</th>\n",
       "      <td>gehe</td>\n",
       "      <td>gehe am</td>\n",
       "    </tr>\n",
       "    <tr>\n",
       "      <th>2</th>\n",
       "      <td>am</td>\n",
       "      <td>am Abend</td>\n",
       "    </tr>\n",
       "    <tr>\n",
       "      <th>3</th>\n",
       "      <td>Abend</td>\n",
       "      <td>Abend noch</td>\n",
       "    </tr>\n",
       "    <tr>\n",
       "      <th>4</th>\n",
       "      <td>noch</td>\n",
       "      <td>noch spazieren</td>\n",
       "    </tr>\n",
       "    <tr>\n",
       "      <th>5</th>\n",
       "      <td>spazieren</td>\n",
       "      <td>NaN</td>\n",
       "    </tr>\n",
       "  </tbody>\n",
       "</table>\n",
       "</div>"
      ],
      "text/plain": [
       "     unigram          bigram\n",
       "0        Ich        Ich gehe\n",
       "1       gehe         gehe am\n",
       "2         am        am Abend\n",
       "3      Abend      Abend noch\n",
       "4       noch  noch spazieren\n",
       "5  spazieren             NaN"
      ]
     },
     "execution_count": 50,
     "metadata": {},
     "output_type": "execute_result"
    }
   ],
   "source": [
    "ngram_df = pd.DataFrame([\"Ich\", \"gehe\", \"am\", \"Abend\", \"noch\", \"spazieren\"], columns=[\"unigram\"])\n",
    "ngram_df[\"bigram\"] = ngram_df[\"unigram\"] + \" \" + ngram_df[\"unigram\"].shift(-1)\n",
    "ngram_df"
   ]
  },
  {
   "cell_type": "markdown",
   "id": "7369cdd4-58cc-40e8-bfcd-f39289dd729f",
   "metadata": {
    "deletable": false,
    "editable": false
   },
   "source": [
    "So einfach kann die Berechnung von n-grammen sein!\n",
    "\n",
    "### Numerische Werte\n",
    "\n",
    "Bei numerischen Werten wiederum können wir ganz einfach arithmetische Operatoren (vgl. erstes Notebook) verwenden, etwa um alle Werte einer Spalte zu verdoppeln:"
   ]
  },
  {
   "cell_type": "code",
   "execution_count": 51,
   "id": "ac4e7c6b-7ad5-4e90-8d23-e5b3e229fc2c",
   "metadata": {},
   "outputs": [
    {
     "data": {
      "text/html": [
       "<div>\n",
       "<style scoped>\n",
       "    .dataframe tbody tr th:only-of-type {\n",
       "        vertical-align: middle;\n",
       "    }\n",
       "\n",
       "    .dataframe tbody tr th {\n",
       "        vertical-align: top;\n",
       "    }\n",
       "\n",
       "    .dataframe thead th {\n",
       "        text-align: right;\n",
       "    }\n",
       "</style>\n",
       "<table border=\"1\" class=\"dataframe\">\n",
       "  <thead>\n",
       "    <tr style=\"text-align: right;\">\n",
       "      <th></th>\n",
       "      <th>Token</th>\n",
       "      <th>Jahr</th>\n",
       "      <th>Häufigkeit</th>\n",
       "      <th>Jahrzehnt</th>\n",
       "      <th>Länge</th>\n",
       "    </tr>\n",
       "  </thead>\n",
       "  <tbody>\n",
       "    <tr>\n",
       "      <th>0</th>\n",
       "      <td>ellenbogen</td>\n",
       "      <td>1969</td>\n",
       "      <td>2</td>\n",
       "      <td>1960</td>\n",
       "      <td>10</td>\n",
       "    </tr>\n",
       "    <tr>\n",
       "      <th>1</th>\n",
       "      <td>atmen</td>\n",
       "      <td>1969</td>\n",
       "      <td>2</td>\n",
       "      <td>1960</td>\n",
       "      <td>5</td>\n",
       "    </tr>\n",
       "    <tr>\n",
       "      <th>2</th>\n",
       "      <td>seines</td>\n",
       "      <td>1969</td>\n",
       "      <td>2</td>\n",
       "      <td>1960</td>\n",
       "      <td>6</td>\n",
       "    </tr>\n",
       "    <tr>\n",
       "      <th>3</th>\n",
       "      <td>seinerseits</td>\n",
       "      <td>1969</td>\n",
       "      <td>2</td>\n",
       "      <td>1960</td>\n",
       "      <td>11</td>\n",
       "    </tr>\n",
       "    <tr>\n",
       "      <th>4</th>\n",
       "      <td>jetzt</td>\n",
       "      <td>1969</td>\n",
       "      <td>8</td>\n",
       "      <td>1960</td>\n",
       "      <td>5</td>\n",
       "    </tr>\n",
       "    <tr>\n",
       "      <th>...</th>\n",
       "      <td>...</td>\n",
       "      <td>...</td>\n",
       "      <td>...</td>\n",
       "      <td>...</td>\n",
       "      <td>...</td>\n",
       "    </tr>\n",
       "    <tr>\n",
       "      <th>386505</th>\n",
       "      <td>uhh</td>\n",
       "      <td>2022</td>\n",
       "      <td>4</td>\n",
       "      <td>2020</td>\n",
       "      <td>3</td>\n",
       "    </tr>\n",
       "    <tr>\n",
       "      <th>386506</th>\n",
       "      <td>amate</td>\n",
       "      <td>2022</td>\n",
       "      <td>2</td>\n",
       "      <td>2020</td>\n",
       "      <td>5</td>\n",
       "    </tr>\n",
       "    <tr>\n",
       "      <th>386507</th>\n",
       "      <td>schlief</td>\n",
       "      <td>2022</td>\n",
       "      <td>12</td>\n",
       "      <td>2020</td>\n",
       "      <td>7</td>\n",
       "    </tr>\n",
       "    <tr>\n",
       "      <th>386508</th>\n",
       "      <td>uhren</td>\n",
       "      <td>2022</td>\n",
       "      <td>4</td>\n",
       "      <td>2020</td>\n",
       "      <td>5</td>\n",
       "    </tr>\n",
       "    <tr>\n",
       "      <th>386509</th>\n",
       "      <td>bladis</td>\n",
       "      <td>2022</td>\n",
       "      <td>6</td>\n",
       "      <td>2020</td>\n",
       "      <td>6</td>\n",
       "    </tr>\n",
       "  </tbody>\n",
       "</table>\n",
       "<p>386510 rows × 5 columns</p>\n",
       "</div>"
      ],
      "text/plain": [
       "              Token  Jahr  Häufigkeit Jahrzehnt  Länge\n",
       "0        ellenbogen  1969           2      1960     10\n",
       "1             atmen  1969           2      1960      5\n",
       "2            seines  1969           2      1960      6\n",
       "3       seinerseits  1969           2      1960     11\n",
       "4             jetzt  1969           8      1960      5\n",
       "...             ...   ...         ...       ...    ...\n",
       "386505          uhh  2022           4      2020      3\n",
       "386506        amate  2022           2      2020      5\n",
       "386507      schlief  2022          12      2020      7\n",
       "386508        uhren  2022           4      2020      5\n",
       "386509       bladis  2022           6      2020      6\n",
       "\n",
       "[386510 rows x 5 columns]"
      ]
     },
     "execution_count": 51,
     "metadata": {},
     "output_type": "execute_result"
    }
   ],
   "source": [
    "#führe diese Zeile nur einmal aus, denn mit jedem Mal verdoppeln sich die Werte\n",
    "songkorpus[\"Häufigkeit\"] = songkorpus[\"Häufigkeit\"] * 2\n",
    "songkorpus"
   ]
  },
  {
   "cell_type": "markdown",
   "id": "527e1f9c-5293-42eb-85da-611bfc6702b0",
   "metadata": {
    "deletable": false,
    "editable": false
   },
   "source": [
    "Hierfür funktionieren auch die anderen uns bekannten arithmetischen Operatoren: ```+``` für Addition (eignet sich überdies zur Konkatenation von strings), ```-``` für Subtraktion,  ```/``` für Division und ```**``` fürs Potenzieren. \n",
    "\n",
    "### Datentyp ändern\n",
    "\n",
    "Sollten Werte mal im falschen Datentyp vorliegen, kann man (sofern sinnvoll) die Methode `astype` verwenden, um Werte in den gewünschten Datentyp zu casten. Wenn wir z.B. die Häufigkeiten wieder in den Originalzustand versetzen wollen, können wir erst alle Werte in der entsprechenden Spalte halbieren..."
   ]
  },
  {
   "cell_type": "code",
   "execution_count": 52,
   "id": "e29624f0-fe1f-41da-a5ae-17ce0110f5e8",
   "metadata": {},
   "outputs": [
    {
     "data": {
      "text/html": [
       "<div>\n",
       "<style scoped>\n",
       "    .dataframe tbody tr th:only-of-type {\n",
       "        vertical-align: middle;\n",
       "    }\n",
       "\n",
       "    .dataframe tbody tr th {\n",
       "        vertical-align: top;\n",
       "    }\n",
       "\n",
       "    .dataframe thead th {\n",
       "        text-align: right;\n",
       "    }\n",
       "</style>\n",
       "<table border=\"1\" class=\"dataframe\">\n",
       "  <thead>\n",
       "    <tr style=\"text-align: right;\">\n",
       "      <th></th>\n",
       "      <th>Token</th>\n",
       "      <th>Jahr</th>\n",
       "      <th>Häufigkeit</th>\n",
       "      <th>Jahrzehnt</th>\n",
       "      <th>Länge</th>\n",
       "    </tr>\n",
       "  </thead>\n",
       "  <tbody>\n",
       "    <tr>\n",
       "      <th>0</th>\n",
       "      <td>ellenbogen</td>\n",
       "      <td>1969</td>\n",
       "      <td>1.0</td>\n",
       "      <td>1960</td>\n",
       "      <td>10</td>\n",
       "    </tr>\n",
       "    <tr>\n",
       "      <th>1</th>\n",
       "      <td>atmen</td>\n",
       "      <td>1969</td>\n",
       "      <td>1.0</td>\n",
       "      <td>1960</td>\n",
       "      <td>5</td>\n",
       "    </tr>\n",
       "    <tr>\n",
       "      <th>2</th>\n",
       "      <td>seines</td>\n",
       "      <td>1969</td>\n",
       "      <td>1.0</td>\n",
       "      <td>1960</td>\n",
       "      <td>6</td>\n",
       "    </tr>\n",
       "    <tr>\n",
       "      <th>3</th>\n",
       "      <td>seinerseits</td>\n",
       "      <td>1969</td>\n",
       "      <td>1.0</td>\n",
       "      <td>1960</td>\n",
       "      <td>11</td>\n",
       "    </tr>\n",
       "    <tr>\n",
       "      <th>4</th>\n",
       "      <td>jetzt</td>\n",
       "      <td>1969</td>\n",
       "      <td>4.0</td>\n",
       "      <td>1960</td>\n",
       "      <td>5</td>\n",
       "    </tr>\n",
       "    <tr>\n",
       "      <th>...</th>\n",
       "      <td>...</td>\n",
       "      <td>...</td>\n",
       "      <td>...</td>\n",
       "      <td>...</td>\n",
       "      <td>...</td>\n",
       "    </tr>\n",
       "    <tr>\n",
       "      <th>386505</th>\n",
       "      <td>uhh</td>\n",
       "      <td>2022</td>\n",
       "      <td>2.0</td>\n",
       "      <td>2020</td>\n",
       "      <td>3</td>\n",
       "    </tr>\n",
       "    <tr>\n",
       "      <th>386506</th>\n",
       "      <td>amate</td>\n",
       "      <td>2022</td>\n",
       "      <td>1.0</td>\n",
       "      <td>2020</td>\n",
       "      <td>5</td>\n",
       "    </tr>\n",
       "    <tr>\n",
       "      <th>386507</th>\n",
       "      <td>schlief</td>\n",
       "      <td>2022</td>\n",
       "      <td>6.0</td>\n",
       "      <td>2020</td>\n",
       "      <td>7</td>\n",
       "    </tr>\n",
       "    <tr>\n",
       "      <th>386508</th>\n",
       "      <td>uhren</td>\n",
       "      <td>2022</td>\n",
       "      <td>2.0</td>\n",
       "      <td>2020</td>\n",
       "      <td>5</td>\n",
       "    </tr>\n",
       "    <tr>\n",
       "      <th>386509</th>\n",
       "      <td>bladis</td>\n",
       "      <td>2022</td>\n",
       "      <td>3.0</td>\n",
       "      <td>2020</td>\n",
       "      <td>6</td>\n",
       "    </tr>\n",
       "  </tbody>\n",
       "</table>\n",
       "<p>386510 rows × 5 columns</p>\n",
       "</div>"
      ],
      "text/plain": [
       "              Token  Jahr  Häufigkeit Jahrzehnt  Länge\n",
       "0        ellenbogen  1969         1.0      1960     10\n",
       "1             atmen  1969         1.0      1960      5\n",
       "2            seines  1969         1.0      1960      6\n",
       "3       seinerseits  1969         1.0      1960     11\n",
       "4             jetzt  1969         4.0      1960      5\n",
       "...             ...   ...         ...       ...    ...\n",
       "386505          uhh  2022         2.0      2020      3\n",
       "386506        amate  2022         1.0      2020      5\n",
       "386507      schlief  2022         6.0      2020      7\n",
       "386508        uhren  2022         2.0      2020      5\n",
       "386509       bladis  2022         3.0      2020      6\n",
       "\n",
       "[386510 rows x 5 columns]"
      ]
     },
     "execution_count": 52,
     "metadata": {},
     "output_type": "execute_result"
    }
   ],
   "source": [
    "songkorpus[\"Häufigkeit\"] = songkorpus[\"Häufigkeit\"] / 2\n",
    "songkorpus"
   ]
  },
  {
   "cell_type": "markdown",
   "id": "af036cd4-6bae-4eba-b55f-ed5ddbf0482e",
   "metadata": {
    "deletable": false,
    "editable": false
   },
   "source": [
    "...und, da Resultat einer Division immer Dezimalzahlen sind (s. Nachkommastelle), anschließend in Ganzzahlen casten:"
   ]
  },
  {
   "cell_type": "code",
   "execution_count": 53,
   "id": "671ebc2f-1200-45d0-92b1-b12403c87a34",
   "metadata": {},
   "outputs": [
    {
     "data": {
      "text/html": [
       "<div>\n",
       "<style scoped>\n",
       "    .dataframe tbody tr th:only-of-type {\n",
       "        vertical-align: middle;\n",
       "    }\n",
       "\n",
       "    .dataframe tbody tr th {\n",
       "        vertical-align: top;\n",
       "    }\n",
       "\n",
       "    .dataframe thead th {\n",
       "        text-align: right;\n",
       "    }\n",
       "</style>\n",
       "<table border=\"1\" class=\"dataframe\">\n",
       "  <thead>\n",
       "    <tr style=\"text-align: right;\">\n",
       "      <th></th>\n",
       "      <th>Token</th>\n",
       "      <th>Jahr</th>\n",
       "      <th>Häufigkeit</th>\n",
       "      <th>Jahrzehnt</th>\n",
       "      <th>Länge</th>\n",
       "    </tr>\n",
       "  </thead>\n",
       "  <tbody>\n",
       "    <tr>\n",
       "      <th>0</th>\n",
       "      <td>ellenbogen</td>\n",
       "      <td>1969</td>\n",
       "      <td>1</td>\n",
       "      <td>1960</td>\n",
       "      <td>10</td>\n",
       "    </tr>\n",
       "    <tr>\n",
       "      <th>1</th>\n",
       "      <td>atmen</td>\n",
       "      <td>1969</td>\n",
       "      <td>1</td>\n",
       "      <td>1960</td>\n",
       "      <td>5</td>\n",
       "    </tr>\n",
       "    <tr>\n",
       "      <th>2</th>\n",
       "      <td>seines</td>\n",
       "      <td>1969</td>\n",
       "      <td>1</td>\n",
       "      <td>1960</td>\n",
       "      <td>6</td>\n",
       "    </tr>\n",
       "    <tr>\n",
       "      <th>3</th>\n",
       "      <td>seinerseits</td>\n",
       "      <td>1969</td>\n",
       "      <td>1</td>\n",
       "      <td>1960</td>\n",
       "      <td>11</td>\n",
       "    </tr>\n",
       "    <tr>\n",
       "      <th>4</th>\n",
       "      <td>jetzt</td>\n",
       "      <td>1969</td>\n",
       "      <td>4</td>\n",
       "      <td>1960</td>\n",
       "      <td>5</td>\n",
       "    </tr>\n",
       "    <tr>\n",
       "      <th>...</th>\n",
       "      <td>...</td>\n",
       "      <td>...</td>\n",
       "      <td>...</td>\n",
       "      <td>...</td>\n",
       "      <td>...</td>\n",
       "    </tr>\n",
       "    <tr>\n",
       "      <th>386505</th>\n",
       "      <td>uhh</td>\n",
       "      <td>2022</td>\n",
       "      <td>2</td>\n",
       "      <td>2020</td>\n",
       "      <td>3</td>\n",
       "    </tr>\n",
       "    <tr>\n",
       "      <th>386506</th>\n",
       "      <td>amate</td>\n",
       "      <td>2022</td>\n",
       "      <td>1</td>\n",
       "      <td>2020</td>\n",
       "      <td>5</td>\n",
       "    </tr>\n",
       "    <tr>\n",
       "      <th>386507</th>\n",
       "      <td>schlief</td>\n",
       "      <td>2022</td>\n",
       "      <td>6</td>\n",
       "      <td>2020</td>\n",
       "      <td>7</td>\n",
       "    </tr>\n",
       "    <tr>\n",
       "      <th>386508</th>\n",
       "      <td>uhren</td>\n",
       "      <td>2022</td>\n",
       "      <td>2</td>\n",
       "      <td>2020</td>\n",
       "      <td>5</td>\n",
       "    </tr>\n",
       "    <tr>\n",
       "      <th>386509</th>\n",
       "      <td>bladis</td>\n",
       "      <td>2022</td>\n",
       "      <td>3</td>\n",
       "      <td>2020</td>\n",
       "      <td>6</td>\n",
       "    </tr>\n",
       "  </tbody>\n",
       "</table>\n",
       "<p>386510 rows × 5 columns</p>\n",
       "</div>"
      ],
      "text/plain": [
       "              Token  Jahr  Häufigkeit Jahrzehnt  Länge\n",
       "0        ellenbogen  1969           1      1960     10\n",
       "1             atmen  1969           1      1960      5\n",
       "2            seines  1969           1      1960      6\n",
       "3       seinerseits  1969           1      1960     11\n",
       "4             jetzt  1969           4      1960      5\n",
       "...             ...   ...         ...       ...    ...\n",
       "386505          uhh  2022           2      2020      3\n",
       "386506        amate  2022           1      2020      5\n",
       "386507      schlief  2022           6      2020      7\n",
       "386508        uhren  2022           2      2020      5\n",
       "386509       bladis  2022           3      2020      6\n",
       "\n",
       "[386510 rows x 5 columns]"
      ]
     },
     "execution_count": 53,
     "metadata": {},
     "output_type": "execute_result"
    }
   ],
   "source": [
    "songkorpus[\"Häufigkeit\"] = songkorpus[\"Häufigkeit\"].astype(int)\n",
    "songkorpus"
   ]
  },
  {
   "cell_type": "markdown",
   "id": "ba27d54d-3a15-485b-8fd4-0accd4c6080c",
   "metadata": {
    "deletable": false,
    "editable": false
   },
   "source": [
    "***\n",
    "\n",
    "✏️ **Übung 11:** Oben haben wir die Spalte \"Jahrzehnt\" basierend auf den Jahreszahlen mithilfe eines `for`-Loops geschaffen. Gehe abermals von der Spalte \"Jahr\" aus, um eine neue Spalte \"Jahrzehnt_ohne_Loop\" zu schaffen, allerdings – wie der Name verrät – ohne dafür einen Loop, auch nicht in Form einer List Comprehension, zu benutzen. Mit anderen Worten: Du sollst Pandas-Syntax dafür einsetzen. Wenn Dein Code stimmt, ergibt die bereits geschriebene (derzeit auskommentierte) Zeile `True`.\n",
    "\n",
    "💡 Tipp: Es sind dieselben einzelnen Schritte wie im `for`-Loop oben nötig, allerdings formuliert in pandas-Syntax. Gegebenfalls musst Du in der [pandas-Dokumentation](https://pandas.pydata.org/docs/) nachschlagen, wie die jeweilige Syntax der pandas-Pendants ausschaut. "
   ]
  },
  {
   "cell_type": "code",
   "execution_count": 54,
   "id": "d660cf89-9950-4363-9134-de1f5c300c76",
   "metadata": {},
   "outputs": [],
   "source": [
    "#In diese Zelle kannst Du den Code zur Übung schreiben\n",
    "\n",
    "\n",
    "#print(songkorpus[\"Jahrzehnt\"].equals(songkorpus[\"Jahrzehnt_ohne_Loop\"]))"
   ]
  },
  {
   "cell_type": "markdown",
   "id": "8cadd3d4-40b6-4ae7-8bbd-7603fbee5b29",
   "metadata": {
    "deletable": false,
    "editable": false
   },
   "source": [
    "***\n",
    "\n",
    "Sehr gut! Die simple Iteration von oben, die sämtliche Werte nacheinander auf dieselbe Weise bearbeitet, können wir also auch ganz einfach in vektorisierter Form nachbilden. \n",
    "\n",
    "### Bedingte Bearbeitung\n",
    "\n",
    "`for`-Loops bieten aber natürlich viel mehr Funktionalität. Etwa können wir bedingte Anweisungen einbauen, sodass die Werte je nach Bedingung unterschiedlich bearbeitet werden. Aber auch dafür bietet pandas, oder besser gesagt *numpy* (eine weitere Bibliothek, die eng mit pandas verwoben ist) eine Funktion, die sich Vektorisierung zunutze macht. Auch numpy müssen wir erst importieren (ggf. sogar noch zuerst installieren, s.o.), gängigerweise weisen wir der Bibliothek den Namen `np` zu:"
   ]
  },
  {
   "cell_type": "code",
   "execution_count": 55,
   "id": "329e5127-ebbc-480f-a27a-6334231dd6fa",
   "metadata": {},
   "outputs": [],
   "source": [
    "import numpy as np"
   ]
  },
  {
   "cell_type": "markdown",
   "id": "1fb0191b-5ebf-41fa-be6c-030a7409ddcb",
   "metadata": {
    "deletable": false,
    "editable": false
   },
   "source": [
    "Die Funktion heißt `where` und hat folgende Syntax:\n",
    "\n",
    "`where(if, then, else)`\n",
    "\n",
    "Als erstes Argument (\"if\") spezifizieren wir eine bedingte Anweisung, die bei jedem Wert entweder `True` oder `False` ergibt. Im Falle von `True` wird der Wert wie im zweiten Argument (\"then\") angegeben eingetragen bzw. bearbeitet. Andernfalls greift, was wir als drittes Argument (\"else\") definiert haben. \n",
    "\n",
    "Angenommen wir möchten zusätzlich zur Spalte \"Jahrzehnt\" eine Spalte \"Jahrhundert\", können wir `where` folgendermaßen dazu einsetzen:"
   ]
  },
  {
   "cell_type": "code",
   "execution_count": 56,
   "id": "6702bd48-8582-45df-aea3-3d91288c86ce",
   "metadata": {},
   "outputs": [
    {
     "data": {
      "text/html": [
       "<div>\n",
       "<style scoped>\n",
       "    .dataframe tbody tr th:only-of-type {\n",
       "        vertical-align: middle;\n",
       "    }\n",
       "\n",
       "    .dataframe tbody tr th {\n",
       "        vertical-align: top;\n",
       "    }\n",
       "\n",
       "    .dataframe thead th {\n",
       "        text-align: right;\n",
       "    }\n",
       "</style>\n",
       "<table border=\"1\" class=\"dataframe\">\n",
       "  <thead>\n",
       "    <tr style=\"text-align: right;\">\n",
       "      <th></th>\n",
       "      <th>Token</th>\n",
       "      <th>Jahr</th>\n",
       "      <th>Häufigkeit</th>\n",
       "      <th>Jahrzehnt</th>\n",
       "      <th>Länge</th>\n",
       "      <th>Jahrhundert</th>\n",
       "    </tr>\n",
       "  </thead>\n",
       "  <tbody>\n",
       "    <tr>\n",
       "      <th>0</th>\n",
       "      <td>ellenbogen</td>\n",
       "      <td>1969</td>\n",
       "      <td>1</td>\n",
       "      <td>1960</td>\n",
       "      <td>10</td>\n",
       "      <td>20. Jhd.</td>\n",
       "    </tr>\n",
       "    <tr>\n",
       "      <th>1</th>\n",
       "      <td>atmen</td>\n",
       "      <td>1969</td>\n",
       "      <td>1</td>\n",
       "      <td>1960</td>\n",
       "      <td>5</td>\n",
       "      <td>20. Jhd.</td>\n",
       "    </tr>\n",
       "    <tr>\n",
       "      <th>2</th>\n",
       "      <td>seines</td>\n",
       "      <td>1969</td>\n",
       "      <td>1</td>\n",
       "      <td>1960</td>\n",
       "      <td>6</td>\n",
       "      <td>20. Jhd.</td>\n",
       "    </tr>\n",
       "    <tr>\n",
       "      <th>3</th>\n",
       "      <td>seinerseits</td>\n",
       "      <td>1969</td>\n",
       "      <td>1</td>\n",
       "      <td>1960</td>\n",
       "      <td>11</td>\n",
       "      <td>20. Jhd.</td>\n",
       "    </tr>\n",
       "    <tr>\n",
       "      <th>4</th>\n",
       "      <td>jetzt</td>\n",
       "      <td>1969</td>\n",
       "      <td>4</td>\n",
       "      <td>1960</td>\n",
       "      <td>5</td>\n",
       "      <td>20. Jhd.</td>\n",
       "    </tr>\n",
       "    <tr>\n",
       "      <th>...</th>\n",
       "      <td>...</td>\n",
       "      <td>...</td>\n",
       "      <td>...</td>\n",
       "      <td>...</td>\n",
       "      <td>...</td>\n",
       "      <td>...</td>\n",
       "    </tr>\n",
       "    <tr>\n",
       "      <th>386505</th>\n",
       "      <td>uhh</td>\n",
       "      <td>2022</td>\n",
       "      <td>2</td>\n",
       "      <td>2020</td>\n",
       "      <td>3</td>\n",
       "      <td>21. Jhd.</td>\n",
       "    </tr>\n",
       "    <tr>\n",
       "      <th>386506</th>\n",
       "      <td>amate</td>\n",
       "      <td>2022</td>\n",
       "      <td>1</td>\n",
       "      <td>2020</td>\n",
       "      <td>5</td>\n",
       "      <td>21. Jhd.</td>\n",
       "    </tr>\n",
       "    <tr>\n",
       "      <th>386507</th>\n",
       "      <td>schlief</td>\n",
       "      <td>2022</td>\n",
       "      <td>6</td>\n",
       "      <td>2020</td>\n",
       "      <td>7</td>\n",
       "      <td>21. Jhd.</td>\n",
       "    </tr>\n",
       "    <tr>\n",
       "      <th>386508</th>\n",
       "      <td>uhren</td>\n",
       "      <td>2022</td>\n",
       "      <td>2</td>\n",
       "      <td>2020</td>\n",
       "      <td>5</td>\n",
       "      <td>21. Jhd.</td>\n",
       "    </tr>\n",
       "    <tr>\n",
       "      <th>386509</th>\n",
       "      <td>bladis</td>\n",
       "      <td>2022</td>\n",
       "      <td>3</td>\n",
       "      <td>2020</td>\n",
       "      <td>6</td>\n",
       "      <td>21. Jhd.</td>\n",
       "    </tr>\n",
       "  </tbody>\n",
       "</table>\n",
       "<p>386510 rows × 6 columns</p>\n",
       "</div>"
      ],
      "text/plain": [
       "              Token  Jahr  Häufigkeit Jahrzehnt  Länge Jahrhundert\n",
       "0        ellenbogen  1969           1      1960     10    20. Jhd.\n",
       "1             atmen  1969           1      1960      5    20. Jhd.\n",
       "2            seines  1969           1      1960      6    20. Jhd.\n",
       "3       seinerseits  1969           1      1960     11    20. Jhd.\n",
       "4             jetzt  1969           4      1960      5    20. Jhd.\n",
       "...             ...   ...         ...       ...    ...         ...\n",
       "386505          uhh  2022           2      2020      3    21. Jhd.\n",
       "386506        amate  2022           1      2020      5    21. Jhd.\n",
       "386507      schlief  2022           6      2020      7    21. Jhd.\n",
       "386508        uhren  2022           2      2020      5    21. Jhd.\n",
       "386509       bladis  2022           3      2020      6    21. Jhd.\n",
       "\n",
       "[386510 rows x 6 columns]"
      ]
     },
     "execution_count": 56,
     "metadata": {},
     "output_type": "execute_result"
    }
   ],
   "source": [
    "#vor where steht wie gewohnt der Modulname, damit Python weiß, wo sich die Funktion befindet\n",
    "songkorpus[\"Jahrhundert\"] = np.where(songkorpus[\"Jahr\"] < 2000, \"20. Jhd.\", \"21. Jhd.\")\n",
    "songkorpus"
   ]
  },
  {
   "cell_type": "markdown",
   "id": "0e4f9267-ec62-4128-bbce-aa318ddd5c38",
   "metadata": {
    "deletable": false,
    "editable": false
   },
   "source": [
    "Sehr gut! Bedenke, dass die Begriffe `if` und `else`, die wir bei bedingten Anweisungen in normalem Python verwenden, nicht benötigt werden. Die Logik ergibt sich einzig über die Reihenfolge der Argumente in `where`.\n",
    "\n",
    "In diesem Fall haben wir als \"then\" bzw. \"else\" ganz einfach strings übergeben, die je nach dem in der neuen Spalte \"Jahrhundert\" eingetragen wurden. In der folgenden Übung wollen wir bei \"then\" und \"else\" bestimmte Werte in der jeweilige Zeile bearbeiten.\n",
    "\n",
    "***\n",
    "\n",
    "✏️ **Übung 12:** Bearbeite die Werte in der Spalte \"Token\" so, dass jedes Wort, das aus genau fünf Buchstaben besteht, großgeschrieben wird. Einfach weil wir's können! 😉"
   ]
  },
  {
   "cell_type": "code",
   "execution_count": 57,
   "id": "c4bf54a3-1a1e-4e43-b364-1bf5e4287536",
   "metadata": {},
   "outputs": [],
   "source": [
    "#In diese Zelle kannst Du den Code zur Übung schreiben\n",
    "\n",
    "\n"
   ]
  },
  {
   "cell_type": "markdown",
   "id": "e6175bc6-2b4f-4980-9c84-56622b32c049",
   "metadata": {
    "deletable": false,
    "editable": false
   },
   "source": [
    "***\n",
    "\n",
    "Super! \n",
    "\n",
    "Für den Fall, dass Du mehrere bedingte Anweisungen aneinanderhängen willst (`if`-`elif`-...-`else`) kannst Du statt `where` die Numpy-Funktion `select` benutzen. Wir setzen sie weiter unten noch ein."
   ]
  },
  {
   "cell_type": "markdown",
   "id": "d72d5f67-d86c-4e59-8d37-bc65bc376e13",
   "metadata": {
    "deletable": false,
    "editable": false
   },
   "source": [
    "### `apply` und `applymap`\n",
    "\n",
    "Wie erwähnt ist die vektorisierte Art der Datenbearbeitung in pandas meistens äußerst effizient. Es gibt aber Fälle, in denen wir dennoch eine Funktion mit nativem Python-Code anwenden wollen. Entweder, weil pandas die benötigen Operationen nicht implementiert, oder weil es mit nativem Python-Code trotz allem effizienter ist (dazu gleich mehr).  \n",
    "\n",
    "In jedem Fall bieten die Methoden `apply` und `applymap` die Möglichkeit, jede beliebige Funktion (und in der Verlängerung auch jede beliebige Methode) auf eine Series oder gleich ein ganzes DataFrame anzuwenden. `apply` verwenden wir bei einer Series, `applymap` bei einem ganzen DataFrame. Angehängt an die Series bzw. das DataFrame übergeben wir ihnen schlicht den Namen der gewünschten Funktion. Es spielt keine Rolle, ob die Funktion aus der Grundausstattung von Python stammt, importiert wurde oder von Dir selbst geschrieben ist.\n",
    "\n",
    "Machen wir es konkret, und zwar in zwei kleinen Experimenten. Wir wollen die gleiche Art der Datenbearbeitung je einmal vektorisiert implementieren, und einmal über eine eigene Funktion, die wir mithilfe von `apply` auf die Daten *appli*zieren. Zum Verständnis: Rufen wir eine Funktion über `apply` (oder `applymap`) auf, wird dieser wie bei einem `for`-Loop *Wert für Wert* übergeben. Will heißen: Bei `apply` können wir nicht von der Verarbeitung mehrerer Daten auf einmal profitieren.\n",
    "\n",
    "Für das erste Experiment rufen wir ein DataFrame ins Leben, das aus einer Million Zeilen und zwei Spalten, \"A\" und \"B\", besteht. Das DataFrame befüllen wir mit zufälligen Zahlen zwischen 0 und 100 (unter Verwendung der numpy-Funktion `random.randint`). Insgesamt also ein ziemlich großes DataFrame:"
   ]
  },
  {
   "cell_type": "code",
   "execution_count": 58,
   "id": "0bf4b763-4d31-4414-9e88-79083498ed40",
   "metadata": {},
   "outputs": [
    {
     "data": {
      "text/html": [
       "<div>\n",
       "<style scoped>\n",
       "    .dataframe tbody tr th:only-of-type {\n",
       "        vertical-align: middle;\n",
       "    }\n",
       "\n",
       "    .dataframe tbody tr th {\n",
       "        vertical-align: top;\n",
       "    }\n",
       "\n",
       "    .dataframe thead th {\n",
       "        text-align: right;\n",
       "    }\n",
       "</style>\n",
       "<table border=\"1\" class=\"dataframe\">\n",
       "  <thead>\n",
       "    <tr style=\"text-align: right;\">\n",
       "      <th></th>\n",
       "      <th>A</th>\n",
       "      <th>B</th>\n",
       "    </tr>\n",
       "  </thead>\n",
       "  <tbody>\n",
       "    <tr>\n",
       "      <th>0</th>\n",
       "      <td>82</td>\n",
       "      <td>44</td>\n",
       "    </tr>\n",
       "    <tr>\n",
       "      <th>1</th>\n",
       "      <td>16</td>\n",
       "      <td>8</td>\n",
       "    </tr>\n",
       "    <tr>\n",
       "      <th>2</th>\n",
       "      <td>52</td>\n",
       "      <td>39</td>\n",
       "    </tr>\n",
       "    <tr>\n",
       "      <th>3</th>\n",
       "      <td>84</td>\n",
       "      <td>58</td>\n",
       "    </tr>\n",
       "    <tr>\n",
       "      <th>4</th>\n",
       "      <td>68</td>\n",
       "      <td>49</td>\n",
       "    </tr>\n",
       "  </tbody>\n",
       "</table>\n",
       "</div>"
      ],
      "text/plain": [
       "    A   B\n",
       "0  82  44\n",
       "1  16   8\n",
       "2  52  39\n",
       "3  84  58\n",
       "4  68  49"
      ]
     },
     "execution_count": 58,
     "metadata": {},
     "output_type": "execute_result"
    }
   ],
   "source": [
    "exp1 = pd.DataFrame(np.random.randint(0,100, size=(1000000,2)), columns=[\"A\", \"B\"])\n",
    "exp1.head()"
   ]
  },
  {
   "cell_type": "markdown",
   "id": "68f16227-f17c-4cab-b396-274dca988365",
   "metadata": {
    "deletable": false,
    "editable": false
   },
   "source": [
    "Nun wollen wir eine dritte Spalte \"C\" schaffen, die ganz einfach das jeweilige Produkt der Werte in den Spalten \"A\" und \"B\" enthält. In der ersten Zelle unten tun wir dies auf vektorisierte Weise, in der zweiten mithilfe einer eigenen Funktion und `apply`. Um zu messen, wie lange das jeweils dauert, verwenden wir das `time`-Modul aus der Grundausstattung von Python:"
   ]
  },
  {
   "cell_type": "code",
   "execution_count": 59,
   "id": "a97446a0-b890-4816-aa17-df491ddee17f",
   "metadata": {},
   "outputs": [
    {
     "data": {
      "text/html": [
       "<div>\n",
       "<style scoped>\n",
       "    .dataframe tbody tr th:only-of-type {\n",
       "        vertical-align: middle;\n",
       "    }\n",
       "\n",
       "    .dataframe tbody tr th {\n",
       "        vertical-align: top;\n",
       "    }\n",
       "\n",
       "    .dataframe thead th {\n",
       "        text-align: right;\n",
       "    }\n",
       "</style>\n",
       "<table border=\"1\" class=\"dataframe\">\n",
       "  <thead>\n",
       "    <tr style=\"text-align: right;\">\n",
       "      <th></th>\n",
       "      <th>A</th>\n",
       "      <th>B</th>\n",
       "      <th>C</th>\n",
       "    </tr>\n",
       "  </thead>\n",
       "  <tbody>\n",
       "    <tr>\n",
       "      <th>0</th>\n",
       "      <td>82</td>\n",
       "      <td>44</td>\n",
       "      <td>3608</td>\n",
       "    </tr>\n",
       "    <tr>\n",
       "      <th>1</th>\n",
       "      <td>16</td>\n",
       "      <td>8</td>\n",
       "      <td>128</td>\n",
       "    </tr>\n",
       "    <tr>\n",
       "      <th>2</th>\n",
       "      <td>52</td>\n",
       "      <td>39</td>\n",
       "      <td>2028</td>\n",
       "    </tr>\n",
       "    <tr>\n",
       "      <th>3</th>\n",
       "      <td>84</td>\n",
       "      <td>58</td>\n",
       "      <td>4872</td>\n",
       "    </tr>\n",
       "    <tr>\n",
       "      <th>4</th>\n",
       "      <td>68</td>\n",
       "      <td>49</td>\n",
       "      <td>3332</td>\n",
       "    </tr>\n",
       "  </tbody>\n",
       "</table>\n",
       "</div>"
      ],
      "text/plain": [
       "    A   B     C\n",
       "0  82  44  3608\n",
       "1  16   8   128\n",
       "2  52  39  2028\n",
       "3  84  58  4872\n",
       "4  68  49  3332"
      ]
     },
     "execution_count": 59,
     "metadata": {},
     "output_type": "execute_result"
    }
   ],
   "source": [
    "#Vektorisiert\n",
    "import time\n",
    "start = time.time() #Zeit zum Startpunkt\n",
    "\n",
    "exp1[\"C\"] = exp1[\"A\"] * exp1[\"B\"]\n",
    "vectorized = time.time()-start #Zeit nach Beendigung der Berechnung minus Startzeit, ergibt Dauer\n",
    "\n",
    "exp1.head()"
   ]
  },
  {
   "cell_type": "code",
   "execution_count": 60,
   "id": "8dd67e62-30d2-4800-9038-7aac3feba728",
   "metadata": {},
   "outputs": [
    {
     "data": {
      "text/html": [
       "<div>\n",
       "<style scoped>\n",
       "    .dataframe tbody tr th:only-of-type {\n",
       "        vertical-align: middle;\n",
       "    }\n",
       "\n",
       "    .dataframe tbody tr th {\n",
       "        vertical-align: top;\n",
       "    }\n",
       "\n",
       "    .dataframe thead th {\n",
       "        text-align: right;\n",
       "    }\n",
       "</style>\n",
       "<table border=\"1\" class=\"dataframe\">\n",
       "  <thead>\n",
       "    <tr style=\"text-align: right;\">\n",
       "      <th></th>\n",
       "      <th>A</th>\n",
       "      <th>B</th>\n",
       "      <th>C</th>\n",
       "    </tr>\n",
       "  </thead>\n",
       "  <tbody>\n",
       "    <tr>\n",
       "      <th>0</th>\n",
       "      <td>82</td>\n",
       "      <td>44</td>\n",
       "      <td>3608</td>\n",
       "    </tr>\n",
       "    <tr>\n",
       "      <th>1</th>\n",
       "      <td>16</td>\n",
       "      <td>8</td>\n",
       "      <td>128</td>\n",
       "    </tr>\n",
       "    <tr>\n",
       "      <th>2</th>\n",
       "      <td>52</td>\n",
       "      <td>39</td>\n",
       "      <td>2028</td>\n",
       "    </tr>\n",
       "    <tr>\n",
       "      <th>3</th>\n",
       "      <td>84</td>\n",
       "      <td>58</td>\n",
       "      <td>4872</td>\n",
       "    </tr>\n",
       "    <tr>\n",
       "      <th>4</th>\n",
       "      <td>68</td>\n",
       "      <td>49</td>\n",
       "      <td>3332</td>\n",
       "    </tr>\n",
       "  </tbody>\n",
       "</table>\n",
       "</div>"
      ],
      "text/plain": [
       "    A   B     C\n",
       "0  82  44  3608\n",
       "1  16   8   128\n",
       "2  52  39  2028\n",
       "3  84  58  4872\n",
       "4  68  49  3332"
      ]
     },
     "execution_count": 60,
     "metadata": {},
     "output_type": "execute_result"
    }
   ],
   "source": [
    "#for-Loop\n",
    "start = time.time() #Zeit zum Startpunkt\n",
    "\n",
    "def multiply(row):\n",
    "    return row[\"A\"]*row[\"B\"]\n",
    "\n",
    "#dem Funktionsnamen (hier: multiply) folgen keine Klammern!\n",
    "#axis=1 spezifiziert, dass wir die Funktion auf Spalten anwenden (s.o.)\n",
    "exp1[\"C\"] = exp1.apply(multiply, axis=1) \n",
    "\n",
    "for_loop = time.time()-start #Zeit nach Beendigung der Berechnung minus Startzeit, ergibt Dauer\n",
    "exp1.head()"
   ]
  },
  {
   "cell_type": "markdown",
   "id": "b726e8a8-12c5-4559-842e-6f87f2545fe3",
   "metadata": {
    "deletable": false,
    "editable": false
   },
   "source": [
    "Die effektive Berechnungsdauer hängt von verschiedenen Faktoren ab und variiert auch zwischen mehreren Durchgängen. In jedem Fall aber sollte sich ein großer Unterschied zeigen. Typischerweise ist die vektorisierte Berechnung mehrere Hundert Male schneller als die Verwendung einer eigenen Python-Funktion:"
   ]
  },
  {
   "cell_type": "code",
   "execution_count": 61,
   "id": "8f0e6363-71e0-4bdd-afda-19c291f790df",
   "metadata": {},
   "outputs": [
    {
     "name": "stdout",
     "output_type": "stream",
     "text": [
      "Vektorisiert: 0.002733945846557617 \n",
      "for-Loop 4.809185028076172 \n",
      "Faktor: 1759.0637481468561\n"
     ]
    }
   ],
   "source": [
    "print(\"Vektorisiert:\", vectorized, \"\\nfor-Loop\", for_loop, \"\\nFaktor:\", for_loop/vectorized)"
   ]
  },
  {
   "cell_type": "markdown",
   "id": "8b742f3f-1e8c-4889-83b2-051d11bf5bb8",
   "metadata": {
    "deletable": false,
    "editable": false
   },
   "source": [
    "Sehr eindrucksvoll! \n",
    "\n",
    "Gehen wir zum zweiten Experiment über, indem wir wieder ein DataFrame mit einer Million Zeilen, aber nur einer Spalte, \"Satz\", schaffen. Diesmal befüllen wir das DataFrame mit dem immergleichen string (unter Verwendung der numpy-Funktion `repeat`):"
   ]
  },
  {
   "cell_type": "code",
   "execution_count": 62,
   "id": "cfef883a-0187-4bac-89c0-e1e84923a110",
   "metadata": {},
   "outputs": [
    {
     "data": {
      "text/html": [
       "<div>\n",
       "<style scoped>\n",
       "    .dataframe tbody tr th:only-of-type {\n",
       "        vertical-align: middle;\n",
       "    }\n",
       "\n",
       "    .dataframe tbody tr th {\n",
       "        vertical-align: top;\n",
       "    }\n",
       "\n",
       "    .dataframe thead th {\n",
       "        text-align: right;\n",
       "    }\n",
       "</style>\n",
       "<table border=\"1\" class=\"dataframe\">\n",
       "  <thead>\n",
       "    <tr style=\"text-align: right;\">\n",
       "      <th></th>\n",
       "      <th>Satz</th>\n",
       "    </tr>\n",
       "  </thead>\n",
       "  <tbody>\n",
       "    <tr>\n",
       "      <th>999995</th>\n",
       "      <td>Dies ist ein nicht besonders langer Satz.</td>\n",
       "    </tr>\n",
       "    <tr>\n",
       "      <th>999996</th>\n",
       "      <td>Dies ist ein nicht besonders langer Satz.</td>\n",
       "    </tr>\n",
       "    <tr>\n",
       "      <th>999997</th>\n",
       "      <td>Dies ist ein nicht besonders langer Satz.</td>\n",
       "    </tr>\n",
       "    <tr>\n",
       "      <th>999998</th>\n",
       "      <td>Dies ist ein nicht besonders langer Satz.</td>\n",
       "    </tr>\n",
       "    <tr>\n",
       "      <th>999999</th>\n",
       "      <td>Dies ist ein nicht besonders langer Satz.</td>\n",
       "    </tr>\n",
       "  </tbody>\n",
       "</table>\n",
       "</div>"
      ],
      "text/plain": [
       "                                             Satz\n",
       "999995  Dies ist ein nicht besonders langer Satz.\n",
       "999996  Dies ist ein nicht besonders langer Satz.\n",
       "999997  Dies ist ein nicht besonders langer Satz.\n",
       "999998  Dies ist ein nicht besonders langer Satz.\n",
       "999999  Dies ist ein nicht besonders langer Satz."
      ]
     },
     "execution_count": 62,
     "metadata": {},
     "output_type": "execute_result"
    }
   ],
   "source": [
    "exp2 = pd.DataFrame(np.repeat(\"Dies ist ein nicht besonders langer Satz.\", 1000000, axis=0), columns=[\"Satz\"])\n",
    "exp2.tail()"
   ]
  },
  {
   "cell_type": "markdown",
   "id": "20d43151-bde7-4ce5-80bc-f37d5bbb9f86",
   "metadata": {
    "deletable": false,
    "editable": false
   },
   "source": [
    "Hier wollen wir ebenfalls eine weitere Spalte schaffen. Sie soll ganz unspektakulär die Anzahl an Wörtern des jeweiligen strings in der Spalte \"Satz\" enthalten. In diesem konstruierten Beispiel ergibt dies selbstverständlich immer sieben. Die erste Zelle enthält wieder die vektorisierte pandas-Variante, während die zweite über `apply` eine selbst geschriebene Funktion mit Python-Code aufruft."
   ]
  },
  {
   "cell_type": "code",
   "execution_count": 63,
   "id": "2d523cbc-947f-474e-abf9-50c88cad3f29",
   "metadata": {},
   "outputs": [
    {
     "data": {
      "text/html": [
       "<div>\n",
       "<style scoped>\n",
       "    .dataframe tbody tr th:only-of-type {\n",
       "        vertical-align: middle;\n",
       "    }\n",
       "\n",
       "    .dataframe tbody tr th {\n",
       "        vertical-align: top;\n",
       "    }\n",
       "\n",
       "    .dataframe thead th {\n",
       "        text-align: right;\n",
       "    }\n",
       "</style>\n",
       "<table border=\"1\" class=\"dataframe\">\n",
       "  <thead>\n",
       "    <tr style=\"text-align: right;\">\n",
       "      <th></th>\n",
       "      <th>Satz</th>\n",
       "      <th>Länge</th>\n",
       "    </tr>\n",
       "  </thead>\n",
       "  <tbody>\n",
       "    <tr>\n",
       "      <th>0</th>\n",
       "      <td>Dies ist ein nicht besonders langer Satz.</td>\n",
       "      <td>7</td>\n",
       "    </tr>\n",
       "    <tr>\n",
       "      <th>1</th>\n",
       "      <td>Dies ist ein nicht besonders langer Satz.</td>\n",
       "      <td>7</td>\n",
       "    </tr>\n",
       "    <tr>\n",
       "      <th>2</th>\n",
       "      <td>Dies ist ein nicht besonders langer Satz.</td>\n",
       "      <td>7</td>\n",
       "    </tr>\n",
       "    <tr>\n",
       "      <th>3</th>\n",
       "      <td>Dies ist ein nicht besonders langer Satz.</td>\n",
       "      <td>7</td>\n",
       "    </tr>\n",
       "    <tr>\n",
       "      <th>4</th>\n",
       "      <td>Dies ist ein nicht besonders langer Satz.</td>\n",
       "      <td>7</td>\n",
       "    </tr>\n",
       "  </tbody>\n",
       "</table>\n",
       "</div>"
      ],
      "text/plain": [
       "                                        Satz  Länge\n",
       "0  Dies ist ein nicht besonders langer Satz.      7\n",
       "1  Dies ist ein nicht besonders langer Satz.      7\n",
       "2  Dies ist ein nicht besonders langer Satz.      7\n",
       "3  Dies ist ein nicht besonders langer Satz.      7\n",
       "4  Dies ist ein nicht besonders langer Satz.      7"
      ]
     },
     "execution_count": 63,
     "metadata": {},
     "output_type": "execute_result"
    }
   ],
   "source": [
    "#Vektorisiert\n",
    "start = time.time()\n",
    "\n",
    "exp2[\"Länge\"] = exp2[\"Satz\"].str.split().str.len()\n",
    "\n",
    "vectorized = time.time()-start\n",
    "\n",
    "exp2.head()"
   ]
  },
  {
   "cell_type": "code",
   "execution_count": 64,
   "id": "b6ba63d6-76b5-41e7-a3b4-dec71706d866",
   "metadata": {},
   "outputs": [
    {
     "data": {
      "text/html": [
       "<div>\n",
       "<style scoped>\n",
       "    .dataframe tbody tr th:only-of-type {\n",
       "        vertical-align: middle;\n",
       "    }\n",
       "\n",
       "    .dataframe tbody tr th {\n",
       "        vertical-align: top;\n",
       "    }\n",
       "\n",
       "    .dataframe thead th {\n",
       "        text-align: right;\n",
       "    }\n",
       "</style>\n",
       "<table border=\"1\" class=\"dataframe\">\n",
       "  <thead>\n",
       "    <tr style=\"text-align: right;\">\n",
       "      <th></th>\n",
       "      <th>Satz</th>\n",
       "      <th>Länge</th>\n",
       "    </tr>\n",
       "  </thead>\n",
       "  <tbody>\n",
       "    <tr>\n",
       "      <th>0</th>\n",
       "      <td>Dies ist ein nicht besonders langer Satz.</td>\n",
       "      <td>7</td>\n",
       "    </tr>\n",
       "    <tr>\n",
       "      <th>1</th>\n",
       "      <td>Dies ist ein nicht besonders langer Satz.</td>\n",
       "      <td>7</td>\n",
       "    </tr>\n",
       "    <tr>\n",
       "      <th>2</th>\n",
       "      <td>Dies ist ein nicht besonders langer Satz.</td>\n",
       "      <td>7</td>\n",
       "    </tr>\n",
       "    <tr>\n",
       "      <th>3</th>\n",
       "      <td>Dies ist ein nicht besonders langer Satz.</td>\n",
       "      <td>7</td>\n",
       "    </tr>\n",
       "    <tr>\n",
       "      <th>4</th>\n",
       "      <td>Dies ist ein nicht besonders langer Satz.</td>\n",
       "      <td>7</td>\n",
       "    </tr>\n",
       "  </tbody>\n",
       "</table>\n",
       "</div>"
      ],
      "text/plain": [
       "                                        Satz  Länge\n",
       "0  Dies ist ein nicht besonders langer Satz.      7\n",
       "1  Dies ist ein nicht besonders langer Satz.      7\n",
       "2  Dies ist ein nicht besonders langer Satz.      7\n",
       "3  Dies ist ein nicht besonders langer Satz.      7\n",
       "4  Dies ist ein nicht besonders langer Satz.      7"
      ]
     },
     "execution_count": 64,
     "metadata": {},
     "output_type": "execute_result"
    }
   ],
   "source": [
    "#for-Loop\n",
    "start = time.time()\n",
    "\n",
    "def split(sentence):\n",
    "    return len(sentence.split())\n",
    "\n",
    "#dem Funktionsnamen (hier: split) folgen keine Klammern!\n",
    "exp2[\"Länge\"] = exp2[\"Satz\"].apply(split)\n",
    "for_loop = time.time()-start\n",
    "\n",
    "exp2.head()"
   ]
  },
  {
   "cell_type": "markdown",
   "id": "30c41862-b0b3-422b-bdc8-079556e8bf33",
   "metadata": {
    "deletable": false,
    "editable": false
   },
   "source": [
    "Auch hier variieren die effektiven Berechnungszeiten mitunter stark, dennoch sollte sich zeigen, dass in diesem Fall die zweite Variante mit nativem Python-Code und `apply` um einiges schneller berechnet wird, selbst wenn der Faktor nicht gleich eindrucksvoll wie oben ist:"
   ]
  },
  {
   "cell_type": "code",
   "execution_count": 65,
   "id": "d17d7067-9234-43d6-a918-2300c7afbbea",
   "metadata": {},
   "outputs": [
    {
     "name": "stdout",
     "output_type": "stream",
     "text": [
      "Vektorisiert: 1.166254997253418 \n",
      "for-Loop 0.30468177795410156 \n",
      "Faktor: 3.827780594837894\n"
     ]
    }
   ],
   "source": [
    "print(\"Vektorisiert:\", vectorized, \"\\nfor-Loop\", for_loop, \"\\nFaktor:\", vectorized/for_loop)"
   ]
  },
  {
   "cell_type": "markdown",
   "id": "f3f6e33d-dc17-4667-bef8-de111fd2a10c",
   "metadata": {
    "deletable": false,
    "editable": false
   },
   "source": [
    "Wir können festhalten, dass Vektorisierung bei Zahlen unglaublich effizient ist. Bei der Bearbeitung von strings hinken pandas-Operationen, jedenfalls bei großen Datenmengen, nativem Python-Code hinterher. Es sei denn Du hast riesige Mengen an strings zu bearbeiten, empfiehlt sich der Einsatz von pandas-Operationen der Einheitlichkeit halber i.d.R. dennoch. "
   ]
  },
  {
   "cell_type": "markdown",
   "id": "d9d34365-3889-44c1-8beb-1692f93d1359",
   "metadata": {
    "deletable": false,
    "editable": false
   },
   "source": [
    "***\n",
    "\n",
    "✏️ **Übung 13:** Caste sämtliche Werte in `songkorpus` in strings."
   ]
  },
  {
   "cell_type": "code",
   "execution_count": 66,
   "id": "4db4fbbc-4a93-43bf-8c64-67de2ac399c4",
   "metadata": {},
   "outputs": [],
   "source": [
    "#In diese Zelle kannst Du den Code zur Übung schreiben\n",
    "\n",
    "\n"
   ]
  },
  {
   "cell_type": "markdown",
   "id": "c2c4a23d-dea7-4994-a861-304fe140efde",
   "metadata": {
    "deletable": false,
    "editable": false
   },
   "source": [
    "***\n",
    "\n",
    "## 🔧 Anwendungsfall: Wortverlaufskurven visualisieren 📈\n",
    "\n",
    "Im Anwendungsfall für dieses Notebook wollen wir wie gesagt Wortverlaufskurven visualisieren. Das heißt, wir wollen die Häufigkeit, mit der ein beliebiges Wort auftritt, über die Zeit hinweg darstellen. Für die vier Personalpronomen \"ich\", \"du\", \"er\" und \"sie\" sähe das z.B. wie in der kombinierten Grafik unten aus. Die linke Darstellung visualisiert die Daten nach einzelnen Jahren (wie der originale Datensatz), in der mittleren und rechten Darstellung werden die Daten aggregiert nach Fünfjahresabschnitten bzw. Zehnjahresabschnitten visualisiert. Einzelne Aussschläge nach oben und unten werden so ausgebügelt und Trends sind leichter zu erkennen:"
   ]
  },
  {
   "cell_type": "markdown",
   "id": "1533d536",
   "metadata": {
    "deletable": false,
    "editable": false
   },
   "source": [
    "<img src=\"../3_Dateien/Grafiken_und_Videos/Wortverlaufskurve_kombiniert.png\">"
   ]
  },
  {
   "cell_type": "markdown",
   "id": "1abad895-c1c6-4b30-b444-4d1c317a98dc",
   "metadata": {
    "deletable": false,
    "editable": false
   },
   "source": [
    "Deine Aufgabe ist es erst einmal, Code zu schreiben, der die linke Grafik für beliebige Wörter produziert. Die erforderliche Aggregation für die mittlere und rechte Darstellung schauen wir uns im Anschluss an den Anwendungsfall gemeinsam an. \n",
    "\n",
    "Wie im vierten und fünften Notebook hast Du wieder die Wahl, den Anwendungsfall ohne weitere Anleitung in Angriff zu nehmen oder einer Schritt-für-Schritt-Anleitung zu folgen. In letzterem Fall kannst Du jetzt ans Ende der nächsten Code-Zelle springen. Wenn Du es alleine probieren möchstest, dann analysiere das gewünschte Resultat oben links und frage Dich, welche Daten wie und wo visualisiert werden. \n",
    "\n",
    "💡 Tipp 1: Die relativen Häufigkeiten pro Wort und Jahr liegen noch nicht in unserem DataFrame vor. Du musst sie also erst ausrechnen. Überleg Dir genau, wie Du von den existierenden, absoluten Häufigkeiten zu den relativen Häufigkeiten pro Jahr kommst. Dazu seien zwei nützliche Methoden erwähnt (klicke auf ihren Namen, um zur offiziellen Dokumentation zu gelangen):\n",
    "- [`groupby`](https://pandas.pydata.org/docs/reference/api/pandas.DataFrame.groupby.html): Nach dem Motto \"split-apply-combine\" erlaubt Dir diese Methode, das DataFrame nach den Werten der Spalte \"Jahr\" zu gruppieren (aufzu*split*ten). Indem Du im gleichen Statement die `sum`-Methode auf die Spalte \"Häufigkeit\" jedes durch `groupby` entstehenden Sub-DataFrame anwendest (*apply*), erhältst Du eine zusammengeführte Series (*combine*), die für jedes Jahr die Summe aller Häufigkeiten aller Tokens enthält. Schau Dir diese Series genau an. \n",
    "- [`replace`](https://pandas.pydata.org/docs/reference/api/pandas.Series.replace.html): Diese Methode lässt sich auf eine Series (etwa eine Spalte in unserem DataFrame) anwenden und nimmt u.a. eine zweite Series als Argument (etwa eine durch `groupby([...])[...].sum()` entstandene). `replace` schaut dann, ob sich Indizes der zweiten Series als Werte in der ersten Series befinden und wenn ja, ersetzt sie diese durch die dazugehörigen Werte aus der zweiten Series. Die dictionary-Analogie von oben macht den Prozess greifbarer: `replace` ersetzt in der Series, auf die sie angewandt wird, Schlüssel durch ihre jeweiligen Werte aus der als Argument übergebenen Series. \n",
    "\n",
    "💡 Tipp 2: Mach Dich in der [Dokumentation](https://matplotlib.org/stable/users/index.html) von matplotlib, der Bibliothek zum Visualisieren von Daten, schlau, wie Du die errechneten Werte visualisieren kannst. \n",
    "\n",
    "Beginne in jedem Fall damit, die Datei \"songkorpus.tsv\" neu einzulesen und die Spalten wie am Anfang des Notebooks umzubenennen. Dadurch stellst Du sicher, dass Du auch wirklich mit den ursprünglichen Daten arbeitest.\n",
    "\n",
    "Viel Erfolg! 🙌"
   ]
  },
  {
   "cell_type": "code",
   "execution_count": 67,
   "id": "c598a633-a08d-47f7-b15f-15fe300781ec",
   "metadata": {},
   "outputs": [],
   "source": [
    "#In diese Zelle kannst Du den Code zur Übung schreiben.\n",
    "\n",
    "\n",
    "\n",
    "\n",
    "\n",
    "\n",
    "\n",
    "\n",
    "\n",
    "\n",
    "\n",
    "\n",
    "\n",
    "\n",
    "\n",
    "\n",
    "\n",
    "\n",
    "\n"
   ]
  },
  {
   "cell_type": "markdown",
   "id": "adf93902-ed8f-46d5-92f1-c7328bbae3ff",
   "metadata": {
    "deletable": false,
    "editable": false
   },
   "source": [
    "*** \n",
    "\n",
    "**Schritt-für-Schritt-Anleitung**\n",
    "\n",
    "1. Um sicherzugehen, dass wir wirklich mit den originalen Daten arbeiten, lies die Datei \"songkorpus_token.tsv\" abermals ein. "
   ]
  },
  {
   "cell_type": "code",
   "execution_count": 68,
   "id": "ebdf6619-c03c-4368-9853-14146e30377a",
   "metadata": {},
   "outputs": [],
   "source": [
    "#In diese Zelle kannst Du den Code zur Aufgabe schreiben.\n",
    "\n",
    "\n"
   ]
  },
  {
   "cell_type": "markdown",
   "id": "19277743-8247-406c-8f2d-e9c67cbafee4",
   "metadata": {
    "deletable": false,
    "editable": false
   },
   "source": [
    "2. Benenne die Spalten in \"Token\", \"Jahr\" und \"Häufigkeit\" um."
   ]
  },
  {
   "cell_type": "code",
   "execution_count": 69,
   "id": "b67c7d87-77be-4cdb-913b-22e6b745dc73",
   "metadata": {},
   "outputs": [],
   "source": [
    "#In diese Zelle kannst Du den Code zur Aufgabe schreiben.\n",
    "\n",
    "\n"
   ]
  },
  {
   "cell_type": "markdown",
   "id": "a6ba33f5-41c4-40e8-9039-0d091848673b",
   "metadata": {
    "deletable": false,
    "editable": false
   },
   "source": [
    "3. Im DataFrame verfügen wir bislang nur über absolute Häufigkeiten. Um die Werte zwischen einzelnen Jahren besser vergleichbar zu machen, wollen wir aber relative Häufigkeiten für die Visualisierung verwenden. Schaffe dazu eine Spalte \"Relative Häufigkeit\", die für jedes Token vermerkt, wie häufig es in Relation zur Summe aller Häufigkeiten aller Tokens im gegebenen Jahr vorkommt. Für diese Berechnung brauchst Du jeweils zwei Werte: erstens die absolute Häufigkeit (bereits in der Spalte \"Häufigkeit\") und zweitens die Summe aller Häufigkeiten aller Tokens im gegebenen Jahr.\n",
    "\n",
    "     Verwende die Methode [`groupby`](https://pandas.pydata.org/docs/reference/api/pandas.DataFrame.groupby.html) zur Berechnung der Summe aller Häufigkeiten pro Jahr. Nach dem Motto \"split-apply-combine\" erlaubt Dir diese Methode, das DataFrame nach den Werten der Spalte \"Jahr\" zu gruppieren (aufzu*split*ten). Indem Du im gleichen Statement die `sum`-Methode auf die Spalte \"Häufigkeit\" jedes durch `groupby` entstehenden Sub-DataFrame anwendest (*apply*), erhältst Du eine zusammengeführte Series (*combine*), die für jedes Jahr die Summe aller Häufigkeiten aller Tokens enthält. Weise die Series der Variablen `total_freq_per_year` zu und inspiziere sie.\n",
    "    \n",
    "    Um nun zur relativen Häufigkeit zu gelangen, musst Du für jedes Token in `songkorpus` den Wert in der Spalte \"Häufigkeit\" durch die jeweilige Summe an Häufigkeiten im gegebenen Jahr teilen. Da wir letzteren Wert in einer anderen Series (nämlich in `total_freq_per_year`) vorliegen haben, müssen wir zu einem Trick greifen: Wende die `replace`-Methode auf die Spalte \"Jahr\" an und übergib ihr `total_freq_per_year`. Wir machen uns hier den Umstand zunutze, dass eine Series wie ein dictionary funktioniert. Will heißen: `replace` ersetzt kurzerhand jedes Jahr (Schlüssel) durch die jeweilige Summe der Häufigkeiten pro Jahr (Wert)."
   ]
  },
  {
   "cell_type": "code",
   "execution_count": 70,
   "id": "921f3060-7230-4d82-9814-c5bb08f856ee",
   "metadata": {},
   "outputs": [],
   "source": [
    "#In diese Zelle kannst Du den Code zur Aufgabe schreiben.\n",
    "\n",
    "\n"
   ]
  },
  {
   "cell_type": "markdown",
   "id": "b2c0e505-b8c3-4308-a51a-f18fcba1a8c3",
   "metadata": {
    "deletable": false,
    "editable": false
   },
   "source": [
    "4. Installiere ggf. `matplotlib` über das Terminal oder die Eingabeaufforderung und importiere anschließend `matplotlib.pyplot as plt` (wieder so eine gängige Abkürzung). matplotlib ist die Bibliothek, die wir zum Visualisieren unserer Daten verwenden. Mithilfe der Funktion `plot(x, y)` (denk an den Modulnamen davor) können wir einfach Grafiken produzieren. `x` ist dabei eine Liste oder Series an Werten, die auf der x-Achse abgebildet werden sollen und `y` eine Liste oder Series derjenigen Werte, die auf der y-Achse dargestellt werden sollen. `x` und `y` müssen gleich lange sein. Konkret wird der erste Punkt in der Grafik bei den Koordinaten `x[0]` und `y[0]` eingezeichnet, der zweite bei `x[1]` und `y[1]`, etc. Standardmäßig werden die einzelnen Punkte wie oben zu einem Graphen verbunden. Schau in den Beispieldarstellungen oben, welche Werte wir entlang der x-Achse bzw. entlang der y-Achsen plotten wollen. "
   ]
  },
  {
   "cell_type": "code",
   "execution_count": 71,
   "id": "2d61f63e-15e9-4ee1-b0ce-5c1146f1120a",
   "metadata": {},
   "outputs": [],
   "source": [
    "#In diese Zelle kannst Du den Code zur Aufgabe schreiben.\n",
    "\n",
    "\n"
   ]
  },
  {
   "cell_type": "markdown",
   "id": "c263d752-d684-49ac-bb5f-58939d2fb96e",
   "metadata": {
    "deletable": false,
    "editable": false
   },
   "source": [
    "5. Definiere eine Liste an Wörtern, die Du visualisieren möchtest. Diesen Schritt kannst Du auch interaktiv umsetzen, sodass Du bei jeder Ausführung aufgefordert wirst, Wörter zur Visualisierung anzugeben."
   ]
  },
  {
   "cell_type": "code",
   "execution_count": 72,
   "id": "46a60b35-d4d8-4361-adea-c622376562a5",
   "metadata": {},
   "outputs": [],
   "source": [
    "#In diese Zelle kannst Du den Code zur Aufgabe schreiben.\n",
    "\n",
    "\n"
   ]
  },
  {
   "cell_type": "markdown",
   "id": "481daded-afdd-421b-a33b-9a70b9d2e2fb",
   "metadata": {
    "deletable": false,
    "editable": false
   },
   "source": [
    "6. Plotte nun nacheinander eine Verlaufskurve für jedes Wort auf der Liste. Gehe dazu für jedes Wort wie folgt vor:\n",
    "    - Schaffe ein Sub-DataFrame, in dem in der Spalte \"Token\" nur das gegebene Wort steht.\n",
    "    - Sortiere das Sub-DataFrame aufsteigend nach der Spalte \"Jahr\" und setze den Index anschließend zurück.\n",
    "    - Übergib der `plot`-Funktion die relevanten Spalten des Sub-DataFrames an Stelle von `x` und `y`. Übergib als drittes Argument den string \"o-\", der den Stil des Graphen (Linie mit Punkten) definiert."
   ]
  },
  {
   "cell_type": "markdown",
   "id": "5a8158d2-a776-47a5-b96a-6804ec651fc3",
   "metadata": {
    "deletable": false,
    "editable": false
   },
   "source": [
    "7. Nachdem Du alle Wörter der Liste entsprechend geplotted hast, kannst Du **in derselben Zelle** folgende Funktionen verwenden, um den Plot zu verfeinern:\n",
    "    - `title`, um einen Titel zu setzen.\n",
    "    - `xlabel` und  `ylabel`, um die Achsen zu beschriften.\n",
    "    - `xlim`, um der x-Achse Grenzen zu setzen, z.B. von 1969 bis 2022 (dies vereinheitlicht die Plots, da diese sonst automatisch an den Wertebereich der zu plottenden Wörter angepasst wird und der Plot dadurch mitunter anders beschnitten sein kann).\n",
    "    - `legend`, um eine Legende einzufügen, indem Du der Funktion die Liste mit Wörtern übergibst"
   ]
  },
  {
   "cell_type": "code",
   "execution_count": 73,
   "id": "35b936a0-3311-4f8f-9ed1-0fcb1611021d",
   "metadata": {},
   "outputs": [],
   "source": [
    "#In diese Zelle kannst Du den Code zur Aufgabe schreiben.\n",
    "\n",
    "\n"
   ]
  },
  {
   "cell_type": "markdown",
   "id": "0da5f9c1-4392-43c5-83e5-9508c5b0dbe7",
   "metadata": {
    "deletable": false,
    "editable": false
   },
   "source": [
    "***\n",
    "\n",
    "Super! 🤩\n",
    "\n",
    "Bevor wir uns zum Abschluss noch den Output von DataFrames anschauen, wollen wir die Daten wie gesagt zu größeren Zeiteinheiten aggregieren, und zwar zu Zehn- und Fünfjahresabschnitten.\n",
    "\n",
    "Auch hier laden wir zur Sicherheit nochmal die originale Datei, benennen die Spalten um und schaffen zusätzlich die Spalten \"Jahrzehnt\" und \"Relative Häufigkeit\". Letztere wird nach wie vor relativ zur Häufigkeit aller Tokens in *einem* Jahr berechnet."
   ]
  },
  {
   "cell_type": "code",
   "execution_count": 74,
   "id": "9b5082b5-9fe0-4ac4-b832-54e633a2bac2",
   "metadata": {},
   "outputs": [
    {
     "data": {
      "text/html": [
       "<div>\n",
       "<style scoped>\n",
       "    .dataframe tbody tr th:only-of-type {\n",
       "        vertical-align: middle;\n",
       "    }\n",
       "\n",
       "    .dataframe tbody tr th {\n",
       "        vertical-align: top;\n",
       "    }\n",
       "\n",
       "    .dataframe thead th {\n",
       "        text-align: right;\n",
       "    }\n",
       "</style>\n",
       "<table border=\"1\" class=\"dataframe\">\n",
       "  <thead>\n",
       "    <tr style=\"text-align: right;\">\n",
       "      <th></th>\n",
       "      <th>Token</th>\n",
       "      <th>Jahr</th>\n",
       "      <th>Häufigkeit</th>\n",
       "      <th>Jahrzehnt</th>\n",
       "      <th>Relative Häufigkeit</th>\n",
       "    </tr>\n",
       "  </thead>\n",
       "  <tbody>\n",
       "    <tr>\n",
       "      <th>0</th>\n",
       "      <td>Klaround</td>\n",
       "      <td>2007</td>\n",
       "      <td>1</td>\n",
       "      <td>2000</td>\n",
       "      <td>0.000015</td>\n",
       "    </tr>\n",
       "    <tr>\n",
       "      <th>1</th>\n",
       "      <td>#3</td>\n",
       "      <td>2009</td>\n",
       "      <td>1</td>\n",
       "      <td>2000</td>\n",
       "      <td>0.000022</td>\n",
       "    </tr>\n",
       "    <tr>\n",
       "      <th>2</th>\n",
       "      <td>#Babo</td>\n",
       "      <td>2015</td>\n",
       "      <td>1</td>\n",
       "      <td>2010</td>\n",
       "      <td>0.000015</td>\n",
       "    </tr>\n",
       "    <tr>\n",
       "      <th>3</th>\n",
       "      <td>#JeSuisPasséChezSo</td>\n",
       "      <td>2018</td>\n",
       "      <td>1</td>\n",
       "      <td>2010</td>\n",
       "      <td>0.000012</td>\n",
       "    </tr>\n",
       "    <tr>\n",
       "      <th>4</th>\n",
       "      <td>#Nachbar</td>\n",
       "      <td>2016</td>\n",
       "      <td>1</td>\n",
       "      <td>2010</td>\n",
       "      <td>0.000014</td>\n",
       "    </tr>\n",
       "  </tbody>\n",
       "</table>\n",
       "</div>"
      ],
      "text/plain": [
       "                Token  Jahr  Häufigkeit  Jahrzehnt  Relative Häufigkeit\n",
       "0            Klaround  2007           1       2000             0.000015\n",
       "1                  #3  2009           1       2000             0.000022\n",
       "2               #Babo  2015           1       2010             0.000015\n",
       "3  #JeSuisPasséChezSo  2018           1       2010             0.000012\n",
       "4            #Nachbar  2016           1       2010             0.000014"
      ]
     },
     "execution_count": 74,
     "metadata": {},
     "output_type": "execute_result"
    }
   ],
   "source": [
    "songkorpus = pd.read_csv(\"../3_Dateien/Songkorpus/songkorpus_token.tsv\", sep=\"\\t\") \n",
    "\n",
    "songkorpus.columns = [\"Token\", \"Jahr\", \"Häufigkeit\"]\n",
    "\n",
    "#hier verwenden wir im Gegensatz zu oben die pandas-eigene Syntax\n",
    "songkorpus[\"Jahrzehnt\"] = (songkorpus[\"Jahr\"].astype(str).str.slice(0,-1) + \"0\").astype(int) \n",
    "\n",
    "total_freq_per_year = songkorpus.groupby([\"Jahr\"])[\"Häufigkeit\"].sum()\n",
    "songkorpus[\"Relative Häufigkeit\"] = songkorpus[\"Häufigkeit\"] / songkorpus[\"Jahr\"].replace(total_freq_per_year) \n",
    "\n",
    "songkorpus.head()"
   ]
  },
  {
   "cell_type": "markdown",
   "id": "0957c305-891f-456a-bc68-1970efbd7037",
   "metadata": {
    "deletable": false,
    "editable": false
   },
   "source": [
    "Eine Spalte mit sog. *Jahrfünften* können wir nun unter Verwendung von numpys `select` erstellen. Dazu definieren wir zwei Listen, eine mit \"if\"-Bedingungen (etwa \"Wert in Spalte 'Jahr' kleiner als 1970...\") und eine mit \"then\"-Statements (\"...dann setze den Wert 1965 ein\"). Diese Listen übergeben wir der Funktion zusammen mit dem dritten Argument, das ganz einfach im \"else\"-Fall greift. Bedenke, dass die Reihenfolge der Elemente auf den beiden Listen ebenso wie die Reihenfolge von `if`-`elif`-...-Statements in normalem Python-Code entscheidend ist."
   ]
  },
  {
   "cell_type": "code",
   "execution_count": 75,
   "id": "f486b827-1685-4c36-87d2-3f06bdbba776",
   "metadata": {},
   "outputs": [
    {
     "data": {
      "text/html": [
       "<div>\n",
       "<style scoped>\n",
       "    .dataframe tbody tr th:only-of-type {\n",
       "        vertical-align: middle;\n",
       "    }\n",
       "\n",
       "    .dataframe tbody tr th {\n",
       "        vertical-align: top;\n",
       "    }\n",
       "\n",
       "    .dataframe thead th {\n",
       "        text-align: right;\n",
       "    }\n",
       "</style>\n",
       "<table border=\"1\" class=\"dataframe\">\n",
       "  <thead>\n",
       "    <tr style=\"text-align: right;\">\n",
       "      <th></th>\n",
       "      <th>Token</th>\n",
       "      <th>Jahr</th>\n",
       "      <th>Häufigkeit</th>\n",
       "      <th>Jahrzehnt</th>\n",
       "      <th>Relative Häufigkeit</th>\n",
       "      <th>Jahrfünft</th>\n",
       "    </tr>\n",
       "  </thead>\n",
       "  <tbody>\n",
       "    <tr>\n",
       "      <th>0</th>\n",
       "      <td>Klaround</td>\n",
       "      <td>2007</td>\n",
       "      <td>1</td>\n",
       "      <td>2000</td>\n",
       "      <td>0.000015</td>\n",
       "      <td>2005</td>\n",
       "    </tr>\n",
       "    <tr>\n",
       "      <th>1</th>\n",
       "      <td>#3</td>\n",
       "      <td>2009</td>\n",
       "      <td>1</td>\n",
       "      <td>2000</td>\n",
       "      <td>0.000022</td>\n",
       "      <td>2005</td>\n",
       "    </tr>\n",
       "    <tr>\n",
       "      <th>2</th>\n",
       "      <td>#Babo</td>\n",
       "      <td>2015</td>\n",
       "      <td>1</td>\n",
       "      <td>2010</td>\n",
       "      <td>0.000015</td>\n",
       "      <td>2015</td>\n",
       "    </tr>\n",
       "    <tr>\n",
       "      <th>3</th>\n",
       "      <td>#JeSuisPasséChezSo</td>\n",
       "      <td>2018</td>\n",
       "      <td>1</td>\n",
       "      <td>2010</td>\n",
       "      <td>0.000012</td>\n",
       "      <td>2015</td>\n",
       "    </tr>\n",
       "    <tr>\n",
       "      <th>4</th>\n",
       "      <td>#Nachbar</td>\n",
       "      <td>2016</td>\n",
       "      <td>1</td>\n",
       "      <td>2010</td>\n",
       "      <td>0.000014</td>\n",
       "      <td>2015</td>\n",
       "    </tr>\n",
       "  </tbody>\n",
       "</table>\n",
       "</div>"
      ],
      "text/plain": [
       "                Token  Jahr  Häufigkeit  Jahrzehnt  Relative Häufigkeit  \\\n",
       "0            Klaround  2007           1       2000             0.000015   \n",
       "1                  #3  2009           1       2000             0.000022   \n",
       "2               #Babo  2015           1       2010             0.000015   \n",
       "3  #JeSuisPasséChezSo  2018           1       2010             0.000012   \n",
       "4            #Nachbar  2016           1       2010             0.000014   \n",
       "\n",
       "   Jahrfünft  \n",
       "0       2005  \n",
       "1       2005  \n",
       "2       2015  \n",
       "3       2015  \n",
       "4       2015  "
      ]
     },
     "execution_count": 75,
     "metadata": {},
     "output_type": "execute_result"
    }
   ],
   "source": [
    "x = songkorpus[\"Jahr\"]\n",
    "if_list   = [x<1970, x<1975, x<1980, x<1985, x<1990, x<1995, x<2000, x<2005, x<2010, x<2015, x<2020] #hier zeigt sich auch, warum wir die Spalte \"Jahr\" oben in Ganzzahlen gecasted haben\n",
    "then_list = [1965, 1970, 1975, 1980, 1985, 1990, 1995, 2000, 2005, 2010, 2015]\n",
    "songkorpus[\"Jahrfünft\"] = np.select(if_list, then_list, 2020)\n",
    "songkorpus.head()"
   ]
  },
  {
   "cell_type": "markdown",
   "id": "50693c97-d8da-4d46-81fb-b36b7e3445b4",
   "metadata": {
    "deletable": false,
    "editable": false
   },
   "source": [
    "Nun fehlt nur noch der Aggregationsschritt. Bei den jahresbasierten relativen Häufigkeiten konnten wir uns ja darauf verlassen, dass jedes Wort nur ein einziges Mal pro Jahr in unserem DataFrame steht, so sind unsere Daten ganz einfach strukturiert. \n",
    "\n",
    "Bei den Jahrfünften und Jahrzehnten kann ein einzelnes Wort hingegen bis zu fünf bzw. zehn Mal vorkommen. Da wir aber nur einen Wert pro Zeitabschnitt plotten wollen, müssen wir sämtliche relativen Häufigkeiten in einem Jahrfünft bzw. Jahrzehnt aufsummieren und anschließend durch 5 resp. 10 teilen. Dadurch erhalten wir die durchschnittliche relative Häufigkeit pro Wort und Zeitabschnitt. \n",
    "\n",
    "Genau dies tun wir im neu eingefügten Aggregationsschritt unten: Wir gruppieren das Sub-DataFrame `word_df` abermals mithilfe von `groupby` nach dem gewünschten Zeitabschnitt (wahlweise Jahrzehnt oder Jahrfünft) und aggregieren die Werte in der Spalte \"Relative Häufigkeit\", indem wir sie pro Zeitabschnitt aufsummieren. Anschließend teilen wir die Summe durch die Anzahl an Jahre des Zeitabschnitts (10 oder 5), um den Durchschnitt zu errechnen. Um wirklich nur mit kompletten Jahrfünften bzw. Jahrzehnten zu rechnen, exkludieren wir zu Beginn noch sämtliche Tokens in den Jahren 1969, 2020, 2021 und 2022 (die Division durch 5 bzw. 10 würde ja sonst zu zu kleinen Durchschnitten führen).\n",
    "\n",
    "Abgesehen vom Aggregationsschritt und dem Ausschluss inkompletter Jahrfünfte bzw. Jahrzehnte, wurde im Code unten die Variable `span` für die Zeiteinheit eingesetzt, sodass diese neben zu den zu plottenden Wörtern initial definiert werden kann:"
   ]
  },
  {
   "cell_type": "code",
   "execution_count": 76,
   "id": "555eaee6-f59d-41dc-87b2-f030e985eef5",
   "metadata": {},
   "outputs": [
    {
     "ename": "ModuleNotFoundError",
     "evalue": "No module named 'matplotlib'",
     "output_type": "error",
     "traceback": [
      "\u001b[0;31m---------------------------------------------------------------------------\u001b[0m",
      "\u001b[0;31mModuleNotFoundError\u001b[0m                       Traceback (most recent call last)",
      "Cell \u001b[0;32mIn[76], line 7\u001b[0m\n\u001b[1;32m      4\u001b[0m \u001b[38;5;66;03m#Ausschluss inkompletter Jahrfünfte bzw. Jahrzehnte durch Kombination zweier Filter\u001b[39;00m\n\u001b[1;32m      5\u001b[0m songkorpus \u001b[38;5;241m=\u001b[39m songkorpus[(songkorpus[\u001b[38;5;124m\"\u001b[39m\u001b[38;5;124mJahr\u001b[39m\u001b[38;5;124m\"\u001b[39m] \u001b[38;5;241m>\u001b[39m \u001b[38;5;241m1969\u001b[39m) \u001b[38;5;241m&\u001b[39m (songkorpus[\u001b[38;5;124m\"\u001b[39m\u001b[38;5;124mJahr\u001b[39m\u001b[38;5;124m\"\u001b[39m] \u001b[38;5;241m<\u001b[39m \u001b[38;5;241m2020\u001b[39m)]\n\u001b[0;32m----> 7\u001b[0m \u001b[38;5;28;01mimport\u001b[39;00m \u001b[38;5;21;01mmatplotlib\u001b[39;00m\u001b[38;5;21;01m.\u001b[39;00m\u001b[38;5;21;01mpyplot\u001b[39;00m \u001b[38;5;28;01mas\u001b[39;00m \u001b[38;5;21;01mplt\u001b[39;00m\n\u001b[1;32m      9\u001b[0m \u001b[38;5;28;01mfor\u001b[39;00m word \u001b[38;5;129;01min\u001b[39;00m words:\n\u001b[1;32m     10\u001b[0m     word_df \u001b[38;5;241m=\u001b[39m songkorpus[songkorpus[\u001b[38;5;124m\"\u001b[39m\u001b[38;5;124mToken\u001b[39m\u001b[38;5;124m\"\u001b[39m] \u001b[38;5;241m==\u001b[39m word]\n",
      "\u001b[0;31mModuleNotFoundError\u001b[0m: No module named 'matplotlib'"
     ]
    }
   ],
   "source": [
    "span, span_dict = \"Jahrzehnt\", {\"Jahrzehnt\": 10, \"Jahrfünft\": 5}\n",
    "words = [\"ich\", \"du\", \"er\", \"sie\"]\n",
    "\n",
    "#Ausschluss inkompletter Jahrfünfte bzw. Jahrzehnte durch Kombination zweier Filter\n",
    "songkorpus = songkorpus[(songkorpus[\"Jahr\"] > 1969) & (songkorpus[\"Jahr\"] < 2020)]\n",
    "\n",
    "import matplotlib.pyplot as plt\n",
    "\n",
    "for word in words:\n",
    "    word_df = songkorpus[songkorpus[\"Token\"] == word]\n",
    "\n",
    "    \"\"\"NEUER SCHRITT: AGGREGATION\"\"\"\n",
    "    word_df = word_df.groupby([span]).aggregate({\"Relative Häufigkeit\": \"sum\"}) / span_dict[span]\n",
    "    \"\"\"NEUER SCHRITT: AGGREGATION\"\"\"\n",
    "    \n",
    "    \n",
    "    word_df = word_df.sort_values(by=span, ascending=True).reset_index()\n",
    "    x = word_df[span]\n",
    "    y = word_df[f\"Relative Häufigkeit\"]\n",
    "    plt.plot(x, y, 'o-')\n",
    "\n",
    "plt.title(f\"Wortverlaufskurve für {', '.join([word for word in words])}\")\n",
    "plt.xlabel(span)\n",
    "plt.ylabel(f\"Relative Häufigkeit ({span})\")\n",
    "plt.xlim(1969, 2011) #Anpassen, je nach Zeitabschnitt\n",
    "plt.legend(words, loc=\"best\")"
   ]
  },
  {
   "cell_type": "markdown",
   "id": "c57db405-026d-4488-83b2-d1414ac610ee",
   "metadata": {
    "deletable": false,
    "editable": false
   },
   "source": [
    "Wunderbar. \n",
    "\n",
    "Sollte hier neben dem Plot auch eine `SettingWithCopyWarning` zurückgegeben worden sein, kannst du diese ignorieren.\n",
    "\n",
    "Mit `plt.savefig(path)` kannst Du Grafiken übrigens auch auf Deiner Festplatte speichern.\n",
    "\n",
    "Damit sind wir fast am Ende des Notebooks angelangt.\n",
    "\n",
    "## Output\n",
    "\n",
    "Übrig bleibt noch, die Methode `to_csv` vorzustellen, die wir verwenden können, um ein DataFrame als kommaseparierte Datei extern zu speichern:"
   ]
  },
  {
   "cell_type": "code",
   "execution_count": 77,
   "id": "8bfbf3fb-d6b0-46ad-a485-2d8ca2f846d6",
   "metadata": {},
   "outputs": [],
   "source": [
    "songkorpus.to_csv(\"../3_Dateien/Output/songkorpus_new.csv\", sep=\"\\t\", encoding=\"utf-8\")"
   ]
  },
  {
   "cell_type": "markdown",
   "id": "4a30eeee-6c91-43d1-af0d-fc6daf64d162",
   "metadata": {
    "deletable": false,
    "editable": false
   },
   "source": [
    "Neben dem Ausgabepfad können wir das gewünschte Trennzeichen und Encoding spezifizieren. Neben `to_csv` gibt es analog zum Input auch spezifische Output-Methoden für XML (`to_xml`), JSON (`to_json`) und Excel (`to_excel`).\n",
    "\n",
    "Damit sind wir am Ende des Notebooks angelangt. Gute Arbeit!"
   ]
  }
 ],
 "metadata": {
  "kernelspec": {
   "display_name": "Python 3 (ipykernel)",
   "language": "python",
   "name": "python3"
  },
  "language_info": {
   "codemirror_mode": {
    "name": "ipython",
    "version": 3
   },
   "file_extension": ".py",
   "mimetype": "text/x-python",
   "name": "python",
   "nbconvert_exporter": "python",
   "pygments_lexer": "ipython3",
   "version": "3.10.8"
  }
 },
 "nbformat": 4,
 "nbformat_minor": 5
}