{
 "cells": [
  {
   "cell_type": "markdown",
   "id": "5b13b61d-2262-488a-a0a7-ed61ed635624",
   "metadata": {},
   "source": [
    "# Legen wir los!\n",
    "\n",
    "Hier kannst Du Programmieren mit Python lernen. Vorkenntnisse benötigst Du keine. Sämtliche Lerninhalte befinden sich auf den folgenden Seiten. Es handelt sich dabei im Kern um sog. *Jupyter Notebooks*. Diese enthalten neben Erklärtexten natürlich Code, der bereits ausgeführt ist. Du siehst also auch immer das Ergebnis des Codes. Auf den Seiten selbst kannst Du nicht mit dem Code interagieren, d.h. ihn z.B. verändern und dann nochmal ausführen. Du siehst sie nur im Lesemodus (s.u.).\n",
    "\n",
    "Programmierenlernen funktioniert aber nur, indem Du selbst möglichst viel ausprobierst und \"rumcodest\". Alle in die Notebooks integrierten Übungen und Anwendungsfälle lassen sich auch nur so lösen. \n",
    "\n",
    "Es stehen Dir deshalb zwei Optionen zur Verfügung, um die Jupyter Notebooks zum Leben zu erwecken, d.h. mit dem Code zu interagieren.\n",
    "\n",
    "## Wie interagiere ich mit dem Code?\n",
    "\n",
    "### 1. In der Cloud \n",
    "\n",
    "Klicke auf das <i class=\"fa fa-rocket\" aria-hidden=\"true\"></i>-Symbol oben rechts auf der Seite \"Einführung\" (oder irgendeiner anderen Seite mit Code) und anschließend auf *Binder*. Binder erlaubt es Dir, die Jupyter Notebooks in der Cloud zu öffnen und den Code nach Belieben zu ändern und auszuführen. Auf Deinem Rechner musst Du dafür nichts installieren. Binder lädt am Anfang eine Weile, funktioniert danach aber tadellos. Wenn Du einmal in der Binder-Cloud bist, kannst Du von dort bequem über den integrierten Dateimanager (linke Spalte) zu anderen Notebooks sowie den Lösungen der Übungen wechseln.\n",
    "\n",
    "### 2. Auf Deinem Rechner\n",
    "\n",
    "Installiere Python sowie die Programmierumgebung *JupyterLab* auf Deinem eigenen Rechner. Folge dazu [dieser Anleitung](https://youtu.be/7kc7IjJ731g). Starte anschließend wie im Video beschrieben einen JupyterLab Server. Lade nun [über diesen Link](https://github.com/yannickfrommherz/exdimed-student/archive/refs/heads/main.zip) sämtliche Jupyter Notebooks herunter, entpacke die Dateien und speichere sie an einem sinnvollen Ort ab. Greife abschließend über den in JupyterLab integrierten Dateimanager (linke Spalte) auf das gewünschte Notebook zu. \n",
    "\n",
    "```{admonition} Welche Option soll ich wählen?\n",
    "Führe die Notebooks auf Deinem eigenen Rechner aus (und nicht bei Binder), wenn Du den ganzen Kurs machen möchtest. Binder lohnt sich hingegen, um einzelne Notebooks (mal eben) auszuführen.\n",
    "```\n",
    "\n",
    "## Übungen & Anwendungsfälle\n",
    "\n",
    "Alle Notebooks beinhalten Übungen und Anwedungsfälle. Hier bist Du gefragt. Lösungen findest Du im entsprechenden Ordner über den Dateimanager bei JupyterLab.\n",
    "\n",
    "## Mit JupyterLab vertraut machen\n",
    "\n",
    "Ob auf Deinem Rechner oder in einer cloudbasierten Version von JupyterLab, Du solltest auf jeden Fall [dieses Video](https://youtu.be/89L5voKplA4) zur Einarbeitung in die Programmierumgebung anschauen. Übe ebenfalls [Algorithmisches Denken](https://youtu.be/L_qV6G1WKoQ), bevor Du mit dem Programmierenlernen loslegst.\n",
    "\n",
    "## Feedback\n",
    "\n",
    "Über Feedback freue ich mich unter yannick.frommherz@tu-dresden.de. Wenn Du mit GitHub vertraut bist, kannst Du mir jederzeit ein \"Issue\" öffnen, indem Du oben rechts auf das GitHub-Symbol klickst und anschließend auf \"Open issue\".\n",
    "\n",
    "## Credit\n",
    "\n",
    "Die Notebooks sind im Rahmen des Projekts *Experimentierraum Digitale Medienkompetenz* im Projektverbund [*Virtuelles Lehren und Lernen an der TU Dresden im Open Source-Kontext*](https://tu-dresden.de/gsw/virtuos) entstanden. Die Seite ist inspieriert von Melanie Walsh's [Intro to Cultural Analytics](https://melaniewalsh.github.io/Intro-Cultural-Analytics/How-To-Interact-With-This-Book.html), einer sehr empfehlenswerten, englischsprachigen Seite zum Programmierenlernen."
   ]
  }
 ],
 "metadata": {
  "kernelspec": {
   "display_name": "Python 3 (ipykernel)",
   "language": "python",
   "name": "python3"
  },
  "language_info": {
   "codemirror_mode": {
    "name": "ipython",
    "version": 3
   },
   "file_extension": ".py",
   "mimetype": "text/x-python",
   "name": "python",
   "nbconvert_exporter": "python",
   "pygments_lexer": "ipython3",
   "version": "3.10.7"
  }
 },
 "nbformat": 4,
 "nbformat_minor": 5
}