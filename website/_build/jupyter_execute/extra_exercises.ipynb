{
 "cells": [
  {
   "cell_type": "markdown",
   "id": "4d953a46-b524-41cc-b20a-e8315e8a7941",
   "metadata": {},
   "source": [
    "# Zusatzübungen"
   ]
  },
  {
   "cell_type": "markdown",
   "id": "7273faf6-9dcc-48a2-9494-5b629b56191c",
   "metadata": {},
   "source": [
    "Hier findest Du Zusatzübungen zu allen Notebooks. \n",
    "\n",
    "☝️ Beachte: es gibt beim Programmieren fast immer verschiedene Lösungswege. Deine Lösung mag anders aussehen, aber dennoch zum gewünschten Resultat führen. Das richtige Resultat ist das Wichtigste. "
   ]
  },
  {
   "cell_type": "code",
   "execution_count": null,
   "id": "bf3ca04b-5b7c-4c40-8c3c-524c9936de58",
   "metadata": {},
   "outputs": [],
   "source": []
  }
 ],
 "metadata": {
  "kernelspec": {
   "display_name": "Python 3 (ipykernel)",
   "language": "python",
   "name": "python3"
  },
  "language_info": {
   "codemirror_mode": {
    "name": "ipython",
    "version": 3
   },
   "file_extension": ".py",
   "mimetype": "text/x-python",
   "name": "python",
   "nbconvert_exporter": "python",
   "pygments_lexer": "ipython3",
   "version": "3.10.7"
  }
 },
 "nbformat": 4,
 "nbformat_minor": 5
}