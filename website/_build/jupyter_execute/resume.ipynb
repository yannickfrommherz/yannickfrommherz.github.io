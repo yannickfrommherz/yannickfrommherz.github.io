{
 "cells": [
  {
   "cell_type": "markdown",
   "id": "c8269c5c-4598-45d7-a5ca-2f703bf32134",
   "metadata": {},
   "source": [
    "# Résumé\n",
    "\n",
    "Find an overview of my professional and academic background.\n",
    "\n",
    "## Professional experience 🧑‍💻\n",
    "\n",
    "Find all my previous workplaces on [LinkedIn](https://www.linkedin.com/in/yannickfrommherz/).\n",
    "\n",
    "### Research Associate in Applied Linguistics @ TU Dresden, 2020-present\n",
    "- Research associate in the project „Experimentierraum digitale Medienkompetenz“ as part of [virTUos](https://tu-dresden.de/tu-dresden/newsportal/news/virtuos-neues-programm-entwickelt-digitales-lehren-und-lernen-weiter) (Virtuelles Lehren und Lernen an der TU Dresden im Open Source-Kontext).\n",
    "- Developing materials for learning programming in Python for humanities and social science students, see [here](https://yfrommherz.ch/other_content/lets_get_started.html).\n",
    "- Teaching seminars in programming @ TU Dresden using the materials in a Blended Learning format.\n",
    "\n",
    "### Research Associate in Natural Language Processing @ Fraunhofer IIS, 2020-21\n",
    "- Research associate in the Data team working on the SPEAKER project building a voice assistant platform for natural human-machine interaction in B2B use cases.\n",
    "- Involved in collecting German-language data via crowd-sourcing as well as data analysis and augmentation using Python, always aiming at the best tradeoff between data quality and quantity in order to enable NLP models to understand and generate natural language.\n",
    "- Preparing materials and workshops for use case partners on intent classification, entity recognition, slot filling, neural as well as rule-based NLP methods.\n",
    "- Cross-component collaboration with the NLU and UX team. \n",
    "\n",
    "## Education 🎓\n",
    "\n",
    "I am currently pursuing a PhD degree in Linguistics @ TU Dresden. [This page](https://yfrommherz.ch/about_me/phd.html) describes my project.\n",
    "\n",
    "### Master's degree in Linguistics @ Lund University (Sweden), 2017–19\n",
    "- GPA: 4.0\n",
    "- Special focus on General linguistics, Psycholinguistics, Cognitive linguistics, German linguistics and research methods\n",
    "- Extracurricular courses in Programming with Python\n",
    "- Thesis at the interface of semantics–pragmatics, graded with highest mark.\n",
    "- Advanced my understanding and fascination of natural language processes. \n",
    "\n",
    "### Bachelor's degree in German Philology @ University of Basel, 2014-17\n",
    "- Focus on Interactional Linguistics\n",
    "- Thesis in Conversation Analysis on “topic shifting” in political tv debates, graded with highest mark.\n",
    "- Involved a great deal of responsibility, developing my ability to think critically.\n",
    "\n",
    "### Bachelor's degree in Geography @ University of Basel, 2014-17\n",
    "- Interdisciplinary geography studies at the interface between humanities and natural sciences. \n",
    "- Courses in regional and urban geography, area planning, social geography, cartography, geographic information system (GIS), statistics and physiogeography. \n",
    "- Two month’s internship at an international environmental NGO. \n",
    "- Involved a lot of group work, advancing my ability to collaborate with others."
   ]
  },
  {
   "cell_type": "code",
   "execution_count": null,
   "id": "45b9dc23-d4bb-4580-b862-079c0ab98a03",
   "metadata": {},
   "outputs": [],
   "source": []
  }
 ],
 "metadata": {
  "kernelspec": {
   "display_name": "Python 3 (ipykernel)",
   "language": "python",
   "name": "python3"
  },
  "language_info": {
   "codemirror_mode": {
    "name": "ipython",
    "version": 3
   },
   "file_extension": ".py",
   "mimetype": "text/x-python",
   "name": "python",
   "nbconvert_exporter": "python",
   "pygments_lexer": "ipython3",
   "version": "3.10.8"
  }
 },
 "nbformat": 4,
 "nbformat_minor": 5
}