{
 "cells": [
  {
   "cell_type": "markdown",
   "id": "636df005-07a1-472d-a476-89c0a8512ae3",
   "metadata": {},
   "source": [
    "# Publications 📚\n",
    "\n",
    "*All publications are open access.*\n",
    "\n",
    "- Langenhorst J., Frommherz Y., and Meier-Vieracker, S. (2023). Keyness in song lyrics: Challenges of highly clumpy data. In: Journal for Language Technology and Computational Linguistics. [Link to paper](https://jlcl.org/article/view/236).\n",
    "- Frommherz Y. and Langenhorst J. (2022). Digitale Kompetenzen für Geistes- und Sozialwissenschaftler:innen. Vorzüge eines Blended Learning-Formats für die Vermittlung von Programmierkenntnissen. In: Lessons Learned. [Link to paper](https://journals.qucosa.de/ll/article/view/37).\n",
    "- Frommherz Y. and Zarcone A. (2021). Crowdsourcing Ecologically-Valid Dialogue Data for German. In: Frontiers in Computer Science. [Link to paper](https://doi.org/10.3389/fcomp.2021.686050).\n",
    "- Frommherz Y. (2021). Thinking things in German versus Swedish. A cross-linguistic comparison of verbs of thinking in two genetically related languages. In: Studia Linguistica. [Link to paper](https://onlinelibrary.wiley.com/doi/10.1111/stul.12179)."
   ]
  },
  {
   "cell_type": "code",
   "execution_count": null,
   "id": "94eae17c-3297-4f04-841d-b2e8532ffd12",
   "metadata": {},
   "outputs": [],
   "source": []
  }
 ],
 "metadata": {
  "kernelspec": {
   "display_name": "Python 3 (ipykernel)",
   "language": "python",
   "name": "python3"
  },
  "language_info": {
   "codemirror_mode": {
    "name": "ipython",
    "version": 3
   },
   "file_extension": ".py",
   "mimetype": "text/x-python",
   "name": "python",
   "nbconvert_exporter": "python",
   "pygments_lexer": "ipython3",
   "version": "3.10.8"
  }
 },
 "nbformat": 4,
 "nbformat_minor": 5
}