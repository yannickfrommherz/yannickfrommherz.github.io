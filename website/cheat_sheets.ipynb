{
 "cells": [
  {
   "cell_type": "markdown",
   "id": "50f6c9ca-620f-460c-b3c0-0b80d584e18d",
   "metadata": {},
   "source": [
    "# Cheat Sheets\n",
    "\n",
    "Hier findest Du Cheat Sheets zu diesen Themen:\n",
    "    \n",
    "```{tableofcontents}\n",
    "```"
   ]
  },
  {
   "cell_type": "code",
   "execution_count": null,
   "id": "ab629d59-1933-4f04-a886-9693421e806c",
   "metadata": {},
   "outputs": [],
   "source": []
  }
 ],
 "metadata": {
  "kernelspec": {
   "display_name": "Python 3 (ipykernel)",
   "language": "python",
   "name": "python3"
  },
  "language_info": {
   "codemirror_mode": {
    "name": "ipython",
    "version": 3
   },
   "file_extension": ".py",
   "mimetype": "text/x-python",
   "name": "python",
   "nbconvert_exporter": "python",
   "pygments_lexer": "ipython3",
   "version": "3.10.7"
  }
 },
 "nbformat": 4,
 "nbformat_minor": 5
}
