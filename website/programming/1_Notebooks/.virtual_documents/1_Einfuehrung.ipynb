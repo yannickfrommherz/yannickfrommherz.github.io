print("Zu erst das,")
print("dann das")
print("und am Ende das.")


print_out = "Das hier wollen wir ausgeben"
print(print_out)


number = 8
print(number)


print(Print_out)


#nichtssagende Variablen
x = 65
y = 1.70

bmi = x/(y*y)

print(bmi)

#sprechende Variablen
weight_kg = 65
height_m = 1.70

bmi = weight_kg/(height_m*height_m)

print(bmi)


ami_f = (0.865 * (weight_kg/(height_m*height_m)))+18.56 #Zusatz "_f" aufgrund separater AMI-Formeln für Frauen und Männer
print(ami_f)


number1 = 8
number2 = 9

#Objekte und Variablen sind austauschbar
print(8 + 9)
print(number1 + 9)
print(number1 + number2)

#noch ein Weg
total = number1 + number2
print(total)


#In diese Zelle kannst Du den Code zur Übung schreiben.





#komplizierte Herangehensweise
number = 8
number = number + 7 #"number" wird in dieser Anweisung überschrieben
print(number)

#simple Herangehensweise mithilfe erweiterter Zuweisung
number = 8
number += 7
print(number)


#In diese Zelle kannst Du den Code zur Übung schreiben.





a, b, c, d, e = "Am", "Anfang", "war", "das", "Wort."
print(a, b, c, d, e)


#In diese Zelle kannst Du den Code zur Übung schreiben.





small = 1
large = 999
print(small < large)


#In diese Zelle kannst Du den Code zur Übung schreiben.





alphabet = "abc"

#Hier geben wir jeden einzelnen Buchstaben in alphabet nacheinander einzeln aus
for character in alphabet:
    print(character)

#Hier überprüfen wir ob alphabet gleich ist mit "abc" und wenn ja, wird der eingerückte print-Befehl ausgeführt
if alphabet == "abc":
    print(alphabet, "ist gleich abc")


#In diese Zelle kannst Du den Code zur Übung schreiben.





#dies ist ein einzeiliger Kommentar
alphabet = "abc" #Kommentare können auch in der gleichen Zeile wie Code stehen (sog. "in-line comment")

'''hier haben  
wir einen
"langen"
Kommentar''' #JupyterLab gibt diesen Kommentar beim Ausführen verwirrenderweise aus, da JuypterLab stets die letzte Zeile ausgibt (und alles, was innerhalb dreifacher Anführungszeichen steht als eine Zeile auffasst) 


#In diese Zelle kannst Du den Code zur Übung schreiben.



