{
 "cells": [
  {
   "cell_type": "markdown",
   "id": "4d953a46-b524-41cc-b20a-e8315e8a7941",
   "metadata": {},
   "source": [
    "# Zusatzübungen"
   ]
  },
  {
   "cell_type": "code",
   "execution_count": null,
   "id": "d0071190-bb20-4091-ae85-a48a911914ff",
   "metadata": {},
   "outputs": [],
   "source": []
  }
 ],
 "metadata": {
  "kernelspec": {
   "display_name": "Python 3 (ipykernel)",
   "language": "python",
   "name": "python3"
  },
  "language_info": {
   "codemirror_mode": {
    "name": "ipython",
    "version": 3
   },
   "file_extension": ".py",
   "mimetype": "text/x-python",
   "name": "python",
   "nbconvert_exporter": "python",
   "pygments_lexer": "ipython3",
   "version": "3.10.7"
  }
 },
 "nbformat": 4,
 "nbformat_minor": 5
}
