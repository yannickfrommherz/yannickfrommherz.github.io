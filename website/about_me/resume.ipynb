{
 "cells": [
  {
   "cell_type": "markdown",
   "id": "c8269c5c-4598-45d7-a5ca-2f703bf32134",
   "metadata": {},
   "source": [
    "# Résumé\n",
    "\n",
    "<img src=\"me.jpeg\"\n",
    "     alt=\"Photo of Yannick Frommherz\"\n",
    "     style=\"float: right; margin-left: 30px; margin-bottom: 30px\" />\n",
    "\n",
    "## Professional experience 🧑‍💻\n",
    "\n",
    "### Research Associate in Applied Linguistics @ TU Dresden (🇩🇪), 2020-present\n",
    "- Research associate in the project „Experimentierraum digitale Medienkompetenz“ as part of #virTUos (Virtuelles Lehren und Lernen an der TU Dresden im Open Source-Kontext).\n",
    "- Developing materials for teaching programming to humanities and social science students, see [here](https://yfrommherz.ch/other_content/lets_get_started.html).\n",
    "\n",
    "### Research Associate in Natural Language Processing and Data Management @ Fraunhofer IIS (🇩🇪), 2020-21\n",
    "- Research associate in the Data team working on the SPEAKER project building a voice assistant platform for natural human-machine interaction in B2B use cases.\n",
    "- Involved in collecting German-language data via crowd-sourcing as well as data analysis and augmentation using Python, always aiming at the best tradeoff between data quality and quantity in order to enable NLP models to understand and generate natural language.\n",
    "- Preparing materials and workshops for use case partners on intent classification, entity recognition, slot filling, neural as well as rule-based NLP methods.\n",
    "- Cross-component collaboration with the NLU and UX team. \n",
    "\n",
    "## Education 🎓\n",
    "\n",
    "### Master's degree in Linguistics @ Lund University (🇸🇪), 2017–19\n",
    "- Grade: GPA: 4.0\n",
    "- Special focus on General linguistics, Psycholinguistics, Cognitive linguistics, German linguistics and research methods\n",
    "- Extracurricular courses in Programming with Python\n",
    "- Thesis at the interface of semantics–pragmatics, graded with highest mark.\n",
    "- Advanced my understanding and fascination of natural language processes. \n",
    "\n",
    "### Bachelor's degree in German Language and Literature @ University of Basel (🇨🇭), 2014-17\n",
    "- Focus on Interactional Linguistics\n",
    "- Thesis in Conversation Analysis on “topic shifting” in political tv debates, graded with highest mark.\n",
    "- Involved a great deal of responsibility, developing my ability to think critically.\n",
    "\n",
    "### Bachelor's degree in Geography @ University of Basel (🇨🇭), 2014-17\n",
    "- Interdisciplinary geography studies at the interface between humanities and natural sciences. \n",
    "- Courses in regional and urban geography, area planning, social geography, cartography, geographic information system (GIS), statistics and physiogeography. \n",
    "- Two month’s internship at an international environmental NGO. \n",
    "- Involved a lot of group work, advancing my ability to collaborate with others.\n",
    "\n",
    "## Publications 📚\n",
    "\n",
    "*All publications are open access.*\n",
    "\n",
    "- Langernhorst J., Frommherz Y., and Meier-Vieracker, S. (accepted). Keyness in song lyrics. Challenges of highly clumpy data. In: Journal for Language Technology and Computational Linguistics.\n",
    "- Frommherz Y. and Langenhorst J. (2022). Digitale Kompetenzen für Geistes- und Sozialwissenschaftler:innen. Vorzüge eines Blended Learning-Formats für die Vermittlung von Programmierkenntnissen. In: Lessons Learned. [Link to paper](https://journals.qucosa.de/ll/article/view/37).\n",
    "- Frommherz Y. and Zarcone A. (2021). Crowdsourcing Ecologically-Valid Dialogue Data for German. In: Frontiers in Computer Science. [Link to paper](https://doi.org/10.3389/fcomp.2021.686050).\n",
    "- Frommherz Y. (2021). Thinking things in German versus Swedish. A cross-linguistic comparison of verbs of thinking in two genetically related languages. In: Studia Linguistica. [Link to paper](https://onlinelibrary.wiley.com/doi/10.1111/stul.12179).\n",
    "\n",
    "\n",
    "\n",
    "\n",
    "\n",
    "\n"
   ]
  },
  {
   "cell_type": "code",
   "execution_count": null,
   "id": "da6753e7-3a0d-4d5c-b7f7-c70b390a8ebd",
   "metadata": {},
   "outputs": [],
   "source": []
  },
  {
   "cell_type": "code",
   "execution_count": null,
   "id": "602f3dd2-c30a-4848-8a09-0b4f58369304",
   "metadata": {},
   "outputs": [],
   "source": []
  }
 ],
 "metadata": {
  "kernelspec": {
   "display_name": "Python 3 (ipykernel)",
   "language": "python",
   "name": "python3"
  },
  "language_info": {
   "codemirror_mode": {
    "name": "ipython",
    "version": 3
   },
   "file_extension": ".py",
   "mimetype": "text/x-python",
   "name": "python",
   "nbconvert_exporter": "python",
   "pygments_lexer": "ipython3",
   "version": "3.10.7"
  }
 },
 "nbformat": 4,
 "nbformat_minor": 5
}
